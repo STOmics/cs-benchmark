{
 "cells": [
  {
   "cell_type": "markdown",
   "id": "46eb77ac-7a65-47be-a441-acaf1814eae7",
   "metadata": {},
   "source": [
    "## cell_seg\n",
    "\n",
    "The main parameters of the program include,\n",
    "- Input\n",
    "\n",
    "    - ```is_gpu```: Use GPU or not<br>\n",
    "    - ```method```: segmentation methods, ['deepcell', 'cellpose', 'stereocell', 'sam', 'lt']<br>\n",
    "    - ```image_path```: Stereo-seq Image data<br>\n",
    "\n",
    "- Output\n",
    "\n",
    "    - ```output_path```: result of cell segmentation"
   ]
  },
  {
   "cell_type": "code",
   "execution_count": 2,
   "id": "b7b233ba-eb0d-45da-b0b4-9ce3d82703d4",
   "metadata": {
    "scrolled": true,
    "tags": []
   },
   "outputs": [
    {
     "name": "stdout",
     "output_type": "stream",
     "text": [
      "['U2FsdGVkX1StP6lMBlfLr7MIIvY938tUcR5Ao1oE-x14530_y7678_w256_h256-img.tif']\n",
      "/media/Data/shican/code/cs-benchmark2\n",
      "get 1 files\n",
      "Prediction finished: U2FsdGVkX1StP6lMBlfLr7MIIvY938tUcR5Ao1oE-x14530_y7678_w256_h256-img.tif; img size = torch.Size([1, 3, 256, 256]); costing: 2.24s\n",
      "\n",
      " Total Time Cost: 2.24s\n",
      "MEDIAR ran for a total of 19.612496614456177 s\n",
      "MEDIAR result saved to /media/Data/shican/data/benchmark_demo/ssDNA/output/MEDIAR\n"
     ]
    },
    {
     "name": "stderr",
     "output_type": "stream",
     "text": [
      "/media/Data/shican/software/miniconda3/lib/python3.9/site-packages/torch/cuda/__init__.py:128: UserWarning: CUDA initialization: The NVIDIA driver on your system is too old (found version 11040). Please update your GPU driver by downloading and installing a new version from the URL: http://www.nvidia.com/Download/index.aspx Alternatively, go to: https://pytorch.org to install a PyTorch version that has been compiled with your version of the CUDA driver. (Triggered internally at ../c10/cuda/CUDAFunctions.cpp:108.)\n",
      "  return torch._C._cuda_getDeviceCount() > 0\n",
      "/media/Data/shican/software/miniconda3/lib/python3.9/site-packages/cellpose/resnet_torch.py:280: FutureWarning: You are using `torch.load` with `weights_only=False` (the current default value), which uses the default pickle module implicitly. It is possible to construct malicious pickle data which will execute arbitrary code during unpickling (See https://github.com/pytorch/pytorch/blob/main/SECURITY.md#untrusted-models for more details). In a future release, the default value for `weights_only` will be flipped to `True`. This limits the functions that could be executed during unpickling. Arbitrary objects will no longer be allowed to be loaded via this mode unless they are explicitly allowlisted by the user via `torch.serialization.add_safe_globals`. We recommend you start setting `weights_only=True` for any use case where you don't have full control of the loaded file. Please open an issue on GitHub for any issues related to this experimental feature.\n",
      "  state_dict = torch.load(filename, map_location=torch.device(\"cpu\"))\n",
      "Cellpose: 100%|██████████| 1/1 [00:01<00:00,  1.26s/it]\n"
     ]
    },
    {
     "name": "stdout",
     "output_type": "stream",
     "text": [
      "cellpose ran for a total of 6.724498510360718 s\n",
      "cellpose result saved to /media/Data/shican/data/benchmark_demo/ssDNA/output/cellpose\n"
     ]
    },
    {
     "name": "stderr",
     "output_type": "stream",
     "text": [
      "/media/Data/shican/software/miniconda3/lib/python3.9/site-packages/torch/cuda/__init__.py:128: UserWarning: CUDA initialization: The NVIDIA driver on your system is too old (found version 11040). Please update your GPU driver by downloading and installing a new version from the URL: http://www.nvidia.com/Download/index.aspx Alternatively, go to: https://pytorch.org to install a PyTorch version that has been compiled with your version of the CUDA driver. (Triggered internally at ../c10/cuda/CUDAFunctions.cpp:108.)\n",
      "  return torch._C._cuda_getDeviceCount() > 0\n",
      "/media/Data/shican/software/miniconda3/lib/python3.9/site-packages/cellpose/resnet_torch.py:280: FutureWarning: You are using `torch.load` with `weights_only=False` (the current default value), which uses the default pickle module implicitly. It is possible to construct malicious pickle data which will execute arbitrary code during unpickling (See https://github.com/pytorch/pytorch/blob/main/SECURITY.md#untrusted-models for more details). In a future release, the default value for `weights_only` will be flipped to `True`. This limits the functions that could be executed during unpickling. Arbitrary objects will no longer be allowed to be loaded via this mode unless they are explicitly allowlisted by the user via `torch.serialization.add_safe_globals`. We recommend you start setting `weights_only=True` for any use case where you don't have full control of the loaded file. Please open an issue on GitHub for any issues related to this experimental feature.\n",
      "  state_dict = torch.load(filename, map_location=torch.device(\"cpu\"))\n",
      "Cellpose3: 100%|██████████| 1/1 [00:01<00:00,  1.23s/it]\n"
     ]
    },
    {
     "name": "stdout",
     "output_type": "stream",
     "text": [
      "cellpose3 ran for a total of 6.63588285446167 s\n",
      "cellpose3 result saved to /media/Data/shican/data/benchmark_demo/ssDNA/output/cellpose3\n"
     ]
    }
   ],
   "source": [
    "import os\n",
    "import time\n",
    "import subprocess\n",
    "import cv2\n",
    "\n",
    "work_path = os.path.abspath('.')\n",
    "# work_path = '/data/work/benchmark/benchmark'\n",
    "__py__ = {\n",
    "    'MEDIAR':'/media/Data/shican/software/miniconda3/envs/MEDIAR/bin/python',\n",
    "    'cellpose': 'python',\n",
    "    'cellpose3':'python',\n",
    "    'deepcell': 'python',\n",
    "    'sam': 'python',\n",
    "    'stardist':'python',\n",
    "    'cellprofiler':'/media/Data/shican/software/miniconda3/envs/cp4/bin/python'\n",
    "}\n",
    "__methods__ = ['MEDIAR','cellpose','cellpose3', 'sam','stardist','deepcell','cellprofiler']\n",
    "\n",
    "\n",
    "__script__ = {\n",
    "    'MEDIAR':os.path.join(work_path,'src/methods/MEDIAR/mediar_main.py'),\n",
    "    'cellpose': os.path.join(work_path, 'src/methods/cellpose_main.py'),\n",
    "    'cellpose3':os.path.join(work_path,'src/methods/cellpose3_main.py'),\n",
    "    'deepcell': os.path.join(work_path, 'src/methods/deepcell_main.py'),\n",
    "    'sam': os.path.join(work_path, 'src/methods/sam_main.py'),\n",
    "    'stardist':os.path.join(work_path,'src/methods/stardist_main.py'),\n",
    "    'cellprofiler':os.path.join(work_path,'src/methods/cellprofiler/cellprofiler_main.py')\n",
    "}\n",
    "def generate_grayscale_negative(image_path, output_path):\n",
    "    img = cv2.imread(image_path, cv2.IMREAD_GRAYSCALE)\n",
    "    negative_img = cv2.bitwise_not(img)\n",
    "    cv2.imwrite(output_path, negative_img)\n",
    "\n",
    "def generate_negative(image_path, output_path):\n",
    "    img = cv2.imread(image_path)\n",
    "    negative_img = cv2.bitwise_not(img)\n",
    "    cv2.imwrite(output_path, negative_img)\n",
    "\n",
    "def process_images_in_directory(image_dir, new_dir, img_type):\n",
    "    for filename in os.listdir(image_dir):\n",
    "        image_path = os.path.join(image_dir, filename)\n",
    "        if os.path.isfile(image_path):\n",
    "            new_image_path = os.path.join(new_dir, filename)\n",
    "            if img_type == 'he':\n",
    "                generate_grayscale_negative(image_path, new_image_path)\n",
    "            elif img_type == 'mif':\n",
    "                generate_negative(image_path, new_image_path)\n",
    "    return new_dir\n",
    "####### Image names must include '-img', and mask image names must include '-mask'\n",
    "####### The part you need to modify #####\n",
    "is_gpu = True\n",
    "method = ['MEDIAR','cellpose','cellpose3']\n",
    "image_dir = '/media/Data/shican/data/benchmark_demo/ssDNA/input/'\n",
    "output_path = '/media/Data/shican/data/benchmark_demo/ssDNA/output/'\n",
    "img_type = 'ss' # he or ss or mif or dapi\n",
    "###########################\n",
    "print(os.listdir(image_dir))\n",
    "print(work_path)\n",
    "\n",
    "processed_dir = image_dir\n",
    "assert os.path.isdir(image_dir), \"Input path must be a directory\"\n",
    "print(f'get {len(os.listdir(image_dir))} files')\n",
    "if img_type == 'he' or img_type == 'mif':\n",
    "    new_dir = os.path.join(os.path.dirname(image_dir), 'processed_images')\n",
    "    os.makedirs(new_dir, exist_ok=True)\n",
    "    processed_dir = process_images_in_directory(image_dir, new_dir, img_type)\n",
    "\n",
    "for m in method:\n",
    "    assert m in __methods__\n",
    "\n",
    "for m in method:\n",
    "    start = time.time()\n",
    "    if m == 'cellprofiler':\n",
    "        cmd = '{} {} -i {} -o {} -g {} -t {}'.format(\n",
    "        __py__[m], __script__[m], image_dir, os.path.join(output_path, m), is_gpu, img_type)\n",
    "    elif m == 'stardist' and img_type == 'he':\n",
    "        cmd = '{} {} -i {} -o {} -g {} -t {}'.format(\n",
    "        __py__[m], __script__[m], image_dir, os.path.join(output_path, m), is_gpu, img_type)\n",
    "    elif m == 'cellpose' or  m == 'cellpose3' or m == 'MEDIAR' and img_type == 'mif':\n",
    "        cmd = '{} {} -i {} -o {} -g {} -t {}'.format(\n",
    "        __py__[m], __script__[m], image_dir, os.path.join(output_path, m), is_gpu, img_type)\n",
    "    else:\n",
    "        cmd = '{} {} -i {} -o {} -g {} -t {}'.format(\n",
    "            __py__[m], __script__[m], processed_dir, os.path.join(output_path, m), is_gpu, img_type)\n",
    "    os.system(cmd)\n",
    "    t = time.time() - start\n",
    "    print('{} ran for a total of {} s'.format(m, t))\n",
    "    print('{} result saved to {}'.format(m, os.path.join(output_path, m)))    "
   ]
  },
  {
   "cell_type": "markdown",
   "id": "47ccaeb1-01b1-4cce-8fe7-d4ffd54f9f0e",
   "metadata": {},
   "source": [
    "## Evaluation"
   ]
  },
  {
   "cell_type": "code",
   "execution_count": 3,
   "id": "89daaee6-048a-460f-91cf-ef4789f6cac3",
   "metadata": {
    "scrolled": true,
    "tags": []
   },
   "outputs": [
    {
     "name": "stdout",
     "output_type": "stream",
     "text": [
      "python src/eval/cell_eval_multi.py -g /media/Data/shican/data/DAPI/gt/ -d /media/Data/shican/data/DAPI/output/ -o /media/Data/shican/data/DAPI/eval/\n",
      "Namespace(dt_path='/media/Data/shican/data/DAPI/output/', func=<function main at 0x7f3ddc5acaf0>, gt_path='/media/Data/shican/data/DAPI/gt/', output_path='/media/Data/shican/data/DAPI/eval/') []\n",
      "dataset_name:gt\n",
      "methods:['cellprofiler', 'stardist', 'MEDIAR', 'cellpose', 'deepcell', 'sam', 'cellpose3']\n",
      "gt:/media/Data/shican/data/DAPI/gt/\n",
      "dt:/media/Data/shican/data/DAPI/output/cellprofiler\n"
     ]
    },
    {
     "name": "stderr",
     "output_type": "stream",
     "text": [
      "Load data cellprofiler: 100%|██████████| 303/303 [00:00<00:00, 385.92it/s]\n",
      "100%|██████████| 303/303 [00:13<00:00, 21.83it/s]\n",
      "Load data stardist:  13%|█▎        | 40/303 [00:00<00:00, 394.20it/s]"
     ]
    },
    {
     "name": "stdout",
     "output_type": "stream",
     "text": [
      "gt:/media/Data/shican/data/DAPI/gt/\n",
      "dt:/media/Data/shican/data/DAPI/output/stardist\n"
     ]
    },
    {
     "name": "stderr",
     "output_type": "stream",
     "text": [
      "Load data stardist: 100%|██████████| 303/303 [00:00<00:00, 392.19it/s]\n",
      "100%|██████████| 303/303 [00:13<00:00, 21.89it/s]\n",
      "Load data MEDIAR:  13%|█▎        | 39/303 [00:00<00:00, 382.72it/s]"
     ]
    },
    {
     "name": "stdout",
     "output_type": "stream",
     "text": [
      "gt:/media/Data/shican/data/DAPI/gt/\n",
      "dt:/media/Data/shican/data/DAPI/output/MEDIAR\n"
     ]
    },
    {
     "name": "stderr",
     "output_type": "stream",
     "text": [
      "Load data MEDIAR: 100%|██████████| 303/303 [00:00<00:00, 393.32it/s]\n",
      "100%|██████████| 303/303 [00:12<00:00, 24.63it/s]\n",
      "Load data cellpose:  13%|█▎        | 40/303 [00:00<00:00, 395.40it/s]"
     ]
    },
    {
     "name": "stdout",
     "output_type": "stream",
     "text": [
      "gt:/media/Data/shican/data/DAPI/gt/\n",
      "dt:/media/Data/shican/data/DAPI/output/cellpose\n"
     ]
    },
    {
     "name": "stderr",
     "output_type": "stream",
     "text": [
      "Load data cellpose: 100%|██████████| 303/303 [00:00<00:00, 412.43it/s]\n",
      "100%|██████████| 303/303 [00:11<00:00, 27.13it/s]\n",
      "Load data deepcell:  13%|█▎        | 39/303 [00:00<00:00, 387.80it/s]"
     ]
    },
    {
     "name": "stdout",
     "output_type": "stream",
     "text": [
      "gt:/media/Data/shican/data/DAPI/gt/\n",
      "dt:/media/Data/shican/data/DAPI/output/deepcell\n"
     ]
    },
    {
     "name": "stderr",
     "output_type": "stream",
     "text": [
      "Load data deepcell: 100%|██████████| 303/303 [00:00<00:00, 403.70it/s]\n",
      "100%|██████████| 303/303 [00:13<00:00, 21.85it/s]\n",
      "Load data sam:  13%|█▎        | 40/303 [00:00<00:00, 397.94it/s]"
     ]
    },
    {
     "name": "stdout",
     "output_type": "stream",
     "text": [
      "gt:/media/Data/shican/data/DAPI/gt/\n",
      "dt:/media/Data/shican/data/DAPI/output/sam\n"
     ]
    },
    {
     "name": "stderr",
     "output_type": "stream",
     "text": [
      "Load data sam: 100%|██████████| 303/303 [00:00<00:00, 402.20it/s]\n",
      "100%|██████████| 303/303 [00:13<00:00, 23.03it/s]\n",
      "Load data cellpose3:  14%|█▎        | 41/303 [00:00<00:00, 406.68it/s]"
     ]
    },
    {
     "name": "stdout",
     "output_type": "stream",
     "text": [
      "gt:/media/Data/shican/data/DAPI/gt/\n",
      "dt:/media/Data/shican/data/DAPI/output/cellpose3\n"
     ]
    },
    {
     "name": "stderr",
     "output_type": "stream",
     "text": [
      "Load data cellpose3: 100%|██████████| 303/303 [00:00<00:00, 401.95it/s]\n",
      "100%|██████████| 303/303 [00:14<00:00, 21.47it/s]"
     ]
    },
    {
     "name": "stdout",
     "output_type": "stream",
     "text": [
      "{'cellprofiler': {'precision': 0.6624948912432086, 'recall': 0.5509899444791634, 'f1': 0.5903575145430213, 'jaccard': 0.5893533072383649, 'dice': 0.7324995564772128}, 'stardist': {'precision': 0.736951321608616, 'recall': 0.7059010355984056, 'f1': 0.7100787185491375, 'jaccard': 0.6177970580631963, 'dice': 0.754172497260609}, 'MEDIAR': {'precision': 0.8831493287454986, 'recall': 0.7658951315904489, 'f1': 0.8139754697904806, 'jaccard': 0.6722152428882462, 'dice': 0.7931492201331234}, 'cellpose': {'precision': 0.9221180861636038, 'recall': 0.671288953476303, 'f1': 0.7644684267326598, 'jaccard': 0.6839520892969733, 'dice': 0.8019311610735222}, 'deepcell': {'precision': 0.8339642675290757, 'recall': 0.8329196530974421, 'f1': 0.8253691828784488, 'jaccard': 0.7368138626749284, 'dice': 0.8432473120073369}, 'sam': {'precision': 0.6768262577708583, 'recall': 0.7188770431382415, 'f1': 0.6837189322350743, 'jaccard': 0.6013997454510731, 'dice': 0.7435216957129422}, 'cellpose3': {'precision': 0.8046531780433503, 'recall': 0.6765167349313077, 'f1': 0.7282264340365534, 'jaccard': 0.6442466944530134, 'dice': 0.7680021497081395}}\n",
      "cellprofiler {'precision': 0.6624948912432086, 'recall': 0.5509899444791634, 'f1': 0.5903575145430213, 'jaccard': 0.5893533072383649, 'dice': 0.7324995564772128}\n",
      "MEDIAR {'precision': 0.8831493287454986, 'recall': 0.7658951315904489, 'f1': 0.8139754697904806, 'jaccard': 0.6722152428882462, 'dice': 0.7931492201331234}\n",
      "cellpose {'precision': 0.9221180861636038, 'recall': 0.671288953476303, 'f1': 0.7644684267326598, 'jaccard': 0.6839520892969733, 'dice': 0.8019311610735222}\n",
      "cellpose3 {'precision': 0.8046531780433503, 'recall': 0.6765167349313077, 'f1': 0.7282264340365534, 'jaccard': 0.6442466944530134, 'dice': 0.7680021497081395}\n",
      "sam {'precision': 0.6768262577708583, 'recall': 0.7188770431382415, 'f1': 0.6837189322350743, 'jaccard': 0.6013997454510731, 'dice': 0.7435216957129422}\n",
      "stardist {'precision': 0.736951321608616, 'recall': 0.7059010355984056, 'f1': 0.7100787185491375, 'jaccard': 0.6177970580631963, 'dice': 0.754172497260609}\n",
      "deepcell {'precision': 0.8339642675290757, 'recall': 0.8329196530974421, 'f1': 0.8253691828784488, 'jaccard': 0.7368138626749284, 'dice': 0.8432473120073369}\n",
      "mask analysis: 100%|██████████| 303/303 [00:49<00:00,  6.11it/s]]], ?it/s]\n",
      "Subprogram success\n"
     ]
    },
    {
     "name": "stderr",
     "output_type": "stream",
     "text": [
      "\n"
     ]
    },
    {
     "data": {
      "text/plain": [
       "0"
      ]
     },
     "execution_count": 3,
     "metadata": {},
     "output_type": "execute_result"
    }
   ],
   "source": [
    "import os\n",
    "\n",
    "py = 'python'\n",
    "script = 'src/eval/cell_eval_multi.py'\n",
    "\n",
    "gt_path = '/media/Data/shican/data/DAPI/gt/'    # Ground Truth\n",
    "dt_path = '/media/Data/shican/data/DAPI/output/'    # Result of the algorithm's prediction\n",
    "eval_path = '/media/Data/shican/data/DAPI/eval/'  # Evaluate the output of the results\n",
    "if not os.path.exists(eval_path): os.makedirs(eval_path)\n",
    "\n",
    "cmd = '{} {} -g {} -d {} -o {}'.format(py, script, gt_path, dt_path, eval_path)\n",
    "print(cmd)\n",
    "os.system(cmd)\n",
    "\n"
   ]
  },
  {
   "cell_type": "code",
   "execution_count": null,
   "id": "a78076ec-518c-4abd-b0a4-d6f89a611a23",
   "metadata": {},
   "outputs": [],
   "source": []
  }
 ],
 "metadata": {
  "kernelspec": {
   "display_name": "cs-benchmark",
   "language": "python",
   "name": "cs-benchmark"
  },
  "language_info": {
   "codemirror_mode": {
    "name": "ipython",
    "version": 3
   },
   "file_extension": ".py",
   "mimetype": "text/x-python",
   "name": "python",
   "nbconvert_exporter": "python",
   "pygments_lexer": "ipython3",
   "version": "3.8.19"
  }
 },
 "nbformat": 4,
 "nbformat_minor": 5
}
