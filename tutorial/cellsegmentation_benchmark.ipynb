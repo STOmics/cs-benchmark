{
 "cells": [
  {
   "cell_type": "markdown",
   "id": "46eb77ac-7a65-47be-a441-acaf1814eae7",
   "metadata": {},
   "source": [
    "## cell_seg\n",
    "\n",
    "The main parameters of the program include,\n",
    "- Input\n",
    "\n",
    "    - ```is_gpu```: Use GPU or not<br>\n",
    "    - ```method```: segmentation methods, ['deepcell', 'cellpose', 'stereocell', 'sam', 'lt']<br>\n",
    "    - ```image_path```: Stereo-seq Image data<br>\n",
    "\n",
    "- Output\n",
    "\n",
    "    - ```output_path```: result of cell segmentation"
   ]
  },
  {
   "cell_type": "code",
   "execution_count": null,
   "id": "b7b233ba-eb0d-45da-b0b4-9ce3d82703d4",
   "metadata": {
    "scrolled": true,
    "tags": []
   },
   "outputs": [],
   "source": [
    "import os\n",
    "import time\n",
    "import subprocess\n",
    "os.environ['CUDA_VISIBLE_DEVICES'] = '2'\n",
    "\n",
    "work_path = os.path.abspath('.')\n",
    "# work_path = '/data/work/benchmark/benchmark'\n",
    "__py__ = {\n",
    "    'MEDIAR':'anaconda3/envs/MEDIAR/bin/python',\n",
    "    'cellpose': 'python',\n",
    "    'cellpose3':'python',\n",
    "    'deepcell': 'python',\n",
    "    'sam': 'python',\n",
    "    'stardist':'python',\n",
    "}\n",
    "__methods__ = ['MEDIAR','cellpose','cellpose3', 'sam','stardist']\n",
    "\n",
    "\n",
    "__script__ = {\n",
    "    'MEDIAR':os.path.join(work_path,'src/methods/MEDIAR/mediar_main.py'),\n",
    "    'cellpose': os.path.join(work_path, 'src/methods/cellpose_main.py'),\n",
    "    'cellpose3':os.path.join(work_path,'src/methods/cellpose3_main.py'),\n",
    "    'deepcell': os.path.join(work_path, 'src/methods/deepcell_main.py'),\n",
    "    'sam': os.path.join(work_path, 'src/methods/sam_main.py'),\n",
    "    'stardist':os.path.join(work_path,'src/methods/stardist_main.py')\n",
    "}\n",
    "####### Image names must include '-img', and mask image names must include '-mask'\n",
    "####### The part you need to modify #####\n",
    "is_gpu = True\n",
    "method = ['cellpose','cellpose3','MEDIAR','sam','stardist','deepcell']\n",
    "image_path = ''\n",
    "output_path = ''\n",
    "img_type = 'ss' # he or ss\n",
    "###########################\n",
    "print(os.listdir(image_path))\n",
    "print(work_path)\n",
    "\n",
    "for m in method: assert m in __methods__\n",
    "for m in method:\n",
    "    start = time.time()\n",
    "    cmd = '{} {} -i {} -o {} -g {} -t {}'.format(__py__[m], __script__[m], \n",
    "                                    image_path, os.path.join(output_path, m), is_gpu, img_type)\n",
    "    print(cmd)\n",
    "    os.system(cmd)\n",
    "    t = time.time() - start\n",
    "    print('{} ran for a total of {} s'.format(m, t))\n",
    "    print('{} result saved to {}'.format(m, os.path.join(output_path, m)))\n",
    "    "
   ]
  },
  {
   "cell_type": "markdown",
   "id": "47ccaeb1-01b1-4cce-8fe7-d4ffd54f9f0e",
   "metadata": {},
   "source": [
    "## Evaluation"
   ]
  },
  {
   "cell_type": "code",
   "execution_count": null,
   "id": "89daaee6-048a-460f-91cf-ef4789f6cac3",
   "metadata": {
    "scrolled": true,
    "tags": []
   },
   "outputs": [],
   "source": [
    "import os\n",
    "\n",
    "py = 'python'\n",
    "script = 'src/eval/cell_eval_multi.py'\n",
    "\n",
    "gt_path = ''    # Ground Truth\n",
    "dt_path = ''    # Result of the algorithm's prediction\n",
    "eval_path = ''  # Evaluate the output of the results\n",
    "if not os.path.exists(eval_path): os.makedirs(eval_path)\n",
    "\n",
    "cmd = '{} {} -g {} -d {} -o {}'.format(py, script, gt_path, dt_path, eval_path)\n",
    "print(cmd)\n",
    "os.system(cmd)\n",
    "\n"
   ]
  }
 ],
 "metadata": {
  "kernelspec": {
   "display_name": "benchmark",
   "language": "python",
   "name": "benchmark"
  },
  "language_info": {
   "codemirror_mode": {
    "name": "ipython",
    "version": 3
   },
   "file_extension": ".py",
   "mimetype": "text/x-python",
   "name": "python",
   "nbconvert_exporter": "python",
   "pygments_lexer": "ipython3",
   "version": "3.8.19"
  }
 },
 "nbformat": 4,
 "nbformat_minor": 5
}
