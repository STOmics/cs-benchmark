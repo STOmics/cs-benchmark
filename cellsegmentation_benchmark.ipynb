{
 "cells": [
  {
   "cell_type": "markdown",
   "id": "46eb77ac-7a65-47be-a441-acaf1814eae7",
   "metadata": {},
   "source": [
    "## cell_seg\n",
    "\n",
    "The main parameters of the program include,\n",
    "- Input\n",
    "\n",
    "    - ```is_gpu```: Use GPU or not<br>\n",
    "    - ```method```: segmentation methods, ['deepcell', 'cellpose', 'stereocell', 'sam', 'lt']<br>\n",
    "    - ```image_path```: Stereo-seq Image data<br>\n",
    "\n",
    "- Output\n",
    "\n",
    "    - ```output_path```: result of cell segmentation"
   ]
  },
  {
   "cell_type": "code",
   "execution_count": null,
   "id": "b7b233ba-eb0d-45da-b0b4-9ce3d82703d4",
   "metadata": {
    "scrolled": true,
    "tags": []
   },
   "outputs": [],
   "source": [
    "import os\n",
    "import time\n",
    "import subprocess\n",
    "os.environ['CUDA_VISIBLE_DEVICES'] = '2'\n",
    "\n",
    "work_path = os.path.abspath('.')\n",
    "# work_path = '/data/work/benchmark/benchmark'\n",
    "__py__ = {\n",
    "    'MEDIAR':'anaconda3/envs/MEDIAR/bin/python',\n",
    "    'cellpose': 'anaconda3/envs/cellpose/bin/python',\n",
    "    'cellpose3':'anaconda3/envs/cellpose3/bin/python',\n",
    "    'deepcell': 'anaconda3/envs/deepcell/bin/python',\n",
    "    'sam': 'anaconda3/envs/sam/bin/python',\n",
    "    'stardist':'anaconda3/envs/stardist/bin/python',\n",
    "}\n",
    "__methods__ = ['MEDIAR','cellpose','cellpose3', 'sam','stardist']\n",
    "\n",
    "\n",
    "__script__ = {\n",
    "    'MEDIAR':os.path.join(work_path,'src/methods/MEDIAR/MEDIAR/iMEDIAR.py'),\n",
    "    'cellpose': os.path.join(work_path, 'src/methods/cellpose/icellpose.py'),\n",
    "    'cellpose3':os.path.join(work_path,'src/methods/cellpose3/icellpose.py'),\n",
    "    'deepcell': os.path.join(work_path, 'src/methods/deepcell/ideepcell2.py'),\n",
    "    'sam': os.path.join(work_path, 'src/methods/sam/isam.py'),\n",
    "    'stardist':os.path.join(work_path,'src/methods/stardist/istardist.py')\n",
    "}\n",
    "####### Image names must include '-img', and mask image names must include '-mask'\n",
    "####### The part you need to modify #####\n",
    "is_gpu = True\n",
    "method = ['cellpose','cellpose3','MEDIAR','sam','stardist','deepcell']\n",
    "image_path = ''\n",
    "output_path = ''\n",
    "img_type = 'ss' # he or ss\n",
    "###########################\n",
    "print(os.listdir(image_path))\n",
    "print(work_path)\n",
    "\n",
    "for m in method: assert m in __methods__\n",
    "for m in method:\n",
    "    start = time.time()\n",
    "    cmd = '{} {} -i {} -o {} -g {} -t {}'.format(__py__[m], __script__[m], \n",
    "                                    image_path, os.path.join(output_path, m), is_gpu, img_type)\n",
    "    print(cmd)\n",
    "    os.system(cmd)\n",
    "    t = time.time() - start\n",
    "    print('{} ran for a total of {} s'.format(m, t))\n",
    "    print('{} result saved to {}'.format(m, os.path.join(output_path, m)))\n",
    "    "
   ]
  },
  {
   "cell_type": "markdown",
   "id": "47ccaeb1-01b1-4cce-8fe7-d4ffd54f9f0e",
   "metadata": {},
   "source": [
    "## Evaluation\n",
    "\n",
    "pip install tqdm\n",
    "pip install numpy\n",
    "pip install tifffile\n",
    "pip install opencv-python\n",
    "pip install scikit-image\n",
    "pip install pandas\n",
    "pip install scikit-learn\n",
    "pip install matplotlib\n",
    "pip install seaborn\n",
    "pip install cython six openpyxl\n",
    "cd src/eval\n",
    "python setup.py install --user"
   ]
  },
  {
   "cell_type": "code",
   "execution_count": null,
   "id": "89daaee6-048a-460f-91cf-ef4789f6cac3",
   "metadata": {
    "scrolled": true,
    "tags": []
   },
   "outputs": [],
   "source": [
    "import os\n",
    "\n",
    "py = 'python'\n",
    "script = 'src/eval/cell_eval_multi.py'\n",
    "\n",
    "gt_path = ''    # Ground Truth\n",
    "dt_path = ''    # Result of the algorithm's prediction\n",
    "eval_path = ''  # Evaluate the output of the results\n",
    "if not os.path.exists(eval_path): os.makedirs(eval_path)\n",
    "\n",
    "cmd = '{} {} -g {} -d {} -o {}'.format(py, script, gt_path, dt_path, eval_path)\n",
    "print(cmd)\n",
    "os.system(cmd)\n",
    "\n"
   ]
  },
  {
   "cell_type": "markdown",
   "id": "93bb528a-2028-4faa-a457-0a3ae37a0665",
   "metadata": {},
   "source": [
    "# **Contact Information**\n",
    "For questions about this notebook, please contact: _cloud@stomics.tech_.\n",
    "\n",
    "# **Cite**\n",
    "If you use STOmics/Stereo-seq data in your research, please considering referring us in your article:\n",
    "> **Code available** The source code of this algorithm is available at Github (https://github.com/BGI-DEV-REG/ARTISTA). The visual and convenient execution of this algorithm can be found from STOmics Cloud Platform (https://cloud.stomics.tech/).\n",
    "\n",
    "> **Acknowledgement** We express our gratitude to the computing platform STOmics Cloud (https://cloud.stomics.tech/) for enabling workflow automation and accelerating Stereo-seq data analysis. If you use STOmics/Stereo-seq data in your research, please considering referring us in your article."
   ]
  },
  {
   "cell_type": "code",
   "execution_count": null,
   "id": "4c4fd987-afce-40d4-bbb8-2eb984f2f951",
   "metadata": {},
   "outputs": [],
   "source": [
    "pip install compute_overlap"
   ]
  },
  {
   "cell_type": "code",
   "execution_count": null,
   "id": "e85cbe87-2fa0-463f-92a6-3685d46ea69a",
   "metadata": {},
   "outputs": [],
   "source": [
    "cd src/eval\n"
   ]
  },
  {
   "cell_type": "code",
   "execution_count": null,
   "id": "15c89990-1416-4b2a-b6f6-5814cc607d08",
   "metadata": {},
   "outputs": [],
   "source": [
    "python setup.py install --user"
   ]
  },
  {
   "cell_type": "code",
   "execution_count": null,
   "id": "c4ad1739-5b04-499b-aad1-d101da992a5c",
   "metadata": {},
   "outputs": [],
   "source": []
  }
 ],
 "metadata": {
  "kernelspec": {
   "display_name": "benchmark",
   "language": "python",
   "name": "benchmark"
  },
  "language_info": {
   "codemirror_mode": {
    "name": "ipython",
    "version": 3
   },
   "file_extension": ".py",
   "mimetype": "text/x-python",
   "name": "python",
   "nbconvert_exporter": "python",
   "pygments_lexer": "ipython3",
   "version": "3.8.19"
  }
 },
 "nbformat": 4,
 "nbformat_minor": 5
}
