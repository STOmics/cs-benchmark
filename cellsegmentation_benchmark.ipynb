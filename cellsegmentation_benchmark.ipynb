{
 "cells": [
  {
   "cell_type": "markdown",
   "id": "737b2d00-7766-4dbe-b118-7151d43749a7",
   "metadata": {
    "execution": {
     "iopub.execute_input": "2023-12-18T03:14:11.017405Z",
     "iopub.status.busy": "2023-12-18T03:14:11.016461Z",
     "iopub.status.idle": "2023-12-18T03:14:11.064280Z",
     "shell.execute_reply": "2023-12-18T03:14:11.061937Z",
     "shell.execute_reply.started": "2023-12-18T03:14:11.017248Z"
    }
   },
   "source": [
    "\n",
    "<div align=\"center\">\n",
    "    <img src=\"https://gitee.com/niov/STOCNSFs/raw/main/cs_benchmark/precision.png\" width=80% height=80% alt=\"\" />\n",
    "    <h4>\n",
    "      Cell Segmentation: How to choose tools that match your stereo-seq data\n",
    "    </h4>\n",
    "</div>\n",
    "\n",
    "# What Is Cell Segmentation?\n",
    "The difficulty of achieving accurate, automated cell segmentation is due in large part to the differences in cell shape, size and density across tissue types.Deep learning algorithms for computer vision are increasingly being used for a variety of tasks in biological image analysis, including nuclear and cell segmentation. Based on these, we will explore which segmentation algorithm is more suitable for stereo-seq image data.\n",
    "\n",
    "**Journal**: bioRxiv<br>\n",
    "**Doi**: https://doi.org/10.1101/2023.08.08.552402<br>\n",
    "**Published Date**: Dec 27, 2023<br>\n",
    "**Github**: -<br>\n",
    "**Tutorial**: -<br>\n",
    "**Environment（mirror）**：cs_benchmark (URL: https://cloud.stomics.tech/#/public/image)<br>\n",
    "\n",
    "# Tutorial\n",
    "\n",
    "## Input and Output\n",
    "\n",
    "We have deployed the following 5 cell segmentation methods:\n",
    "\n",
    "> [Cellpose](https://github.com/MouseLand/cellpose) is a generalist algorithm for cellular segmentation.<br>\n",
    "> [DeepCell](https://github.com/vanvalenlab/deepcell-tf) is a deep learning library for single-cell analysis of biological images. Here, pre-trained DeepCell models are used for cell/nuclei segmentation from raw image data.<br><br>\n",
    "> [StereoCell](https://github.com/STOmics/StereoCell/tree/dev) is an open-source software for measuring and analyzing cell images. Here, CellProfiler is used for object detection and region growth-based object segmentation.<br><br>\n",
    "> [SAM](https://github.com/facebookresearch/segment-anything) is an open-source software for measuring and analyzing cell images. Here, CellProfiler is used for object detection and region growth-based object<br><br>\n",
    "> [LT](https://github.com/BGI-DEV-REG/ARTISTA) is an open-source software for measuring and analyzing cell images. Here, CellProfiler is used for object detection and region growth-based object.<br><br>\n",
    "\n",
    "The main parameters of the program include,\n",
    "- Input\n",
    "\n",
    "    - ```is_gpu```: Use GPU or not<br>\n",
    "    - ```method```: segmentation methods, ['deepcell', 'cellpose', 'stereocell', 'sam', 'lt']<br>\n",
    "    - ```image_path```: Stereo-seq Image data<br>\n",
    "\n",
    "- Output\n",
    "\n",
    "    - ```output_path```: result of cell segmentation\n",
    "\n",
    "## Demo Data\n",
    "\n",
    "Here, we present the StereoCell cell segmentation test dataset to compare the performance of different segmentation methods. Recent studies have shown that the diversity of data modalities, complex differences in image backgrounds, and cell distribution and morphology pose great challenges to segmentation methods. Therefore, we chose imaging data under [stereo-seq]() technology to construct a test set, covering 4 staining methods, namely: ssDNA, [HE](), [FB]() and [mIF](); all 42 ROIs in the test set come from 11 animal sections and 1 plant tissue sample. The test dataset is available at https://datasets.deepcell.org/ for noncommercial use.\n",
    "\n",
    "<div align=\"center\">\n",
    "    <img src=\"docs/slice.png\" width=60% height=60% alt=\"Fig StereoCell benchmarking\" />\n",
    "    <h6>\n",
    "      Fig 1 Benchmarking for stereo-seq Image Data\n",
    "    </h6>\n",
    "</div>\n",
    "\n",
    "\n",
    "## Time Estimates\n",
    "<div align=\"center\">\n",
    "    <img src=\"docs/time.png\" align=\"right\" width=40% height=40% alt=\"\" />\n",
    "    <br>\n",
    "</div>\n",
    "It can be seen from the test data that the traditional method is much faster than the deep learning method. Under the deep learning method, the time consumption of cellpose and deepcell is similar, and stereocell is faster. The SAM time consumption of large visual models is relatively long.\n",
    "\n",
    "| Method |CPU Core|CPU Memory (Gb)|GPU Memory (Gb)|Running Time (min)|\n",
    "|:--:|:--:|:--:|:--:|:--:|\n",
    "|LT|32|32|0|5~10|\n",
    "|SAM|32|32|0|5~10|\n",
    "|StereoCell|32|32|0|5~10|\n",
    "|Cellpose|32|32|0|5~10|\n",
    "|Deepcell|32|32|0|5~10|\n",
    "</div>\n",
    "\n",
    "# Benchmarking\n",
    "\n",
    "## Index\n",
    "<div align=\"center\">\n",
    "    <img src=\"docs/seg.png\" width=50% height=50% alt=\"Single-cell Stereo-seq reveals induced progenitor cells involved in axolotl brain regeneration\" />\n",
    "    <h6>\n",
    "      Fig 2 precision and recall for cell segmentation\n",
    "    </h6>\n",
    "</div>\n",
    "\n",
    "To evaluate the relative performance of different deep learning architectures, we compared several alternatives: StereoCell (kernel), Deepcell (whole-cell), Cellpose (whole-cell), SAM (whole-cell), and LT. All methods are evaluated on the StereoCell test set.\n",
    " - n_pred,\n",
    " - n_true,\n",
    " - precision,\n",
    " - recall,\n",
    " - F1,\n",
    "\n",
    "## Result\n",
    "<div align=\"center\">\n",
    "    <img src=\"docs/precision.png\" width=80% height=80% alt=\"Single-cell Stereo-seq reveals induced progenitor cells involved in axolotl brain regeneration\" />\n",
    "    <h6>\n",
    "      Fig 3 Benchmarking for stereo-seq Image Data\n",
    "    </h6>\n",
    "</div>\n",
    "\n",
    "We evaluate 5 popular cell segmentation methods on the StereoCell test dataset, including their segmentation levels and algorithm performance. From the F1 score of each algorithm, the following recommended solutions can be obtained:\n",
    " - scene 1: If the data is **ssDNA staining**, we recommend using the _StereoCell_ cell segmentation algorithm\n",
    "\n",
    " - scene 2: If the data is **HE/mIF** stained, we recommend using the _Deepcell/Cellpose_ cell segmentation algorithm\n",
    "\n",
    "  - scene 3: If the data is **FB** stained, we recommend using the _Deepcell/StereoCell/Cellpose_ cell segmentation algorithm\n",
    "\n",
    "  - scene 4: Under **ssDNA/HE** staining, the segmentation results need to be adjusted to the optimal segmentation results. It is recommended to use the _LT algorithm_ and realize it through parameter adjustment.\n",
    "\n",
    "All in all, **Cellpose** and **Deepcell** are more universal.\n",
    "\n",
    "## Supplementary information\n",
    "\n",
    "| Species | StereoCell | DeepCell | Cellpose | SAM | LT |\n",
    "|--------: | :---------:|:--------:| :---------:|:--------:|:--------:|\n",
    "| HE/mouse_stomach | 0.14831 | 0.00965 |  0.00103 | 0.27114 | 0.02818 |\n",
    "| HE/human_ovarian_cancer | 0.57156 | 0.0197 |  0.34593 | 0.29969 | 0.12209 |\n",
    "| HE/mouse_large_intestine | 0.12297 | 0.00691 |  0.0155 | 0.31266 | 0.02818 |\n",
    "| HE/human_stomach_cancer | 0.25906 | 0.00238 |  0.03362 | 0.31374 | 0.04236 |\n",
    "| HE/mouse_brain | 0.48167 | 0.00483 |  0.32376 | 0.48882 | 0.24997 |\n",
    "| HE/human_melanoma | 0.51569 | 0.01312 |  0.30805 | 0.44213 | 0.16007 |\n",
    "| FB/arabidopsis_thaliana_seeds | 0.11188 | 0.03638 |  0.71235 | 0.20158 | 0.10615 |\n",
    "| ssDNA/murine_kidney | 0.50257 | 0.48804 |  0.58297 | 0.30123 | 0.18944 |\n",
    "| ssDNA/mouse_placenta | 0.34727 | 0.50867 |  0.56316 | 0.2437 | 0.22016 |\n",
    "| ssDNA/mouse_brain | 0.41138 | 0.43785 |  0.54767 | 0.30734 | 0.23151 |\n",
    "| ssDNA/human_liver | 0.44711 | 0.48498 |  0.5488 | 0.32185 | 0.17862 |\n",
    "| ssDNA/murine_prostate | 0.58785 | 0.67761 |  0.72194 | 0.36294 | 0.19122 |\n",
    "| mIF/mouse_liver | 0.02789 | 0.01132 |  0.67243 | 0.25676 | 0.13448 |\n",
    "\n",
    "# Acknowledgements\n",
    "\n",
    "We thank: \n",
    "\n",
    "- [Cellpose_Cell_Segmentation_Tutorial](https://cloud.stomics.tech/#/public/tool/app-detail/notebook/224/--)\n",
    "- [DeepCell_Cell_Segmentation](https://cloud.stomics.tech/#/public/tool/app-detail/notebook/233/--)\n",
    "- [StereoCell_Cell_Segmentation](https://cloud.stomics.tech/#/public/tool/app-detail/notebook/222/--)\n",
    "- [SAM_Cell_Segmentation](https://cloud.stomics.tech/#/public/tool/app-detail/notebook/206/--)\n",
    "- [LT_Cell_Segmentation](https://cloud.stomics.tech/#/public/tool/app-detail/notebook/79/--)\n",
    "\n",
    "# Appendix\n",
    "\n",
    "**cs_benchmark** uses conda's multi-environment solution to meet users' needs to call multiple segmentation methods at the same time. The details of the environment construction are listed below:\n",
    "\n",
    "<details close>\n",
    "<summary>CellPose</summary>\n",
    "\n",
    "```text\n",
    "source activate \n",
    "conda deactivate\n",
    "conda create -n cellpose python=3.8\n",
    "conda activate cellpose\n",
    "pip install torch\n",
    "pip install torchvision\n",
    "pip install cellpose\n",
    "pip install tifffile\n",
    "pip install patchify\n",
    "```\n",
    "</details>\n",
    "\n",
    "<details close>\n",
    "<summary>DeepCell</summary>\n",
    "\n",
    "```text\n",
    "source activate \n",
    "conda deactivate\n",
    "conda create -n deepcell python=3.8\n",
    "conda activate deepcell\n",
    "pip install DeepCell==0.12.9\n",
    "pip install tifffile>=2023.2.3\n",
    "```\n",
    "\n",
    "</details>\n",
    "\n",
    "<details close>\n",
    "<summary>StereoCell</summary>\n",
    "\n",
    "```text\n",
    "source activate \n",
    "conda deactivate\n",
    "conda create -n stereocell python=3.8\n",
    "conda activate stereocell\n",
    "pip install onnxruntime>=1.15.1\n",
    "pip install tifffile>=2023.2.3\n",
    "pip install scikit-image>=0.21.0\n",
    "pip install opencv-python>=4.8.0.76\n",
    "pip install tqdm\n",
    "pip install stio==0.1.0 --no-deps\n",
    "pip install cell-bin==1.2.5 --no-deps\n",
    "pip install stio==0.1.0 --no-deps\n",
    "pip install requests\n",
    "mkdir /home/weights\n",
    "python -c \"from cellbin.dnn.weights import auto_download_weights, WEIGHTS; auto_download_weights('/home/weights', WEIGHTS.keys())\"\n",
    "\n",
    "```\n",
    "</details>\n",
    "\n",
    "\n",
    "<details close>\n",
    "<summary>SAM</summary>\n",
    "\n",
    "```text\n",
    "\n",
    "source activate \n",
    "conda deactivate\n",
    "conda create -n sam python=3.8\n",
    "conda activate sam\n",
    "pip install https://ghproxy.com/https://github.com/facebookresearch/segment-anything.git\n",
    "pip install opencv-python pycocotools matplotlib onnxruntime onnx\n",
    "pip install torch torchvision scipy tifffile tqdm -i https://mirrors.ustc.edu.cn/pypi/web/simple/\n",
    "\n",
    "```\n",
    "\n",
    "</details>\n",
    "\n",
    "<details close>\n",
    "<summary>Eval</summary>\n",
    "\n",
    "```text\n",
    "pip install cython six openpyxl\n",
    "cd eval\n",
    "python setup.py install --user\n",
    "```\n",
    "    \n",
    "</details>\n",
    "\n",
    "# Running\n",
    "\n",
    "sam ran for a total of 4769.733977794647 s"
   ]
  },
  {
   "cell_type": "markdown",
   "id": "af8e43e0-d613-4abb-a708-a3f1dda82bb4",
   "metadata": {},
   "source": [
    "## 修改文件名(可选)\n",
    "图片名字要求带-img，mask图片要求名字-mask"
   ]
  },
  {
   "cell_type": "code",
   "execution_count": null,
   "id": "c9959959-aa8c-4e91-8827-bee110e38957",
   "metadata": {},
   "outputs": [],
   "source": [
    "import os\n",
    " \n",
    "def rename_files(directory, old_string):\n",
    "    for filename in os.listdir(directory):\n",
    "        if old_string in filename:\n",
    "            new_filename = filename.replace(old_string, '-img.png')\n",
    "            os.rename(os.path.join(directory, filename), os.path.join(directory, new_filename))\n",
    " \n",
    "# 使用示例\n",
    "directory_path = 'input/IEEE_TMI_2019'  # 替换为你的目录路径\n",
    "old_string_to_replace = '.png'  # 要替换的字符串\n",
    " \n",
    "rename_files(directory_path, old_string_to_replace)"
   ]
  },
  {
   "cell_type": "markdown",
   "id": "46eb77ac-7a65-47be-a441-acaf1814eae7",
   "metadata": {},
   "source": [
    "## 分割细胞\n",
    "图片名字要求带_img，mask图片要求名字_mask"
   ]
  },
  {
   "cell_type": "code",
   "execution_count": 5,
   "id": "b7b233ba-eb0d-45da-b0b4-9ce3d82703d4",
   "metadata": {
    "scrolled": true,
    "tags": []
   },
   "outputs": [
    {
     "name": "stdout",
     "output_type": "stream",
     "text": [
      "['D01872F5-x11219_y8279_w256_h256-img.tif', 'B01012A5-x13330_y11706_w256_h256-img.tif', 'SS200000135TL_D1_55_47-img.tif', 'SS200000135TL_D1-x7146_y17809_w256_h256-img.tif', 'C01340A4-x16883_y15277_w256_h256-img.tif', 'SS200000135TL_D1_40_48-img.tif', 'SS200000135TL_D1_34_42-img.tif', 'SS200000135TL_D1_70_26-img.tif', 'SS200000156TR_B5-x19127_y14258_w256_h256-img.tif', 'A01198E4-x15343_y11785_w256_h256-img.tif', 'A01198E4-x18158_y14666_w256_h256-img.tif', 'C01340A4-x22943_y14505_w256_h256-img.tif', 'SS200000759BR_F5-x12235_y9213_w256_h256-img.tif', 'SS200000156TR_B5-x19383_y14514_w256_h256-img.tif', 'SS200000544TR_D2-x8065_y12916_w256_h256-img.tif', 'SS200000135TL_D1_60_44-img.tif', 'A01896A2-x6997_y5678_w256_h256-img.tif', 'SS200000835BL_D5-x17613_y14165_w256_h256-img.tif', 'SS200000755BR_F4-x10202_y15571_w256_h256-img.tif', 'SS200001073BR_B1-x6917_y21843_w256_h256-img.tif', 'SS200000135TL_D1_40_47-img.tif', 'SS200001073BR_B1-x6917_y21587_w256_h256-img.tif', 'SS200000135TL_D1_70_30-img.tif', 'C01331D1-x9776_y11661_w256_h256-img.tif', 'SS200000135TL_D1_60_40-img.tif', 'SS200000135TL_D1_29_29-img.tif', 'SS200000135TL_D1_32_35-img.tif', 'SS200000135TL_D1_64_39-img.tif', 'SS200000761BR_E1-x14638_y13434_w256_h256-img.tif', 'SS200000135TL_D1_64_40-img.tif', 'SS200000135TL_D1_29_28-img.tif', 'SS200000135TL_D1_70_32-img.tif', 'B01012A5-x13586_y11706_w256_h256-img.tif', 'SS200000548TR_E3-x13228_y4351_w256_h256-img.tif', 'SS200000544TR_D2-x8321_y12660_w256_h256-img.tif', 'B01613F3-x18342_y15188_w256_h256-img.tif', 'SS200000544TR_D2-x8321_y12916_w256_h256-img.tif', 'SS200000135TL_D1-x6488_y9041_w256_h256-img.tif', 'SS200000730BL_C1-x15353_y3153_w256_h256-img.tif', 'SS200000135TL_D1_29_32-img.tif', 'SS200000730BL_C1-x4592_y11545_w256_h256-img.tif', 'SS200000135TL_D1_65_35-img.tif', 'SS200000135TL_D1_49_49-img.tif', 'SS200000135TL_D1_61_25-img.tif', 'A01198E4-x9768_y15352_w256_h256-img.tif', 'SS200000135TL_D1_66_34-img.tif', 'SS200000135TL_D1_31_26-img.tif', 'SS200000730BL_C1-x5197_y13749_w256_h256-img.tif', 'SS200000135TL_D1_60_41-img.tif', 'D01872F5-x10963_y8023_w256_h256-img.tif', 'SS200000910TR_F1-x14385_y9512_w256_h256-img.tif', 'C01331D1-x10032_y11405_w256_h256-img.tif', 'SS200000135TL_D1_64_38-img.tif', 'SS200000135TL_D1_64_34-img.tif', 'SS200000135TL_D1_26_31-img.tif', 'SS200000135TL_D1_55_46-img.tif', 'SS200000535TR_E5-x11983_y2259_w256_h256-img.tif', 'SS200000135TL_D1_49_48-img.tif', 'C01331D1-x10151_y9432_w256_h256-img.tif', 'SS200000548TR_E3-x13228_y4095_w256_h256-img.tif', 'SS200000730BL_C1-x15097_y3153_w256_h256-img.tif', 'SS200000135TL_D1_66_31-img.tif', 'SS200000135TL_D1_31_34-img.tif', 'SS200000376BR_C4-x15586_y7574_w256_h256-img.tif', 'SS200000135TL_D1_31_33-img.tif', 'SS200000123TL_E1-x8331_y16231_w256_h256-img.tif', 'B01613F4-x8606_y5352_w256_h256-img.tif', 'A01198E4-x9905_y13636_w256_h256-img.tif', 'SS200000535TR_E5-x9860_y3808_w256_h256-img.tif', 'SS200000135TL_D1_35_25-img.tif', 'SS200000135TL_D1_70_31-img.tif', 'SS200000135TL_D1_64_35-img.tif', 'A01198E4-x18414_y14410_w256_h256-img.tif', 'D01567E6-x13079_y14483_w256_h256-img.tif', 'SS200000135TL_D1_46_49-img.tif', 'C01331D1-x10546_y10637_w256_h256-img.tif', 'C01331D1-x10546_y10381_w256_h256-img.tif', 'A01896A2-x7253_y5678_w256_h256-img.tif', 'SS200000758BR_F4-x13606_y5499_w256_h256-img.tif', 'SS200000135TL_D1_31_29-img.tif', 'D01567E6-x11118_y8080_w256_h256-img.tif', 'SS200000761BR_E1-x14638_y13178_w256_h256-img.tif', 'SS200000135TL_D1_66_32-img.tif', 'C01340A4-x22687_y14505_w256_h256-img.tif', 'SS200000535TR_E5-x9860_y3552_w256_h256-img.tif', 'B01012A5-x13586_y11962_w256_h256-img.tif', 'SS200000135TL_D1_62_36-img.tif', 'SS200000730BL_C1-x4336_y11545_w256_h256-img.tif', 'B01613F4-x8606_y5096_w256_h256-img.tif', 'SS200000135TL_D1_39_17-img.tif', 'SS200000910TR_F1-x14641_y9256_w256_h256-img.tif', 'A01198E4-x15409_y14146_w256_h256-img.tif', 'D01567E6-x10862_y7824_w256_h256-img.tif', 'B01613F4-x8350_y5352_w256_h256-img.tif', 'A01894D4-x4370_y12237_w256_h256-img.tif', 'B01613F3-x16643_y14478_w256_h256-img.tif', 'SS200000135TL_D1_27_27-img.tif', 'B01012A5-x19476_y6028_w256_h256-img.tif', 'D01872F5-x11219_y8023_w256_h256-img.tif', 'C01340A4-x22943_y14761_w256_h256-img.tif', 'SS200000730BL_C1-x4592_y11801_w256_h256-img.tif', 'SS200000123TL_E1-x8331_y16487_w256_h256-img.tif', 'SS200000135TL_D1_29_27-img.tif', 'SS200000135TL_D1_63_40-img.tif', 'B01602E1-x14530_y7934_w256_h256-img.tif', 'SS200000135TL_D1_63_35-img.tif', 'SS200000730BL_C1-x5197_y13493_w256_h256-img.tif', 'SS200000835BL_D5-x15272_y15748_w256_h256-img.tif', 'SS200000135TL_D1_62_42-img.tif', 'SS200000135TL_D1_40_46-img.tif', 'A01894D4-x4114_y12493_w256_h256-img.tif', 'B01613F4-x8350_y5096_w256_h256-img.tif', 'SS200000135TL_D1_66_33-img.tif', 'B01613F4-x9326_y11417_w256_h256-img.tif', 'A01198E4-x15343_y12041_w256_h256-img.tif', 'A01896A2-x7253_y5934_w256_h256-img.tif', 'SS200001073BR_B1-x7173_y21587_w256_h256-img.tif', 'C01340A4-x17139_y15277_w256_h256-img.tif', 'SS200000135TL_D1_64_41-img.tif', 'SS200000910TR_F1-x14641_y9512_w256_h256-img.tif', 'D01567E6-x12823_y14483_w256_h256-img.tif', 'SS200000135TL_D1_65_32-img.tif', 'SS200000135TL_D1_64_33-img.tif', 'SS200000135TL_D1_49_45-img.tif', 'SS200000835BL_D5-x17869_y13909_w256_h256-img.tif', 'A01896A2-x6997_y5934_w256_h256-img.tif', 'B01012A5-x19732_y6028_w256_h256-img.tif', 'C01331D1-x10151_y9176_w256_h256-img.tif', 'B01012A5-x13330_y11962_w256_h256-img.tif', 'SS200000135TL_D1_29_31-img.tif', 'SS200000835BL_D5-x17869_y14165_w256_h256-img.tif', 'C01528B6-x9913_y10483_w256_h256-img.tif', 'SS200000135TL_D1_60_43-img.tif', 'SS200000135TL_D1_70_28-img.tif', 'SS200000135TL_D1-x7146_y18065_w256_h256-img.tif', 'SS200000135TL_D1_70_27-img.tif', 'SS200000376BR_C4-x15842_y7830_w256_h256-img.tif', 'SS200000135TL_D1_61_27-img.tif', 'SS200000135TL_D1_58_40-img.tif', 'SS200000135TL_D1_31_36-img.tif', 'D01567E6-x12823_y14227_w256_h256-img.tif', 'B01602E1-x14530_y7678_w256_h256-img.tif', 'SS200000376BR_C4-x15586_y7830_w256_h256-img.tif', 'SS200000835BL_D5-x15016_y15492_w256_h256-img.tif', 'SS200000135TL_D1_62_40-img.tif', 'A01896A2-x8607_y6463_w256_h256-img.tif', 'SS200000755BR_F4-x10458_y15571_w256_h256-img.tif', 'SS200000758BR_F4-x13606_y5243_w256_h256-img.tif', 'B01613F4-x9070_y11673_w256_h256-img.tif', 'B01602E1-x14786_y7678_w256_h256-img.tif', 'SS200000755BR_F4-x10458_y15315_w256_h256-img.tif', 'SS200000135TL_D1_31_32-img.tif', 'SS200000759BR_F5-x12491_y8957_w256_h256-img.tif', 'A01894D4-x4114_y12237_w256_h256-img.tif', 'D01872F5-x10963_y8279_w256_h256-img.tif', 'A01198E4-x15153_y13890_w256_h256-img.tif', 'A01198E4-x15409_y13890_w256_h256-img.tif', 'SS200000135TL_D1_62_43-img.tif', 'SS200000135TL_D1_49_47-img.tif', 'C01331D1-x9776_y11405_w256_h256-img.tif', 'SS200000135TL_D1_29_30-img.tif', 'C01331D1-x10032_y11661_w256_h256-img.tif', 'A01198E4-x18158_y14410_w256_h256-img.tif', 'C01528B6-x10169_y10483_w256_h256-img.tif', 'A01198E4-x9768_y15608_w256_h256-img.tif', 'B01613F3-x18342_y15444_w256_h256-img.tif', 'C01331D1-x10802_y10381_w256_h256-img.tif', 'SS200000135TL_D1_31_28-img.tif', 'SS200000835BL_D5-x17613_y13909_w256_h256-img.tif', 'C01340A4-x17139_y15021_w256_h256-img.tif', 'SS200000135TL_D1_34_41-img.tif', 'B01613F3-x16643_y14734_w256_h256-img.tif', 'SS200000535TR_E5-x9604_y3552_w256_h256-img.tif', 'SS200000135TL_D1_71_26-img.tif', 'SS200000135TL_D1_63_37-img.tif', 'SS200000135TL_D1_65_34-img.tif', 'SS200000135TL_D1_72_30-img.tif', 'SS200000758BR_F4-x13862_y5499_w256_h256-img.tif', 'B01613F3-x18598_y15444_w256_h256-img.tif', 'SS200000135TL_D1_63_39-img.tif', 'B01012A5-x19476_y5772_w256_h256-img.tif', 'A01198E4-x10024_y15352_w256_h256-img.tif', 'SS200000835BL_D5-x15016_y15748_w256_h256-img.tif', 'SS200000156TR_B5-x19127_y14514_w256_h256-img.tif', 'A01198E4-x15087_y12041_w256_h256-img.tif', 'SS200000135TL_D1_27_28-img.tif', 'SS200000135TL_D1_56_47-img.tif', 'SS200000535TR_E5-x11983_y2515_w256_h256-img.tif', 'SS200000135TL_D1-x6890_y17809_w256_h256-img.tif', 'SS200000135TL_D1_31_30-img.tif', 'SS200000135TL_D1_31_35-img.tif', 'SS200000135TL_D1_63_38-img.tif', 'A01198E4-x9905_y13892_w256_h256-img.tif', 'SS200000135TL_D1_26_32-img.tif', 'A01198E4-x15153_y14146_w256_h256-img.tif', 'SS200000135TL_D1_70_29-img.tif', 'B01613F4-x9326_y11673_w256_h256-img.tif', 'SS200000376BR_C4-x15842_y7574_w256_h256-img.tif', 'SS200000135TL_D1_71_31-img.tif', 'D01567E6-x11118_y7824_w256_h256-img.tif', 'A01896A2-x8351_y6463_w256_h256-img.tif', 'B01613F3-x18598_y15188_w256_h256-img.tif', 'SS200000135TL_D1_60_39-img.tif', 'A01896A2-x8607_y6719_w256_h256-img.tif', 'SS200000135TL_D1_57_45-img.tif', 'B01012A5-x19732_y5772_w256_h256-img.tif', 'SS200000135TL_D1_65_33-img.tif', 'SS200000135TL_D1_49_46-img.tif', 'SS200001073BR_B1-x7173_y21843_w256_h256-img.tif', 'A01198E4-x10024_y15608_w256_h256-img.tif', 'A01198E4-x18414_y14666_w256_h256-img.tif', 'A01198E4-x15087_y11785_w256_h256-img.tif', 'SS200000755BR_F4-x10202_y15315_w256_h256-img.tif', 'SS200000135TL_D1_72_27-img.tif', 'SS200000135TL_D1_63_41-img.tif', 'C01331D1-x10407_y9432_w256_h256-img.tif', 'C01340A4-x22687_y14761_w256_h256-img.tif', 'SS200000135TL_D1_60_45-img.tif', 'SS200000135TL_D1_38_48-img.tif', 'B01602E1-x14786_y7934_w256_h256-img.tif', 'SS200000759BR_F5-x12235_y8957_w256_h256-img.tif', 'SS200000910TR_F1-x14385_y9256_w256_h256-img.tif', 'A01198E4-x9649_y13636_w256_h256-img.tif', 'A01894D4-x4370_y12493_w256_h256-img.tif', 'SS200000135TL_D1_26_30-img.tif', 'D01567E6-x10862_y8080_w256_h256-img.tif', 'SS200000135TL_D1_57_29-img.tif', 'SS200000135TL_D1_61_26-img.tif', 'SS200000135TL_D1_64_37-img.tif', 'C01528B6-x9913_y10227_w256_h256-img.tif', 'SS200000730BL_C1-x15353_y2897_w256_h256-img.tif', 'C01340A4-x16883_y15021_w256_h256-img.tif', 'SS200000135TL_D1_65_37-img.tif', 'SS200000135TL_D1-x6488_y8785_w256_h256-img.tif', 'SS200000730BL_C1-x4941_y13493_w256_h256-img.tif', 'SS200000135TL_D1_58_44-img.tif', 'SS200000135TL_D1_62_41-img.tif', 'SS200000535TR_E5-x9604_y3808_w256_h256-img.tif', 'SS200000123TL_E1-x8075_y16231_w256_h256-img.tif', 'B01613F3-x16387_y14478_w256_h256-img.tif', 'SS200000835BL_D5-x15272_y15492_w256_h256-img.tif', 'SS200000135TL_D1_56_46-img.tif', 'SS200000135TL_D1_60_42-img.tif', 'C01528B6-x10169_y10227_w256_h256-img.tif', 'SS200000135TL_D1-x6890_y18065_w256_h256-img.tif', 'SS200000758BR_F4-x13862_y5243_w256_h256-img.tif', 'SS200000761BR_E1-x14382_y13434_w256_h256-img.tif', 'SS200000135TL_D1_64_36-img.tif', 'C01331D1-x10407_y9176_w256_h256-img.tif', 'SS200000730BL_C1-x15097_y2897_w256_h256-img.tif', 'SS200000135TL_D1_58_41-img.tif', 'B01613F3-x16387_y14734_w256_h256-img.tif', 'SS200000544TR_D2-x8065_y12660_w256_h256-img.tif', 'SS200000135TL_D1_70_33-img.tif', 'SS200000135TL_D1-x6744_y9041_w256_h256-img.tif', 'SS200000135TL_D1_40_50-img.tif', 'SS200000135TL_D1_63_36-img.tif', 'C01331D1-x10802_y10637_w256_h256-img.tif', 'SS200000123TL_E1-x8075_y16487_w256_h256-img.tif', 'A01198E4-x9649_y13892_w256_h256-img.tif', 'D01567E6-x13079_y14227_w256_h256-img.tif', 'SS200000135TL_D1_71_28-img.tif', 'SS200000759BR_F5-x12491_y9213_w256_h256-img.tif', 'SS200000730BL_C1-x4941_y13749_w256_h256-img.tif', 'A01896A2-x8351_y6719_w256_h256-img.tif', 'SS200000156TR_B5-x19383_y14258_w256_h256-img.tif', 'B01613F4-x9070_y11417_w256_h256-img.tif', 'SS200000135TL_D1_57_46-img.tif', 'SS200000548TR_E3-x13484_y4351_w256_h256-img.tif', 'SS200000135TL_D1_63_42-img.tif', 'SS200000730BL_C1-x4336_y11801_w256_h256-img.tif', 'SS200000761BR_E1-x14382_y13178_w256_h256-img.tif', 'SS200000548TR_E3-x13484_y4095_w256_h256-img.tif', 'SS200000535TR_E5-x12239_y2515_w256_h256-img.tif', 'SS200000135TL_D1-x6744_y8785_w256_h256-img.tif', 'SS200000535TR_E5-x12239_y2259_w256_h256-img.tif']\n",
      "/storeData/USER/data/01.CellBin/00.user/fanjinghong/code/benchmark2\n",
      "/storeData/USER/data/01.CellBin/00.user/fanjinghong/home/anaconda3/envs/cellpose/bin/python /storeData/USER/data/01.CellBin/00.user/fanjinghong/code/benchmark2/src/methods/cellpose/icellpose.py -i /storeData/USER/data/01.CellBin/00.user/fanjinghong/code/benchmark2/input/ssDNA/gaussian_blur_input_3 -o /storeData/USER/data/01.CellBin/00.user/fanjinghong/code/benchmark2/input/ssDNA/gaussian_blur_output_3/cellpose -g True -t ss\n"
     ]
    },
    {
     "name": "stderr",
     "output_type": "stream",
     "text": [
      "Cellpose: 100%|██████████| 276/276 [01:03<00:00,  4.34it/s]\n"
     ]
    },
    {
     "name": "stdout",
     "output_type": "stream",
     "text": [
      "cellpose ran for a total of 186.14484524726868 s\n",
      "cellpose result saved to /storeData/USER/data/01.CellBin/00.user/fanjinghong/code/benchmark2/input/ssDNA/gaussian_blur_output_3/cellpose\n",
      "/storeData/USER/data/01.CellBin/00.user/fanjinghong/home/anaconda3/envs/cellpose3/bin/python /storeData/USER/data/01.CellBin/00.user/fanjinghong/code/benchmark2/src/methods/cellpose3/icellpose3.py -i /storeData/USER/data/01.CellBin/00.user/fanjinghong/code/benchmark2/input/ssDNA/gaussian_blur_input_3 -o /storeData/USER/data/01.CellBin/00.user/fanjinghong/code/benchmark2/input/ssDNA/gaussian_blur_output_3/cellpose3 -g True -t ss\n"
     ]
    },
    {
     "name": "stderr",
     "output_type": "stream",
     "text": [
      "Cellpose3: 100%|██████████| 276/276 [01:13<00:00,  3.78it/s]\n"
     ]
    },
    {
     "name": "stdout",
     "output_type": "stream",
     "text": [
      "cellpose3 ran for a total of 168.79770970344543 s\n",
      "cellpose3 result saved to /storeData/USER/data/01.CellBin/00.user/fanjinghong/code/benchmark2/input/ssDNA/gaussian_blur_output_3/cellpose3\n",
      "/storeData/USER/data/01.CellBin/00.user/fanjinghong/home/anaconda3/envs/MEDIAR/bin/python /storeData/USER/data/01.CellBin/00.user/fanjinghong/code/benchmark2/src/methods/MEDIAR/MEDIAR/iMEDIAR.py -i /storeData/USER/data/01.CellBin/00.user/fanjinghong/code/benchmark2/input/ssDNA/gaussian_blur_input_3 -o /storeData/USER/data/01.CellBin/00.user/fanjinghong/code/benchmark2/input/ssDNA/gaussian_blur_output_3/MEDIAR -g True -t ss\n",
      "Prediction finished: A01198E4-x10024_y15352_w256_h256-img.tif; img size = torch.Size([1, 3, 256, 256]); costing: 7.53s\n",
      "Prediction finished: A01198E4-x10024_y15608_w256_h256-img.tif; img size = torch.Size([1, 3, 256, 256]); costing: 0.44s\n",
      "Prediction finished: A01198E4-x15087_y11785_w256_h256-img.tif; img size = torch.Size([1, 3, 256, 256]); costing: 0.45s\n",
      "Prediction finished: A01198E4-x15087_y12041_w256_h256-img.tif; img size = torch.Size([1, 3, 256, 256]); costing: 0.43s\n",
      "Prediction finished: A01198E4-x15153_y13890_w256_h256-img.tif; img size = torch.Size([1, 3, 256, 256]); costing: 0.44s\n",
      "Prediction finished: A01198E4-x15153_y14146_w256_h256-img.tif; img size = torch.Size([1, 3, 256, 256]); costing: 0.44s\n",
      "Prediction finished: A01198E4-x15343_y11785_w256_h256-img.tif; img size = torch.Size([1, 3, 256, 256]); costing: 0.44s\n",
      "Prediction finished: A01198E4-x15343_y12041_w256_h256-img.tif; img size = torch.Size([1, 3, 256, 256]); costing: 0.45s\n",
      "Prediction finished: A01198E4-x15409_y13890_w256_h256-img.tif; img size = torch.Size([1, 3, 256, 256]); costing: 0.44s\n",
      "Prediction finished: A01198E4-x15409_y14146_w256_h256-img.tif; img size = torch.Size([1, 3, 256, 256]); costing: 0.43s\n",
      "Prediction finished: A01198E4-x18158_y14410_w256_h256-img.tif; img size = torch.Size([1, 3, 256, 256]); costing: 0.45s\n",
      "Prediction finished: A01198E4-x18158_y14666_w256_h256-img.tif; img size = torch.Size([1, 3, 256, 256]); costing: 0.45s\n",
      "Prediction finished: A01198E4-x18414_y14410_w256_h256-img.tif; img size = torch.Size([1, 3, 256, 256]); costing: 0.45s\n",
      "Prediction finished: A01198E4-x18414_y14666_w256_h256-img.tif; img size = torch.Size([1, 3, 256, 256]); costing: 0.44s\n",
      "Prediction finished: A01198E4-x9649_y13636_w256_h256-img.tif; img size = torch.Size([1, 3, 256, 256]); costing: 0.46s\n",
      "Prediction finished: A01198E4-x9649_y13892_w256_h256-img.tif; img size = torch.Size([1, 3, 256, 256]); costing: 0.44s\n",
      "Prediction finished: A01198E4-x9768_y15352_w256_h256-img.tif; img size = torch.Size([1, 3, 256, 256]); costing: 0.45s\n",
      "Prediction finished: A01198E4-x9768_y15608_w256_h256-img.tif; img size = torch.Size([1, 3, 256, 256]); costing: 0.43s\n",
      "Prediction finished: A01198E4-x9905_y13636_w256_h256-img.tif; img size = torch.Size([1, 3, 256, 256]); costing: 0.44s\n",
      "Prediction finished: A01198E4-x9905_y13892_w256_h256-img.tif; img size = torch.Size([1, 3, 256, 256]); costing: 0.45s\n",
      "Prediction finished: A01894D4-x4114_y12237_w256_h256-img.tif; img size = torch.Size([1, 3, 256, 256]); costing: 0.45s\n",
      "Prediction finished: A01894D4-x4114_y12493_w256_h256-img.tif; img size = torch.Size([1, 3, 256, 256]); costing: 0.44s\n",
      "Prediction finished: A01894D4-x4370_y12237_w256_h256-img.tif; img size = torch.Size([1, 3, 256, 256]); costing: 0.44s\n",
      "Prediction finished: A01894D4-x4370_y12493_w256_h256-img.tif; img size = torch.Size([1, 3, 256, 256]); costing: 0.44s\n",
      "Prediction finished: A01896A2-x6997_y5678_w256_h256-img.tif; img size = torch.Size([1, 3, 256, 256]); costing: 0.45s\n",
      "Prediction finished: A01896A2-x6997_y5934_w256_h256-img.tif; img size = torch.Size([1, 3, 256, 256]); costing: 0.48s\n",
      "Prediction finished: A01896A2-x7253_y5678_w256_h256-img.tif; img size = torch.Size([1, 3, 256, 256]); costing: 0.45s\n",
      "Prediction finished: A01896A2-x7253_y5934_w256_h256-img.tif; img size = torch.Size([1, 3, 256, 256]); costing: 0.46s\n",
      "Prediction finished: A01896A2-x8351_y6463_w256_h256-img.tif; img size = torch.Size([1, 3, 256, 256]); costing: 0.45s\n",
      "Prediction finished: A01896A2-x8351_y6719_w256_h256-img.tif; img size = torch.Size([1, 3, 256, 256]); costing: 0.43s\n",
      "Prediction finished: A01896A2-x8607_y6463_w256_h256-img.tif; img size = torch.Size([1, 3, 256, 256]); costing: 0.87s\n",
      "Prediction finished: A01896A2-x8607_y6719_w256_h256-img.tif; img size = torch.Size([1, 3, 256, 256]); costing: 0.44s\n",
      "Prediction finished: B01012A5-x13330_y11706_w256_h256-img.tif; img size = torch.Size([1, 3, 256, 256]); costing: 0.44s\n",
      "Prediction finished: B01012A5-x13330_y11962_w256_h256-img.tif; img size = torch.Size([1, 3, 256, 256]); costing: 0.43s\n",
      "Prediction finished: B01012A5-x13586_y11706_w256_h256-img.tif; img size = torch.Size([1, 3, 256, 256]); costing: 0.38s\n",
      "Prediction finished: B01012A5-x13586_y11962_w256_h256-img.tif; img size = torch.Size([1, 3, 256, 256]); costing: 0.44s\n",
      "Prediction finished: B01012A5-x19476_y5772_w256_h256-img.tif; img size = torch.Size([1, 3, 256, 256]); costing: 0.44s\n",
      "Prediction finished: B01012A5-x19476_y6028_w256_h256-img.tif; img size = torch.Size([1, 3, 256, 256]); costing: 0.46s\n",
      "Prediction finished: B01012A5-x19732_y5772_w256_h256-img.tif; img size = torch.Size([1, 3, 256, 256]); costing: 0.46s\n",
      "Prediction finished: B01012A5-x19732_y6028_w256_h256-img.tif; img size = torch.Size([1, 3, 256, 256]); costing: 0.46s\n",
      "Prediction finished: B01602E1-x14530_y7678_w256_h256-img.tif; img size = torch.Size([1, 3, 256, 256]); costing: 0.45s\n",
      "Prediction finished: B01602E1-x14530_y7934_w256_h256-img.tif; img size = torch.Size([1, 3, 256, 256]); costing: 0.44s\n",
      "Prediction finished: B01602E1-x14786_y7678_w256_h256-img.tif; img size = torch.Size([1, 3, 256, 256]); costing: 0.44s\n",
      "Prediction finished: B01602E1-x14786_y7934_w256_h256-img.tif; img size = torch.Size([1, 3, 256, 256]); costing: 0.45s\n",
      "Prediction finished: B01613F3-x16387_y14478_w256_h256-img.tif; img size = torch.Size([1, 3, 256, 256]); costing: 0.43s\n",
      "Prediction finished: B01613F3-x16387_y14734_w256_h256-img.tif; img size = torch.Size([1, 3, 256, 256]); costing: 0.43s\n",
      "Prediction finished: B01613F3-x16643_y14478_w256_h256-img.tif; img size = torch.Size([1, 3, 256, 256]); costing: 0.46s\n",
      "Prediction finished: B01613F3-x16643_y14734_w256_h256-img.tif; img size = torch.Size([1, 3, 256, 256]); costing: 0.46s\n",
      "Prediction finished: B01613F3-x18342_y15188_w256_h256-img.tif; img size = torch.Size([1, 3, 256, 256]); costing: 0.44s\n",
      "Prediction finished: B01613F3-x18342_y15444_w256_h256-img.tif; img size = torch.Size([1, 3, 256, 256]); costing: 0.44s\n",
      "Prediction finished: B01613F3-x18598_y15188_w256_h256-img.tif; img size = torch.Size([1, 3, 256, 256]); costing: 0.43s\n",
      "Prediction finished: B01613F3-x18598_y15444_w256_h256-img.tif; img size = torch.Size([1, 3, 256, 256]); costing: 0.44s\n",
      "Prediction finished: B01613F4-x8350_y5096_w256_h256-img.tif; img size = torch.Size([1, 3, 256, 256]); costing: 0.44s\n",
      "Prediction finished: B01613F4-x8350_y5352_w256_h256-img.tif; img size = torch.Size([1, 3, 256, 256]); costing: 0.44s\n",
      "Prediction finished: B01613F4-x8606_y5096_w256_h256-img.tif; img size = torch.Size([1, 3, 256, 256]); costing: 0.44s\n",
      "Prediction finished: B01613F4-x8606_y5352_w256_h256-img.tif; img size = torch.Size([1, 3, 256, 256]); costing: 0.43s\n",
      "Prediction finished: B01613F4-x9070_y11417_w256_h256-img.tif; img size = torch.Size([1, 3, 256, 256]); costing: 0.44s\n",
      "Prediction finished: B01613F4-x9070_y11673_w256_h256-img.tif; img size = torch.Size([1, 3, 256, 256]); costing: 0.46s\n",
      "Prediction finished: B01613F4-x9326_y11417_w256_h256-img.tif; img size = torch.Size([1, 3, 256, 256]); costing: 0.44s\n",
      "Prediction finished: B01613F4-x9326_y11673_w256_h256-img.tif; img size = torch.Size([1, 3, 256, 256]); costing: 0.46s\n",
      "Prediction finished: C01331D1-x10032_y11405_w256_h256-img.tif; img size = torch.Size([1, 3, 256, 256]); costing: 0.46s\n",
      "Prediction finished: C01331D1-x10032_y11661_w256_h256-img.tif; img size = torch.Size([1, 3, 256, 256]); costing: 0.47s\n",
      "Prediction finished: C01331D1-x10151_y9176_w256_h256-img.tif; img size = torch.Size([1, 3, 256, 256]); costing: 0.46s\n",
      "Prediction finished: C01331D1-x10151_y9432_w256_h256-img.tif; img size = torch.Size([1, 3, 256, 256]); costing: 0.48s\n",
      "Prediction finished: C01331D1-x10407_y9176_w256_h256-img.tif; img size = torch.Size([1, 3, 256, 256]); costing: 0.46s\n",
      "Prediction finished: C01331D1-x10407_y9432_w256_h256-img.tif; img size = torch.Size([1, 3, 256, 256]); costing: 0.46s\n",
      "Prediction finished: C01331D1-x10546_y10381_w256_h256-img.tif; img size = torch.Size([1, 3, 256, 256]); costing: 0.48s\n",
      "Prediction finished: C01331D1-x10546_y10637_w256_h256-img.tif; img size = torch.Size([1, 3, 256, 256]); costing: 0.48s\n",
      "Prediction finished: C01331D1-x10802_y10381_w256_h256-img.tif; img size = torch.Size([1, 3, 256, 256]); costing: 0.48s\n",
      "Prediction finished: C01331D1-x10802_y10637_w256_h256-img.tif; img size = torch.Size([1, 3, 256, 256]); costing: 0.50s\n",
      "Prediction finished: C01331D1-x9776_y11405_w256_h256-img.tif; img size = torch.Size([1, 3, 256, 256]); costing: 0.46s\n",
      "Prediction finished: C01331D1-x9776_y11661_w256_h256-img.tif; img size = torch.Size([1, 3, 256, 256]); costing: 0.46s\n",
      "Prediction finished: C01340A4-x16883_y15021_w256_h256-img.tif; img size = torch.Size([1, 3, 256, 256]); costing: 0.44s\n",
      "Prediction finished: C01340A4-x16883_y15277_w256_h256-img.tif; img size = torch.Size([1, 3, 256, 256]); costing: 0.45s\n",
      "Prediction finished: C01340A4-x17139_y15021_w256_h256-img.tif; img size = torch.Size([1, 3, 256, 256]); costing: 0.45s\n",
      "Prediction finished: C01340A4-x17139_y15277_w256_h256-img.tif; img size = torch.Size([1, 3, 256, 256]); costing: 0.45s\n",
      "Prediction finished: C01340A4-x22687_y14505_w256_h256-img.tif; img size = torch.Size([1, 3, 256, 256]); costing: 0.45s\n",
      "Prediction finished: C01340A4-x22687_y14761_w256_h256-img.tif; img size = torch.Size([1, 3, 256, 256]); costing: 0.45s\n",
      "Prediction finished: C01340A4-x22943_y14505_w256_h256-img.tif; img size = torch.Size([1, 3, 256, 256]); costing: 0.46s\n",
      "Prediction finished: C01340A4-x22943_y14761_w256_h256-img.tif; img size = torch.Size([1, 3, 256, 256]); costing: 0.45s\n",
      "Prediction finished: C01528B6-x10169_y10227_w256_h256-img.tif; img size = torch.Size([1, 3, 256, 256]); costing: 0.44s\n",
      "Prediction finished: C01528B6-x10169_y10483_w256_h256-img.tif; img size = torch.Size([1, 3, 256, 256]); costing: 0.44s\n",
      "Prediction finished: C01528B6-x9913_y10227_w256_h256-img.tif; img size = torch.Size([1, 3, 256, 256]); costing: 0.44s\n",
      "Prediction finished: C01528B6-x9913_y10483_w256_h256-img.tif; img size = torch.Size([1, 3, 256, 256]); costing: 0.45s\n",
      "Prediction finished: D01567E6-x10862_y7824_w256_h256-img.tif; img size = torch.Size([1, 3, 256, 256]); costing: 0.45s\n",
      "Prediction finished: D01567E6-x10862_y8080_w256_h256-img.tif; img size = torch.Size([1, 3, 256, 256]); costing: 0.44s\n",
      "Prediction finished: D01567E6-x11118_y7824_w256_h256-img.tif; img size = torch.Size([1, 3, 256, 256]); costing: 0.45s\n",
      "Prediction finished: D01567E6-x11118_y8080_w256_h256-img.tif; img size = torch.Size([1, 3, 256, 256]); costing: 0.44s\n",
      "Prediction finished: D01567E6-x12823_y14227_w256_h256-img.tif; img size = torch.Size([1, 3, 256, 256]); costing: 0.46s\n",
      "Prediction finished: D01567E6-x12823_y14483_w256_h256-img.tif; img size = torch.Size([1, 3, 256, 256]); costing: 0.46s\n",
      "Prediction finished: D01567E6-x13079_y14227_w256_h256-img.tif; img size = torch.Size([1, 3, 256, 256]); costing: 0.46s\n",
      "Prediction finished: D01567E6-x13079_y14483_w256_h256-img.tif; img size = torch.Size([1, 3, 256, 256]); costing: 0.47s\n",
      "Prediction finished: D01872F5-x10963_y8023_w256_h256-img.tif; img size = torch.Size([1, 3, 256, 256]); costing: 0.46s\n",
      "Prediction finished: D01872F5-x10963_y8279_w256_h256-img.tif; img size = torch.Size([1, 3, 256, 256]); costing: 0.46s\n",
      "Prediction finished: D01872F5-x11219_y8023_w256_h256-img.tif; img size = torch.Size([1, 3, 256, 256]); costing: 0.48s\n",
      "Prediction finished: D01872F5-x11219_y8279_w256_h256-img.tif; img size = torch.Size([1, 3, 256, 256]); costing: 0.48s\n",
      "Prediction finished: SS200000123TL_E1-x8075_y16231_w256_h256-img.tif; img size = torch.Size([1, 3, 256, 256]); costing: 0.45s\n",
      "Prediction finished: SS200000123TL_E1-x8075_y16487_w256_h256-img.tif; img size = torch.Size([1, 3, 256, 256]); costing: 0.45s\n",
      "Prediction finished: SS200000123TL_E1-x8331_y16231_w256_h256-img.tif; img size = torch.Size([1, 3, 256, 256]); costing: 0.46s\n",
      "Prediction finished: SS200000123TL_E1-x8331_y16487_w256_h256-img.tif; img size = torch.Size([1, 3, 256, 256]); costing: 0.46s\n",
      "Prediction finished: SS200000135TL_D1-x6488_y8785_w256_h256-img.tif; img size = torch.Size([1, 3, 256, 256]); costing: 0.46s\n",
      "Prediction finished: SS200000135TL_D1-x6488_y9041_w256_h256-img.tif; img size = torch.Size([1, 3, 256, 256]); costing: 0.45s\n",
      "Prediction finished: SS200000135TL_D1-x6744_y8785_w256_h256-img.tif; img size = torch.Size([1, 3, 256, 256]); costing: 0.46s\n",
      "Prediction finished: SS200000135TL_D1-x6744_y9041_w256_h256-img.tif; img size = torch.Size([1, 3, 256, 256]); costing: 0.45s\n",
      "Prediction finished: SS200000135TL_D1-x6890_y17809_w256_h256-img.tif; img size = torch.Size([1, 3, 256, 256]); costing: 0.45s\n",
      "Prediction finished: SS200000135TL_D1-x6890_y18065_w256_h256-img.tif; img size = torch.Size([1, 3, 256, 256]); costing: 0.45s\n",
      "Prediction finished: SS200000135TL_D1-x7146_y17809_w256_h256-img.tif; img size = torch.Size([1, 3, 256, 256]); costing: 0.45s\n",
      "Prediction finished: SS200000135TL_D1-x7146_y18065_w256_h256-img.tif; img size = torch.Size([1, 3, 256, 256]); costing: 0.45s\n",
      "Prediction finished: SS200000135TL_D1_26_30-img.tif; img size = torch.Size([1, 3, 256, 256]); costing: 0.46s\n",
      "Prediction finished: SS200000135TL_D1_26_31-img.tif; img size = torch.Size([1, 3, 256, 256]); costing: 0.45s\n",
      "Prediction finished: SS200000135TL_D1_26_32-img.tif; img size = torch.Size([1, 3, 256, 256]); costing: 0.45s\n",
      "Prediction finished: SS200000135TL_D1_27_27-img.tif; img size = torch.Size([1, 3, 256, 256]); costing: 0.45s\n",
      "Prediction finished: SS200000135TL_D1_27_28-img.tif; img size = torch.Size([1, 3, 256, 256]); costing: 0.45s\n",
      "Prediction finished: SS200000135TL_D1_29_27-img.tif; img size = torch.Size([1, 3, 256, 256]); costing: 0.45s\n",
      "Prediction finished: SS200000135TL_D1_29_28-img.tif; img size = torch.Size([1, 3, 256, 256]); costing: 0.45s\n",
      "Prediction finished: SS200000135TL_D1_29_29-img.tif; img size = torch.Size([1, 3, 256, 256]); costing: 0.45s\n",
      "Prediction finished: SS200000135TL_D1_29_30-img.tif; img size = torch.Size([1, 3, 256, 256]); costing: 0.45s\n",
      "Prediction finished: SS200000135TL_D1_29_31-img.tif; img size = torch.Size([1, 3, 256, 256]); costing: 0.45s\n",
      "Prediction finished: SS200000135TL_D1_29_32-img.tif; img size = torch.Size([1, 3, 256, 256]); costing: 0.45s\n",
      "Prediction finished: SS200000135TL_D1_31_26-img.tif; img size = torch.Size([1, 3, 256, 256]); costing: 0.46s\n",
      "Prediction finished: SS200000135TL_D1_31_28-img.tif; img size = torch.Size([1, 3, 256, 256]); costing: 0.46s\n",
      "Prediction finished: SS200000135TL_D1_31_29-img.tif; img size = torch.Size([1, 3, 256, 256]); costing: 0.45s\n",
      "Prediction finished: SS200000135TL_D1_31_30-img.tif; img size = torch.Size([1, 3, 256, 256]); costing: 0.45s\n",
      "Prediction finished: SS200000135TL_D1_31_32-img.tif; img size = torch.Size([1, 3, 256, 256]); costing: 0.46s\n",
      "Prediction finished: SS200000135TL_D1_31_33-img.tif; img size = torch.Size([1, 3, 256, 256]); costing: 0.45s\n",
      "Prediction finished: SS200000135TL_D1_31_34-img.tif; img size = torch.Size([1, 3, 256, 256]); costing: 0.45s\n",
      "Prediction finished: SS200000135TL_D1_31_35-img.tif; img size = torch.Size([1, 3, 256, 256]); costing: 0.46s\n",
      "Prediction finished: SS200000135TL_D1_31_36-img.tif; img size = torch.Size([1, 3, 256, 256]); costing: 0.46s\n",
      "Prediction finished: SS200000135TL_D1_32_35-img.tif; img size = torch.Size([1, 3, 256, 256]); costing: 0.45s\n",
      "Prediction finished: SS200000135TL_D1_34_41-img.tif; img size = torch.Size([1, 3, 256, 256]); costing: 0.46s\n",
      "Prediction finished: SS200000135TL_D1_34_42-img.tif; img size = torch.Size([1, 3, 256, 256]); costing: 0.46s\n",
      "Prediction finished: SS200000135TL_D1_35_25-img.tif; img size = torch.Size([1, 3, 256, 256]); costing: 0.46s\n",
      "Prediction finished: SS200000135TL_D1_38_48-img.tif; img size = torch.Size([1, 3, 256, 256]); costing: 0.45s\n",
      "Prediction finished: SS200000135TL_D1_39_17-img.tif; img size = torch.Size([1, 3, 256, 256]); costing: 0.45s\n",
      "Prediction finished: SS200000135TL_D1_40_46-img.tif; img size = torch.Size([1, 3, 256, 256]); costing: 0.45s\n",
      "Prediction finished: SS200000135TL_D1_40_47-img.tif; img size = torch.Size([1, 3, 256, 256]); costing: 0.45s\n",
      "Prediction finished: SS200000135TL_D1_40_48-img.tif; img size = torch.Size([1, 3, 256, 256]); costing: 0.46s\n",
      "Prediction finished: SS200000135TL_D1_40_50-img.tif; img size = torch.Size([1, 3, 256, 256]); costing: 0.47s\n",
      "Prediction finished: SS200000135TL_D1_46_49-img.tif; img size = torch.Size([1, 3, 256, 256]); costing: 0.46s\n",
      "Prediction finished: SS200000135TL_D1_49_45-img.tif; img size = torch.Size([1, 3, 256, 256]); costing: 0.46s\n",
      "Prediction finished: SS200000135TL_D1_49_46-img.tif; img size = torch.Size([1, 3, 256, 256]); costing: 0.45s\n",
      "Prediction finished: SS200000135TL_D1_49_47-img.tif; img size = torch.Size([1, 3, 256, 256]); costing: 0.45s\n",
      "Prediction finished: SS200000135TL_D1_49_48-img.tif; img size = torch.Size([1, 3, 256, 256]); costing: 0.46s\n",
      "Prediction finished: SS200000135TL_D1_49_49-img.tif; img size = torch.Size([1, 3, 256, 256]); costing: 0.45s\n",
      "Prediction finished: SS200000135TL_D1_55_46-img.tif; img size = torch.Size([1, 3, 256, 256]); costing: 0.46s\n",
      "Prediction finished: SS200000135TL_D1_55_47-img.tif; img size = torch.Size([1, 3, 256, 256]); costing: 0.46s\n",
      "Prediction finished: SS200000135TL_D1_56_46-img.tif; img size = torch.Size([1, 3, 256, 256]); costing: 0.46s\n",
      "Prediction finished: SS200000135TL_D1_56_47-img.tif; img size = torch.Size([1, 3, 256, 256]); costing: 0.46s\n",
      "Prediction finished: SS200000135TL_D1_57_29-img.tif; img size = torch.Size([1, 3, 256, 256]); costing: 0.45s\n",
      "Prediction finished: SS200000135TL_D1_57_45-img.tif; img size = torch.Size([1, 3, 256, 256]); costing: 0.46s\n",
      "Prediction finished: SS200000135TL_D1_57_46-img.tif; img size = torch.Size([1, 3, 256, 256]); costing: 0.45s\n",
      "Prediction finished: SS200000135TL_D1_58_40-img.tif; img size = torch.Size([1, 3, 256, 256]); costing: 0.46s\n",
      "Prediction finished: SS200000135TL_D1_58_41-img.tif; img size = torch.Size([1, 3, 256, 256]); costing: 0.46s\n",
      "Prediction finished: SS200000135TL_D1_58_44-img.tif; img size = torch.Size([1, 3, 256, 256]); costing: 0.46s\n",
      "Prediction finished: SS200000135TL_D1_60_39-img.tif; img size = torch.Size([1, 3, 256, 256]); costing: 0.46s\n",
      "Prediction finished: SS200000135TL_D1_60_40-img.tif; img size = torch.Size([1, 3, 256, 256]); costing: 0.45s\n",
      "Prediction finished: SS200000135TL_D1_60_41-img.tif; img size = torch.Size([1, 3, 256, 256]); costing: 0.46s\n",
      "Prediction finished: SS200000135TL_D1_60_42-img.tif; img size = torch.Size([1, 3, 256, 256]); costing: 0.46s\n",
      "Prediction finished: SS200000135TL_D1_60_43-img.tif; img size = torch.Size([1, 3, 256, 256]); costing: 0.45s\n",
      "Prediction finished: SS200000135TL_D1_60_44-img.tif; img size = torch.Size([1, 3, 256, 256]); costing: 0.46s\n",
      "Prediction finished: SS200000135TL_D1_60_45-img.tif; img size = torch.Size([1, 3, 256, 256]); costing: 0.46s\n",
      "Prediction finished: SS200000135TL_D1_61_25-img.tif; img size = torch.Size([1, 3, 256, 256]); costing: 0.47s\n",
      "Prediction finished: SS200000135TL_D1_61_26-img.tif; img size = torch.Size([1, 3, 256, 256]); costing: 0.46s\n",
      "Prediction finished: SS200000135TL_D1_61_27-img.tif; img size = torch.Size([1, 3, 256, 256]); costing: 0.46s\n",
      "Prediction finished: SS200000135TL_D1_62_36-img.tif; img size = torch.Size([1, 3, 256, 256]); costing: 0.46s\n",
      "Prediction finished: SS200000135TL_D1_62_40-img.tif; img size = torch.Size([1, 3, 256, 256]); costing: 0.46s\n",
      "Prediction finished: SS200000135TL_D1_62_41-img.tif; img size = torch.Size([1, 3, 256, 256]); costing: 0.46s\n",
      "Prediction finished: SS200000135TL_D1_62_42-img.tif; img size = torch.Size([1, 3, 256, 256]); costing: 0.46s\n",
      "Prediction finished: SS200000135TL_D1_62_43-img.tif; img size = torch.Size([1, 3, 256, 256]); costing: 0.46s\n",
      "Prediction finished: SS200000135TL_D1_63_35-img.tif; img size = torch.Size([1, 3, 256, 256]); costing: 0.46s\n",
      "Prediction finished: SS200000135TL_D1_63_36-img.tif; img size = torch.Size([1, 3, 256, 256]); costing: 0.46s\n",
      "Prediction finished: SS200000135TL_D1_63_37-img.tif; img size = torch.Size([1, 3, 256, 256]); costing: 0.46s\n",
      "Prediction finished: SS200000135TL_D1_63_38-img.tif; img size = torch.Size([1, 3, 256, 256]); costing: 0.45s\n",
      "Prediction finished: SS200000135TL_D1_63_39-img.tif; img size = torch.Size([1, 3, 256, 256]); costing: 0.46s\n",
      "Prediction finished: SS200000135TL_D1_63_40-img.tif; img size = torch.Size([1, 3, 256, 256]); costing: 0.46s\n",
      "Prediction finished: SS200000135TL_D1_63_41-img.tif; img size = torch.Size([1, 3, 256, 256]); costing: 0.45s\n",
      "Prediction finished: SS200000135TL_D1_63_42-img.tif; img size = torch.Size([1, 3, 256, 256]); costing: 0.46s\n",
      "Prediction finished: SS200000135TL_D1_64_33-img.tif; img size = torch.Size([1, 3, 256, 256]); costing: 0.46s\n",
      "Prediction finished: SS200000135TL_D1_64_34-img.tif; img size = torch.Size([1, 3, 256, 256]); costing: 0.46s\n",
      "Prediction finished: SS200000135TL_D1_64_35-img.tif; img size = torch.Size([1, 3, 256, 256]); costing: 0.46s\n",
      "Prediction finished: SS200000135TL_D1_64_36-img.tif; img size = torch.Size([1, 3, 256, 256]); costing: 0.45s\n",
      "Prediction finished: SS200000135TL_D1_64_37-img.tif; img size = torch.Size([1, 3, 256, 256]); costing: 0.45s\n",
      "Prediction finished: SS200000135TL_D1_64_38-img.tif; img size = torch.Size([1, 3, 256, 256]); costing: 0.46s\n",
      "Prediction finished: SS200000135TL_D1_64_39-img.tif; img size = torch.Size([1, 3, 256, 256]); costing: 0.45s\n",
      "Prediction finished: SS200000135TL_D1_64_40-img.tif; img size = torch.Size([1, 3, 256, 256]); costing: 0.46s\n",
      "Prediction finished: SS200000135TL_D1_64_41-img.tif; img size = torch.Size([1, 3, 256, 256]); costing: 0.46s\n",
      "Prediction finished: SS200000135TL_D1_65_32-img.tif; img size = torch.Size([1, 3, 256, 256]); costing: 0.46s\n",
      "Prediction finished: SS200000135TL_D1_65_33-img.tif; img size = torch.Size([1, 3, 256, 256]); costing: 0.46s\n",
      "Prediction finished: SS200000135TL_D1_65_34-img.tif; img size = torch.Size([1, 3, 256, 256]); costing: 0.46s\n",
      "Prediction finished: SS200000135TL_D1_65_35-img.tif; img size = torch.Size([1, 3, 256, 256]); costing: 0.46s\n",
      "Prediction finished: SS200000135TL_D1_65_37-img.tif; img size = torch.Size([1, 3, 256, 256]); costing: 0.46s\n",
      "Prediction finished: SS200000135TL_D1_66_31-img.tif; img size = torch.Size([1, 3, 256, 256]); costing: 0.46s\n",
      "Prediction finished: SS200000135TL_D1_66_32-img.tif; img size = torch.Size([1, 3, 256, 256]); costing: 0.46s\n",
      "Prediction finished: SS200000135TL_D1_66_33-img.tif; img size = torch.Size([1, 3, 256, 256]); costing: 0.46s\n",
      "Prediction finished: SS200000135TL_D1_66_34-img.tif; img size = torch.Size([1, 3, 256, 256]); costing: 0.46s\n",
      "Prediction finished: SS200000135TL_D1_70_26-img.tif; img size = torch.Size([1, 3, 256, 256]); costing: 0.46s\n",
      "Prediction finished: SS200000135TL_D1_70_27-img.tif; img size = torch.Size([1, 3, 256, 256]); costing: 0.46s\n",
      "Prediction finished: SS200000135TL_D1_70_28-img.tif; img size = torch.Size([1, 3, 256, 256]); costing: 0.46s\n",
      "Prediction finished: SS200000135TL_D1_70_29-img.tif; img size = torch.Size([1, 3, 256, 256]); costing: 0.46s\n",
      "Prediction finished: SS200000135TL_D1_70_30-img.tif; img size = torch.Size([1, 3, 256, 256]); costing: 0.45s\n",
      "Prediction finished: SS200000135TL_D1_70_31-img.tif; img size = torch.Size([1, 3, 256, 256]); costing: 0.46s\n",
      "Prediction finished: SS200000135TL_D1_70_32-img.tif; img size = torch.Size([1, 3, 256, 256]); costing: 0.47s\n",
      "Prediction finished: SS200000135TL_D1_70_33-img.tif; img size = torch.Size([1, 3, 256, 256]); costing: 0.46s\n",
      "Prediction finished: SS200000135TL_D1_71_26-img.tif; img size = torch.Size([1, 3, 256, 256]); costing: 0.46s\n",
      "Prediction finished: SS200000135TL_D1_71_28-img.tif; img size = torch.Size([1, 3, 256, 256]); costing: 0.45s\n",
      "Prediction finished: SS200000135TL_D1_71_31-img.tif; img size = torch.Size([1, 3, 256, 256]); costing: 0.46s\n",
      "Prediction finished: SS200000135TL_D1_72_27-img.tif; img size = torch.Size([1, 3, 256, 256]); costing: 0.46s\n",
      "Prediction finished: SS200000135TL_D1_72_30-img.tif; img size = torch.Size([1, 3, 256, 256]); costing: 0.46s\n",
      "Prediction finished: SS200000156TR_B5-x19127_y14258_w256_h256-img.tif; img size = torch.Size([1, 3, 256, 256]); costing: 0.44s\n",
      "Prediction finished: SS200000156TR_B5-x19127_y14514_w256_h256-img.tif; img size = torch.Size([1, 3, 256, 256]); costing: 0.45s\n",
      "Prediction finished: SS200000156TR_B5-x19383_y14258_w256_h256-img.tif; img size = torch.Size([1, 3, 256, 256]); costing: 0.45s\n",
      "Prediction finished: SS200000156TR_B5-x19383_y14514_w256_h256-img.tif; img size = torch.Size([1, 3, 256, 256]); costing: 0.45s\n",
      "Prediction finished: SS200000376BR_C4-x15586_y7574_w256_h256-img.tif; img size = torch.Size([1, 3, 256, 256]); costing: 0.46s\n",
      "Prediction finished: SS200000376BR_C4-x15586_y7830_w256_h256-img.tif; img size = torch.Size([1, 3, 256, 256]); costing: 0.46s\n",
      "Prediction finished: SS200000376BR_C4-x15842_y7574_w256_h256-img.tif; img size = torch.Size([1, 3, 256, 256]); costing: 0.45s\n",
      "Prediction finished: SS200000376BR_C4-x15842_y7830_w256_h256-img.tif; img size = torch.Size([1, 3, 256, 256]); costing: 0.46s\n",
      "Prediction finished: SS200000535TR_E5-x11983_y2259_w256_h256-img.tif; img size = torch.Size([1, 3, 256, 256]); costing: 0.45s\n",
      "Prediction finished: SS200000535TR_E5-x11983_y2515_w256_h256-img.tif; img size = torch.Size([1, 3, 256, 256]); costing: 0.46s\n",
      "Prediction finished: SS200000535TR_E5-x12239_y2259_w256_h256-img.tif; img size = torch.Size([1, 3, 256, 256]); costing: 0.45s\n",
      "Prediction finished: SS200000535TR_E5-x12239_y2515_w256_h256-img.tif; img size = torch.Size([1, 3, 256, 256]); costing: 0.46s\n",
      "Prediction finished: SS200000535TR_E5-x9604_y3552_w256_h256-img.tif; img size = torch.Size([1, 3, 256, 256]); costing: 0.45s\n",
      "Prediction finished: SS200000535TR_E5-x9604_y3808_w256_h256-img.tif; img size = torch.Size([1, 3, 256, 256]); costing: 0.45s\n",
      "Prediction finished: SS200000535TR_E5-x9860_y3552_w256_h256-img.tif; img size = torch.Size([1, 3, 256, 256]); costing: 0.44s\n",
      "Prediction finished: SS200000535TR_E5-x9860_y3808_w256_h256-img.tif; img size = torch.Size([1, 3, 256, 256]); costing: 0.45s\n",
      "Prediction finished: SS200000544TR_D2-x8065_y12660_w256_h256-img.tif; img size = torch.Size([1, 3, 256, 256]); costing: 0.46s\n",
      "Prediction finished: SS200000544TR_D2-x8065_y12916_w256_h256-img.tif; img size = torch.Size([1, 3, 256, 256]); costing: 0.46s\n",
      "Prediction finished: SS200000544TR_D2-x8321_y12660_w256_h256-img.tif; img size = torch.Size([1, 3, 256, 256]); costing: 0.48s\n",
      "Prediction finished: SS200000544TR_D2-x8321_y12916_w256_h256-img.tif; img size = torch.Size([1, 3, 256, 256]); costing: 0.46s\n",
      "Prediction finished: SS200000548TR_E3-x13228_y4095_w256_h256-img.tif; img size = torch.Size([1, 3, 256, 256]); costing: 0.46s\n",
      "Prediction finished: SS200000548TR_E3-x13228_y4351_w256_h256-img.tif; img size = torch.Size([1, 3, 256, 256]); costing: 0.46s\n",
      "Prediction finished: SS200000548TR_E3-x13484_y4095_w256_h256-img.tif; img size = torch.Size([1, 3, 256, 256]); costing: 0.46s\n",
      "Prediction finished: SS200000548TR_E3-x13484_y4351_w256_h256-img.tif; img size = torch.Size([1, 3, 256, 256]); costing: 0.46s\n",
      "Prediction finished: SS200000730BL_C1-x15097_y2897_w256_h256-img.tif; img size = torch.Size([1, 3, 256, 256]); costing: 0.45s\n",
      "Prediction finished: SS200000730BL_C1-x15097_y3153_w256_h256-img.tif; img size = torch.Size([1, 3, 256, 256]); costing: 0.45s\n",
      "Prediction finished: SS200000730BL_C1-x15353_y2897_w256_h256-img.tif; img size = torch.Size([1, 3, 256, 256]); costing: 0.45s\n",
      "Prediction finished: SS200000730BL_C1-x15353_y3153_w256_h256-img.tif; img size = torch.Size([1, 3, 256, 256]); costing: 0.45s\n",
      "Prediction finished: SS200000730BL_C1-x4336_y11545_w256_h256-img.tif; img size = torch.Size([1, 3, 256, 256]); costing: 0.50s\n",
      "Prediction finished: SS200000730BL_C1-x4336_y11801_w256_h256-img.tif; img size = torch.Size([1, 3, 256, 256]); costing: 0.46s\n",
      "Prediction finished: SS200000730BL_C1-x4592_y11545_w256_h256-img.tif; img size = torch.Size([1, 3, 256, 256]); costing: 0.46s\n",
      "Prediction finished: SS200000730BL_C1-x4592_y11801_w256_h256-img.tif; img size = torch.Size([1, 3, 256, 256]); costing: 0.47s\n",
      "Prediction finished: SS200000730BL_C1-x4941_y13493_w256_h256-img.tif; img size = torch.Size([1, 3, 256, 256]); costing: 0.46s\n",
      "Prediction finished: SS200000730BL_C1-x4941_y13749_w256_h256-img.tif; img size = torch.Size([1, 3, 256, 256]); costing: 0.46s\n",
      "Prediction finished: SS200000730BL_C1-x5197_y13493_w256_h256-img.tif; img size = torch.Size([1, 3, 256, 256]); costing: 0.45s\n",
      "Prediction finished: SS200000730BL_C1-x5197_y13749_w256_h256-img.tif; img size = torch.Size([1, 3, 256, 256]); costing: 0.46s\n",
      "Prediction finished: SS200000755BR_F4-x10202_y15315_w256_h256-img.tif; img size = torch.Size([1, 3, 256, 256]); costing: 0.46s\n",
      "Prediction finished: SS200000755BR_F4-x10202_y15571_w256_h256-img.tif; img size = torch.Size([1, 3, 256, 256]); costing: 0.46s\n",
      "Prediction finished: SS200000755BR_F4-x10458_y15315_w256_h256-img.tif; img size = torch.Size([1, 3, 256, 256]); costing: 0.46s\n",
      "Prediction finished: SS200000755BR_F4-x10458_y15571_w256_h256-img.tif; img size = torch.Size([1, 3, 256, 256]); costing: 0.47s\n",
      "Prediction finished: SS200000758BR_F4-x13606_y5243_w256_h256-img.tif; img size = torch.Size([1, 3, 256, 256]); costing: 0.50s\n",
      "Prediction finished: SS200000758BR_F4-x13606_y5499_w256_h256-img.tif; img size = torch.Size([1, 3, 256, 256]); costing: 0.47s\n",
      "Prediction finished: SS200000758BR_F4-x13862_y5243_w256_h256-img.tif; img size = torch.Size([1, 3, 256, 256]); costing: 0.47s\n",
      "Prediction finished: SS200000758BR_F4-x13862_y5499_w256_h256-img.tif; img size = torch.Size([1, 3, 256, 256]); costing: 0.48s\n",
      "Prediction finished: SS200000759BR_F5-x12235_y8957_w256_h256-img.tif; img size = torch.Size([1, 3, 256, 256]); costing: 0.46s\n",
      "Prediction finished: SS200000759BR_F5-x12235_y9213_w256_h256-img.tif; img size = torch.Size([1, 3, 256, 256]); costing: 0.45s\n",
      "Prediction finished: SS200000759BR_F5-x12491_y8957_w256_h256-img.tif; img size = torch.Size([1, 3, 256, 256]); costing: 0.46s\n",
      "Prediction finished: SS200000759BR_F5-x12491_y9213_w256_h256-img.tif; img size = torch.Size([1, 3, 256, 256]); costing: 0.46s\n",
      "Prediction finished: SS200000761BR_E1-x14382_y13178_w256_h256-img.tif; img size = torch.Size([1, 3, 256, 256]); costing: 0.46s\n",
      "Prediction finished: SS200000761BR_E1-x14382_y13434_w256_h256-img.tif; img size = torch.Size([1, 3, 256, 256]); costing: 0.48s\n",
      "Prediction finished: SS200000761BR_E1-x14638_y13178_w256_h256-img.tif; img size = torch.Size([1, 3, 256, 256]); costing: 0.46s\n",
      "Prediction finished: SS200000761BR_E1-x14638_y13434_w256_h256-img.tif; img size = torch.Size([1, 3, 256, 256]); costing: 0.48s\n",
      "Prediction finished: SS200000835BL_D5-x15016_y15492_w256_h256-img.tif; img size = torch.Size([1, 3, 256, 256]); costing: 0.46s\n",
      "Prediction finished: SS200000835BL_D5-x15016_y15748_w256_h256-img.tif; img size = torch.Size([1, 3, 256, 256]); costing: 0.45s\n",
      "Prediction finished: SS200000835BL_D5-x15272_y15492_w256_h256-img.tif; img size = torch.Size([1, 3, 256, 256]); costing: 0.46s\n",
      "Prediction finished: SS200000835BL_D5-x15272_y15748_w256_h256-img.tif; img size = torch.Size([1, 3, 256, 256]); costing: 0.45s\n",
      "Prediction finished: SS200000835BL_D5-x17613_y13909_w256_h256-img.tif; img size = torch.Size([1, 3, 256, 256]); costing: 0.48s\n",
      "Prediction finished: SS200000835BL_D5-x17613_y14165_w256_h256-img.tif; img size = torch.Size([1, 3, 256, 256]); costing: 0.47s\n",
      "Prediction finished: SS200000835BL_D5-x17869_y13909_w256_h256-img.tif; img size = torch.Size([1, 3, 256, 256]); costing: 0.47s\n",
      "Prediction finished: SS200000835BL_D5-x17869_y14165_w256_h256-img.tif; img size = torch.Size([1, 3, 256, 256]); costing: 0.45s\n",
      "Prediction finished: SS200000910TR_F1-x14385_y9256_w256_h256-img.tif; img size = torch.Size([1, 3, 256, 256]); costing: 0.47s\n",
      "Prediction finished: SS200000910TR_F1-x14385_y9512_w256_h256-img.tif; img size = torch.Size([1, 3, 256, 256]); costing: 0.47s\n",
      "Prediction finished: SS200000910TR_F1-x14641_y9256_w256_h256-img.tif; img size = torch.Size([1, 3, 256, 256]); costing: 0.47s\n",
      "Prediction finished: SS200000910TR_F1-x14641_y9512_w256_h256-img.tif; img size = torch.Size([1, 3, 256, 256]); costing: 0.48s\n",
      "Prediction finished: SS200001073BR_B1-x6917_y21587_w256_h256-img.tif; img size = torch.Size([1, 3, 256, 256]); costing: 0.47s\n",
      "Prediction finished: SS200001073BR_B1-x6917_y21843_w256_h256-img.tif; img size = torch.Size([1, 3, 256, 256]); costing: 0.47s\n",
      "Prediction finished: SS200001073BR_B1-x7173_y21587_w256_h256-img.tif; img size = torch.Size([1, 3, 256, 256]); costing: 0.47s\n",
      "Prediction finished: SS200001073BR_B1-x7173_y21843_w256_h256-img.tif; img size = torch.Size([1, 3, 256, 256]); costing: 0.47s\n",
      "\n",
      " Total Time Cost: 133.12s\n",
      "MEDIAR ran for a total of 281.0686922073364 s\n",
      "MEDIAR result saved to /storeData/USER/data/01.CellBin/00.user/fanjinghong/code/benchmark2/input/ssDNA/gaussian_blur_output_3/MEDIAR\n",
      "/storeData/USER/data/01.CellBin/00.user/fanjinghong/home/anaconda3/envs/sam/bin/python /storeData/USER/data/01.CellBin/00.user/fanjinghong/code/benchmark2/segment/sam_main.py -i /storeData/USER/data/01.CellBin/00.user/fanjinghong/code/benchmark2/input/ssDNA/gaussian_blur_input_3 -o /storeData/USER/data/01.CellBin/00.user/fanjinghong/code/benchmark2/input/ssDNA/gaussian_blur_output_3/sam -g True -t ss\n"
     ]
    },
    {
     "name": "stderr",
     "output_type": "stream",
     "text": [
      "sam:   0%|          | 0/276 [00:00<?, ?it/s]"
     ]
    },
    {
     "name": "stdout",
     "output_type": "stream",
     "text": [
      "[INFO 20240913-13-31-17 p1104 flush clog.py:115] \n",
      "[INFO 20240913-13-31-17 p1104 flush clog.py:115] 0%|          | 0/1 [00:00<?, ?it/s]\n",
      "[INFO 20240913-13-31-17 p1104 flush clog.py:115] \u001b[A\n",
      "[INFO 20240913-13-31-40 p1104 flush clog.py:115] \n",
      "[INFO 20240913-13-31-40 p1104 flush clog.py:115] 100%|##########| 1/1 [00:23<00:00, 23.29s/it]\n",
      "[INFO 20240913-13-31-40 p1104 flush clog.py:115] \u001b[A\n",
      "[INFO 20240913-13-31-40 p1104 flush clog.py:115] 100%|##########| 1/1 [00:23<00:00, 23.29s/it]\n"
     ]
    },
    {
     "name": "stderr",
     "output_type": "stream",
     "text": [
      "/storeData/USER/data/01.CellBin/00.user/fanjinghong/code/benchmark2/segment/sam_main.py:156: RuntimeWarning: Mean of empty slice\n",
      "  result = np.nanmean(view, axis=(2, 3))\n",
      "sam:   0%|          | 1/276 [00:23<1:49:46, 23.95s/it]"
     ]
    },
    {
     "name": "stdout",
     "output_type": "stream",
     "text": [
      "[INFO 20240913-13-31-41 p1104 flush clog.py:115] \n",
      "[INFO 20240913-13-31-41 p1104 flush clog.py:115] 0%|          | 0/1 [00:00<?, ?it/s]\n",
      "[INFO 20240913-13-31-41 p1104 flush clog.py:115] \u001b[A\n",
      "[INFO 20240913-13-31-45 p1104 flush clog.py:115] 100%|##########| 1/1 [00:04<00:00,  4.60s/it]\n",
      "[INFO 20240913-13-31-45 p1104 flush clog.py:115] \n",
      "[INFO 20240913-13-31-45 p1104 flush clog.py:115] 0%|          | 0/1 [00:00<?, ?it/s]\n",
      "[INFO 20240913-13-31-45 p1104 flush clog.py:115] \u001b[A\n"
     ]
    },
    {
     "name": "stderr",
     "output_type": "stream",
     "text": [
      "sam:   1%|          | 2/276 [00:28<57:26, 12.58s/it]  "
     ]
    },
    {
     "name": "stdout",
     "output_type": "stream",
     "text": [
      "[INFO 20240913-13-31-50 p1104 flush clog.py:115] 100%|##########| 1/1 [00:04<00:00,  4.65s/it]\n",
      "[INFO 20240913-13-31-50 p1104 flush clog.py:115] \n",
      "[INFO 20240913-13-31-50 p1104 flush clog.py:115] 0%|          | 0/1 [00:00<?, ?it/s]\n",
      "[INFO 20240913-13-31-50 p1104 flush clog.py:115] \u001b[A\n"
     ]
    },
    {
     "name": "stderr",
     "output_type": "stream",
     "text": [
      "sam:   1%|          | 3/276 [00:33<40:47,  8.96s/it]"
     ]
    },
    {
     "name": "stdout",
     "output_type": "stream",
     "text": [
      "[INFO 20240913-13-31-54 p1104 flush clog.py:115] 100%|##########| 1/1 [00:04<00:00,  4.68s/it]\n"
     ]
    },
    {
     "name": "stderr",
     "output_type": "stream",
     "text": [
      "sam:   1%|▏         | 4/276 [00:38<33:33,  7.40s/it]"
     ]
    },
    {
     "name": "stdout",
     "output_type": "stream",
     "text": [
      "[INFO 20240913-13-31-55 p1104 flush clog.py:115] \n",
      "[INFO 20240913-13-31-55 p1104 flush clog.py:115] 0%|          | 0/1 [00:00<?, ?it/s]\n",
      "[INFO 20240913-13-31-55 p1104 flush clog.py:115] \u001b[A\n",
      "[INFO 20240913-13-31-59 p1104 flush clog.py:115] 100%|##########| 1/1 [00:04<00:00,  4.64s/it]\n",
      "[INFO 20240913-13-31-59 p1104 flush clog.py:115] \n",
      "[INFO 20240913-13-31-59 p1104 flush clog.py:115] 0%|          | 0/1 [00:00<?, ?it/s]\n",
      "[INFO 20240913-13-31-59 p1104 flush clog.py:115] \u001b[A\n"
     ]
    },
    {
     "name": "stderr",
     "output_type": "stream",
     "text": [
      "sam:   2%|▏         | 5/276 [00:42<28:59,  6.42s/it]"
     ]
    },
    {
     "name": "stdout",
     "output_type": "stream",
     "text": [
      "[INFO 20240913-13-32-04 p1104 flush clog.py:115] 100%|##########| 1/1 [00:04<00:00,  4.67s/it]\n",
      "[INFO 20240913-13-32-04 p1104 flush clog.py:115] \n",
      "[INFO 20240913-13-32-04 p1104 flush clog.py:115] 0%|          | 0/1 [00:00<?, ?it/s]\n",
      "[INFO 20240913-13-32-04 p1104 flush clog.py:115] \u001b[A\n"
     ]
    },
    {
     "name": "stderr",
     "output_type": "stream",
     "text": [
      "sam:   2%|▏         | 6/276 [00:47<26:23,  5.86s/it]"
     ]
    },
    {
     "name": "stdout",
     "output_type": "stream",
     "text": [
      "[INFO 20240913-13-32-09 p1104 flush clog.py:115] 100%|##########| 1/1 [00:04<00:00,  4.71s/it]\n",
      "[INFO 20240913-13-32-09 p1104 flush clog.py:115] \n",
      "[INFO 20240913-13-32-09 p1104 flush clog.py:115] 0%|          | 0/1 [00:00<?, ?it/s]\n",
      "[INFO 20240913-13-32-09 p1104 flush clog.py:115] \u001b[A\n"
     ]
    },
    {
     "name": "stderr",
     "output_type": "stream",
     "text": [
      "sam:   3%|▎         | 7/276 [00:52<24:37,  5.49s/it]"
     ]
    },
    {
     "name": "stdout",
     "output_type": "stream",
     "text": [
      "[INFO 20240913-13-32-14 p1104 flush clog.py:115] 100%|##########| 1/1 [00:04<00:00,  4.78s/it]\n",
      "[INFO 20240913-13-32-14 p1104 flush clog.py:115] \n",
      "[INFO 20240913-13-32-14 p1104 flush clog.py:115] 0%|          | 0/1 [00:00<?, ?it/s]\n",
      "[INFO 20240913-13-32-14 p1104 flush clog.py:115] \u001b[A\n"
     ]
    },
    {
     "name": "stderr",
     "output_type": "stream",
     "text": [
      "sam:   3%|▎         | 8/276 [00:57<23:33,  5.27s/it]"
     ]
    },
    {
     "name": "stdout",
     "output_type": "stream",
     "text": [
      "[INFO 20240913-13-32-18 p1104 flush clog.py:115] 100%|##########| 1/1 [00:04<00:00,  4.64s/it]\n",
      "[INFO 20240913-13-32-18 p1104 flush clog.py:115] \n",
      "[INFO 20240913-13-32-18 p1104 flush clog.py:115] 0%|          | 0/1 [00:00<?, ?it/s]\n",
      "[INFO 20240913-13-32-18 p1104 flush clog.py:115] \u001b[A\n"
     ]
    },
    {
     "name": "stderr",
     "output_type": "stream",
     "text": [
      "sam:   3%|▎         | 9/276 [01:01<22:39,  5.09s/it]"
     ]
    },
    {
     "name": "stdout",
     "output_type": "stream",
     "text": [
      "[INFO 20240913-13-32-23 p1104 flush clog.py:115] 100%|##########| 1/1 [00:04<00:00,  4.51s/it]\n",
      "[INFO 20240913-13-32-23 p1104 flush clog.py:115] \n",
      "[INFO 20240913-13-32-23 p1104 flush clog.py:115] 0%|          | 0/1 [00:00<?, ?it/s]\n",
      "[INFO 20240913-13-32-23 p1104 flush clog.py:115] \u001b[A\n"
     ]
    },
    {
     "name": "stderr",
     "output_type": "stream",
     "text": [
      "sam:   4%|▎         | 10/276 [01:06<21:47,  4.92s/it]"
     ]
    },
    {
     "name": "stdout",
     "output_type": "stream",
     "text": [
      "[INFO 20240913-13-32-28 p1104 flush clog.py:115] 100%|##########| 1/1 [00:04<00:00,  4.70s/it]\n",
      "[INFO 20240913-13-32-28 p1104 flush clog.py:115] \n",
      "[INFO 20240913-13-32-28 p1104 flush clog.py:115] 0%|          | 0/1 [00:00<?, ?it/s]\n",
      "[INFO 20240913-13-32-28 p1104 flush clog.py:115] \u001b[A\n"
     ]
    },
    {
     "name": "stderr",
     "output_type": "stream",
     "text": [
      "sam:   4%|▍         | 11/276 [01:11<21:26,  4.86s/it]"
     ]
    },
    {
     "name": "stdout",
     "output_type": "stream",
     "text": [
      "[INFO 20240913-13-32-32 p1104 flush clog.py:115] 100%|##########| 1/1 [00:04<00:00,  4.70s/it]\n",
      "[INFO 20240913-13-32-32 p1104 flush clog.py:115] \n",
      "[INFO 20240913-13-32-32 p1104 flush clog.py:115] 0%|          | 0/1 [00:00<?, ?it/s]\n",
      "[INFO 20240913-13-32-32 p1104 flush clog.py:115] \u001b[A\n"
     ]
    },
    {
     "name": "stderr",
     "output_type": "stream",
     "text": [
      "sam:   4%|▍         | 12/276 [01:15<21:10,  4.81s/it]"
     ]
    },
    {
     "name": "stdout",
     "output_type": "stream",
     "text": [
      "[INFO 20240913-13-32-37 p1104 flush clog.py:115] 100%|##########| 1/1 [00:04<00:00,  4.68s/it]\n",
      "[INFO 20240913-13-32-37 p1104 flush clog.py:115] \n",
      "[INFO 20240913-13-32-37 p1104 flush clog.py:115] 0%|          | 0/1 [00:00<?, ?it/s]\n",
      "[INFO 20240913-13-32-37 p1104 flush clog.py:115] \u001b[A\n"
     ]
    },
    {
     "name": "stderr",
     "output_type": "stream",
     "text": [
      "sam:   5%|▍         | 13/276 [01:20<20:56,  4.78s/it]"
     ]
    },
    {
     "name": "stdout",
     "output_type": "stream",
     "text": [
      "[INFO 20240913-13-32-42 p1104 flush clog.py:115] 100%|##########| 1/1 [00:04<00:00,  4.66s/it]\n",
      "[INFO 20240913-13-32-42 p1104 flush clog.py:115] \n",
      "[INFO 20240913-13-32-42 p1104 flush clog.py:115] 0%|          | 0/1 [00:00<?, ?it/s]\n",
      "[INFO 20240913-13-32-42 p1104 flush clog.py:115] \u001b[A\n"
     ]
    },
    {
     "name": "stderr",
     "output_type": "stream",
     "text": [
      "sam:   5%|▌         | 14/276 [01:25<20:43,  4.75s/it]"
     ]
    },
    {
     "name": "stdout",
     "output_type": "stream",
     "text": [
      "[INFO 20240913-13-32-47 p1104 flush clog.py:115] 100%|##########| 1/1 [00:04<00:00,  4.85s/it]\n",
      "[INFO 20240913-13-32-47 p1104 flush clog.py:115] \n",
      "[INFO 20240913-13-32-47 p1104 flush clog.py:115] 0%|          | 0/1 [00:00<?, ?it/s]\n",
      "[INFO 20240913-13-32-47 p1104 flush clog.py:115] \u001b[A\n"
     ]
    },
    {
     "name": "stderr",
     "output_type": "stream",
     "text": [
      "sam:   5%|▌         | 15/276 [01:30<20:47,  4.78s/it]"
     ]
    },
    {
     "name": "stdout",
     "output_type": "stream",
     "text": [
      "[INFO 20240913-13-32-52 p1104 flush clog.py:115] 100%|##########| 1/1 [00:04<00:00,  4.89s/it]\n",
      "[INFO 20240913-13-32-52 p1104 flush clog.py:115] \n",
      "[INFO 20240913-13-32-52 p1104 flush clog.py:115] 0%|          | 0/1 [00:00<?, ?it/s]\n",
      "[INFO 20240913-13-32-52 p1104 flush clog.py:115] \u001b[A\n"
     ]
    },
    {
     "name": "stderr",
     "output_type": "stream",
     "text": [
      "sam:   6%|▌         | 16/276 [01:35<20:53,  4.82s/it]"
     ]
    },
    {
     "name": "stdout",
     "output_type": "stream",
     "text": [
      "[INFO 20240913-13-32-56 p1104 flush clog.py:115] 100%|##########| 1/1 [00:04<00:00,  4.91s/it]\n",
      "[INFO 20240913-13-32-56 p1104 flush clog.py:115] \n",
      "[INFO 20240913-13-32-56 p1104 flush clog.py:115] 0%|          | 0/1 [00:00<?, ?it/s]\n",
      "[INFO 20240913-13-32-56 p1104 flush clog.py:115] \u001b[A\n"
     ]
    },
    {
     "name": "stderr",
     "output_type": "stream",
     "text": [
      "sam:   6%|▌         | 17/276 [01:39<20:56,  4.85s/it]"
     ]
    },
    {
     "name": "stdout",
     "output_type": "stream",
     "text": [
      "[INFO 20240913-13-33-01 p1104 flush clog.py:115] 100%|##########| 1/1 [00:04<00:00,  4.79s/it]\n",
      "[INFO 20240913-13-33-01 p1104 flush clog.py:115] \n",
      "[INFO 20240913-13-33-01 p1104 flush clog.py:115] 0%|          | 0/1 [00:00<?, ?it/s]\n",
      "[INFO 20240913-13-33-01 p1104 flush clog.py:115] \u001b[A\n"
     ]
    },
    {
     "name": "stderr",
     "output_type": "stream",
     "text": [
      "sam:   7%|▋         | 18/276 [01:44<20:48,  4.84s/it]"
     ]
    },
    {
     "name": "stdout",
     "output_type": "stream",
     "text": [
      "[INFO 20240913-13-33-06 p1104 flush clog.py:115] 100%|##########| 1/1 [00:04<00:00,  4.83s/it]\n",
      "[INFO 20240913-13-33-06 p1104 flush clog.py:115] \n",
      "[INFO 20240913-13-33-06 p1104 flush clog.py:115] 0%|          | 0/1 [00:00<?, ?it/s]\n",
      "[INFO 20240913-13-33-06 p1104 flush clog.py:115] \u001b[A\n"
     ]
    },
    {
     "name": "stderr",
     "output_type": "stream",
     "text": [
      "sam:   7%|▋         | 19/276 [01:49<20:43,  4.84s/it]"
     ]
    },
    {
     "name": "stdout",
     "output_type": "stream",
     "text": [
      "[INFO 20240913-13-33-11 p1104 flush clog.py:115] 100%|##########| 1/1 [00:04<00:00,  4.84s/it]\n",
      "[INFO 20240913-13-33-11 p1104 flush clog.py:115] \n",
      "[INFO 20240913-13-33-11 p1104 flush clog.py:115] 0%|          | 0/1 [00:00<?, ?it/s]\n",
      "[INFO 20240913-13-33-11 p1104 flush clog.py:115] \u001b[A\n"
     ]
    },
    {
     "name": "stderr",
     "output_type": "stream",
     "text": [
      "sam:   7%|▋         | 20/276 [01:54<20:40,  4.84s/it]"
     ]
    },
    {
     "name": "stdout",
     "output_type": "stream",
     "text": [
      "[INFO 20240913-13-33-16 p1104 flush clog.py:115] 100%|##########| 1/1 [00:04<00:00,  4.85s/it]\n",
      "[INFO 20240913-13-33-16 p1104 flush clog.py:115] \n",
      "[INFO 20240913-13-33-16 p1104 flush clog.py:115] 0%|          | 0/1 [00:00<?, ?it/s]\n",
      "[INFO 20240913-13-33-16 p1104 flush clog.py:115] \u001b[A\n"
     ]
    },
    {
     "name": "stderr",
     "output_type": "stream",
     "text": [
      "sam:   8%|▊         | 21/276 [01:59<20:36,  4.85s/it]"
     ]
    },
    {
     "name": "stdout",
     "output_type": "stream",
     "text": [
      "[INFO 20240913-13-33-21 p1104 flush clog.py:115] 100%|##########| 1/1 [00:04<00:00,  4.90s/it]\n",
      "[INFO 20240913-13-33-21 p1104 flush clog.py:115] \n",
      "[INFO 20240913-13-33-21 p1104 flush clog.py:115] 0%|          | 0/1 [00:00<?, ?it/s]\n",
      "[INFO 20240913-13-33-21 p1104 flush clog.py:115] \u001b[A\n"
     ]
    },
    {
     "name": "stderr",
     "output_type": "stream",
     "text": [
      "sam:   8%|▊         | 22/276 [02:04<20:37,  4.87s/it]"
     ]
    },
    {
     "name": "stdout",
     "output_type": "stream",
     "text": [
      "[INFO 20240913-13-33-26 p1104 flush clog.py:115] 100%|##########| 1/1 [00:04<00:00,  4.94s/it]\n",
      "[INFO 20240913-13-33-26 p1104 flush clog.py:115] \n",
      "[INFO 20240913-13-33-26 p1104 flush clog.py:115] 0%|          | 0/1 [00:00<?, ?it/s]\n",
      "[INFO 20240913-13-33-26 p1104 flush clog.py:115] \u001b[A\n"
     ]
    },
    {
     "name": "stderr",
     "output_type": "stream",
     "text": [
      "sam:   8%|▊         | 23/276 [02:09<20:39,  4.90s/it]"
     ]
    },
    {
     "name": "stdout",
     "output_type": "stream",
     "text": [
      "[INFO 20240913-13-33-31 p1104 flush clog.py:115] 100%|##########| 1/1 [00:04<00:00,  4.81s/it]\n",
      "[INFO 20240913-13-33-31 p1104 flush clog.py:115] \n",
      "[INFO 20240913-13-33-31 p1104 flush clog.py:115] 0%|          | 0/1 [00:00<?, ?it/s]\n",
      "[INFO 20240913-13-33-31 p1104 flush clog.py:115] \u001b[A\n"
     ]
    },
    {
     "name": "stderr",
     "output_type": "stream",
     "text": [
      "sam:   9%|▊         | 24/276 [02:14<20:28,  4.88s/it]"
     ]
    },
    {
     "name": "stdout",
     "output_type": "stream",
     "text": [
      "[INFO 20240913-13-33-35 p1104 flush clog.py:115] 100%|##########| 1/1 [00:04<00:00,  4.87s/it]\n",
      "[INFO 20240913-13-33-35 p1104 flush clog.py:115] \n",
      "[INFO 20240913-13-33-35 p1104 flush clog.py:115] 0%|          | 0/1 [00:00<?, ?it/s]\n",
      "[INFO 20240913-13-33-35 p1104 flush clog.py:115] \u001b[A\n"
     ]
    },
    {
     "name": "stderr",
     "output_type": "stream",
     "text": [
      "sam:   9%|▉         | 25/276 [02:18<20:24,  4.88s/it]"
     ]
    },
    {
     "name": "stdout",
     "output_type": "stream",
     "text": [
      "[INFO 20240913-13-33-40 p1104 flush clog.py:115] 100%|##########| 1/1 [00:04<00:00,  4.98s/it]\n",
      "[INFO 20240913-13-33-40 p1104 flush clog.py:115] \n",
      "[INFO 20240913-13-33-40 p1104 flush clog.py:115] 0%|          | 0/1 [00:00<?, ?it/s]\n",
      "[INFO 20240913-13-33-40 p1104 flush clog.py:115] \u001b[A\n"
     ]
    },
    {
     "name": "stderr",
     "output_type": "stream",
     "text": [
      "sam:   9%|▉         | 26/276 [02:23<20:29,  4.92s/it]"
     ]
    },
    {
     "name": "stdout",
     "output_type": "stream",
     "text": [
      "[INFO 20240913-13-33-45 p1104 flush clog.py:115] 100%|##########| 1/1 [00:04<00:00,  4.95s/it]\n",
      "[INFO 20240913-13-33-45 p1104 flush clog.py:115] \n",
      "[INFO 20240913-13-33-45 p1104 flush clog.py:115] 0%|          | 0/1 [00:00<?, ?it/s]\n",
      "[INFO 20240913-13-33-45 p1104 flush clog.py:115] \u001b[A\n"
     ]
    },
    {
     "name": "stderr",
     "output_type": "stream",
     "text": [
      "sam:  10%|▉         | 27/276 [02:28<20:27,  4.93s/it]"
     ]
    },
    {
     "name": "stdout",
     "output_type": "stream",
     "text": [
      "[INFO 20240913-13-33-50 p1104 flush clog.py:115] 100%|##########| 1/1 [00:04<00:00,  4.93s/it]\n",
      "[INFO 20240913-13-33-50 p1104 flush clog.py:115] \n",
      "[INFO 20240913-13-33-50 p1104 flush clog.py:115] 0%|          | 0/1 [00:00<?, ?it/s]\n",
      "[INFO 20240913-13-33-50 p1104 flush clog.py:115] \u001b[A\n"
     ]
    },
    {
     "name": "stderr",
     "output_type": "stream",
     "text": [
      "sam:  10%|█         | 28/276 [02:33<20:24,  4.94s/it]"
     ]
    },
    {
     "name": "stdout",
     "output_type": "stream",
     "text": [
      "[INFO 20240913-13-33-55 p1104 flush clog.py:115] 100%|##########| 1/1 [00:04<00:00,  4.86s/it]\n",
      "[INFO 20240913-13-33-55 p1104 flush clog.py:115] \n",
      "[INFO 20240913-13-33-55 p1104 flush clog.py:115] 0%|          | 0/1 [00:00<?, ?it/s]\n",
      "[INFO 20240913-13-33-55 p1104 flush clog.py:115] \u001b[A\n"
     ]
    },
    {
     "name": "stderr",
     "output_type": "stream",
     "text": [
      "sam:  11%|█         | 29/276 [02:38<20:15,  4.92s/it]"
     ]
    },
    {
     "name": "stdout",
     "output_type": "stream",
     "text": [
      "[INFO 20240913-13-34-00 p1104 flush clog.py:115] 100%|##########| 1/1 [00:04<00:00,  4.92s/it]\n",
      "[INFO 20240913-13-34-00 p1104 flush clog.py:115] \n",
      "[INFO 20240913-13-34-00 p1104 flush clog.py:115] 0%|          | 0/1 [00:00<?, ?it/s]\n",
      "[INFO 20240913-13-34-00 p1104 flush clog.py:115] \u001b[A\n"
     ]
    },
    {
     "name": "stderr",
     "output_type": "stream",
     "text": [
      "sam:  11%|█         | 30/276 [02:43<20:11,  4.92s/it]"
     ]
    },
    {
     "name": "stdout",
     "output_type": "stream",
     "text": [
      "[INFO 20240913-13-34-05 p1104 flush clog.py:115] 100%|##########| 1/1 [00:04<00:00,  4.98s/it]\n",
      "[INFO 20240913-13-34-05 p1104 flush clog.py:115] \n",
      "[INFO 20240913-13-34-05 p1104 flush clog.py:115] 0%|          | 0/1 [00:00<?, ?it/s]\n",
      "[INFO 20240913-13-34-05 p1104 flush clog.py:115] \u001b[A\n"
     ]
    },
    {
     "name": "stderr",
     "output_type": "stream",
     "text": [
      "sam:  11%|█         | 31/276 [02:48<20:11,  4.94s/it]"
     ]
    },
    {
     "name": "stdout",
     "output_type": "stream",
     "text": [
      "[INFO 20240913-13-34-10 p1104 flush clog.py:115] 100%|##########| 1/1 [00:05<00:00,  5.02s/it]\n",
      "[INFO 20240913-13-34-10 p1104 flush clog.py:115] \n",
      "[INFO 20240913-13-34-10 p1104 flush clog.py:115] 0%|          | 0/1 [00:00<?, ?it/s]\n",
      "[INFO 20240913-13-34-10 p1104 flush clog.py:115] \u001b[A\n"
     ]
    },
    {
     "name": "stderr",
     "output_type": "stream",
     "text": [
      "sam:  12%|█▏        | 32/276 [02:53<20:13,  4.97s/it]"
     ]
    },
    {
     "name": "stdout",
     "output_type": "stream",
     "text": [
      "[INFO 20240913-13-34-15 p1104 flush clog.py:115] 100%|##########| 1/1 [00:04<00:00,  4.83s/it]\n",
      "[INFO 20240913-13-34-15 p1104 flush clog.py:115] \n",
      "[INFO 20240913-13-34-15 p1104 flush clog.py:115] 0%|          | 0/1 [00:00<?, ?it/s]\n",
      "[INFO 20240913-13-34-15 p1104 flush clog.py:115] \u001b[A\n"
     ]
    },
    {
     "name": "stderr",
     "output_type": "stream",
     "text": [
      "sam:  12%|█▏        | 33/276 [02:58<19:58,  4.93s/it]"
     ]
    },
    {
     "name": "stdout",
     "output_type": "stream",
     "text": [
      "[INFO 20240913-13-34-20 p1104 flush clog.py:115] 100%|##########| 1/1 [00:04<00:00,  4.96s/it]\n",
      "[INFO 20240913-13-34-20 p1104 flush clog.py:115] \n",
      "[INFO 20240913-13-34-20 p1104 flush clog.py:115] 0%|          | 0/1 [00:00<?, ?it/s]\n",
      "[INFO 20240913-13-34-20 p1104 flush clog.py:115] \u001b[A\n"
     ]
    },
    {
     "name": "stderr",
     "output_type": "stream",
     "text": [
      "sam:  12%|█▏        | 34/276 [03:03<19:56,  4.95s/it]"
     ]
    },
    {
     "name": "stdout",
     "output_type": "stream",
     "text": [
      "[INFO 20240913-13-34-25 p1104 flush clog.py:115] 100%|##########| 1/1 [00:04<00:00,  4.97s/it]\n",
      "[INFO 20240913-13-34-25 p1104 flush clog.py:115] \n",
      "[INFO 20240913-13-34-25 p1104 flush clog.py:115] 0%|          | 0/1 [00:00<?, ?it/s]\n",
      "[INFO 20240913-13-34-25 p1104 flush clog.py:115] \u001b[A\n"
     ]
    },
    {
     "name": "stderr",
     "output_type": "stream",
     "text": [
      "sam:  13%|█▎        | 35/276 [03:08<19:55,  4.96s/it]"
     ]
    },
    {
     "name": "stdout",
     "output_type": "stream",
     "text": [
      "[INFO 20240913-13-34-30 p1104 flush clog.py:115] 100%|##########| 1/1 [00:04<00:00,  4.88s/it]\n",
      "[INFO 20240913-13-34-30 p1104 flush clog.py:115] \n",
      "[INFO 20240913-13-34-30 p1104 flush clog.py:115] 0%|          | 0/1 [00:00<?, ?it/s]\n",
      "[INFO 20240913-13-34-30 p1104 flush clog.py:115] \u001b[A\n"
     ]
    },
    {
     "name": "stderr",
     "output_type": "stream",
     "text": [
      "sam:  13%|█▎        | 36/276 [03:13<19:45,  4.94s/it]"
     ]
    },
    {
     "name": "stdout",
     "output_type": "stream",
     "text": [
      "[INFO 20240913-13-34-35 p1104 flush clog.py:115] 100%|##########| 1/1 [00:04<00:00,  4.93s/it]\n",
      "[INFO 20240913-13-34-35 p1104 flush clog.py:115] \n",
      "[INFO 20240913-13-34-35 p1104 flush clog.py:115] 0%|          | 0/1 [00:00<?, ?it/s]\n",
      "[INFO 20240913-13-34-35 p1104 flush clog.py:115] \u001b[A\n"
     ]
    },
    {
     "name": "stderr",
     "output_type": "stream",
     "text": [
      "sam:  13%|█▎        | 37/276 [03:18<19:40,  4.94s/it]"
     ]
    },
    {
     "name": "stdout",
     "output_type": "stream",
     "text": [
      "[INFO 20240913-13-34-40 p1104 flush clog.py:115] 100%|##########| 1/1 [00:04<00:00,  4.91s/it]\n",
      "[INFO 20240913-13-34-40 p1104 flush clog.py:115] \n",
      "[INFO 20240913-13-34-40 p1104 flush clog.py:115] 0%|          | 0/1 [00:00<?, ?it/s]\n",
      "[INFO 20240913-13-34-40 p1104 flush clog.py:115] \u001b[A\n"
     ]
    },
    {
     "name": "stderr",
     "output_type": "stream",
     "text": [
      "sam:  14%|█▍        | 38/276 [03:23<19:35,  4.94s/it]"
     ]
    },
    {
     "name": "stdout",
     "output_type": "stream",
     "text": [
      "[INFO 20240913-13-34-45 p1104 flush clog.py:115] 100%|##########| 1/1 [00:04<00:00,  4.77s/it]\n",
      "[INFO 20240913-13-34-45 p1104 flush clog.py:115] \n",
      "[INFO 20240913-13-34-45 p1104 flush clog.py:115] 0%|          | 0/1 [00:00<?, ?it/s]\n",
      "[INFO 20240913-13-34-45 p1104 flush clog.py:115] \u001b[A\n"
     ]
    },
    {
     "name": "stderr",
     "output_type": "stream",
     "text": [
      "sam:  14%|█▍        | 39/276 [03:28<19:19,  4.89s/it]"
     ]
    },
    {
     "name": "stdout",
     "output_type": "stream",
     "text": [
      "[INFO 20240913-13-34-50 p1104 flush clog.py:115] 100%|##########| 1/1 [00:04<00:00,  5.00s/it]\n",
      "[INFO 20240913-13-34-50 p1104 flush clog.py:115] \n",
      "[INFO 20240913-13-34-50 p1104 flush clog.py:115] 0%|          | 0/1 [00:00<?, ?it/s]\n",
      "[INFO 20240913-13-34-50 p1104 flush clog.py:115] \u001b[A\n"
     ]
    },
    {
     "name": "stderr",
     "output_type": "stream",
     "text": [
      "sam:  14%|█▍        | 40/276 [03:33<19:23,  4.93s/it]"
     ]
    },
    {
     "name": "stdout",
     "output_type": "stream",
     "text": [
      "[INFO 20240913-13-34-55 p1104 flush clog.py:115] 100%|##########| 1/1 [00:04<00:00,  4.97s/it]\n",
      "[INFO 20240913-13-34-55 p1104 flush clog.py:115] \n",
      "[INFO 20240913-13-34-55 p1104 flush clog.py:115] 0%|          | 0/1 [00:00<?, ?it/s]\n",
      "[INFO 20240913-13-34-55 p1104 flush clog.py:115] \u001b[A\n"
     ]
    },
    {
     "name": "stderr",
     "output_type": "stream",
     "text": [
      "sam:  15%|█▍        | 41/276 [03:38<19:22,  4.95s/it]"
     ]
    },
    {
     "name": "stdout",
     "output_type": "stream",
     "text": [
      "[INFO 20240913-13-35-00 p1104 flush clog.py:115] 100%|##########| 1/1 [00:05<00:00,  5.01s/it]\n",
      "[INFO 20240913-13-35-00 p1104 flush clog.py:115] \n",
      "[INFO 20240913-13-35-00 p1104 flush clog.py:115] 0%|          | 0/1 [00:00<?, ?it/s]\n",
      "[INFO 20240913-13-35-00 p1104 flush clog.py:115] \u001b[A\n"
     ]
    },
    {
     "name": "stderr",
     "output_type": "stream",
     "text": [
      "sam:  15%|█▌        | 42/276 [03:43<19:23,  4.97s/it]"
     ]
    },
    {
     "name": "stdout",
     "output_type": "stream",
     "text": [
      "[INFO 20240913-13-35-05 p1104 flush clog.py:115] 100%|##########| 1/1 [00:04<00:00,  5.00s/it]\n",
      "[INFO 20240913-13-35-05 p1104 flush clog.py:115] \n",
      "[INFO 20240913-13-35-05 p1104 flush clog.py:115] 0%|          | 0/1 [00:00<?, ?it/s]\n",
      "[INFO 20240913-13-35-05 p1104 flush clog.py:115] \u001b[A\n"
     ]
    },
    {
     "name": "stderr",
     "output_type": "stream",
     "text": [
      "sam:  16%|█▌        | 43/276 [03:48<19:21,  4.98s/it]"
     ]
    },
    {
     "name": "stdout",
     "output_type": "stream",
     "text": [
      "[INFO 20240913-13-35-10 p1104 flush clog.py:115] 100%|##########| 1/1 [00:05<00:00,  5.13s/it]\n",
      "[INFO 20240913-13-35-10 p1104 flush clog.py:115] \n",
      "[INFO 20240913-13-35-10 p1104 flush clog.py:115] 0%|          | 0/1 [00:00<?, ?it/s]\n",
      "[INFO 20240913-13-35-10 p1104 flush clog.py:115] \u001b[A\n"
     ]
    },
    {
     "name": "stderr",
     "output_type": "stream",
     "text": [
      "sam:  16%|█▌        | 44/276 [03:53<19:27,  5.03s/it]"
     ]
    },
    {
     "name": "stdout",
     "output_type": "stream",
     "text": [
      "[INFO 20240913-13-35-15 p1104 flush clog.py:115] 100%|##########| 1/1 [00:04<00:00,  4.97s/it]\n",
      "[INFO 20240913-13-35-15 p1104 flush clog.py:115] \n",
      "[INFO 20240913-13-35-15 p1104 flush clog.py:115] 0%|          | 0/1 [00:00<?, ?it/s]\n",
      "[INFO 20240913-13-35-15 p1104 flush clog.py:115] \u001b[A\n"
     ]
    },
    {
     "name": "stderr",
     "output_type": "stream",
     "text": [
      "sam:  16%|█▋        | 45/276 [03:58<19:18,  5.02s/it]"
     ]
    },
    {
     "name": "stdout",
     "output_type": "stream",
     "text": [
      "[INFO 20240913-13-35-20 p1104 flush clog.py:115] 100%|##########| 1/1 [00:05<00:00,  5.10s/it]\n",
      "[INFO 20240913-13-35-20 p1104 flush clog.py:115] \n",
      "[INFO 20240913-13-35-20 p1104 flush clog.py:115] 0%|          | 0/1 [00:00<?, ?it/s]\n",
      "[INFO 20240913-13-35-20 p1104 flush clog.py:115] \u001b[A\n"
     ]
    },
    {
     "name": "stderr",
     "output_type": "stream",
     "text": [
      "sam:  17%|█▋        | 46/276 [04:03<19:20,  5.04s/it]"
     ]
    },
    {
     "name": "stdout",
     "output_type": "stream",
     "text": [
      "[INFO 20240913-13-35-25 p1104 flush clog.py:115] 100%|##########| 1/1 [00:05<00:00,  5.13s/it]\n",
      "[INFO 20240913-13-35-25 p1104 flush clog.py:115] \n",
      "[INFO 20240913-13-35-25 p1104 flush clog.py:115] 0%|          | 0/1 [00:00<?, ?it/s]\n",
      "[INFO 20240913-13-35-25 p1104 flush clog.py:115] \u001b[A\n"
     ]
    },
    {
     "name": "stderr",
     "output_type": "stream",
     "text": [
      "sam:  17%|█▋        | 47/276 [04:08<19:22,  5.08s/it]"
     ]
    },
    {
     "name": "stdout",
     "output_type": "stream",
     "text": [
      "[INFO 20240913-13-35-30 p1104 flush clog.py:115] 100%|##########| 1/1 [00:05<00:00,  5.07s/it]\n",
      "[INFO 20240913-13-35-30 p1104 flush clog.py:115] \n",
      "[INFO 20240913-13-35-30 p1104 flush clog.py:115] 0%|          | 0/1 [00:00<?, ?it/s]\n",
      "[INFO 20240913-13-35-30 p1104 flush clog.py:115] \u001b[A\n"
     ]
    },
    {
     "name": "stderr",
     "output_type": "stream",
     "text": [
      "sam:  17%|█▋        | 48/276 [04:13<19:20,  5.09s/it]"
     ]
    },
    {
     "name": "stdout",
     "output_type": "stream",
     "text": [
      "[INFO 20240913-13-35-35 p1104 flush clog.py:115] 100%|##########| 1/1 [00:05<00:00,  5.06s/it]\n",
      "[INFO 20240913-13-35-35 p1104 flush clog.py:115] \n",
      "[INFO 20240913-13-35-35 p1104 flush clog.py:115] 0%|          | 0/1 [00:00<?, ?it/s]\n",
      "[INFO 20240913-13-35-35 p1104 flush clog.py:115] \u001b[A\n"
     ]
    },
    {
     "name": "stderr",
     "output_type": "stream",
     "text": [
      "sam:  18%|█▊        | 49/276 [04:18<19:16,  5.09s/it]"
     ]
    },
    {
     "name": "stdout",
     "output_type": "stream",
     "text": [
      "[INFO 20240913-13-35-40 p1104 flush clog.py:115] 100%|##########| 1/1 [00:04<00:00,  4.99s/it]\n",
      "[INFO 20240913-13-35-40 p1104 flush clog.py:115] \n",
      "[INFO 20240913-13-35-40 p1104 flush clog.py:115] 0%|          | 0/1 [00:00<?, ?it/s]\n",
      "[INFO 20240913-13-35-40 p1104 flush clog.py:115] \u001b[A\n"
     ]
    },
    {
     "name": "stderr",
     "output_type": "stream",
     "text": [
      "sam:  18%|█▊        | 50/276 [04:23<19:04,  5.07s/it]"
     ]
    },
    {
     "name": "stdout",
     "output_type": "stream",
     "text": [
      "[INFO 20240913-13-35-45 p1104 flush clog.py:115] 100%|##########| 1/1 [00:05<00:00,  5.04s/it]\n",
      "[INFO 20240913-13-35-45 p1104 flush clog.py:115] \n",
      "[INFO 20240913-13-35-45 p1104 flush clog.py:115] 0%|          | 0/1 [00:00<?, ?it/s]\n",
      "[INFO 20240913-13-35-45 p1104 flush clog.py:115] \u001b[A\n"
     ]
    },
    {
     "name": "stderr",
     "output_type": "stream",
     "text": [
      "sam:  18%|█▊        | 51/276 [04:28<18:58,  5.06s/it]"
     ]
    },
    {
     "name": "stdout",
     "output_type": "stream",
     "text": [
      "[INFO 20240913-13-35-50 p1104 flush clog.py:115] 100%|##########| 1/1 [00:05<00:00,  5.04s/it]\n",
      "[INFO 20240913-13-35-50 p1104 flush clog.py:115] \n",
      "[INFO 20240913-13-35-50 p1104 flush clog.py:115] 0%|          | 0/1 [00:00<?, ?it/s]\n",
      "[INFO 20240913-13-35-50 p1104 flush clog.py:115] \u001b[A\n"
     ]
    },
    {
     "name": "stderr",
     "output_type": "stream",
     "text": [
      "sam:  19%|█▉        | 52/276 [04:33<18:53,  5.06s/it]"
     ]
    },
    {
     "name": "stdout",
     "output_type": "stream",
     "text": [
      "[INFO 20240913-13-35-55 p1104 flush clog.py:115] 100%|##########| 1/1 [00:05<00:00,  5.09s/it]\n",
      "[INFO 20240913-13-35-55 p1104 flush clog.py:115] \n",
      "[INFO 20240913-13-35-55 p1104 flush clog.py:115] 0%|          | 0/1 [00:00<?, ?it/s]\n",
      "[INFO 20240913-13-35-55 p1104 flush clog.py:115] \u001b[A\n"
     ]
    },
    {
     "name": "stderr",
     "output_type": "stream",
     "text": [
      "sam:  19%|█▉        | 53/276 [04:38<18:51,  5.07s/it]"
     ]
    },
    {
     "name": "stdout",
     "output_type": "stream",
     "text": [
      "[INFO 20240913-13-36-01 p1104 flush clog.py:115] 100%|##########| 1/1 [00:05<00:00,  5.08s/it]\n",
      "[INFO 20240913-13-36-01 p1104 flush clog.py:115] \n",
      "[INFO 20240913-13-36-01 p1104 flush clog.py:115] 0%|          | 0/1 [00:00<?, ?it/s]\n",
      "[INFO 20240913-13-36-01 p1104 flush clog.py:115] \u001b[A\n"
     ]
    },
    {
     "name": "stderr",
     "output_type": "stream",
     "text": [
      "sam:  20%|█▉        | 54/276 [04:43<18:47,  5.08s/it]"
     ]
    },
    {
     "name": "stdout",
     "output_type": "stream",
     "text": [
      "[INFO 20240913-13-36-06 p1104 flush clog.py:115] 100%|##########| 1/1 [00:05<00:00,  5.07s/it]\n",
      "[INFO 20240913-13-36-06 p1104 flush clog.py:115] \n",
      "[INFO 20240913-13-36-06 p1104 flush clog.py:115] 0%|          | 0/1 [00:00<?, ?it/s]\n",
      "[INFO 20240913-13-36-06 p1104 flush clog.py:115] \u001b[A\n"
     ]
    },
    {
     "name": "stderr",
     "output_type": "stream",
     "text": [
      "sam:  20%|█▉        | 55/276 [04:49<18:42,  5.08s/it]"
     ]
    },
    {
     "name": "stdout",
     "output_type": "stream",
     "text": [
      "[INFO 20240913-13-36-11 p1104 flush clog.py:115] 100%|##########| 1/1 [00:05<00:00,  5.08s/it]\n",
      "[INFO 20240913-13-36-11 p1104 flush clog.py:115] \n",
      "[INFO 20240913-13-36-11 p1104 flush clog.py:115] 0%|          | 0/1 [00:00<?, ?it/s]\n",
      "[INFO 20240913-13-36-11 p1104 flush clog.py:115] \u001b[A\n"
     ]
    },
    {
     "name": "stderr",
     "output_type": "stream",
     "text": [
      "sam:  20%|██        | 56/276 [04:54<18:38,  5.09s/it]"
     ]
    },
    {
     "name": "stdout",
     "output_type": "stream",
     "text": [
      "[INFO 20240913-13-36-15 p1104 flush clog.py:115] 100%|##########| 1/1 [00:04<00:00,  4.78s/it]\n",
      "[INFO 20240913-13-36-16 p1104 flush clog.py:115] \n",
      "[INFO 20240913-13-36-16 p1104 flush clog.py:115] 0%|          | 0/1 [00:00<?, ?it/s]\n",
      "[INFO 20240913-13-36-16 p1104 flush clog.py:115] \u001b[A\n"
     ]
    },
    {
     "name": "stderr",
     "output_type": "stream",
     "text": [
      "sam:  21%|██        | 57/276 [04:58<18:14,  5.00s/it]"
     ]
    },
    {
     "name": "stdout",
     "output_type": "stream",
     "text": [
      "[INFO 20240913-13-36-21 p1104 flush clog.py:115] 100%|##########| 1/1 [00:05<00:00,  5.02s/it]\n",
      "[INFO 20240913-13-36-21 p1104 flush clog.py:115] \n",
      "[INFO 20240913-13-36-21 p1104 flush clog.py:115] 0%|          | 0/1 [00:00<?, ?it/s]\n",
      "[INFO 20240913-13-36-21 p1104 flush clog.py:115] \u001b[A\n"
     ]
    },
    {
     "name": "stderr",
     "output_type": "stream",
     "text": [
      "sam:  21%|██        | 58/276 [05:04<18:12,  5.01s/it]"
     ]
    },
    {
     "name": "stdout",
     "output_type": "stream",
     "text": [
      "[INFO 20240913-13-36-26 p1104 flush clog.py:115] 100%|##########| 1/1 [00:04<00:00,  4.96s/it]\n",
      "[INFO 20240913-13-36-26 p1104 flush clog.py:115] \n",
      "[INFO 20240913-13-36-26 p1104 flush clog.py:115] 0%|          | 0/1 [00:00<?, ?it/s]\n",
      "[INFO 20240913-13-36-26 p1104 flush clog.py:115] \u001b[A\n"
     ]
    },
    {
     "name": "stderr",
     "output_type": "stream",
     "text": [
      "sam:  21%|██▏       | 59/276 [05:08<18:04,  5.00s/it]"
     ]
    },
    {
     "name": "stdout",
     "output_type": "stream",
     "text": [
      "[INFO 20240913-13-36-31 p1104 flush clog.py:115] 100%|##########| 1/1 [00:05<00:00,  5.03s/it]\n",
      "[INFO 20240913-13-36-31 p1104 flush clog.py:115] \n",
      "[INFO 20240913-13-36-31 p1104 flush clog.py:115] 0%|          | 0/1 [00:00<?, ?it/s]\n",
      "[INFO 20240913-13-36-31 p1104 flush clog.py:115] \u001b[A\n"
     ]
    },
    {
     "name": "stderr",
     "output_type": "stream",
     "text": [
      "sam:  22%|██▏       | 60/276 [05:14<18:03,  5.01s/it]"
     ]
    },
    {
     "name": "stdout",
     "output_type": "stream",
     "text": [
      "[INFO 20240913-13-36-36 p1104 flush clog.py:115] 100%|##########| 1/1 [00:04<00:00,  4.97s/it]\n",
      "[INFO 20240913-13-36-36 p1104 flush clog.py:115] \n",
      "[INFO 20240913-13-36-36 p1104 flush clog.py:115] 0%|          | 0/1 [00:00<?, ?it/s]\n",
      "[INFO 20240913-13-36-36 p1104 flush clog.py:115] \u001b[A\n"
     ]
    },
    {
     "name": "stderr",
     "output_type": "stream",
     "text": [
      "sam:  22%|██▏       | 61/276 [05:19<17:56,  5.01s/it]"
     ]
    },
    {
     "name": "stdout",
     "output_type": "stream",
     "text": [
      "[INFO 20240913-13-36-41 p1104 flush clog.py:115] 100%|##########| 1/1 [00:05<00:00,  5.05s/it]\n",
      "[INFO 20240913-13-36-41 p1104 flush clog.py:115] \n",
      "[INFO 20240913-13-36-41 p1104 flush clog.py:115] 0%|          | 0/1 [00:00<?, ?it/s]\n",
      "[INFO 20240913-13-36-41 p1104 flush clog.py:115] \u001b[A\n"
     ]
    },
    {
     "name": "stderr",
     "output_type": "stream",
     "text": [
      "sam:  22%|██▏       | 62/276 [05:24<17:54,  5.02s/it]"
     ]
    },
    {
     "name": "stdout",
     "output_type": "stream",
     "text": [
      "[INFO 20240913-13-36-46 p1104 flush clog.py:115] 100%|##########| 1/1 [00:05<00:00,  5.04s/it]\n",
      "[INFO 20240913-13-36-46 p1104 flush clog.py:115] \n",
      "[INFO 20240913-13-36-46 p1104 flush clog.py:115] 0%|          | 0/1 [00:00<?, ?it/s]\n",
      "[INFO 20240913-13-36-46 p1104 flush clog.py:115] \u001b[A\n"
     ]
    },
    {
     "name": "stderr",
     "output_type": "stream",
     "text": [
      "sam:  23%|██▎       | 63/276 [05:29<17:51,  5.03s/it]"
     ]
    },
    {
     "name": "stdout",
     "output_type": "stream",
     "text": [
      "[INFO 20240913-13-36-51 p1104 flush clog.py:115] 100%|##########| 1/1 [00:04<00:00,  5.00s/it]\n",
      "[INFO 20240913-13-36-51 p1104 flush clog.py:115] \n",
      "[INFO 20240913-13-36-51 p1104 flush clog.py:115] 0%|          | 0/1 [00:00<?, ?it/s]\n",
      "[INFO 20240913-13-36-51 p1104 flush clog.py:115] \u001b[A\n"
     ]
    },
    {
     "name": "stderr",
     "output_type": "stream",
     "text": [
      "sam:  23%|██▎       | 64/276 [05:34<17:45,  5.03s/it]"
     ]
    },
    {
     "name": "stdout",
     "output_type": "stream",
     "text": [
      "[INFO 20240913-13-36-56 p1104 flush clog.py:115] 100%|##########| 1/1 [00:04<00:00,  4.95s/it]\n",
      "[INFO 20240913-13-36-56 p1104 flush clog.py:115] \n",
      "[INFO 20240913-13-36-56 p1104 flush clog.py:115] 0%|          | 0/1 [00:00<?, ?it/s]\n",
      "[INFO 20240913-13-36-56 p1104 flush clog.py:115] \u001b[A\n"
     ]
    },
    {
     "name": "stderr",
     "output_type": "stream",
     "text": [
      "sam:  24%|██▎       | 65/276 [05:39<17:36,  5.01s/it]"
     ]
    },
    {
     "name": "stdout",
     "output_type": "stream",
     "text": [
      "[INFO 20240913-13-37-01 p1104 flush clog.py:115] 100%|##########| 1/1 [00:04<00:00,  4.92s/it]\n",
      "[INFO 20240913-13-37-01 p1104 flush clog.py:115] \n",
      "[INFO 20240913-13-37-01 p1104 flush clog.py:115] 0%|          | 0/1 [00:00<?, ?it/s]\n",
      "[INFO 20240913-13-37-01 p1104 flush clog.py:115] \u001b[A\n"
     ]
    },
    {
     "name": "stderr",
     "output_type": "stream",
     "text": [
      "sam:  24%|██▍       | 66/276 [05:44<17:27,  4.99s/it]"
     ]
    },
    {
     "name": "stdout",
     "output_type": "stream",
     "text": [
      "[INFO 20240913-13-37-05 p1104 flush clog.py:115] 100%|##########| 1/1 [00:04<00:00,  4.90s/it]\n",
      "[INFO 20240913-13-37-06 p1104 flush clog.py:115] \n",
      "[INFO 20240913-13-37-06 p1104 flush clog.py:115] 0%|          | 0/1 [00:00<?, ?it/s]\n",
      "[INFO 20240913-13-37-06 p1104 flush clog.py:115] \u001b[A\n"
     ]
    },
    {
     "name": "stderr",
     "output_type": "stream",
     "text": [
      "sam:  24%|██▍       | 67/276 [05:48<17:17,  4.97s/it]"
     ]
    },
    {
     "name": "stdout",
     "output_type": "stream",
     "text": [
      "[INFO 20240913-13-37-10 p1104 flush clog.py:115] 100%|##########| 1/1 [00:04<00:00,  4.94s/it]\n",
      "[INFO 20240913-13-37-10 p1104 flush clog.py:115] \n",
      "[INFO 20240913-13-37-10 p1104 flush clog.py:115] 0%|          | 0/1 [00:00<?, ?it/s]\n",
      "[INFO 20240913-13-37-10 p1104 flush clog.py:115] \u001b[A\n"
     ]
    },
    {
     "name": "stderr",
     "output_type": "stream",
     "text": [
      "sam:  25%|██▍       | 68/276 [05:53<17:12,  4.96s/it]"
     ]
    },
    {
     "name": "stdout",
     "output_type": "stream",
     "text": [
      "[INFO 20240913-13-37-15 p1104 flush clog.py:115] 100%|##########| 1/1 [00:04<00:00,  4.81s/it]\n",
      "[INFO 20240913-13-37-15 p1104 flush clog.py:115] \n",
      "[INFO 20240913-13-37-15 p1104 flush clog.py:115] 0%|          | 0/1 [00:00<?, ?it/s]\n",
      "[INFO 20240913-13-37-15 p1104 flush clog.py:115] \u001b[A\n"
     ]
    },
    {
     "name": "stderr",
     "output_type": "stream",
     "text": [
      "sam:  25%|██▌       | 69/276 [05:58<16:58,  4.92s/it]"
     ]
    },
    {
     "name": "stdout",
     "output_type": "stream",
     "text": [
      "[INFO 20240913-13-37-20 p1104 flush clog.py:115] 100%|##########| 1/1 [00:04<00:00,  4.96s/it]\n",
      "[INFO 20240913-13-37-20 p1104 flush clog.py:115] \n",
      "[INFO 20240913-13-37-20 p1104 flush clog.py:115] 0%|          | 0/1 [00:00<?, ?it/s]\n",
      "[INFO 20240913-13-37-20 p1104 flush clog.py:115] \u001b[A\n"
     ]
    },
    {
     "name": "stderr",
     "output_type": "stream",
     "text": [
      "sam:  25%|██▌       | 70/276 [06:03<16:57,  4.94s/it]"
     ]
    },
    {
     "name": "stdout",
     "output_type": "stream",
     "text": [
      "[INFO 20240913-13-37-25 p1104 flush clog.py:115] 100%|##########| 1/1 [00:05<00:00,  5.06s/it]\n",
      "[INFO 20240913-13-37-25 p1104 flush clog.py:115] \n",
      "[INFO 20240913-13-37-25 p1104 flush clog.py:115] 0%|          | 0/1 [00:00<?, ?it/s]\n",
      "[INFO 20240913-13-37-25 p1104 flush clog.py:115] \u001b[A\n"
     ]
    },
    {
     "name": "stderr",
     "output_type": "stream",
     "text": [
      "sam:  26%|██▌       | 71/276 [06:08<17:00,  4.98s/it]"
     ]
    },
    {
     "name": "stdout",
     "output_type": "stream",
     "text": [
      "[INFO 20240913-13-37-30 p1104 flush clog.py:115] 100%|##########| 1/1 [00:04<00:00,  4.96s/it]\n",
      "[INFO 20240913-13-37-30 p1104 flush clog.py:115] \n",
      "[INFO 20240913-13-37-30 p1104 flush clog.py:115] 0%|          | 0/1 [00:00<?, ?it/s]\n",
      "[INFO 20240913-13-37-30 p1104 flush clog.py:115] \u001b[A\n"
     ]
    },
    {
     "name": "stderr",
     "output_type": "stream",
     "text": [
      "sam:  26%|██▌       | 72/276 [06:13<16:56,  4.98s/it]"
     ]
    },
    {
     "name": "stdout",
     "output_type": "stream",
     "text": [
      "[INFO 20240913-13-37-35 p1104 flush clog.py:115] 100%|##########| 1/1 [00:04<00:00,  4.93s/it]\n",
      "[INFO 20240913-13-37-35 p1104 flush clog.py:115] \n",
      "[INFO 20240913-13-37-35 p1104 flush clog.py:115] 0%|          | 0/1 [00:00<?, ?it/s]\n",
      "[INFO 20240913-13-37-35 p1104 flush clog.py:115] \u001b[A\n"
     ]
    },
    {
     "name": "stderr",
     "output_type": "stream",
     "text": [
      "sam:  26%|██▋       | 73/276 [06:18<16:49,  4.97s/it]"
     ]
    },
    {
     "name": "stdout",
     "output_type": "stream",
     "text": [
      "[INFO 20240913-13-37-40 p1104 flush clog.py:115] 100%|##########| 1/1 [00:04<00:00,  4.93s/it]\n",
      "[INFO 20240913-13-37-40 p1104 flush clog.py:115] \n",
      "[INFO 20240913-13-37-40 p1104 flush clog.py:115] 0%|          | 0/1 [00:00<?, ?it/s]\n",
      "[INFO 20240913-13-37-40 p1104 flush clog.py:115] \u001b[A\n"
     ]
    },
    {
     "name": "stderr",
     "output_type": "stream",
     "text": [
      "sam:  27%|██▋       | 74/276 [06:23<16:44,  4.97s/it]"
     ]
    },
    {
     "name": "stdout",
     "output_type": "stream",
     "text": [
      "[INFO 20240913-13-37-45 p1104 flush clog.py:115] 100%|##########| 1/1 [00:04<00:00,  4.96s/it]\n",
      "[INFO 20240913-13-37-45 p1104 flush clog.py:115] \n",
      "[INFO 20240913-13-37-45 p1104 flush clog.py:115] 0%|          | 0/1 [00:00<?, ?it/s]\n",
      "[INFO 20240913-13-37-45 p1104 flush clog.py:115] \u001b[A\n"
     ]
    },
    {
     "name": "stderr",
     "output_type": "stream",
     "text": [
      "sam:  27%|██▋       | 75/276 [06:28<16:39,  4.97s/it]"
     ]
    },
    {
     "name": "stdout",
     "output_type": "stream",
     "text": [
      "[INFO 20240913-13-37-50 p1104 flush clog.py:115] 100%|##########| 1/1 [00:04<00:00,  4.93s/it]\n",
      "[INFO 20240913-13-37-50 p1104 flush clog.py:115] \n",
      "[INFO 20240913-13-37-50 p1104 flush clog.py:115] 0%|          | 0/1 [00:00<?, ?it/s]\n",
      "[INFO 20240913-13-37-50 p1104 flush clog.py:115] \u001b[A\n"
     ]
    },
    {
     "name": "stderr",
     "output_type": "stream",
     "text": [
      "sam:  28%|██▊       | 76/276 [06:33<16:32,  4.96s/it]"
     ]
    },
    {
     "name": "stdout",
     "output_type": "stream",
     "text": [
      "[INFO 20240913-13-37-55 p1104 flush clog.py:115] 100%|##########| 1/1 [00:04<00:00,  4.91s/it]\n",
      "[INFO 20240913-13-37-55 p1104 flush clog.py:115] \n",
      "[INFO 20240913-13-37-55 p1104 flush clog.py:115] 0%|          | 0/1 [00:00<?, ?it/s]\n",
      "[INFO 20240913-13-37-55 p1104 flush clog.py:115] \u001b[A\n"
     ]
    },
    {
     "name": "stderr",
     "output_type": "stream",
     "text": [
      "sam:  28%|██▊       | 77/276 [06:38<16:25,  4.95s/it]"
     ]
    },
    {
     "name": "stdout",
     "output_type": "stream",
     "text": [
      "[INFO 20240913-13-38-00 p1104 flush clog.py:115] 100%|##########| 1/1 [00:04<00:00,  4.96s/it]\n",
      "[INFO 20240913-13-38-00 p1104 flush clog.py:115] \n",
      "[INFO 20240913-13-38-00 p1104 flush clog.py:115] 0%|          | 0/1 [00:00<?, ?it/s]\n",
      "[INFO 20240913-13-38-00 p1104 flush clog.py:115] \u001b[A\n"
     ]
    },
    {
     "name": "stderr",
     "output_type": "stream",
     "text": [
      "sam:  28%|██▊       | 78/276 [06:43<16:21,  4.96s/it]"
     ]
    },
    {
     "name": "stdout",
     "output_type": "stream",
     "text": [
      "[INFO 20240913-13-38-05 p1104 flush clog.py:115] 100%|##########| 1/1 [00:05<00:00,  5.06s/it]\n",
      "[INFO 20240913-13-38-05 p1104 flush clog.py:115] \n",
      "[INFO 20240913-13-38-05 p1104 flush clog.py:115] 0%|          | 0/1 [00:00<?, ?it/s]\n",
      "[INFO 20240913-13-38-05 p1104 flush clog.py:115] \u001b[A\n"
     ]
    },
    {
     "name": "stderr",
     "output_type": "stream",
     "text": [
      "sam:  29%|██▊       | 79/276 [06:48<16:23,  4.99s/it]"
     ]
    },
    {
     "name": "stdout",
     "output_type": "stream",
     "text": [
      "[INFO 20240913-13-38-10 p1104 flush clog.py:115] 100%|##########| 1/1 [00:05<00:00,  5.03s/it]\n",
      "[INFO 20240913-13-38-10 p1104 flush clog.py:115] \n",
      "[INFO 20240913-13-38-10 p1104 flush clog.py:115] 0%|          | 0/1 [00:00<?, ?it/s]\n",
      "[INFO 20240913-13-38-10 p1104 flush clog.py:115] \u001b[A\n"
     ]
    },
    {
     "name": "stderr",
     "output_type": "stream",
     "text": [
      "sam:  29%|██▉       | 80/276 [06:53<16:21,  5.01s/it]"
     ]
    },
    {
     "name": "stdout",
     "output_type": "stream",
     "text": [
      "[INFO 20240913-13-38-15 p1104 flush clog.py:115] 100%|##########| 1/1 [00:04<00:00,  4.88s/it]\n",
      "[INFO 20240913-13-38-15 p1104 flush clog.py:115] \n",
      "[INFO 20240913-13-38-15 p1104 flush clog.py:115] 0%|          | 0/1 [00:00<?, ?it/s]\n",
      "[INFO 20240913-13-38-15 p1104 flush clog.py:115] \u001b[A\n"
     ]
    },
    {
     "name": "stderr",
     "output_type": "stream",
     "text": [
      "sam:  29%|██▉       | 81/276 [06:58<16:10,  4.98s/it]"
     ]
    },
    {
     "name": "stdout",
     "output_type": "stream",
     "text": [
      "[INFO 20240913-13-38-20 p1104 flush clog.py:115] 100%|##########| 1/1 [00:04<00:00,  4.99s/it]\n",
      "[INFO 20240913-13-38-20 p1104 flush clog.py:115] \n",
      "[INFO 20240913-13-38-20 p1104 flush clog.py:115] 0%|          | 0/1 [00:00<?, ?it/s]\n",
      "[INFO 20240913-13-38-20 p1104 flush clog.py:115] \u001b[A\n"
     ]
    },
    {
     "name": "stderr",
     "output_type": "stream",
     "text": [
      "sam:  30%|██▉       | 82/276 [07:03<16:07,  4.99s/it]"
     ]
    },
    {
     "name": "stdout",
     "output_type": "stream",
     "text": [
      "[INFO 20240913-13-38-25 p1104 flush clog.py:115] 100%|##########| 1/1 [00:04<00:00,  4.97s/it]\n",
      "[INFO 20240913-13-38-25 p1104 flush clog.py:115] \n",
      "[INFO 20240913-13-38-25 p1104 flush clog.py:115] 0%|          | 0/1 [00:00<?, ?it/s]\n",
      "[INFO 20240913-13-38-25 p1104 flush clog.py:115] \u001b[A\n"
     ]
    },
    {
     "name": "stderr",
     "output_type": "stream",
     "text": [
      "sam:  30%|███       | 83/276 [07:08<16:02,  4.99s/it]"
     ]
    },
    {
     "name": "stdout",
     "output_type": "stream",
     "text": [
      "[INFO 20240913-13-38-30 p1104 flush clog.py:115] 100%|##########| 1/1 [00:04<00:00,  4.88s/it]\n",
      "[INFO 20240913-13-38-30 p1104 flush clog.py:115] \n",
      "[INFO 20240913-13-38-30 p1104 flush clog.py:115] 0%|          | 0/1 [00:00<?, ?it/s]\n",
      "[INFO 20240913-13-38-30 p1104 flush clog.py:115] \u001b[A\n"
     ]
    },
    {
     "name": "stderr",
     "output_type": "stream",
     "text": [
      "sam:  30%|███       | 84/276 [07:13<15:52,  4.96s/it]"
     ]
    },
    {
     "name": "stdout",
     "output_type": "stream",
     "text": [
      "[INFO 20240913-13-38-35 p1104 flush clog.py:115] 100%|##########| 1/1 [00:04<00:00,  4.87s/it]\n",
      "[INFO 20240913-13-38-35 p1104 flush clog.py:115] \n",
      "[INFO 20240913-13-38-35 p1104 flush clog.py:115] 0%|          | 0/1 [00:00<?, ?it/s]\n",
      "[INFO 20240913-13-38-35 p1104 flush clog.py:115] \u001b[A\n"
     ]
    },
    {
     "name": "stderr",
     "output_type": "stream",
     "text": [
      "sam:  31%|███       | 85/276 [07:18<15:42,  4.94s/it]"
     ]
    },
    {
     "name": "stdout",
     "output_type": "stream",
     "text": [
      "[INFO 20240913-13-38-40 p1104 flush clog.py:115] 100%|##########| 1/1 [00:04<00:00,  4.84s/it]\n",
      "[INFO 20240913-13-38-40 p1104 flush clog.py:115] \n",
      "[INFO 20240913-13-38-40 p1104 flush clog.py:115] 0%|          | 0/1 [00:00<?, ?it/s]\n",
      "[INFO 20240913-13-38-40 p1104 flush clog.py:115] \u001b[A\n"
     ]
    },
    {
     "name": "stderr",
     "output_type": "stream",
     "text": [
      "sam:  31%|███       | 86/276 [07:23<15:33,  4.91s/it]"
     ]
    },
    {
     "name": "stdout",
     "output_type": "stream",
     "text": [
      "[INFO 20240913-13-38-45 p1104 flush clog.py:115] 100%|##########| 1/1 [00:04<00:00,  4.96s/it]\n",
      "[INFO 20240913-13-38-45 p1104 flush clog.py:115] \n",
      "[INFO 20240913-13-38-45 p1104 flush clog.py:115] 0%|          | 0/1 [00:00<?, ?it/s]\n",
      "[INFO 20240913-13-38-45 p1104 flush clog.py:115] \u001b[A\n"
     ]
    },
    {
     "name": "stderr",
     "output_type": "stream",
     "text": [
      "sam:  32%|███▏      | 87/276 [07:28<15:32,  4.93s/it]"
     ]
    },
    {
     "name": "stdout",
     "output_type": "stream",
     "text": [
      "[INFO 20240913-13-38-50 p1104 flush clog.py:115] 100%|##########| 1/1 [00:04<00:00,  4.95s/it]\n",
      "[INFO 20240913-13-38-50 p1104 flush clog.py:115] \n",
      "[INFO 20240913-13-38-50 p1104 flush clog.py:115] 0%|          | 0/1 [00:00<?, ?it/s]\n",
      "[INFO 20240913-13-38-50 p1104 flush clog.py:115] \u001b[A\n"
     ]
    },
    {
     "name": "stderr",
     "output_type": "stream",
     "text": [
      "sam:  32%|███▏      | 88/276 [07:33<15:29,  4.94s/it]"
     ]
    },
    {
     "name": "stdout",
     "output_type": "stream",
     "text": [
      "[INFO 20240913-13-38-55 p1104 flush clog.py:115] 100%|##########| 1/1 [00:04<00:00,  4.91s/it]\n",
      "[INFO 20240913-13-38-55 p1104 flush clog.py:115] \n",
      "[INFO 20240913-13-38-55 p1104 flush clog.py:115] 0%|          | 0/1 [00:00<?, ?it/s]\n",
      "[INFO 20240913-13-38-55 p1104 flush clog.py:115] \u001b[A\n"
     ]
    },
    {
     "name": "stderr",
     "output_type": "stream",
     "text": [
      "sam:  32%|███▏      | 89/276 [07:38<15:23,  4.94s/it]"
     ]
    },
    {
     "name": "stdout",
     "output_type": "stream",
     "text": [
      "[INFO 20240913-13-38-59 p1104 flush clog.py:115] 100%|##########| 1/1 [00:04<00:00,  4.90s/it]\n",
      "[INFO 20240913-13-39-00 p1104 flush clog.py:115] \n",
      "[INFO 20240913-13-39-00 p1104 flush clog.py:115] 0%|          | 0/1 [00:00<?, ?it/s]\n",
      "[INFO 20240913-13-39-00 p1104 flush clog.py:115] \u001b[A\n"
     ]
    },
    {
     "name": "stderr",
     "output_type": "stream",
     "text": [
      "sam:  33%|███▎      | 90/276 [07:42<15:17,  4.93s/it]"
     ]
    },
    {
     "name": "stdout",
     "output_type": "stream",
     "text": [
      "[INFO 20240913-13-39-04 p1104 flush clog.py:115] 100%|##########| 1/1 [00:04<00:00,  4.90s/it]\n",
      "[INFO 20240913-13-39-04 p1104 flush clog.py:115] \n",
      "[INFO 20240913-13-39-04 p1104 flush clog.py:115] 0%|          | 0/1 [00:00<?, ?it/s]\n",
      "[INFO 20240913-13-39-04 p1104 flush clog.py:115] \u001b[A\n"
     ]
    },
    {
     "name": "stderr",
     "output_type": "stream",
     "text": [
      "sam:  33%|███▎      | 91/276 [07:47<15:11,  4.92s/it]"
     ]
    },
    {
     "name": "stdout",
     "output_type": "stream",
     "text": [
      "[INFO 20240913-13-39-09 p1104 flush clog.py:115] 100%|##########| 1/1 [00:04<00:00,  5.00s/it]\n",
      "[INFO 20240913-13-39-09 p1104 flush clog.py:115] \n",
      "[INFO 20240913-13-39-09 p1104 flush clog.py:115] 0%|          | 0/1 [00:00<?, ?it/s]\n",
      "[INFO 20240913-13-39-09 p1104 flush clog.py:115] \u001b[A\n"
     ]
    },
    {
     "name": "stderr",
     "output_type": "stream",
     "text": [
      "sam:  33%|███▎      | 92/276 [07:52<15:10,  4.95s/it]"
     ]
    },
    {
     "name": "stdout",
     "output_type": "stream",
     "text": [
      "[INFO 20240913-13-39-14 p1104 flush clog.py:115] 100%|##########| 1/1 [00:04<00:00,  4.83s/it]\n",
      "[INFO 20240913-13-39-14 p1104 flush clog.py:115] \n",
      "[INFO 20240913-13-39-14 p1104 flush clog.py:115] 0%|          | 0/1 [00:00<?, ?it/s]\n",
      "[INFO 20240913-13-39-14 p1104 flush clog.py:115] \u001b[A\n"
     ]
    },
    {
     "name": "stderr",
     "output_type": "stream",
     "text": [
      "sam:  34%|███▎      | 93/276 [07:57<15:00,  4.92s/it]"
     ]
    },
    {
     "name": "stdout",
     "output_type": "stream",
     "text": [
      "[INFO 20240913-13-39-19 p1104 flush clog.py:115] 100%|##########| 1/1 [00:04<00:00,  4.86s/it]\n",
      "[INFO 20240913-13-39-19 p1104 flush clog.py:115] \n",
      "[INFO 20240913-13-39-19 p1104 flush clog.py:115] 0%|          | 0/1 [00:00<?, ?it/s]\n",
      "[INFO 20240913-13-39-19 p1104 flush clog.py:115] \u001b[A\n"
     ]
    },
    {
     "name": "stderr",
     "output_type": "stream",
     "text": [
      "sam:  34%|███▍      | 94/276 [08:02<14:52,  4.91s/it]"
     ]
    },
    {
     "name": "stdout",
     "output_type": "stream",
     "text": [
      "[INFO 20240913-13-39-24 p1104 flush clog.py:115] 100%|##########| 1/1 [00:04<00:00,  4.86s/it]\n",
      "[INFO 20240913-13-39-24 p1104 flush clog.py:115] \n",
      "[INFO 20240913-13-39-24 p1104 flush clog.py:115] 0%|          | 0/1 [00:00<?, ?it/s]\n",
      "[INFO 20240913-13-39-24 p1104 flush clog.py:115] \u001b[A\n"
     ]
    },
    {
     "name": "stderr",
     "output_type": "stream",
     "text": [
      "sam:  34%|███▍      | 95/276 [08:07<14:46,  4.90s/it]"
     ]
    },
    {
     "name": "stdout",
     "output_type": "stream",
     "text": [
      "[INFO 20240913-13-39-29 p1104 flush clog.py:115] 100%|##########| 1/1 [00:04<00:00,  4.72s/it]\n",
      "[INFO 20240913-13-39-29 p1104 flush clog.py:115] \n",
      "[INFO 20240913-13-39-29 p1104 flush clog.py:115] 0%|          | 0/1 [00:00<?, ?it/s]\n",
      "[INFO 20240913-13-39-29 p1104 flush clog.py:115] \u001b[A\n"
     ]
    },
    {
     "name": "stderr",
     "output_type": "stream",
     "text": [
      "sam:  35%|███▍      | 96/276 [08:12<14:32,  4.85s/it]"
     ]
    },
    {
     "name": "stdout",
     "output_type": "stream",
     "text": [
      "[INFO 20240913-13-39-34 p1104 flush clog.py:115] 100%|##########| 1/1 [00:04<00:00,  4.94s/it]\n",
      "[INFO 20240913-13-39-34 p1104 flush clog.py:115] \n",
      "[INFO 20240913-13-39-34 p1104 flush clog.py:115] 0%|          | 0/1 [00:00<?, ?it/s]\n",
      "[INFO 20240913-13-39-34 p1104 flush clog.py:115] \u001b[A\n"
     ]
    },
    {
     "name": "stderr",
     "output_type": "stream",
     "text": [
      "sam:  35%|███▌      | 97/276 [08:17<14:33,  4.88s/it]"
     ]
    },
    {
     "name": "stdout",
     "output_type": "stream",
     "text": [
      "[INFO 20240913-13-39-38 p1104 flush clog.py:115] 100%|##########| 1/1 [00:04<00:00,  4.69s/it]\n",
      "[INFO 20240913-13-39-38 p1104 flush clog.py:115] \n",
      "[INFO 20240913-13-39-38 p1104 flush clog.py:115] 0%|          | 0/1 [00:00<?, ?it/s]\n",
      "[INFO 20240913-13-39-38 p1104 flush clog.py:115] \u001b[A\n"
     ]
    },
    {
     "name": "stderr",
     "output_type": "stream",
     "text": [
      "sam:  36%|███▌      | 98/276 [08:21<14:19,  4.83s/it]"
     ]
    },
    {
     "name": "stdout",
     "output_type": "stream",
     "text": [
      "[INFO 20240913-13-39-43 p1104 flush clog.py:115] 100%|##########| 1/1 [00:04<00:00,  4.87s/it]\n",
      "[INFO 20240913-13-39-43 p1104 flush clog.py:115] \n",
      "[INFO 20240913-13-39-43 p1104 flush clog.py:115] 0%|          | 0/1 [00:00<?, ?it/s]\n",
      "[INFO 20240913-13-39-43 p1104 flush clog.py:115] \u001b[A\n"
     ]
    },
    {
     "name": "stderr",
     "output_type": "stream",
     "text": [
      "sam:  36%|███▌      | 99/276 [08:26<14:17,  4.84s/it]"
     ]
    },
    {
     "name": "stdout",
     "output_type": "stream",
     "text": [
      "[INFO 20240913-13-39-48 p1104 flush clog.py:115] 100%|##########| 1/1 [00:04<00:00,  4.84s/it]\n",
      "[INFO 20240913-13-39-48 p1104 flush clog.py:115] \n",
      "[INFO 20240913-13-39-48 p1104 flush clog.py:115] 0%|          | 0/1 [00:00<?, ?it/s]\n",
      "[INFO 20240913-13-39-48 p1104 flush clog.py:115] \u001b[A\n"
     ]
    },
    {
     "name": "stderr",
     "output_type": "stream",
     "text": [
      "sam:  36%|███▌      | 100/276 [08:31<14:13,  4.85s/it]"
     ]
    },
    {
     "name": "stdout",
     "output_type": "stream",
     "text": [
      "[INFO 20240913-13-39-53 p1104 flush clog.py:115] 100%|##########| 1/1 [00:04<00:00,  4.95s/it]\n",
      "[INFO 20240913-13-39-53 p1104 flush clog.py:115] \n",
      "[INFO 20240913-13-39-53 p1104 flush clog.py:115] 0%|          | 0/1 [00:00<?, ?it/s]\n",
      "[INFO 20240913-13-39-53 p1104 flush clog.py:115] \u001b[A\n"
     ]
    },
    {
     "name": "stderr",
     "output_type": "stream",
     "text": [
      "sam:  37%|███▋      | 101/276 [08:36<14:14,  4.88s/it]"
     ]
    },
    {
     "name": "stdout",
     "output_type": "stream",
     "text": [
      "[INFO 20240913-13-39-58 p1104 flush clog.py:115] 100%|##########| 1/1 [00:04<00:00,  4.85s/it]\n",
      "[INFO 20240913-13-39-58 p1104 flush clog.py:115] \n",
      "[INFO 20240913-13-39-58 p1104 flush clog.py:115] 0%|          | 0/1 [00:00<?, ?it/s]\n",
      "[INFO 20240913-13-39-58 p1104 flush clog.py:115] \u001b[A\n"
     ]
    },
    {
     "name": "stderr",
     "output_type": "stream",
     "text": [
      "sam:  37%|███▋      | 102/276 [08:41<14:08,  4.88s/it]"
     ]
    },
    {
     "name": "stdout",
     "output_type": "stream",
     "text": [
      "[INFO 20240913-13-40-03 p1104 flush clog.py:115] 100%|##########| 1/1 [00:05<00:00,  5.01s/it]\n",
      "[INFO 20240913-13-40-03 p1104 flush clog.py:115] \n",
      "[INFO 20240913-13-40-03 p1104 flush clog.py:115] 0%|          | 0/1 [00:00<?, ?it/s]\n",
      "[INFO 20240913-13-40-03 p1104 flush clog.py:115] \u001b[A\n"
     ]
    },
    {
     "name": "stderr",
     "output_type": "stream",
     "text": [
      "sam:  37%|███▋      | 103/276 [08:46<14:11,  4.92s/it]"
     ]
    },
    {
     "name": "stdout",
     "output_type": "stream",
     "text": [
      "[INFO 20240913-13-40-08 p1104 flush clog.py:115] 100%|##########| 1/1 [00:04<00:00,  4.97s/it]\n",
      "[INFO 20240913-13-40-08 p1104 flush clog.py:115] \n",
      "[INFO 20240913-13-40-08 p1104 flush clog.py:115] 0%|          | 0/1 [00:00<?, ?it/s]\n",
      "[INFO 20240913-13-40-08 p1104 flush clog.py:115] \u001b[A\n"
     ]
    },
    {
     "name": "stderr",
     "output_type": "stream",
     "text": [
      "sam:  38%|███▊      | 104/276 [08:51<14:09,  4.94s/it]"
     ]
    },
    {
     "name": "stdout",
     "output_type": "stream",
     "text": [
      "[INFO 20240913-13-40-13 p1104 flush clog.py:115] 100%|##########| 1/1 [00:04<00:00,  4.83s/it]\n",
      "[INFO 20240913-13-40-13 p1104 flush clog.py:115] \n",
      "[INFO 20240913-13-40-13 p1104 flush clog.py:115] 0%|          | 0/1 [00:00<?, ?it/s]\n",
      "[INFO 20240913-13-40-13 p1104 flush clog.py:115] \u001b[A\n"
     ]
    },
    {
     "name": "stderr",
     "output_type": "stream",
     "text": [
      "sam:  38%|███▊      | 105/276 [08:56<14:00,  4.91s/it]"
     ]
    },
    {
     "name": "stdout",
     "output_type": "stream",
     "text": [
      "[INFO 20240913-13-40-18 p1104 flush clog.py:115] 100%|##########| 1/1 [00:04<00:00,  4.96s/it]\n",
      "[INFO 20240913-13-40-18 p1104 flush clog.py:115] \n",
      "[INFO 20240913-13-40-18 p1104 flush clog.py:115] 0%|          | 0/1 [00:00<?, ?it/s]\n",
      "[INFO 20240913-13-40-18 p1104 flush clog.py:115] \u001b[A\n"
     ]
    },
    {
     "name": "stderr",
     "output_type": "stream",
     "text": [
      "sam:  38%|███▊      | 106/276 [09:01<13:58,  4.93s/it]"
     ]
    },
    {
     "name": "stdout",
     "output_type": "stream",
     "text": [
      "[INFO 20240913-13-40-23 p1104 flush clog.py:115] 100%|##########| 1/1 [00:04<00:00,  4.89s/it]\n",
      "[INFO 20240913-13-40-23 p1104 flush clog.py:115] \n",
      "[INFO 20240913-13-40-23 p1104 flush clog.py:115] 0%|          | 0/1 [00:00<?, ?it/s]\n",
      "[INFO 20240913-13-40-23 p1104 flush clog.py:115] \u001b[A\n"
     ]
    },
    {
     "name": "stderr",
     "output_type": "stream",
     "text": [
      "sam:  39%|███▉      | 107/276 [09:06<13:52,  4.92s/it]"
     ]
    },
    {
     "name": "stdout",
     "output_type": "stream",
     "text": [
      "[INFO 20240913-13-40-28 p1104 flush clog.py:115] 100%|##########| 1/1 [00:04<00:00,  4.91s/it]\n",
      "[INFO 20240913-13-40-28 p1104 flush clog.py:115] \n",
      "[INFO 20240913-13-40-28 p1104 flush clog.py:115] 0%|          | 0/1 [00:00<?, ?it/s]\n",
      "[INFO 20240913-13-40-28 p1104 flush clog.py:115] \u001b[A\n"
     ]
    },
    {
     "name": "stderr",
     "output_type": "stream",
     "text": [
      "sam:  39%|███▉      | 108/276 [09:11<13:46,  4.92s/it]"
     ]
    },
    {
     "name": "stdout",
     "output_type": "stream",
     "text": [
      "[INFO 20240913-13-40-33 p1104 flush clog.py:115] 100%|##########| 1/1 [00:05<00:00,  5.02s/it]\n",
      "[INFO 20240913-13-40-33 p1104 flush clog.py:115] \n",
      "[INFO 20240913-13-40-33 p1104 flush clog.py:115] 0%|          | 0/1 [00:00<?, ?it/s]\n",
      "[INFO 20240913-13-40-33 p1104 flush clog.py:115] \u001b[A\n"
     ]
    },
    {
     "name": "stderr",
     "output_type": "stream",
     "text": [
      "sam:  39%|███▉      | 109/276 [09:16<13:47,  4.96s/it]"
     ]
    },
    {
     "name": "stdout",
     "output_type": "stream",
     "text": [
      "[INFO 20240913-13-40-38 p1104 flush clog.py:115] 100%|##########| 1/1 [00:04<00:00,  4.95s/it]\n",
      "[INFO 20240913-13-40-38 p1104 flush clog.py:115] \n",
      "[INFO 20240913-13-40-38 p1104 flush clog.py:115] 0%|          | 0/1 [00:00<?, ?it/s]\n",
      "[INFO 20240913-13-40-38 p1104 flush clog.py:115] \u001b[A\n"
     ]
    },
    {
     "name": "stderr",
     "output_type": "stream",
     "text": [
      "sam:  40%|███▉      | 110/276 [09:21<13:43,  4.96s/it]"
     ]
    },
    {
     "name": "stdout",
     "output_type": "stream",
     "text": [
      "[INFO 20240913-13-40-43 p1104 flush clog.py:115] 100%|##########| 1/1 [00:04<00:00,  4.87s/it]\n",
      "[INFO 20240913-13-40-43 p1104 flush clog.py:115] \n",
      "[INFO 20240913-13-40-43 p1104 flush clog.py:115] 0%|          | 0/1 [00:00<?, ?it/s]\n",
      "[INFO 20240913-13-40-43 p1104 flush clog.py:115] \u001b[A\n"
     ]
    },
    {
     "name": "stderr",
     "output_type": "stream",
     "text": [
      "sam:  40%|████      | 111/276 [09:25<13:34,  4.94s/it]"
     ]
    },
    {
     "name": "stdout",
     "output_type": "stream",
     "text": [
      "[INFO 20240913-13-40-47 p1104 flush clog.py:115] 100%|##########| 1/1 [00:04<00:00,  4.88s/it]\n",
      "[INFO 20240913-13-40-47 p1104 flush clog.py:115] \n",
      "[INFO 20240913-13-40-47 p1104 flush clog.py:115] 0%|          | 0/1 [00:00<?, ?it/s]\n",
      "[INFO 20240913-13-40-47 p1104 flush clog.py:115] \u001b[A\n"
     ]
    },
    {
     "name": "stderr",
     "output_type": "stream",
     "text": [
      "sam:  41%|████      | 112/276 [09:30<13:28,  4.93s/it]"
     ]
    },
    {
     "name": "stdout",
     "output_type": "stream",
     "text": [
      "[INFO 20240913-13-40-52 p1104 flush clog.py:115] 100%|##########| 1/1 [00:04<00:00,  4.94s/it]\n",
      "[INFO 20240913-13-40-52 p1104 flush clog.py:115] \n",
      "[INFO 20240913-13-40-52 p1104 flush clog.py:115] 0%|          | 0/1 [00:00<?, ?it/s]\n",
      "[INFO 20240913-13-40-52 p1104 flush clog.py:115] \u001b[A\n"
     ]
    },
    {
     "name": "stderr",
     "output_type": "stream",
     "text": [
      "sam:  41%|████      | 113/276 [09:35<13:24,  4.93s/it]"
     ]
    },
    {
     "name": "stdout",
     "output_type": "stream",
     "text": [
      "[INFO 20240913-13-40-57 p1104 flush clog.py:115] 100%|##########| 1/1 [00:04<00:00,  4.72s/it]\n",
      "[INFO 20240913-13-40-57 p1104 flush clog.py:115] \n",
      "[INFO 20240913-13-40-57 p1104 flush clog.py:115] 0%|          | 0/1 [00:00<?, ?it/s]\n",
      "[INFO 20240913-13-40-57 p1104 flush clog.py:115] \u001b[A\n"
     ]
    },
    {
     "name": "stderr",
     "output_type": "stream",
     "text": [
      "sam:  41%|████▏     | 114/276 [09:40<13:09,  4.87s/it]"
     ]
    },
    {
     "name": "stdout",
     "output_type": "stream",
     "text": [
      "[INFO 20240913-13-41-02 p1104 flush clog.py:115] 100%|##########| 1/1 [00:04<00:00,  4.78s/it]\n",
      "[INFO 20240913-13-41-02 p1104 flush clog.py:115] \n",
      "[INFO 20240913-13-41-02 p1104 flush clog.py:115] 0%|          | 0/1 [00:00<?, ?it/s]\n",
      "[INFO 20240913-13-41-02 p1104 flush clog.py:115] \u001b[A\n"
     ]
    },
    {
     "name": "stderr",
     "output_type": "stream",
     "text": [
      "sam:  42%|████▏     | 115/276 [09:45<13:01,  4.85s/it]"
     ]
    },
    {
     "name": "stdout",
     "output_type": "stream",
     "text": [
      "[INFO 20240913-13-41-07 p1104 flush clog.py:115] 100%|##########| 1/1 [00:04<00:00,  4.89s/it]\n",
      "[INFO 20240913-13-41-07 p1104 flush clog.py:115] \n",
      "[INFO 20240913-13-41-07 p1104 flush clog.py:115] 0%|          | 0/1 [00:00<?, ?it/s]\n",
      "[INFO 20240913-13-41-07 p1104 flush clog.py:115] \u001b[A\n"
     ]
    },
    {
     "name": "stderr",
     "output_type": "stream",
     "text": [
      "sam:  42%|████▏     | 116/276 [09:50<12:58,  4.87s/it]"
     ]
    },
    {
     "name": "stdout",
     "output_type": "stream",
     "text": [
      "[INFO 20240913-13-41-12 p1104 flush clog.py:115] 100%|##########| 1/1 [00:04<00:00,  4.89s/it]\n",
      "[INFO 20240913-13-41-12 p1104 flush clog.py:115] \n",
      "[INFO 20240913-13-41-12 p1104 flush clog.py:115] 0%|          | 0/1 [00:00<?, ?it/s]\n",
      "[INFO 20240913-13-41-12 p1104 flush clog.py:115] \u001b[A\n"
     ]
    },
    {
     "name": "stderr",
     "output_type": "stream",
     "text": [
      "sam:  42%|████▏     | 117/276 [09:55<12:55,  4.88s/it]"
     ]
    },
    {
     "name": "stdout",
     "output_type": "stream",
     "text": [
      "[INFO 20240913-13-41-17 p1104 flush clog.py:115] 100%|##########| 1/1 [00:04<00:00,  4.85s/it]\n",
      "[INFO 20240913-13-41-17 p1104 flush clog.py:115] \n",
      "[INFO 20240913-13-41-17 p1104 flush clog.py:115] 0%|          | 0/1 [00:00<?, ?it/s]\n",
      "[INFO 20240913-13-41-17 p1104 flush clog.py:115] \u001b[A\n"
     ]
    },
    {
     "name": "stderr",
     "output_type": "stream",
     "text": [
      "sam:  43%|████▎     | 118/276 [10:00<12:50,  4.87s/it]"
     ]
    },
    {
     "name": "stdout",
     "output_type": "stream",
     "text": [
      "[INFO 20240913-13-41-22 p1104 flush clog.py:115] 100%|##########| 1/1 [00:04<00:00,  4.92s/it]\n",
      "[INFO 20240913-13-41-22 p1104 flush clog.py:115] \n",
      "[INFO 20240913-13-41-22 p1104 flush clog.py:115] 0%|          | 0/1 [00:00<?, ?it/s]\n",
      "[INFO 20240913-13-41-22 p1104 flush clog.py:115] \u001b[A\n"
     ]
    },
    {
     "name": "stderr",
     "output_type": "stream",
     "text": [
      "sam:  43%|████▎     | 119/276 [10:04<12:47,  4.89s/it]"
     ]
    },
    {
     "name": "stdout",
     "output_type": "stream",
     "text": [
      "[INFO 20240913-13-41-26 p1104 flush clog.py:115] 100%|##########| 1/1 [00:04<00:00,  4.88s/it]\n",
      "[INFO 20240913-13-41-26 p1104 flush clog.py:115] \n",
      "[INFO 20240913-13-41-26 p1104 flush clog.py:115] 0%|          | 0/1 [00:00<?, ?it/s]\n",
      "[INFO 20240913-13-41-26 p1104 flush clog.py:115] \u001b[A\n"
     ]
    },
    {
     "name": "stderr",
     "output_type": "stream",
     "text": [
      "sam:  43%|████▎     | 120/276 [10:09<12:43,  4.89s/it]"
     ]
    },
    {
     "name": "stdout",
     "output_type": "stream",
     "text": [
      "[INFO 20240913-13-41-31 p1104 flush clog.py:115] 100%|##########| 1/1 [00:04<00:00,  4.86s/it]\n",
      "[INFO 20240913-13-41-31 p1104 flush clog.py:115] \n",
      "[INFO 20240913-13-41-31 p1104 flush clog.py:115] 0%|          | 0/1 [00:00<?, ?it/s]\n",
      "[INFO 20240913-13-41-31 p1104 flush clog.py:115] \u001b[A\n"
     ]
    },
    {
     "name": "stderr",
     "output_type": "stream",
     "text": [
      "sam:  44%|████▍     | 121/276 [10:14<12:37,  4.89s/it]"
     ]
    },
    {
     "name": "stdout",
     "output_type": "stream",
     "text": [
      "[INFO 20240913-13-41-36 p1104 flush clog.py:115] 100%|##########| 1/1 [00:04<00:00,  4.93s/it]\n",
      "[INFO 20240913-13-41-36 p1104 flush clog.py:115] \n",
      "[INFO 20240913-13-41-36 p1104 flush clog.py:115] 0%|          | 0/1 [00:00<?, ?it/s]\n",
      "[INFO 20240913-13-41-36 p1104 flush clog.py:115] \u001b[A\n"
     ]
    },
    {
     "name": "stderr",
     "output_type": "stream",
     "text": [
      "sam:  44%|████▍     | 122/276 [10:19<12:35,  4.91s/it]"
     ]
    },
    {
     "name": "stdout",
     "output_type": "stream",
     "text": [
      "[INFO 20240913-13-41-41 p1104 flush clog.py:115] 100%|##########| 1/1 [00:05<00:00,  5.02s/it]\n",
      "[INFO 20240913-13-41-41 p1104 flush clog.py:115] \n",
      "[INFO 20240913-13-41-41 p1104 flush clog.py:115] 0%|          | 0/1 [00:00<?, ?it/s]\n",
      "[INFO 20240913-13-41-41 p1104 flush clog.py:115] \u001b[A\n"
     ]
    },
    {
     "name": "stderr",
     "output_type": "stream",
     "text": [
      "sam:  45%|████▍     | 123/276 [10:24<12:36,  4.94s/it]"
     ]
    },
    {
     "name": "stdout",
     "output_type": "stream",
     "text": [
      "[INFO 20240913-13-41-46 p1104 flush clog.py:115] 100%|##########| 1/1 [00:04<00:00,  4.88s/it]\n",
      "[INFO 20240913-13-41-46 p1104 flush clog.py:115] \n",
      "[INFO 20240913-13-41-46 p1104 flush clog.py:115] 0%|          | 0/1 [00:00<?, ?it/s]\n",
      "[INFO 20240913-13-41-46 p1104 flush clog.py:115] \u001b[A\n"
     ]
    },
    {
     "name": "stderr",
     "output_type": "stream",
     "text": [
      "sam:  45%|████▍     | 124/276 [10:29<12:29,  4.93s/it]"
     ]
    },
    {
     "name": "stdout",
     "output_type": "stream",
     "text": [
      "[INFO 20240913-13-41-51 p1104 flush clog.py:115] 100%|##########| 1/1 [00:04<00:00,  4.90s/it]\n",
      "[INFO 20240913-13-41-51 p1104 flush clog.py:115] \n",
      "[INFO 20240913-13-41-51 p1104 flush clog.py:115] 0%|          | 0/1 [00:00<?, ?it/s]\n",
      "[INFO 20240913-13-41-51 p1104 flush clog.py:115] \u001b[A\n"
     ]
    },
    {
     "name": "stderr",
     "output_type": "stream",
     "text": [
      "sam:  45%|████▌     | 125/276 [10:34<12:23,  4.93s/it]"
     ]
    },
    {
     "name": "stdout",
     "output_type": "stream",
     "text": [
      "[INFO 20240913-13-41-56 p1104 flush clog.py:115] 100%|##########| 1/1 [00:04<00:00,  4.91s/it]\n",
      "[INFO 20240913-13-41-56 p1104 flush clog.py:115] \n",
      "[INFO 20240913-13-41-56 p1104 flush clog.py:115] 0%|          | 0/1 [00:00<?, ?it/s]\n",
      "[INFO 20240913-13-41-56 p1104 flush clog.py:115] \u001b[A\n"
     ]
    },
    {
     "name": "stderr",
     "output_type": "stream",
     "text": [
      "sam:  46%|████▌     | 126/276 [10:39<12:19,  4.93s/it]"
     ]
    },
    {
     "name": "stdout",
     "output_type": "stream",
     "text": [
      "[INFO 20240913-13-42-01 p1104 flush clog.py:115] 100%|##########| 1/1 [00:04<00:00,  4.74s/it]\n",
      "[INFO 20240913-13-42-01 p1104 flush clog.py:115] \n",
      "[INFO 20240913-13-42-01 p1104 flush clog.py:115] 0%|          | 0/1 [00:00<?, ?it/s]\n",
      "[INFO 20240913-13-42-01 p1104 flush clog.py:115] \u001b[A\n"
     ]
    },
    {
     "name": "stderr",
     "output_type": "stream",
     "text": [
      "sam:  46%|████▌     | 127/276 [10:44<12:06,  4.88s/it]"
     ]
    },
    {
     "name": "stdout",
     "output_type": "stream",
     "text": [
      "[INFO 20240913-13-42-06 p1104 flush clog.py:115] 100%|##########| 1/1 [00:04<00:00,  4.88s/it]\n",
      "[INFO 20240913-13-42-06 p1104 flush clog.py:115] \n",
      "[INFO 20240913-13-42-06 p1104 flush clog.py:115] 0%|          | 0/1 [00:00<?, ?it/s]\n",
      "[INFO 20240913-13-42-06 p1104 flush clog.py:115] \u001b[A\n"
     ]
    },
    {
     "name": "stderr",
     "output_type": "stream",
     "text": [
      "sam:  46%|████▋     | 128/276 [10:49<12:02,  4.88s/it]"
     ]
    },
    {
     "name": "stdout",
     "output_type": "stream",
     "text": [
      "[INFO 20240913-13-42-11 p1104 flush clog.py:115] 100%|##########| 1/1 [00:04<00:00,  4.86s/it]\n",
      "[INFO 20240913-13-42-11 p1104 flush clog.py:115] \n",
      "[INFO 20240913-13-42-11 p1104 flush clog.py:115] 0%|          | 0/1 [00:00<?, ?it/s]\n",
      "[INFO 20240913-13-42-11 p1104 flush clog.py:115] \u001b[A\n"
     ]
    },
    {
     "name": "stderr",
     "output_type": "stream",
     "text": [
      "sam:  47%|████▋     | 129/276 [10:53<11:57,  4.88s/it]"
     ]
    },
    {
     "name": "stdout",
     "output_type": "stream",
     "text": [
      "[INFO 20240913-13-42-16 p1104 flush clog.py:115] 100%|##########| 1/1 [00:05<00:00,  5.04s/it]\n",
      "[INFO 20240913-13-42-16 p1104 flush clog.py:115] \n",
      "[INFO 20240913-13-42-16 p1104 flush clog.py:115] 0%|          | 0/1 [00:00<?, ?it/s]\n",
      "[INFO 20240913-13-42-16 p1104 flush clog.py:115] \u001b[A\n"
     ]
    },
    {
     "name": "stderr",
     "output_type": "stream",
     "text": [
      "sam:  47%|████▋     | 130/276 [10:59<12:00,  4.93s/it]"
     ]
    },
    {
     "name": "stdout",
     "output_type": "stream",
     "text": [
      "[INFO 20240913-13-42-20 p1104 flush clog.py:115] 100%|##########| 1/1 [00:04<00:00,  4.87s/it]\n",
      "[INFO 20240913-13-42-20 p1104 flush clog.py:115] \n",
      "[INFO 20240913-13-42-20 p1104 flush clog.py:115] 0%|          | 0/1 [00:00<?, ?it/s]\n",
      "[INFO 20240913-13-42-20 p1104 flush clog.py:115] \u001b[A\n"
     ]
    },
    {
     "name": "stderr",
     "output_type": "stream",
     "text": [
      "sam:  47%|████▋     | 131/276 [11:03<11:53,  4.92s/it]"
     ]
    },
    {
     "name": "stdout",
     "output_type": "stream",
     "text": [
      "[INFO 20240913-13-42-25 p1104 flush clog.py:115] 100%|##########| 1/1 [00:04<00:00,  4.96s/it]\n",
      "[INFO 20240913-13-42-25 p1104 flush clog.py:115] \n",
      "[INFO 20240913-13-42-25 p1104 flush clog.py:115] 0%|          | 0/1 [00:00<?, ?it/s]\n",
      "[INFO 20240913-13-42-25 p1104 flush clog.py:115] \u001b[A\n"
     ]
    },
    {
     "name": "stderr",
     "output_type": "stream",
     "text": [
      "sam:  48%|████▊     | 132/276 [11:08<11:50,  4.94s/it]"
     ]
    },
    {
     "name": "stdout",
     "output_type": "stream",
     "text": [
      "[INFO 20240913-13-42-30 p1104 flush clog.py:115] 100%|##########| 1/1 [00:05<00:00,  5.02s/it]\n",
      "[INFO 20240913-13-42-31 p1104 flush clog.py:115] \n",
      "[INFO 20240913-13-42-31 p1104 flush clog.py:115] 0%|          | 0/1 [00:00<?, ?it/s]\n",
      "[INFO 20240913-13-42-31 p1104 flush clog.py:115] \u001b[A\n"
     ]
    },
    {
     "name": "stderr",
     "output_type": "stream",
     "text": [
      "sam:  48%|████▊     | 133/276 [11:13<11:50,  4.97s/it]"
     ]
    },
    {
     "name": "stdout",
     "output_type": "stream",
     "text": [
      "[INFO 20240913-13-42-36 p1104 flush clog.py:115] 100%|##########| 1/1 [00:05<00:00,  5.02s/it]\n",
      "[INFO 20240913-13-42-36 p1104 flush clog.py:115] \n",
      "[INFO 20240913-13-42-36 p1104 flush clog.py:115] 0%|          | 0/1 [00:00<?, ?it/s]\n",
      "[INFO 20240913-13-42-36 p1104 flush clog.py:115] \u001b[A\n"
     ]
    },
    {
     "name": "stderr",
     "output_type": "stream",
     "text": [
      "sam:  49%|████▊     | 134/276 [11:19<11:48,  4.99s/it]"
     ]
    },
    {
     "name": "stdout",
     "output_type": "stream",
     "text": [
      "[INFO 20240913-13-42-41 p1104 flush clog.py:115] 100%|##########| 1/1 [00:04<00:00,  5.00s/it]\n",
      "[INFO 20240913-13-42-41 p1104 flush clog.py:115] \n",
      "[INFO 20240913-13-42-41 p1104 flush clog.py:115] 0%|          | 0/1 [00:00<?, ?it/s]\n",
      "[INFO 20240913-13-42-41 p1104 flush clog.py:115] \u001b[A\n"
     ]
    },
    {
     "name": "stderr",
     "output_type": "stream",
     "text": [
      "sam:  49%|████▉     | 135/276 [11:24<11:45,  5.00s/it]"
     ]
    },
    {
     "name": "stdout",
     "output_type": "stream",
     "text": [
      "[INFO 20240913-13-42-46 p1104 flush clog.py:115] 100%|##########| 1/1 [00:04<00:00,  4.96s/it]\n",
      "[INFO 20240913-13-42-46 p1104 flush clog.py:115] \n",
      "[INFO 20240913-13-42-46 p1104 flush clog.py:115] 0%|          | 0/1 [00:00<?, ?it/s]\n",
      "[INFO 20240913-13-42-46 p1104 flush clog.py:115] \u001b[A\n"
     ]
    },
    {
     "name": "stderr",
     "output_type": "stream",
     "text": [
      "sam:  49%|████▉     | 136/276 [11:29<11:39,  4.99s/it]"
     ]
    },
    {
     "name": "stdout",
     "output_type": "stream",
     "text": [
      "[INFO 20240913-13-42-50 p1104 flush clog.py:115] 100%|##########| 1/1 [00:04<00:00,  4.94s/it]\n",
      "[INFO 20240913-13-42-51 p1104 flush clog.py:115] \n",
      "[INFO 20240913-13-42-51 p1104 flush clog.py:115] 0%|          | 0/1 [00:00<?, ?it/s]\n",
      "[INFO 20240913-13-42-51 p1104 flush clog.py:115] \u001b[A\n"
     ]
    },
    {
     "name": "stderr",
     "output_type": "stream",
     "text": [
      "sam:  50%|████▉     | 137/276 [11:33<11:32,  4.98s/it]"
     ]
    },
    {
     "name": "stdout",
     "output_type": "stream",
     "text": [
      "[INFO 20240913-13-42-55 p1104 flush clog.py:115] 100%|##########| 1/1 [00:04<00:00,  4.91s/it]\n",
      "[INFO 20240913-13-42-55 p1104 flush clog.py:115] \n",
      "[INFO 20240913-13-42-55 p1104 flush clog.py:115] 0%|          | 0/1 [00:00<?, ?it/s]\n",
      "[INFO 20240913-13-42-55 p1104 flush clog.py:115] \u001b[A\n"
     ]
    },
    {
     "name": "stderr",
     "output_type": "stream",
     "text": [
      "sam:  50%|█████     | 138/276 [11:38<11:25,  4.97s/it]"
     ]
    },
    {
     "name": "stdout",
     "output_type": "stream",
     "text": [
      "[INFO 20240913-13-43-00 p1104 flush clog.py:115] 100%|##########| 1/1 [00:04<00:00,  5.00s/it]\n",
      "[INFO 20240913-13-43-00 p1104 flush clog.py:115] \n",
      "[INFO 20240913-13-43-00 p1104 flush clog.py:115] 0%|          | 0/1 [00:00<?, ?it/s]\n",
      "[INFO 20240913-13-43-00 p1104 flush clog.py:115] \u001b[A\n"
     ]
    },
    {
     "name": "stderr",
     "output_type": "stream",
     "text": [
      "sam:  50%|█████     | 139/276 [11:43<11:22,  4.98s/it]"
     ]
    },
    {
     "name": "stdout",
     "output_type": "stream",
     "text": [
      "[INFO 20240913-13-43-05 p1104 flush clog.py:115] 100%|##########| 1/1 [00:04<00:00,  4.96s/it]\n",
      "[INFO 20240913-13-43-05 p1104 flush clog.py:115] \n",
      "[INFO 20240913-13-43-05 p1104 flush clog.py:115] 0%|          | 0/1 [00:00<?, ?it/s]\n",
      "[INFO 20240913-13-43-05 p1104 flush clog.py:115] \u001b[A\n"
     ]
    },
    {
     "name": "stderr",
     "output_type": "stream",
     "text": [
      "sam:  51%|█████     | 140/276 [11:48<11:18,  4.99s/it]"
     ]
    },
    {
     "name": "stdout",
     "output_type": "stream",
     "text": [
      "[INFO 20240913-13-43-10 p1104 flush clog.py:115] 100%|##########| 1/1 [00:04<00:00,  4.88s/it]\n",
      "[INFO 20240913-13-43-10 p1104 flush clog.py:115] \n",
      "[INFO 20240913-13-43-10 p1104 flush clog.py:115] 0%|          | 0/1 [00:00<?, ?it/s]\n",
      "[INFO 20240913-13-43-10 p1104 flush clog.py:115] \u001b[A\n"
     ]
    },
    {
     "name": "stderr",
     "output_type": "stream",
     "text": [
      "sam:  51%|█████     | 141/276 [11:53<11:09,  4.96s/it]"
     ]
    },
    {
     "name": "stdout",
     "output_type": "stream",
     "text": [
      "[INFO 20240913-13-43-15 p1104 flush clog.py:115] 100%|##########| 1/1 [00:04<00:00,  4.73s/it]\n",
      "[INFO 20240913-13-43-15 p1104 flush clog.py:115] \n",
      "[INFO 20240913-13-43-15 p1104 flush clog.py:115] 0%|          | 0/1 [00:00<?, ?it/s]\n",
      "[INFO 20240913-13-43-15 p1104 flush clog.py:115] \u001b[A\n"
     ]
    },
    {
     "name": "stderr",
     "output_type": "stream",
     "text": [
      "sam:  51%|█████▏    | 142/276 [11:58<10:56,  4.90s/it]"
     ]
    },
    {
     "name": "stdout",
     "output_type": "stream",
     "text": [
      "[INFO 20240913-13-43-20 p1104 flush clog.py:115] 100%|##########| 1/1 [00:04<00:00,  4.89s/it]\n",
      "[INFO 20240913-13-43-20 p1104 flush clog.py:115] \n",
      "[INFO 20240913-13-43-20 p1104 flush clog.py:115] 0%|          | 0/1 [00:00<?, ?it/s]\n",
      "[INFO 20240913-13-43-20 p1104 flush clog.py:115] \u001b[A\n"
     ]
    },
    {
     "name": "stderr",
     "output_type": "stream",
     "text": [
      "sam:  52%|█████▏    | 143/276 [12:03<10:51,  4.90s/it]"
     ]
    },
    {
     "name": "stdout",
     "output_type": "stream",
     "text": [
      "[INFO 20240913-13-43-25 p1104 flush clog.py:115] 100%|##########| 1/1 [00:04<00:00,  4.86s/it]\n",
      "[INFO 20240913-13-43-25 p1104 flush clog.py:115] \n",
      "[INFO 20240913-13-43-25 p1104 flush clog.py:115] 0%|          | 0/1 [00:00<?, ?it/s]\n",
      "[INFO 20240913-13-43-25 p1104 flush clog.py:115] \u001b[A\n"
     ]
    },
    {
     "name": "stderr",
     "output_type": "stream",
     "text": [
      "sam:  52%|█████▏    | 144/276 [12:08<10:45,  4.89s/it]"
     ]
    },
    {
     "name": "stdout",
     "output_type": "stream",
     "text": [
      "[INFO 20240913-13-43-30 p1104 flush clog.py:115] 100%|##########| 1/1 [00:05<00:00,  5.02s/it]\n",
      "[INFO 20240913-13-43-30 p1104 flush clog.py:115] \n",
      "[INFO 20240913-13-43-30 p1104 flush clog.py:115] 0%|          | 0/1 [00:00<?, ?it/s]\n",
      "[INFO 20240913-13-43-30 p1104 flush clog.py:115] \u001b[A\n"
     ]
    },
    {
     "name": "stderr",
     "output_type": "stream",
     "text": [
      "sam:  53%|█████▎    | 145/276 [12:13<10:46,  4.93s/it]"
     ]
    },
    {
     "name": "stdout",
     "output_type": "stream",
     "text": [
      "[INFO 20240913-13-43-35 p1104 flush clog.py:115] 100%|##########| 1/1 [00:04<00:00,  4.91s/it]\n",
      "[INFO 20240913-13-43-35 p1104 flush clog.py:115] \n",
      "[INFO 20240913-13-43-35 p1104 flush clog.py:115] 0%|          | 0/1 [00:00<?, ?it/s]\n",
      "[INFO 20240913-13-43-35 p1104 flush clog.py:115] \u001b[A\n"
     ]
    },
    {
     "name": "stderr",
     "output_type": "stream",
     "text": [
      "sam:  53%|█████▎    | 146/276 [12:18<10:41,  4.93s/it]"
     ]
    },
    {
     "name": "stdout",
     "output_type": "stream",
     "text": [
      "[INFO 20240913-13-43-40 p1104 flush clog.py:115] 100%|##########| 1/1 [00:04<00:00,  4.95s/it]\n",
      "[INFO 20240913-13-43-40 p1104 flush clog.py:115] \n",
      "[INFO 20240913-13-43-40 p1104 flush clog.py:115] 0%|          | 0/1 [00:00<?, ?it/s]\n",
      "[INFO 20240913-13-43-40 p1104 flush clog.py:115] \u001b[A\n"
     ]
    },
    {
     "name": "stderr",
     "output_type": "stream",
     "text": [
      "sam:  53%|█████▎    | 147/276 [12:23<10:37,  4.94s/it]"
     ]
    },
    {
     "name": "stdout",
     "output_type": "stream",
     "text": [
      "[INFO 20240913-13-43-45 p1104 flush clog.py:115] 100%|##########| 1/1 [00:04<00:00,  4.70s/it]\n",
      "[INFO 20240913-13-43-45 p1104 flush clog.py:115] \n",
      "[INFO 20240913-13-43-45 p1104 flush clog.py:115] 0%|          | 0/1 [00:00<?, ?it/s]\n",
      "[INFO 20240913-13-43-45 p1104 flush clog.py:115] \u001b[A\n"
     ]
    },
    {
     "name": "stderr",
     "output_type": "stream",
     "text": [
      "sam:  54%|█████▎    | 148/276 [12:27<10:23,  4.87s/it]"
     ]
    },
    {
     "name": "stdout",
     "output_type": "stream",
     "text": [
      "[INFO 20240913-13-43-49 p1104 flush clog.py:115] 100%|##########| 1/1 [00:04<00:00,  4.89s/it]\n",
      "[INFO 20240913-13-43-49 p1104 flush clog.py:115] \n",
      "[INFO 20240913-13-43-49 p1104 flush clog.py:115] 0%|          | 0/1 [00:00<?, ?it/s]\n",
      "[INFO 20240913-13-43-49 p1104 flush clog.py:115] \u001b[A\n"
     ]
    },
    {
     "name": "stderr",
     "output_type": "stream",
     "text": [
      "sam:  54%|█████▍    | 149/276 [12:32<10:20,  4.88s/it]"
     ]
    },
    {
     "name": "stdout",
     "output_type": "stream",
     "text": [
      "[INFO 20240913-13-43-54 p1104 flush clog.py:115] 100%|##########| 1/1 [00:04<00:00,  4.87s/it]\n",
      "[INFO 20240913-13-43-54 p1104 flush clog.py:115] \n",
      "[INFO 20240913-13-43-54 p1104 flush clog.py:115] 0%|          | 0/1 [00:00<?, ?it/s]\n",
      "[INFO 20240913-13-43-54 p1104 flush clog.py:115] \u001b[A\n"
     ]
    },
    {
     "name": "stderr",
     "output_type": "stream",
     "text": [
      "sam:  54%|█████▍    | 150/276 [12:37<10:15,  4.88s/it]"
     ]
    },
    {
     "name": "stdout",
     "output_type": "stream",
     "text": [
      "[INFO 20240913-13-43-59 p1104 flush clog.py:115] 100%|##########| 1/1 [00:04<00:00,  4.91s/it]\n",
      "[INFO 20240913-13-43-59 p1104 flush clog.py:115] \n",
      "[INFO 20240913-13-43-59 p1104 flush clog.py:115] 0%|          | 0/1 [00:00<?, ?it/s]\n",
      "[INFO 20240913-13-43-59 p1104 flush clog.py:115] \u001b[A\n"
     ]
    },
    {
     "name": "stderr",
     "output_type": "stream",
     "text": [
      "sam:  55%|█████▍    | 151/276 [12:42<10:12,  4.90s/it]"
     ]
    },
    {
     "name": "stdout",
     "output_type": "stream",
     "text": [
      "[INFO 20240913-13-44-04 p1104 flush clog.py:115] 100%|##########| 1/1 [00:04<00:00,  4.98s/it]\n",
      "[INFO 20240913-13-44-04 p1104 flush clog.py:115] \n",
      "[INFO 20240913-13-44-04 p1104 flush clog.py:115] 0%|          | 0/1 [00:00<?, ?it/s]\n",
      "[INFO 20240913-13-44-04 p1104 flush clog.py:115] \u001b[A\n"
     ]
    },
    {
     "name": "stderr",
     "output_type": "stream",
     "text": [
      "sam:  55%|█████▌    | 152/276 [12:47<10:11,  4.93s/it]"
     ]
    },
    {
     "name": "stdout",
     "output_type": "stream",
     "text": [
      "[INFO 20240913-13-44-09 p1104 flush clog.py:115] 100%|##########| 1/1 [00:04<00:00,  4.89s/it]\n",
      "[INFO 20240913-13-44-09 p1104 flush clog.py:115] \n",
      "[INFO 20240913-13-44-09 p1104 flush clog.py:115] 0%|          | 0/1 [00:00<?, ?it/s]\n",
      "[INFO 20240913-13-44-09 p1104 flush clog.py:115] \u001b[A\n"
     ]
    },
    {
     "name": "stderr",
     "output_type": "stream",
     "text": [
      "sam:  55%|█████▌    | 153/276 [12:52<10:05,  4.92s/it]"
     ]
    },
    {
     "name": "stdout",
     "output_type": "stream",
     "text": [
      "[INFO 20240913-13-44-14 p1104 flush clog.py:115] 100%|##########| 1/1 [00:04<00:00,  4.93s/it]\n",
      "[INFO 20240913-13-44-14 p1104 flush clog.py:115] \n",
      "[INFO 20240913-13-44-14 p1104 flush clog.py:115] 0%|          | 0/1 [00:00<?, ?it/s]\n",
      "[INFO 20240913-13-44-14 p1104 flush clog.py:115] \u001b[A\n"
     ]
    },
    {
     "name": "stderr",
     "output_type": "stream",
     "text": [
      "sam:  56%|█████▌    | 154/276 [12:57<10:01,  4.93s/it]"
     ]
    },
    {
     "name": "stdout",
     "output_type": "stream",
     "text": [
      "[INFO 20240913-13-44-19 p1104 flush clog.py:115] 100%|##########| 1/1 [00:04<00:00,  4.85s/it]\n",
      "[INFO 20240913-13-44-19 p1104 flush clog.py:115] \n",
      "[INFO 20240913-13-44-19 p1104 flush clog.py:115] 0%|          | 0/1 [00:00<?, ?it/s]\n",
      "[INFO 20240913-13-44-19 p1104 flush clog.py:115] \u001b[A\n"
     ]
    },
    {
     "name": "stderr",
     "output_type": "stream",
     "text": [
      "sam:  56%|█████▌    | 155/276 [13:02<09:53,  4.91s/it]"
     ]
    },
    {
     "name": "stdout",
     "output_type": "stream",
     "text": [
      "[INFO 20240913-13-44-24 p1104 flush clog.py:115] 100%|##########| 1/1 [00:04<00:00,  4.85s/it]\n",
      "[INFO 20240913-13-44-24 p1104 flush clog.py:115] \n",
      "[INFO 20240913-13-44-24 p1104 flush clog.py:115] 0%|          | 0/1 [00:00<?, ?it/s]\n",
      "[INFO 20240913-13-44-24 p1104 flush clog.py:115] \u001b[A\n"
     ]
    },
    {
     "name": "stderr",
     "output_type": "stream",
     "text": [
      "sam:  57%|█████▋    | 156/276 [13:07<09:47,  4.90s/it]"
     ]
    },
    {
     "name": "stdout",
     "output_type": "stream",
     "text": [
      "[INFO 20240913-13-44-29 p1104 flush clog.py:115] 100%|##########| 1/1 [00:04<00:00,  4.86s/it]\n",
      "[INFO 20240913-13-44-29 p1104 flush clog.py:115] \n",
      "[INFO 20240913-13-44-29 p1104 flush clog.py:115] 0%|          | 0/1 [00:00<?, ?it/s]\n",
      "[INFO 20240913-13-44-29 p1104 flush clog.py:115] \u001b[A\n"
     ]
    },
    {
     "name": "stderr",
     "output_type": "stream",
     "text": [
      "sam:  57%|█████▋    | 157/276 [13:12<09:42,  4.89s/it]"
     ]
    },
    {
     "name": "stdout",
     "output_type": "stream",
     "text": [
      "[INFO 20240913-13-44-34 p1104 flush clog.py:115] 100%|##########| 1/1 [00:05<00:00,  5.00s/it]\n",
      "[INFO 20240913-13-44-34 p1104 flush clog.py:115] \n",
      "[INFO 20240913-13-44-34 p1104 flush clog.py:115] 0%|          | 0/1 [00:00<?, ?it/s]\n",
      "[INFO 20240913-13-44-34 p1104 flush clog.py:115] \u001b[A\n"
     ]
    },
    {
     "name": "stderr",
     "output_type": "stream",
     "text": [
      "sam:  57%|█████▋    | 158/276 [13:17<09:41,  4.93s/it]"
     ]
    },
    {
     "name": "stdout",
     "output_type": "stream",
     "text": [
      "[INFO 20240913-13-44-39 p1104 flush clog.py:115] 100%|##########| 1/1 [00:04<00:00,  4.92s/it]\n",
      "[INFO 20240913-13-44-39 p1104 flush clog.py:115] \n",
      "[INFO 20240913-13-44-39 p1104 flush clog.py:115] 0%|          | 0/1 [00:00<?, ?it/s]\n",
      "[INFO 20240913-13-44-39 p1104 flush clog.py:115] \u001b[A\n"
     ]
    },
    {
     "name": "stderr",
     "output_type": "stream",
     "text": [
      "sam:  58%|█████▊    | 159/276 [13:22<09:36,  4.93s/it]"
     ]
    },
    {
     "name": "stdout",
     "output_type": "stream",
     "text": [
      "[INFO 20240913-13-44-44 p1104 flush clog.py:115] 100%|##########| 1/1 [00:04<00:00,  4.87s/it]\n",
      "[INFO 20240913-13-44-44 p1104 flush clog.py:115] \n",
      "[INFO 20240913-13-44-44 p1104 flush clog.py:115] 0%|          | 0/1 [00:00<?, ?it/s]\n",
      "[INFO 20240913-13-44-44 p1104 flush clog.py:115] \u001b[A\n"
     ]
    },
    {
     "name": "stderr",
     "output_type": "stream",
     "text": [
      "sam:  58%|█████▊    | 160/276 [13:26<09:30,  4.92s/it]"
     ]
    },
    {
     "name": "stdout",
     "output_type": "stream",
     "text": [
      "[INFO 20240913-13-44-49 p1104 flush clog.py:115] 100%|##########| 1/1 [00:05<00:00,  5.00s/it]\n",
      "[INFO 20240913-13-44-49 p1104 flush clog.py:115] \n",
      "[INFO 20240913-13-44-49 p1104 flush clog.py:115] 0%|          | 0/1 [00:00<?, ?it/s]\n",
      "[INFO 20240913-13-44-49 p1104 flush clog.py:115] \u001b[A\n"
     ]
    },
    {
     "name": "stderr",
     "output_type": "stream",
     "text": [
      "sam:  58%|█████▊    | 161/276 [13:32<09:29,  4.95s/it]"
     ]
    },
    {
     "name": "stdout",
     "output_type": "stream",
     "text": [
      "[INFO 20240913-13-44-53 p1104 flush clog.py:115] 100%|##########| 1/1 [00:04<00:00,  4.87s/it]\n",
      "[INFO 20240913-13-44-53 p1104 flush clog.py:115] \n",
      "[INFO 20240913-13-44-53 p1104 flush clog.py:115] 0%|          | 0/1 [00:00<?, ?it/s]\n",
      "[INFO 20240913-13-44-53 p1104 flush clog.py:115] \u001b[A\n"
     ]
    },
    {
     "name": "stderr",
     "output_type": "stream",
     "text": [
      "sam:  59%|█████▊    | 162/276 [13:36<09:22,  4.93s/it]"
     ]
    },
    {
     "name": "stdout",
     "output_type": "stream",
     "text": [
      "[INFO 20240913-13-44-58 p1104 flush clog.py:115] 100%|##########| 1/1 [00:04<00:00,  4.87s/it]\n",
      "[INFO 20240913-13-44-58 p1104 flush clog.py:115] \n",
      "[INFO 20240913-13-44-58 p1104 flush clog.py:115] 0%|          | 0/1 [00:00<?, ?it/s]\n",
      "[INFO 20240913-13-44-58 p1104 flush clog.py:115] \u001b[A\n"
     ]
    },
    {
     "name": "stderr",
     "output_type": "stream",
     "text": [
      "sam:  59%|█████▉    | 163/276 [13:41<09:15,  4.92s/it]"
     ]
    },
    {
     "name": "stdout",
     "output_type": "stream",
     "text": [
      "[INFO 20240913-13-45-03 p1104 flush clog.py:115] 100%|##########| 1/1 [00:04<00:00,  4.97s/it]\n",
      "[INFO 20240913-13-45-03 p1104 flush clog.py:115] \n",
      "[INFO 20240913-13-45-03 p1104 flush clog.py:115] 0%|          | 0/1 [00:00<?, ?it/s]\n",
      "[INFO 20240913-13-45-03 p1104 flush clog.py:115] \u001b[A\n"
     ]
    },
    {
     "name": "stderr",
     "output_type": "stream",
     "text": [
      "sam:  59%|█████▉    | 164/276 [13:46<09:12,  4.94s/it]"
     ]
    },
    {
     "name": "stdout",
     "output_type": "stream",
     "text": [
      "[INFO 20240913-13-45-08 p1104 flush clog.py:115] 100%|##########| 1/1 [00:04<00:00,  4.87s/it]\n"
     ]
    },
    {
     "name": "stderr",
     "output_type": "stream",
     "text": [
      "sam:  60%|█████▉    | 165/276 [13:51<09:16,  5.02s/it]"
     ]
    },
    {
     "name": "stdout",
     "output_type": "stream",
     "text": [
      "[INFO 20240913-13-45-09 p1104 flush clog.py:115] \n",
      "[INFO 20240913-13-45-09 p1104 flush clog.py:115] 0%|          | 0/1 [00:00<?, ?it/s]\n",
      "[INFO 20240913-13-45-09 p1104 flush clog.py:115] \u001b[A\n",
      "[INFO 20240913-13-45-13 p1104 flush clog.py:115] 100%|##########| 1/1 [00:04<00:00,  4.86s/it]\n"
     ]
    },
    {
     "name": "stderr",
     "output_type": "stream",
     "text": [
      "sam:  60%|██████    | 166/276 [13:57<09:20,  5.10s/it]"
     ]
    },
    {
     "name": "stdout",
     "output_type": "stream",
     "text": [
      "[INFO 20240913-13-45-14 p1104 flush clog.py:115] \n",
      "[INFO 20240913-13-45-14 p1104 flush clog.py:115] 0%|          | 0/1 [00:00<?, ?it/s]\n",
      "[INFO 20240913-13-45-14 p1104 flush clog.py:115] \u001b[A\n",
      "[INFO 20240913-13-45-19 p1104 flush clog.py:115] 100%|##########| 1/1 [00:04<00:00,  4.86s/it]\n",
      "[INFO 20240913-13-45-19 p1104 flush clog.py:115] \n",
      "[INFO 20240913-13-45-19 p1104 flush clog.py:115] 0%|          | 0/1 [00:00<?, ?it/s]\n",
      "[INFO 20240913-13-45-19 p1104 flush clog.py:115] \u001b[A\n"
     ]
    },
    {
     "name": "stderr",
     "output_type": "stream",
     "text": [
      "sam:  61%|██████    | 167/276 [14:02<09:08,  5.03s/it]"
     ]
    },
    {
     "name": "stdout",
     "output_type": "stream",
     "text": [
      "[INFO 20240913-13-45-24 p1104 flush clog.py:115] 100%|##########| 1/1 [00:04<00:00,  4.97s/it]\n",
      "[INFO 20240913-13-45-24 p1104 flush clog.py:115] \n",
      "[INFO 20240913-13-45-24 p1104 flush clog.py:115] 0%|          | 0/1 [00:00<?, ?it/s]\n",
      "[INFO 20240913-13-45-24 p1104 flush clog.py:115] \u001b[A\n"
     ]
    },
    {
     "name": "stderr",
     "output_type": "stream",
     "text": [
      "sam:  61%|██████    | 168/276 [14:07<09:01,  5.02s/it]"
     ]
    },
    {
     "name": "stdout",
     "output_type": "stream",
     "text": [
      "[INFO 20240913-13-45-29 p1104 flush clog.py:115] 100%|##########| 1/1 [00:04<00:00,  4.97s/it]\n",
      "[INFO 20240913-13-45-29 p1104 flush clog.py:115] \n",
      "[INFO 20240913-13-45-29 p1104 flush clog.py:115] 0%|          | 0/1 [00:00<?, ?it/s]\n",
      "[INFO 20240913-13-45-29 p1104 flush clog.py:115] \u001b[A\n"
     ]
    },
    {
     "name": "stderr",
     "output_type": "stream",
     "text": [
      "sam:  61%|██████    | 169/276 [14:12<08:55,  5.01s/it]"
     ]
    },
    {
     "name": "stdout",
     "output_type": "stream",
     "text": [
      "[INFO 20240913-13-45-34 p1104 flush clog.py:115] 100%|##########| 1/1 [00:04<00:00,  4.86s/it]\n",
      "[INFO 20240913-13-45-34 p1104 flush clog.py:115] \n",
      "[INFO 20240913-13-45-34 p1104 flush clog.py:115] 0%|          | 0/1 [00:00<?, ?it/s]\n",
      "[INFO 20240913-13-45-34 p1104 flush clog.py:115] \u001b[A\n"
     ]
    },
    {
     "name": "stderr",
     "output_type": "stream",
     "text": [
      "sam:  62%|██████▏   | 170/276 [14:16<08:46,  4.97s/it]"
     ]
    },
    {
     "name": "stdout",
     "output_type": "stream",
     "text": [
      "[INFO 20240913-13-45-38 p1104 flush clog.py:115] 100%|##########| 1/1 [00:04<00:00,  4.90s/it]\n",
      "[INFO 20240913-13-45-38 p1104 flush clog.py:115] \n",
      "[INFO 20240913-13-45-38 p1104 flush clog.py:115] 0%|          | 0/1 [00:00<?, ?it/s]\n",
      "[INFO 20240913-13-45-38 p1104 flush clog.py:115] \u001b[A\n"
     ]
    },
    {
     "name": "stderr",
     "output_type": "stream",
     "text": [
      "sam:  62%|██████▏   | 171/276 [14:21<08:39,  4.95s/it]"
     ]
    },
    {
     "name": "stdout",
     "output_type": "stream",
     "text": [
      "[INFO 20240913-13-45-43 p1104 flush clog.py:115] 100%|##########| 1/1 [00:04<00:00,  4.80s/it]\n",
      "[INFO 20240913-13-45-43 p1104 flush clog.py:115] \n",
      "[INFO 20240913-13-45-43 p1104 flush clog.py:115] 0%|          | 0/1 [00:00<?, ?it/s]\n",
      "[INFO 20240913-13-45-43 p1104 flush clog.py:115] \u001b[A\n"
     ]
    },
    {
     "name": "stderr",
     "output_type": "stream",
     "text": [
      "sam:  62%|██████▏   | 172/276 [14:26<08:34,  4.95s/it]"
     ]
    },
    {
     "name": "stdout",
     "output_type": "stream",
     "text": [
      "[INFO 20240913-13-45-48 p1104 flush clog.py:115] 100%|##########| 1/1 [00:04<00:00,  4.87s/it]\n",
      "[INFO 20240913-13-45-48 p1104 flush clog.py:115] \n",
      "[INFO 20240913-13-45-48 p1104 flush clog.py:115] 0%|          | 0/1 [00:00<?, ?it/s]\n",
      "[INFO 20240913-13-45-48 p1104 flush clog.py:115] \u001b[A\n"
     ]
    },
    {
     "name": "stderr",
     "output_type": "stream",
     "text": [
      "sam:  63%|██████▎   | 173/276 [14:31<08:27,  4.93s/it]"
     ]
    },
    {
     "name": "stdout",
     "output_type": "stream",
     "text": [
      "[INFO 20240913-13-45-53 p1104 flush clog.py:115] 100%|##########| 1/1 [00:04<00:00,  4.98s/it]\n",
      "[INFO 20240913-13-45-53 p1104 flush clog.py:115] \n",
      "[INFO 20240913-13-45-53 p1104 flush clog.py:115] 0%|          | 0/1 [00:00<?, ?it/s]\n",
      "[INFO 20240913-13-45-53 p1104 flush clog.py:115] \u001b[A\n"
     ]
    },
    {
     "name": "stderr",
     "output_type": "stream",
     "text": [
      "sam:  63%|██████▎   | 174/276 [14:36<08:24,  4.95s/it]"
     ]
    },
    {
     "name": "stdout",
     "output_type": "stream",
     "text": [
      "[INFO 20240913-13-45-58 p1104 flush clog.py:115] 100%|##########| 1/1 [00:04<00:00,  4.97s/it]\n",
      "[INFO 20240913-13-45-58 p1104 flush clog.py:115] \n",
      "[INFO 20240913-13-45-58 p1104 flush clog.py:115] 0%|          | 0/1 [00:00<?, ?it/s]\n",
      "[INFO 20240913-13-45-58 p1104 flush clog.py:115] \u001b[A\n"
     ]
    },
    {
     "name": "stderr",
     "output_type": "stream",
     "text": [
      "sam:  63%|██████▎   | 175/276 [14:41<08:20,  4.96s/it]"
     ]
    },
    {
     "name": "stdout",
     "output_type": "stream",
     "text": [
      "[INFO 20240913-13-46-03 p1104 flush clog.py:115] 100%|##########| 1/1 [00:04<00:00,  4.89s/it]\n",
      "[INFO 20240913-13-46-03 p1104 flush clog.py:115] \n",
      "[INFO 20240913-13-46-03 p1104 flush clog.py:115] 0%|          | 0/1 [00:00<?, ?it/s]\n",
      "[INFO 20240913-13-46-03 p1104 flush clog.py:115] \u001b[A\n"
     ]
    },
    {
     "name": "stderr",
     "output_type": "stream",
     "text": [
      "sam:  64%|██████▍   | 176/276 [14:46<08:14,  4.94s/it]"
     ]
    },
    {
     "name": "stdout",
     "output_type": "stream",
     "text": [
      "[INFO 20240913-13-46-08 p1104 flush clog.py:115] 100%|##########| 1/1 [00:05<00:00,  5.03s/it]\n",
      "[INFO 20240913-13-46-08 p1104 flush clog.py:115] \n",
      "[INFO 20240913-13-46-08 p1104 flush clog.py:115] 0%|          | 0/1 [00:00<?, ?it/s]\n",
      "[INFO 20240913-13-46-08 p1104 flush clog.py:115] \u001b[A\n"
     ]
    },
    {
     "name": "stderr",
     "output_type": "stream",
     "text": [
      "sam:  64%|██████▍   | 177/276 [14:51<08:12,  4.97s/it]"
     ]
    },
    {
     "name": "stdout",
     "output_type": "stream",
     "text": [
      "[INFO 20240913-13-46-13 p1104 flush clog.py:115] 100%|##########| 1/1 [00:04<00:00,  4.94s/it]\n",
      "[INFO 20240913-13-46-13 p1104 flush clog.py:115] \n",
      "[INFO 20240913-13-46-13 p1104 flush clog.py:115] 0%|          | 0/1 [00:00<?, ?it/s]\n",
      "[INFO 20240913-13-46-13 p1104 flush clog.py:115] \u001b[A\n"
     ]
    },
    {
     "name": "stderr",
     "output_type": "stream",
     "text": [
      "sam:  64%|██████▍   | 178/276 [14:56<08:06,  4.97s/it]"
     ]
    },
    {
     "name": "stdout",
     "output_type": "stream",
     "text": [
      "[INFO 20240913-13-46-18 p1104 flush clog.py:115] 100%|##########| 1/1 [00:04<00:00,  4.89s/it]\n",
      "[INFO 20240913-13-46-18 p1104 flush clog.py:115] \n",
      "[INFO 20240913-13-46-18 p1104 flush clog.py:115] 0%|          | 0/1 [00:00<?, ?it/s]\n",
      "[INFO 20240913-13-46-18 p1104 flush clog.py:115] \u001b[A\n"
     ]
    },
    {
     "name": "stderr",
     "output_type": "stream",
     "text": [
      "sam:  65%|██████▍   | 179/276 [15:01<08:00,  4.95s/it]"
     ]
    },
    {
     "name": "stdout",
     "output_type": "stream",
     "text": [
      "[INFO 20240913-13-46-23 p1104 flush clog.py:115] 100%|##########| 1/1 [00:04<00:00,  4.91s/it]\n",
      "[INFO 20240913-13-46-23 p1104 flush clog.py:115] \n",
      "[INFO 20240913-13-46-23 p1104 flush clog.py:115] 0%|          | 0/1 [00:00<?, ?it/s]\n",
      "[INFO 20240913-13-46-23 p1104 flush clog.py:115] \u001b[A\n"
     ]
    },
    {
     "name": "stderr",
     "output_type": "stream",
     "text": [
      "sam:  65%|██████▌   | 180/276 [15:06<07:54,  4.94s/it]"
     ]
    },
    {
     "name": "stdout",
     "output_type": "stream",
     "text": [
      "[INFO 20240913-13-46-28 p1104 flush clog.py:115] 100%|##########| 1/1 [00:04<00:00,  4.74s/it]\n",
      "[INFO 20240913-13-46-28 p1104 flush clog.py:115] \n",
      "[INFO 20240913-13-46-28 p1104 flush clog.py:115] 0%|          | 0/1 [00:00<?, ?it/s]\n",
      "[INFO 20240913-13-46-28 p1104 flush clog.py:115] \u001b[A\n"
     ]
    },
    {
     "name": "stderr",
     "output_type": "stream",
     "text": [
      "sam:  66%|██████▌   | 181/276 [15:11<07:44,  4.89s/it]"
     ]
    },
    {
     "name": "stdout",
     "output_type": "stream",
     "text": [
      "[INFO 20240913-13-46-33 p1104 flush clog.py:115] 100%|##########| 1/1 [00:04<00:00,  4.86s/it]\n",
      "[INFO 20240913-13-46-33 p1104 flush clog.py:115] \n",
      "[INFO 20240913-13-46-33 p1104 flush clog.py:115] 0%|          | 0/1 [00:00<?, ?it/s]\n",
      "[INFO 20240913-13-46-33 p1104 flush clog.py:115] \u001b[A\n"
     ]
    },
    {
     "name": "stderr",
     "output_type": "stream",
     "text": [
      "sam:  66%|██████▌   | 182/276 [15:16<07:39,  4.88s/it]"
     ]
    },
    {
     "name": "stdout",
     "output_type": "stream",
     "text": [
      "[INFO 20240913-13-46-37 p1104 flush clog.py:115] 100%|##########| 1/1 [00:04<00:00,  4.86s/it]\n",
      "[INFO 20240913-13-46-38 p1104 flush clog.py:115] \n",
      "[INFO 20240913-13-46-38 p1104 flush clog.py:115] 0%|          | 0/1 [00:00<?, ?it/s]\n",
      "[INFO 20240913-13-46-38 p1104 flush clog.py:115] \u001b[A\n"
     ]
    },
    {
     "name": "stderr",
     "output_type": "stream",
     "text": [
      "sam:  66%|██████▋   | 183/276 [15:20<07:35,  4.90s/it]"
     ]
    },
    {
     "name": "stdout",
     "output_type": "stream",
     "text": [
      "[INFO 20240913-13-46-42 p1104 flush clog.py:115] 100%|##########| 1/1 [00:04<00:00,  4.87s/it]\n",
      "[INFO 20240913-13-46-42 p1104 flush clog.py:115] \n",
      "[INFO 20240913-13-46-42 p1104 flush clog.py:115] 0%|          | 0/1 [00:00<?, ?it/s]\n",
      "[INFO 20240913-13-46-42 p1104 flush clog.py:115] \u001b[A\n"
     ]
    },
    {
     "name": "stderr",
     "output_type": "stream",
     "text": [
      "sam:  67%|██████▋   | 184/276 [15:25<07:30,  4.89s/it]"
     ]
    },
    {
     "name": "stdout",
     "output_type": "stream",
     "text": [
      "[INFO 20240913-13-46-47 p1104 flush clog.py:115] 100%|##########| 1/1 [00:04<00:00,  4.86s/it]\n",
      "[INFO 20240913-13-46-47 p1104 flush clog.py:115] \n",
      "[INFO 20240913-13-46-47 p1104 flush clog.py:115] 0%|          | 0/1 [00:00<?, ?it/s]\n",
      "[INFO 20240913-13-46-47 p1104 flush clog.py:115] \u001b[A\n"
     ]
    },
    {
     "name": "stderr",
     "output_type": "stream",
     "text": [
      "sam:  67%|██████▋   | 185/276 [15:30<07:24,  4.89s/it]"
     ]
    },
    {
     "name": "stdout",
     "output_type": "stream",
     "text": [
      "[INFO 20240913-13-46-52 p1104 flush clog.py:115] 100%|##########| 1/1 [00:04<00:00,  4.88s/it]\n"
     ]
    },
    {
     "name": "stderr",
     "output_type": "stream",
     "text": [
      "sam:  67%|██████▋   | 186/276 [15:36<07:30,  5.01s/it]"
     ]
    },
    {
     "name": "stdout",
     "output_type": "stream",
     "text": [
      "[INFO 20240913-13-46-53 p1104 flush clog.py:115] \n",
      "[INFO 20240913-13-46-53 p1104 flush clog.py:115] 0%|          | 0/1 [00:00<?, ?it/s]\n",
      "[INFO 20240913-13-46-53 p1104 flush clog.py:115] \u001b[A\n",
      "[INFO 20240913-13-46-57 p1104 flush clog.py:115] 100%|##########| 1/1 [00:04<00:00,  4.89s/it]\n",
      "[INFO 20240913-13-46-58 p1104 flush clog.py:115] \n",
      "[INFO 20240913-13-46-58 p1104 flush clog.py:115] 0%|          | 0/1 [00:00<?, ?it/s]\n",
      "[INFO 20240913-13-46-58 p1104 flush clog.py:115] \u001b[A\n"
     ]
    },
    {
     "name": "stderr",
     "output_type": "stream",
     "text": [
      "sam:  68%|██████▊   | 187/276 [15:40<07:23,  4.99s/it]"
     ]
    },
    {
     "name": "stdout",
     "output_type": "stream",
     "text": [
      "[INFO 20240913-13-47-02 p1104 flush clog.py:115] 100%|##########| 1/1 [00:04<00:00,  4.87s/it]\n",
      "[INFO 20240913-13-47-02 p1104 flush clog.py:115] \n",
      "[INFO 20240913-13-47-02 p1104 flush clog.py:115] 0%|          | 0/1 [00:00<?, ?it/s]\n",
      "[INFO 20240913-13-47-02 p1104 flush clog.py:115] \u001b[A\n"
     ]
    },
    {
     "name": "stderr",
     "output_type": "stream",
     "text": [
      "sam:  68%|██████▊   | 188/276 [15:45<07:16,  4.95s/it]"
     ]
    },
    {
     "name": "stdout",
     "output_type": "stream",
     "text": [
      "[INFO 20240913-13-47-07 p1104 flush clog.py:115] 100%|##########| 1/1 [00:05<00:00,  5.00s/it]\n",
      "[INFO 20240913-13-47-07 p1104 flush clog.py:115] \n",
      "[INFO 20240913-13-47-07 p1104 flush clog.py:115] 0%|          | 0/1 [00:00<?, ?it/s]\n",
      "[INFO 20240913-13-47-07 p1104 flush clog.py:115] \u001b[A\n"
     ]
    },
    {
     "name": "stderr",
     "output_type": "stream",
     "text": [
      "sam:  68%|██████▊   | 189/276 [15:50<07:12,  4.97s/it]"
     ]
    },
    {
     "name": "stdout",
     "output_type": "stream",
     "text": [
      "[INFO 20240913-13-47-12 p1104 flush clog.py:115] 100%|##########| 1/1 [00:04<00:00,  4.90s/it]\n",
      "[INFO 20240913-13-47-12 p1104 flush clog.py:115] \n",
      "[INFO 20240913-13-47-12 p1104 flush clog.py:115] 0%|          | 0/1 [00:00<?, ?it/s]\n",
      "[INFO 20240913-13-47-12 p1104 flush clog.py:115] \u001b[A\n"
     ]
    },
    {
     "name": "stderr",
     "output_type": "stream",
     "text": [
      "sam:  69%|██████▉   | 190/276 [15:55<07:06,  4.95s/it]"
     ]
    },
    {
     "name": "stdout",
     "output_type": "stream",
     "text": [
      "[INFO 20240913-13-47-17 p1104 flush clog.py:115] 100%|##########| 1/1 [00:05<00:00,  5.03s/it]\n",
      "[INFO 20240913-13-47-17 p1104 flush clog.py:115] \n",
      "[INFO 20240913-13-47-17 p1104 flush clog.py:115] 0%|          | 0/1 [00:00<?, ?it/s]\n",
      "[INFO 20240913-13-47-17 p1104 flush clog.py:115] \u001b[A\n"
     ]
    },
    {
     "name": "stderr",
     "output_type": "stream",
     "text": [
      "sam:  69%|██████▉   | 191/276 [16:00<07:03,  4.98s/it]"
     ]
    },
    {
     "name": "stdout",
     "output_type": "stream",
     "text": [
      "[INFO 20240913-13-47-22 p1104 flush clog.py:115] 100%|##########| 1/1 [00:04<00:00,  4.99s/it]\n"
     ]
    },
    {
     "name": "stderr",
     "output_type": "stream",
     "text": [
      "sam:  70%|██████▉   | 192/276 [16:06<07:12,  5.15s/it]"
     ]
    },
    {
     "name": "stdout",
     "output_type": "stream",
     "text": [
      "[INFO 20240913-13-47-23 p1104 flush clog.py:115] \n",
      "[INFO 20240913-13-47-23 p1104 flush clog.py:115] 0%|          | 0/1 [00:00<?, ?it/s]\n",
      "[INFO 20240913-13-47-23 p1104 flush clog.py:115] \u001b[A\n",
      "[INFO 20240913-13-47-28 p1104 flush clog.py:115] 100%|##########| 1/1 [00:04<00:00,  4.85s/it]\n"
     ]
    },
    {
     "name": "stderr",
     "output_type": "stream",
     "text": [
      "sam:  70%|██████▉   | 193/276 [16:11<07:14,  5.23s/it]"
     ]
    },
    {
     "name": "stdout",
     "output_type": "stream",
     "text": [
      "[INFO 20240913-13-47-28 p1104 flush clog.py:115] \n",
      "[INFO 20240913-13-47-28 p1104 flush clog.py:115] 0%|          | 0/1 [00:00<?, ?it/s]\n",
      "[INFO 20240913-13-47-28 p1104 flush clog.py:115] \u001b[A\n",
      "[INFO 20240913-13-47-33 p1104 flush clog.py:115] 100%|##########| 1/1 [00:04<00:00,  4.85s/it]\n"
     ]
    },
    {
     "name": "stderr",
     "output_type": "stream",
     "text": [
      "sam:  70%|███████   | 194/276 [16:16<07:06,  5.21s/it]"
     ]
    },
    {
     "name": "stdout",
     "output_type": "stream",
     "text": [
      "[INFO 20240913-13-47-34 p1104 flush clog.py:115] \n",
      "[INFO 20240913-13-47-34 p1104 flush clog.py:115] 0%|          | 0/1 [00:00<?, ?it/s]\n",
      "[INFO 20240913-13-47-34 p1104 flush clog.py:115] \u001b[A\n",
      "[INFO 20240913-13-47-38 p1104 flush clog.py:115] 100%|##########| 1/1 [00:04<00:00,  4.87s/it]\n",
      "[INFO 20240913-13-47-38 p1104 flush clog.py:115] \n",
      "[INFO 20240913-13-47-38 p1104 flush clog.py:115] 0%|          | 0/1 [00:00<?, ?it/s]\n",
      "[INFO 20240913-13-47-38 p1104 flush clog.py:115] \u001b[A\n"
     ]
    },
    {
     "name": "stderr",
     "output_type": "stream",
     "text": [
      "sam:  71%|███████   | 195/276 [16:21<06:55,  5.13s/it]"
     ]
    },
    {
     "name": "stdout",
     "output_type": "stream",
     "text": [
      "[INFO 20240913-13-47-43 p1104 flush clog.py:115] 100%|##########| 1/1 [00:04<00:00,  4.98s/it]\n",
      "[INFO 20240913-13-47-43 p1104 flush clog.py:115] \n",
      "[INFO 20240913-13-47-43 p1104 flush clog.py:115] 0%|          | 0/1 [00:00<?, ?it/s]\n",
      "[INFO 20240913-13-47-43 p1104 flush clog.py:115] \u001b[A\n"
     ]
    },
    {
     "name": "stderr",
     "output_type": "stream",
     "text": [
      "sam:  71%|███████   | 196/276 [16:26<06:47,  5.09s/it]"
     ]
    },
    {
     "name": "stdout",
     "output_type": "stream",
     "text": [
      "[INFO 20240913-13-47-48 p1104 flush clog.py:115] 100%|##########| 1/1 [00:04<00:00,  4.88s/it]\n",
      "[INFO 20240913-13-47-48 p1104 flush clog.py:115] \n",
      "[INFO 20240913-13-47-48 p1104 flush clog.py:115] 0%|          | 0/1 [00:00<?, ?it/s]\n",
      "[INFO 20240913-13-47-48 p1104 flush clog.py:115] \u001b[A\n"
     ]
    },
    {
     "name": "stderr",
     "output_type": "stream",
     "text": [
      "sam:  71%|███████▏  | 197/276 [16:31<06:37,  5.03s/it]"
     ]
    },
    {
     "name": "stdout",
     "output_type": "stream",
     "text": [
      "[INFO 20240913-13-47-53 p1104 flush clog.py:115] 100%|##########| 1/1 [00:04<00:00,  4.87s/it]\n",
      "[INFO 20240913-13-47-53 p1104 flush clog.py:115] \n",
      "[INFO 20240913-13-47-53 p1104 flush clog.py:115] 0%|          | 0/1 [00:00<?, ?it/s]\n",
      "[INFO 20240913-13-47-53 p1104 flush clog.py:115] \u001b[A\n"
     ]
    },
    {
     "name": "stderr",
     "output_type": "stream",
     "text": [
      "sam:  72%|███████▏  | 198/276 [16:36<06:29,  4.99s/it]"
     ]
    },
    {
     "name": "stdout",
     "output_type": "stream",
     "text": [
      "[INFO 20240913-13-47-58 p1104 flush clog.py:115] 100%|##########| 1/1 [00:04<00:00,  5.00s/it]\n",
      "[INFO 20240913-13-47-58 p1104 flush clog.py:115] \n",
      "[INFO 20240913-13-47-58 p1104 flush clog.py:115] 0%|          | 0/1 [00:00<?, ?it/s]\n",
      "[INFO 20240913-13-47-58 p1104 flush clog.py:115] \u001b[A\n"
     ]
    },
    {
     "name": "stderr",
     "output_type": "stream",
     "text": [
      "sam:  72%|███████▏  | 199/276 [16:41<06:24,  5.00s/it]"
     ]
    },
    {
     "name": "stdout",
     "output_type": "stream",
     "text": [
      "[INFO 20240913-13-48-03 p1104 flush clog.py:115] 100%|##########| 1/1 [00:04<00:00,  4.87s/it]\n",
      "[INFO 20240913-13-48-03 p1104 flush clog.py:115] \n",
      "[INFO 20240913-13-48-03 p1104 flush clog.py:115] 0%|          | 0/1 [00:00<?, ?it/s]\n",
      "[INFO 20240913-13-48-03 p1104 flush clog.py:115] \u001b[A\n"
     ]
    },
    {
     "name": "stderr",
     "output_type": "stream",
     "text": [
      "sam:  72%|███████▏  | 200/276 [16:46<06:17,  4.96s/it]"
     ]
    },
    {
     "name": "stdout",
     "output_type": "stream",
     "text": [
      "[INFO 20240913-13-48-08 p1104 flush clog.py:115] 100%|##########| 1/1 [00:05<00:00,  5.02s/it]\n",
      "[INFO 20240913-13-48-08 p1104 flush clog.py:115] \n",
      "[INFO 20240913-13-48-08 p1104 flush clog.py:115] 0%|          | 0/1 [00:00<?, ?it/s]\n",
      "[INFO 20240913-13-48-08 p1104 flush clog.py:115] \u001b[A\n"
     ]
    },
    {
     "name": "stderr",
     "output_type": "stream",
     "text": [
      "sam:  73%|███████▎  | 201/276 [16:51<06:13,  4.99s/it]"
     ]
    },
    {
     "name": "stdout",
     "output_type": "stream",
     "text": [
      "[INFO 20240913-13-48-13 p1104 flush clog.py:115] 100%|##########| 1/1 [00:04<00:00,  4.89s/it]\n",
      "[INFO 20240913-13-48-13 p1104 flush clog.py:115] \n",
      "[INFO 20240913-13-48-13 p1104 flush clog.py:115] 0%|          | 0/1 [00:00<?, ?it/s]\n",
      "[INFO 20240913-13-48-13 p1104 flush clog.py:115] \u001b[A\n"
     ]
    },
    {
     "name": "stderr",
     "output_type": "stream",
     "text": [
      "sam:  73%|███████▎  | 202/276 [16:56<06:07,  4.96s/it]"
     ]
    },
    {
     "name": "stdout",
     "output_type": "stream",
     "text": [
      "[INFO 20240913-13-48-18 p1104 flush clog.py:115] 100%|##########| 1/1 [00:04<00:00,  4.98s/it]\n",
      "[INFO 20240913-13-48-18 p1104 flush clog.py:115] \n",
      "[INFO 20240913-13-48-18 p1104 flush clog.py:115] 0%|          | 0/1 [00:00<?, ?it/s]\n",
      "[INFO 20240913-13-48-18 p1104 flush clog.py:115] \u001b[A\n"
     ]
    },
    {
     "name": "stderr",
     "output_type": "stream",
     "text": [
      "sam:  74%|███████▎  | 203/276 [17:01<06:02,  4.97s/it]"
     ]
    },
    {
     "name": "stdout",
     "output_type": "stream",
     "text": [
      "[INFO 20240913-13-48-23 p1104 flush clog.py:115] 100%|##########| 1/1 [00:04<00:00,  4.79s/it]\n",
      "[INFO 20240913-13-48-23 p1104 flush clog.py:115] \n",
      "[INFO 20240913-13-48-23 p1104 flush clog.py:115] 0%|          | 0/1 [00:00<?, ?it/s]\n",
      "[INFO 20240913-13-48-23 p1104 flush clog.py:115] \u001b[A\n"
     ]
    },
    {
     "name": "stderr",
     "output_type": "stream",
     "text": [
      "sam:  74%|███████▍  | 204/276 [17:06<05:54,  4.92s/it]"
     ]
    },
    {
     "name": "stdout",
     "output_type": "stream",
     "text": [
      "[INFO 20240913-13-48-28 p1104 flush clog.py:115] 100%|##########| 1/1 [00:04<00:00,  4.96s/it]\n"
     ]
    },
    {
     "name": "stderr",
     "output_type": "stream",
     "text": [
      "sam:  74%|███████▍  | 205/276 [17:15<07:12,  6.10s/it]"
     ]
    },
    {
     "name": "stdout",
     "output_type": "stream",
     "text": [
      "[INFO 20240913-13-48-32 p1104 flush clog.py:115] \n",
      "[INFO 20240913-13-48-32 p1104 flush clog.py:115] 0%|          | 0/1 [00:00<?, ?it/s]\n",
      "[INFO 20240913-13-48-32 p1104 flush clog.py:115] \u001b[A\n",
      "[INFO 20240913-13-48-37 p1104 flush clog.py:115] 100%|##########| 1/1 [00:04<00:00,  4.80s/it]\n",
      "[INFO 20240913-13-48-37 p1104 flush clog.py:115] \n",
      "[INFO 20240913-13-48-37 p1104 flush clog.py:115] 0%|          | 0/1 [00:00<?, ?it/s]\n",
      "[INFO 20240913-13-48-37 p1104 flush clog.py:115] \u001b[A\n"
     ]
    },
    {
     "name": "stderr",
     "output_type": "stream",
     "text": [
      "sam:  75%|███████▍  | 206/276 [17:19<06:39,  5.71s/it]"
     ]
    },
    {
     "name": "stdout",
     "output_type": "stream",
     "text": [
      "[INFO 20240913-13-48-41 p1104 flush clog.py:115] 100%|##########| 1/1 [00:04<00:00,  4.94s/it]\n",
      "[INFO 20240913-13-48-41 p1104 flush clog.py:115] \n",
      "[INFO 20240913-13-48-41 p1104 flush clog.py:115] 0%|          | 0/1 [00:00<?, ?it/s]\n",
      "[INFO 20240913-13-48-41 p1104 flush clog.py:115] \u001b[A\n"
     ]
    },
    {
     "name": "stderr",
     "output_type": "stream",
     "text": [
      "sam:  75%|███████▌  | 207/276 [17:24<06:18,  5.49s/it]"
     ]
    },
    {
     "name": "stdout",
     "output_type": "stream",
     "text": [
      "[INFO 20240913-13-48-46 p1104 flush clog.py:115] 100%|##########| 1/1 [00:04<00:00,  4.93s/it]\n",
      "[INFO 20240913-13-48-46 p1104 flush clog.py:115] \n",
      "[INFO 20240913-13-48-46 p1104 flush clog.py:115] 0%|          | 0/1 [00:00<?, ?it/s]\n",
      "[INFO 20240913-13-48-46 p1104 flush clog.py:115] \u001b[A\n"
     ]
    },
    {
     "name": "stderr",
     "output_type": "stream",
     "text": [
      "sam:  75%|███████▌  | 208/276 [17:29<06:01,  5.32s/it]"
     ]
    },
    {
     "name": "stdout",
     "output_type": "stream",
     "text": [
      "[INFO 20240913-13-48-51 p1104 flush clog.py:115] 100%|##########| 1/1 [00:04<00:00,  4.93s/it]\n",
      "[INFO 20240913-13-48-51 p1104 flush clog.py:115] \n",
      "[INFO 20240913-13-48-51 p1104 flush clog.py:115] 0%|          | 0/1 [00:00<?, ?it/s]\n",
      "[INFO 20240913-13-48-51 p1104 flush clog.py:115] \u001b[A\n"
     ]
    },
    {
     "name": "stderr",
     "output_type": "stream",
     "text": [
      "sam:  76%|███████▌  | 209/276 [17:34<05:50,  5.24s/it]"
     ]
    },
    {
     "name": "stdout",
     "output_type": "stream",
     "text": [
      "[INFO 20240913-13-48-56 p1104 flush clog.py:115] 100%|##########| 1/1 [00:04<00:00,  4.90s/it]\n",
      "[INFO 20240913-13-48-56 p1104 flush clog.py:115] \n",
      "[INFO 20240913-13-48-56 p1104 flush clog.py:115] 0%|          | 0/1 [00:00<?, ?it/s]\n",
      "[INFO 20240913-13-48-56 p1104 flush clog.py:115] \u001b[A\n"
     ]
    },
    {
     "name": "stderr",
     "output_type": "stream",
     "text": [
      "sam:  76%|███████▌  | 210/276 [17:39<05:39,  5.14s/it]"
     ]
    },
    {
     "name": "stdout",
     "output_type": "stream",
     "text": [
      "[INFO 20240913-13-49-01 p1104 flush clog.py:115] 100%|##########| 1/1 [00:04<00:00,  4.88s/it]\n",
      "[INFO 20240913-13-49-01 p1104 flush clog.py:115] \n",
      "[INFO 20240913-13-49-01 p1104 flush clog.py:115] 0%|          | 0/1 [00:00<?, ?it/s]\n",
      "[INFO 20240913-13-49-01 p1104 flush clog.py:115] \u001b[A\n"
     ]
    },
    {
     "name": "stderr",
     "output_type": "stream",
     "text": [
      "sam:  76%|███████▋  | 211/276 [17:44<05:29,  5.07s/it]"
     ]
    },
    {
     "name": "stdout",
     "output_type": "stream",
     "text": [
      "[INFO 20240913-13-49-06 p1104 flush clog.py:115] 100%|##########| 1/1 [00:04<00:00,  4.84s/it]\n",
      "[INFO 20240913-13-49-06 p1104 flush clog.py:115] \n",
      "[INFO 20240913-13-49-06 p1104 flush clog.py:115] 0%|          | 0/1 [00:00<?, ?it/s]\n",
      "[INFO 20240913-13-49-06 p1104 flush clog.py:115] \u001b[A\n"
     ]
    },
    {
     "name": "stderr",
     "output_type": "stream",
     "text": [
      "sam:  77%|███████▋  | 212/276 [17:49<05:20,  5.00s/it]"
     ]
    },
    {
     "name": "stdout",
     "output_type": "stream",
     "text": [
      "[INFO 20240913-13-49-11 p1104 flush clog.py:115] 100%|##########| 1/1 [00:04<00:00,  4.99s/it]\n",
      "[INFO 20240913-13-49-11 p1104 flush clog.py:115] \n",
      "[INFO 20240913-13-49-11 p1104 flush clog.py:115] 0%|          | 0/1 [00:00<?, ?it/s]\n",
      "[INFO 20240913-13-49-11 p1104 flush clog.py:115] \u001b[A\n"
     ]
    },
    {
     "name": "stderr",
     "output_type": "stream",
     "text": [
      "sam:  77%|███████▋  | 213/276 [17:54<05:15,  5.00s/it]"
     ]
    },
    {
     "name": "stdout",
     "output_type": "stream",
     "text": [
      "[INFO 20240913-13-49-16 p1104 flush clog.py:115] 100%|##########| 1/1 [00:04<00:00,  5.00s/it]\n",
      "[INFO 20240913-13-49-16 p1104 flush clog.py:115] \n",
      "[INFO 20240913-13-49-16 p1104 flush clog.py:115] 0%|          | 0/1 [00:00<?, ?it/s]\n",
      "[INFO 20240913-13-49-16 p1104 flush clog.py:115] \u001b[A\n"
     ]
    },
    {
     "name": "stderr",
     "output_type": "stream",
     "text": [
      "sam:  78%|███████▊  | 214/276 [17:59<05:10,  5.01s/it]"
     ]
    },
    {
     "name": "stdout",
     "output_type": "stream",
     "text": [
      "[INFO 20240913-13-49-21 p1104 flush clog.py:115] 100%|##########| 1/1 [00:05<00:00,  5.04s/it]\n",
      "[INFO 20240913-13-49-21 p1104 flush clog.py:115] \n",
      "[INFO 20240913-13-49-21 p1104 flush clog.py:115] 0%|          | 0/1 [00:00<?, ?it/s]\n",
      "[INFO 20240913-13-49-21 p1104 flush clog.py:115] \u001b[A\n"
     ]
    },
    {
     "name": "stderr",
     "output_type": "stream",
     "text": [
      "sam:  78%|███████▊  | 215/276 [18:04<05:06,  5.02s/it]"
     ]
    },
    {
     "name": "stdout",
     "output_type": "stream",
     "text": [
      "[INFO 20240913-13-49-26 p1104 flush clog.py:115] 100%|##########| 1/1 [00:04<00:00,  4.92s/it]\n",
      "[INFO 20240913-13-49-26 p1104 flush clog.py:115] \n",
      "[INFO 20240913-13-49-26 p1104 flush clog.py:115] 0%|          | 0/1 [00:00<?, ?it/s]\n",
      "[INFO 20240913-13-49-26 p1104 flush clog.py:115] \u001b[A\n"
     ]
    },
    {
     "name": "stderr",
     "output_type": "stream",
     "text": [
      "sam:  78%|███████▊  | 216/276 [18:09<04:59,  4.99s/it]"
     ]
    },
    {
     "name": "stdout",
     "output_type": "stream",
     "text": [
      "[INFO 20240913-13-49-31 p1104 flush clog.py:115] 100%|##########| 1/1 [00:04<00:00,  4.89s/it]\n",
      "[INFO 20240913-13-49-31 p1104 flush clog.py:115] \n",
      "[INFO 20240913-13-49-31 p1104 flush clog.py:115] 0%|          | 0/1 [00:00<?, ?it/s]\n",
      "[INFO 20240913-13-49-31 p1104 flush clog.py:115] \u001b[A\n"
     ]
    },
    {
     "name": "stderr",
     "output_type": "stream",
     "text": [
      "sam:  79%|███████▊  | 217/276 [18:14<04:53,  4.97s/it]"
     ]
    },
    {
     "name": "stdout",
     "output_type": "stream",
     "text": [
      "[INFO 20240913-13-49-36 p1104 flush clog.py:115] 100%|##########| 1/1 [00:05<00:00,  5.02s/it]\n",
      "[INFO 20240913-13-49-36 p1104 flush clog.py:115] \n",
      "[INFO 20240913-13-49-36 p1104 flush clog.py:115] 0%|          | 0/1 [00:00<?, ?it/s]\n",
      "[INFO 20240913-13-49-36 p1104 flush clog.py:115] \u001b[A\n"
     ]
    },
    {
     "name": "stderr",
     "output_type": "stream",
     "text": [
      "sam:  79%|███████▉  | 218/276 [18:19<04:49,  4.99s/it]"
     ]
    },
    {
     "name": "stdout",
     "output_type": "stream",
     "text": [
      "[INFO 20240913-13-49-41 p1104 flush clog.py:115] 100%|##########| 1/1 [00:04<00:00,  4.96s/it]\n",
      "[INFO 20240913-13-49-41 p1104 flush clog.py:115] \n",
      "[INFO 20240913-13-49-41 p1104 flush clog.py:115] 0%|          | 0/1 [00:00<?, ?it/s]\n",
      "[INFO 20240913-13-49-41 p1104 flush clog.py:115] \u001b[A\n"
     ]
    },
    {
     "name": "stderr",
     "output_type": "stream",
     "text": [
      "sam:  79%|███████▉  | 219/276 [18:24<04:43,  4.98s/it]"
     ]
    },
    {
     "name": "stdout",
     "output_type": "stream",
     "text": [
      "[INFO 20240913-13-49-46 p1104 flush clog.py:115] 100%|##########| 1/1 [00:04<00:00,  4.91s/it]\n",
      "[INFO 20240913-13-49-46 p1104 flush clog.py:115] \n",
      "[INFO 20240913-13-49-46 p1104 flush clog.py:115] 0%|          | 0/1 [00:00<?, ?it/s]\n",
      "[INFO 20240913-13-49-46 p1104 flush clog.py:115] \u001b[A\n"
     ]
    },
    {
     "name": "stderr",
     "output_type": "stream",
     "text": [
      "sam:  80%|███████▉  | 220/276 [18:29<04:37,  4.96s/it]"
     ]
    },
    {
     "name": "stdout",
     "output_type": "stream",
     "text": [
      "[INFO 20240913-13-49-51 p1104 flush clog.py:115] 100%|##########| 1/1 [00:04<00:00,  5.00s/it]\n",
      "[INFO 20240913-13-49-51 p1104 flush clog.py:115] \n",
      "[INFO 20240913-13-49-51 p1104 flush clog.py:115] 0%|          | 0/1 [00:00<?, ?it/s]\n",
      "[INFO 20240913-13-49-51 p1104 flush clog.py:115] \u001b[A\n"
     ]
    },
    {
     "name": "stderr",
     "output_type": "stream",
     "text": [
      "sam:  80%|████████  | 221/276 [18:34<04:34,  4.99s/it]"
     ]
    },
    {
     "name": "stdout",
     "output_type": "stream",
     "text": [
      "[INFO 20240913-13-49-56 p1104 flush clog.py:115] 100%|##########| 1/1 [00:04<00:00,  4.95s/it]\n",
      "[INFO 20240913-13-49-56 p1104 flush clog.py:115] \n",
      "[INFO 20240913-13-49-56 p1104 flush clog.py:115] 0%|          | 0/1 [00:00<?, ?it/s]\n",
      "[INFO 20240913-13-49-56 p1104 flush clog.py:115] \u001b[A\n"
     ]
    },
    {
     "name": "stderr",
     "output_type": "stream",
     "text": [
      "sam:  80%|████████  | 222/276 [18:39<04:29,  4.98s/it]"
     ]
    },
    {
     "name": "stdout",
     "output_type": "stream",
     "text": [
      "[INFO 20240913-13-50-01 p1104 flush clog.py:115] 100%|##########| 1/1 [00:04<00:00,  4.89s/it]\n"
     ]
    },
    {
     "name": "stderr",
     "output_type": "stream",
     "text": [
      "sam:  81%|████████  | 223/276 [18:44<04:22,  4.96s/it]"
     ]
    },
    {
     "name": "stdout",
     "output_type": "stream",
     "text": [
      "[INFO 20240913-13-50-01 p1104 flush clog.py:115] \n",
      "[INFO 20240913-13-50-01 p1104 flush clog.py:115] 0%|          | 0/1 [00:00<?, ?it/s]\n",
      "[INFO 20240913-13-50-01 p1104 flush clog.py:115] \u001b[A\n",
      "[INFO 20240913-13-50-06 p1104 flush clog.py:115] 100%|##########| 1/1 [00:04<00:00,  4.90s/it]\n"
     ]
    },
    {
     "name": "stderr",
     "output_type": "stream",
     "text": [
      "sam:  81%|████████  | 224/276 [18:49<04:28,  5.17s/it]"
     ]
    },
    {
     "name": "stdout",
     "output_type": "stream",
     "text": [
      "[INFO 20240913-13-50-07 p1104 flush clog.py:115] \n",
      "[INFO 20240913-13-50-07 p1104 flush clog.py:115] 0%|          | 0/1 [00:00<?, ?it/s]\n",
      "[INFO 20240913-13-50-07 p1104 flush clog.py:115] \u001b[A\n",
      "[INFO 20240913-13-50-12 p1104 flush clog.py:115] 100%|##########| 1/1 [00:05<00:00,  5.02s/it]\n"
     ]
    },
    {
     "name": "stderr",
     "output_type": "stream",
     "text": [
      "sam:  82%|████████▏ | 225/276 [18:55<04:25,  5.20s/it]"
     ]
    },
    {
     "name": "stdout",
     "output_type": "stream",
     "text": [
      "[INFO 20240913-13-50-12 p1104 flush clog.py:115] \n",
      "[INFO 20240913-13-50-12 p1104 flush clog.py:115] 0%|          | 0/1 [00:00<?, ?it/s]\n",
      "[INFO 20240913-13-50-12 p1104 flush clog.py:115] \u001b[A\n",
      "[INFO 20240913-13-50-17 p1104 flush clog.py:115] 100%|##########| 1/1 [00:04<00:00,  4.90s/it]\n",
      "[INFO 20240913-13-50-17 p1104 flush clog.py:115] \n",
      "[INFO 20240913-13-50-17 p1104 flush clog.py:115] 0%|          | 0/1 [00:00<?, ?it/s]\n",
      "[INFO 20240913-13-50-17 p1104 flush clog.py:115] \u001b[A\n"
     ]
    },
    {
     "name": "stderr",
     "output_type": "stream",
     "text": [
      "sam:  82%|████████▏ | 226/276 [19:00<04:15,  5.11s/it]"
     ]
    },
    {
     "name": "stdout",
     "output_type": "stream",
     "text": [
      "[INFO 20240913-13-50-22 p1104 flush clog.py:115] 100%|##########| 1/1 [00:04<00:00,  4.91s/it]\n",
      "[INFO 20240913-13-50-22 p1104 flush clog.py:115] \n",
      "[INFO 20240913-13-50-22 p1104 flush clog.py:115] 0%|          | 0/1 [00:00<?, ?it/s]\n",
      "[INFO 20240913-13-50-22 p1104 flush clog.py:115] \u001b[A\n"
     ]
    },
    {
     "name": "stderr",
     "output_type": "stream",
     "text": [
      "sam:  82%|████████▏ | 227/276 [19:05<04:07,  5.06s/it]"
     ]
    },
    {
     "name": "stdout",
     "output_type": "stream",
     "text": [
      "[INFO 20240913-13-50-27 p1104 flush clog.py:115] 100%|##########| 1/1 [00:05<00:00,  5.06s/it]\n",
      "[INFO 20240913-13-50-27 p1104 flush clog.py:115] \n",
      "[INFO 20240913-13-50-27 p1104 flush clog.py:115] 0%|          | 0/1 [00:00<?, ?it/s]\n",
      "[INFO 20240913-13-50-27 p1104 flush clog.py:115] \u001b[A\n"
     ]
    },
    {
     "name": "stderr",
     "output_type": "stream",
     "text": [
      "sam:  83%|████████▎ | 228/276 [19:10<04:02,  5.06s/it]"
     ]
    },
    {
     "name": "stdout",
     "output_type": "stream",
     "text": [
      "[INFO 20240913-13-50-32 p1104 flush clog.py:115] 100%|##########| 1/1 [00:04<00:00,  4.96s/it]\n",
      "[INFO 20240913-13-50-32 p1104 flush clog.py:115] \n",
      "[INFO 20240913-13-50-32 p1104 flush clog.py:115] 0%|          | 0/1 [00:00<?, ?it/s]\n",
      "[INFO 20240913-13-50-32 p1104 flush clog.py:115] \u001b[A\n"
     ]
    },
    {
     "name": "stderr",
     "output_type": "stream",
     "text": [
      "sam:  83%|████████▎ | 229/276 [19:15<03:56,  5.04s/it]"
     ]
    },
    {
     "name": "stdout",
     "output_type": "stream",
     "text": [
      "[INFO 20240913-13-50-37 p1104 flush clog.py:115] 100%|##########| 1/1 [00:05<00:00,  5.02s/it]\n",
      "[INFO 20240913-13-50-37 p1104 flush clog.py:115] \n",
      "[INFO 20240913-13-50-37 p1104 flush clog.py:115] 0%|          | 0/1 [00:00<?, ?it/s]\n",
      "[INFO 20240913-13-50-37 p1104 flush clog.py:115] \u001b[A\n"
     ]
    },
    {
     "name": "stderr",
     "output_type": "stream",
     "text": [
      "sam:  83%|████████▎ | 230/276 [19:20<03:54,  5.09s/it]"
     ]
    },
    {
     "name": "stdout",
     "output_type": "stream",
     "text": [
      "[INFO 20240913-13-50-42 p1104 flush clog.py:115] 100%|##########| 1/1 [00:04<00:00,  4.78s/it]\n"
     ]
    },
    {
     "name": "stderr",
     "output_type": "stream",
     "text": [
      "sam:  84%|████████▎ | 231/276 [19:25<03:50,  5.13s/it]"
     ]
    },
    {
     "name": "stdout",
     "output_type": "stream",
     "text": [
      "[INFO 20240913-13-50-42 p1104 flush clog.py:115] \n",
      "[INFO 20240913-13-50-42 p1104 flush clog.py:115] 0%|          | 0/1 [00:00<?, ?it/s]\n",
      "[INFO 20240913-13-50-42 p1104 flush clog.py:115] \u001b[A\n",
      "[INFO 20240913-13-50-47 p1104 flush clog.py:115] 100%|##########| 1/1 [00:04<00:00,  4.93s/it]\n"
     ]
    },
    {
     "name": "stderr",
     "output_type": "stream",
     "text": [
      "sam:  84%|████████▍ | 232/276 [19:30<03:47,  5.16s/it]"
     ]
    },
    {
     "name": "stdout",
     "output_type": "stream",
     "text": [
      "[INFO 20240913-13-50-47 p1104 flush clog.py:115] \n",
      "[INFO 20240913-13-50-47 p1104 flush clog.py:115] 0%|          | 0/1 [00:00<?, ?it/s]\n",
      "[INFO 20240913-13-50-47 p1104 flush clog.py:115] \u001b[A\n",
      "[INFO 20240913-13-50-52 p1104 flush clog.py:115] 100%|##########| 1/1 [00:05<00:00,  5.02s/it]\n",
      "[INFO 20240913-13-50-52 p1104 flush clog.py:115] \n",
      "[INFO 20240913-13-50-52 p1104 flush clog.py:115] 0%|          | 0/1 [00:00<?, ?it/s]\n",
      "[INFO 20240913-13-50-52 p1104 flush clog.py:115] \u001b[A\n"
     ]
    },
    {
     "name": "stderr",
     "output_type": "stream",
     "text": [
      "sam:  84%|████████▍ | 233/276 [19:35<03:40,  5.12s/it]"
     ]
    },
    {
     "name": "stdout",
     "output_type": "stream",
     "text": [
      "[INFO 20240913-13-50-57 p1104 flush clog.py:115] 100%|##########| 1/1 [00:05<00:00,  5.04s/it]\n",
      "[INFO 20240913-13-50-57 p1104 flush clog.py:115] \n",
      "[INFO 20240913-13-50-57 p1104 flush clog.py:115] 0%|          | 0/1 [00:00<?, ?it/s]\n",
      "[INFO 20240913-13-50-57 p1104 flush clog.py:115] \u001b[A\n"
     ]
    },
    {
     "name": "stderr",
     "output_type": "stream",
     "text": [
      "sam:  85%|████████▍ | 234/276 [19:40<03:34,  5.10s/it]"
     ]
    },
    {
     "name": "stdout",
     "output_type": "stream",
     "text": [
      "[INFO 20240913-13-51-03 p1104 flush clog.py:115] 100%|##########| 1/1 [00:05<00:00,  5.05s/it]\n",
      "[INFO 20240913-13-51-03 p1104 flush clog.py:115] \n",
      "[INFO 20240913-13-51-03 p1104 flush clog.py:115] 0%|          | 0/1 [00:00<?, ?it/s]\n",
      "[INFO 20240913-13-51-03 p1104 flush clog.py:115] \u001b[A\n"
     ]
    },
    {
     "name": "stderr",
     "output_type": "stream",
     "text": [
      "sam:  85%|████████▌ | 235/276 [19:45<03:28,  5.09s/it]"
     ]
    },
    {
     "name": "stdout",
     "output_type": "stream",
     "text": [
      "[INFO 20240913-13-51-08 p1104 flush clog.py:115] 100%|##########| 1/1 [00:05<00:00,  5.04s/it]\n",
      "[INFO 20240913-13-51-08 p1104 flush clog.py:115] \n",
      "[INFO 20240913-13-51-08 p1104 flush clog.py:115] 0%|          | 0/1 [00:00<?, ?it/s]\n",
      "[INFO 20240913-13-51-08 p1104 flush clog.py:115] \u001b[A\n"
     ]
    },
    {
     "name": "stderr",
     "output_type": "stream",
     "text": [
      "sam:  86%|████████▌ | 236/276 [19:51<03:23,  5.08s/it]"
     ]
    },
    {
     "name": "stdout",
     "output_type": "stream",
     "text": [
      "[INFO 20240913-13-51-13 p1104 flush clog.py:115] 100%|##########| 1/1 [00:05<00:00,  5.05s/it]\n",
      "[INFO 20240913-13-51-13 p1104 flush clog.py:115] \n",
      "[INFO 20240913-13-51-13 p1104 flush clog.py:115] 0%|          | 0/1 [00:00<?, ?it/s]\n",
      "[INFO 20240913-13-51-13 p1104 flush clog.py:115] \u001b[A\n"
     ]
    },
    {
     "name": "stderr",
     "output_type": "stream",
     "text": [
      "sam:  86%|████████▌ | 237/276 [19:56<03:17,  5.08s/it]"
     ]
    },
    {
     "name": "stdout",
     "output_type": "stream",
     "text": [
      "[INFO 20240913-13-51-18 p1104 flush clog.py:115] 100%|##########| 1/1 [00:04<00:00,  4.92s/it]\n",
      "[INFO 20240913-13-51-18 p1104 flush clog.py:115] \n",
      "[INFO 20240913-13-51-18 p1104 flush clog.py:115] 0%|          | 0/1 [00:00<?, ?it/s]\n",
      "[INFO 20240913-13-51-18 p1104 flush clog.py:115] \u001b[A\n"
     ]
    },
    {
     "name": "stderr",
     "output_type": "stream",
     "text": [
      "sam:  86%|████████▌ | 238/276 [20:01<03:11,  5.03s/it]"
     ]
    },
    {
     "name": "stdout",
     "output_type": "stream",
     "text": [
      "[INFO 20240913-13-51-23 p1104 flush clog.py:115] 100%|##########| 1/1 [00:04<00:00,  4.98s/it]\n",
      "[INFO 20240913-13-51-23 p1104 flush clog.py:115] \n",
      "[INFO 20240913-13-51-23 p1104 flush clog.py:115] 0%|          | 0/1 [00:00<?, ?it/s]\n",
      "[INFO 20240913-13-51-23 p1104 flush clog.py:115] \u001b[A\n"
     ]
    },
    {
     "name": "stderr",
     "output_type": "stream",
     "text": [
      "sam:  87%|████████▋ | 239/276 [20:06<03:05,  5.02s/it]"
     ]
    },
    {
     "name": "stdout",
     "output_type": "stream",
     "text": [
      "[INFO 20240913-13-51-27 p1104 flush clog.py:115] 100%|##########| 1/1 [00:04<00:00,  4.77s/it]\n",
      "[INFO 20240913-13-51-27 p1104 flush clog.py:115] \n",
      "[INFO 20240913-13-51-27 p1104 flush clog.py:115] 0%|          | 0/1 [00:00<?, ?it/s]\n",
      "[INFO 20240913-13-51-27 p1104 flush clog.py:115] \u001b[A\n"
     ]
    },
    {
     "name": "stderr",
     "output_type": "stream",
     "text": [
      "sam:  87%|████████▋ | 240/276 [20:10<02:58,  4.95s/it]"
     ]
    },
    {
     "name": "stdout",
     "output_type": "stream",
     "text": [
      "[INFO 20240913-13-51-32 p1104 flush clog.py:115] 100%|##########| 1/1 [00:04<00:00,  4.93s/it]\n",
      "[INFO 20240913-13-51-32 p1104 flush clog.py:115] \n",
      "[INFO 20240913-13-51-32 p1104 flush clog.py:115] 0%|          | 0/1 [00:00<?, ?it/s]\n",
      "[INFO 20240913-13-51-32 p1104 flush clog.py:115] \u001b[A\n"
     ]
    },
    {
     "name": "stderr",
     "output_type": "stream",
     "text": [
      "sam:  87%|████████▋ | 241/276 [20:15<02:53,  4.95s/it]"
     ]
    },
    {
     "name": "stdout",
     "output_type": "stream",
     "text": [
      "[INFO 20240913-13-51-37 p1104 flush clog.py:115] 100%|##########| 1/1 [00:05<00:00,  5.02s/it]\n",
      "[INFO 20240913-13-51-37 p1104 flush clog.py:115] \n",
      "[INFO 20240913-13-51-37 p1104 flush clog.py:115] 0%|          | 0/1 [00:00<?, ?it/s]\n",
      "[INFO 20240913-13-51-37 p1104 flush clog.py:115] \u001b[A\n"
     ]
    },
    {
     "name": "stderr",
     "output_type": "stream",
     "text": [
      "sam:  88%|████████▊ | 242/276 [20:20<02:49,  4.98s/it]"
     ]
    },
    {
     "name": "stdout",
     "output_type": "stream",
     "text": [
      "[INFO 20240913-13-51-42 p1104 flush clog.py:115] 100%|##########| 1/1 [00:05<00:00,  5.04s/it]\n",
      "[INFO 20240913-13-51-42 p1104 flush clog.py:115] \n",
      "[INFO 20240913-13-51-42 p1104 flush clog.py:115] 0%|          | 0/1 [00:00<?, ?it/s]\n",
      "[INFO 20240913-13-51-42 p1104 flush clog.py:115] \u001b[A\n"
     ]
    },
    {
     "name": "stderr",
     "output_type": "stream",
     "text": [
      "sam:  88%|████████▊ | 243/276 [20:25<02:45,  5.02s/it]"
     ]
    },
    {
     "name": "stdout",
     "output_type": "stream",
     "text": [
      "[INFO 20240913-13-51-48 p1104 flush clog.py:115] 100%|##########| 1/1 [00:05<00:00,  5.06s/it]\n"
     ]
    },
    {
     "name": "stderr",
     "output_type": "stream",
     "text": [
      "sam:  88%|████████▊ | 244/276 [20:31<02:45,  5.18s/it]"
     ]
    },
    {
     "name": "stdout",
     "output_type": "stream",
     "text": [
      "[INFO 20240913-13-51-48 p1104 flush clog.py:115] \n",
      "[INFO 20240913-13-51-48 p1104 flush clog.py:115] 0%|          | 0/1 [00:00<?, ?it/s]\n",
      "[INFO 20240913-13-51-48 p1104 flush clog.py:115] \u001b[A\n",
      "[INFO 20240913-13-51-53 p1104 flush clog.py:115] 100%|##########| 1/1 [00:04<00:00,  4.98s/it]\n",
      "[INFO 20240913-13-51-53 p1104 flush clog.py:115] \n",
      "[INFO 20240913-13-51-53 p1104 flush clog.py:115] 0%|          | 0/1 [00:00<?, ?it/s]\n",
      "[INFO 20240913-13-51-53 p1104 flush clog.py:115] \u001b[A\n"
     ]
    },
    {
     "name": "stderr",
     "output_type": "stream",
     "text": [
      "sam:  89%|████████▉ | 245/276 [20:36<02:38,  5.13s/it]"
     ]
    },
    {
     "name": "stdout",
     "output_type": "stream",
     "text": [
      "[INFO 20240913-13-51-58 p1104 flush clog.py:115] 100%|##########| 1/1 [00:04<00:00,  4.76s/it]\n",
      "[INFO 20240913-13-51-58 p1104 flush clog.py:115] \n",
      "[INFO 20240913-13-51-58 p1104 flush clog.py:115] 0%|          | 0/1 [00:00<?, ?it/s]\n",
      "[INFO 20240913-13-51-58 p1104 flush clog.py:115] \u001b[A\n"
     ]
    },
    {
     "name": "stderr",
     "output_type": "stream",
     "text": [
      "sam:  89%|████████▉ | 246/276 [20:41<02:30,  5.02s/it]"
     ]
    },
    {
     "name": "stdout",
     "output_type": "stream",
     "text": [
      "[INFO 20240913-13-52-03 p1104 flush clog.py:115] 100%|##########| 1/1 [00:04<00:00,  4.97s/it]\n",
      "[INFO 20240913-13-52-03 p1104 flush clog.py:115] \n",
      "[INFO 20240913-13-52-03 p1104 flush clog.py:115] 0%|          | 0/1 [00:00<?, ?it/s]\n",
      "[INFO 20240913-13-52-03 p1104 flush clog.py:115] \u001b[A\n"
     ]
    },
    {
     "name": "stderr",
     "output_type": "stream",
     "text": [
      "sam:  89%|████████▉ | 247/276 [20:46<02:25,  5.01s/it]"
     ]
    },
    {
     "name": "stdout",
     "output_type": "stream",
     "text": [
      "[INFO 20240913-13-52-08 p1104 flush clog.py:115] 100%|##########| 1/1 [00:04<00:00,  4.97s/it]\n",
      "[INFO 20240913-13-52-08 p1104 flush clog.py:115] \n",
      "[INFO 20240913-13-52-08 p1104 flush clog.py:115] 0%|          | 0/1 [00:00<?, ?it/s]\n",
      "[INFO 20240913-13-52-08 p1104 flush clog.py:115] \u001b[A\n"
     ]
    },
    {
     "name": "stderr",
     "output_type": "stream",
     "text": [
      "sam:  90%|████████▉ | 248/276 [20:51<02:20,  5.00s/it]"
     ]
    },
    {
     "name": "stdout",
     "output_type": "stream",
     "text": [
      "[INFO 20240913-13-52-13 p1104 flush clog.py:115] 100%|##########| 1/1 [00:04<00:00,  4.92s/it]\n",
      "[INFO 20240913-13-52-13 p1104 flush clog.py:115] \n",
      "[INFO 20240913-13-52-13 p1104 flush clog.py:115] 0%|          | 0/1 [00:00<?, ?it/s]\n",
      "[INFO 20240913-13-52-13 p1104 flush clog.py:115] \u001b[A\n"
     ]
    },
    {
     "name": "stderr",
     "output_type": "stream",
     "text": [
      "sam:  90%|█████████ | 249/276 [20:56<02:14,  4.98s/it]"
     ]
    },
    {
     "name": "stdout",
     "output_type": "stream",
     "text": [
      "[INFO 20240913-13-52-18 p1104 flush clog.py:115] 100%|##########| 1/1 [00:04<00:00,  4.97s/it]\n",
      "[INFO 20240913-13-52-18 p1104 flush clog.py:115] \n",
      "[INFO 20240913-13-52-18 p1104 flush clog.py:115] 0%|          | 0/1 [00:00<?, ?it/s]\n",
      "[INFO 20240913-13-52-18 p1104 flush clog.py:115] \u001b[A\n"
     ]
    },
    {
     "name": "stderr",
     "output_type": "stream",
     "text": [
      "sam:  91%|█████████ | 250/276 [21:01<02:09,  4.98s/it]"
     ]
    },
    {
     "name": "stdout",
     "output_type": "stream",
     "text": [
      "[INFO 20240913-13-52-23 p1104 flush clog.py:115] 100%|##########| 1/1 [00:05<00:00,  5.01s/it]\n",
      "[INFO 20240913-13-52-23 p1104 flush clog.py:115] \n",
      "[INFO 20240913-13-52-23 p1104 flush clog.py:115] 0%|          | 0/1 [00:00<?, ?it/s]\n",
      "[INFO 20240913-13-52-23 p1104 flush clog.py:115] \u001b[A\n"
     ]
    },
    {
     "name": "stderr",
     "output_type": "stream",
     "text": [
      "sam:  91%|█████████ | 251/276 [21:06<02:04,  4.99s/it]"
     ]
    },
    {
     "name": "stdout",
     "output_type": "stream",
     "text": [
      "[INFO 20240913-13-52-28 p1104 flush clog.py:115] 100%|##########| 1/1 [00:04<00:00,  4.85s/it]\n",
      "[INFO 20240913-13-52-28 p1104 flush clog.py:115] \n",
      "[INFO 20240913-13-52-28 p1104 flush clog.py:115] 0%|          | 0/1 [00:00<?, ?it/s]\n",
      "[INFO 20240913-13-52-28 p1104 flush clog.py:115] \u001b[A\n"
     ]
    },
    {
     "name": "stderr",
     "output_type": "stream",
     "text": [
      "sam:  91%|█████████▏| 252/276 [21:11<01:58,  4.96s/it]"
     ]
    },
    {
     "name": "stdout",
     "output_type": "stream",
     "text": [
      "[INFO 20240913-13-52-33 p1104 flush clog.py:115] 100%|##########| 1/1 [00:05<00:00,  5.03s/it]\n",
      "[INFO 20240913-13-52-33 p1104 flush clog.py:115] \n",
      "[INFO 20240913-13-52-33 p1104 flush clog.py:115] 0%|          | 0/1 [00:00<?, ?it/s]\n",
      "[INFO 20240913-13-52-33 p1104 flush clog.py:115] \u001b[A\n"
     ]
    },
    {
     "name": "stderr",
     "output_type": "stream",
     "text": [
      "sam:  92%|█████████▏| 253/276 [21:16<01:54,  4.98s/it]"
     ]
    },
    {
     "name": "stdout",
     "output_type": "stream",
     "text": [
      "[INFO 20240913-13-52-38 p1104 flush clog.py:115] 100%|##########| 1/1 [00:05<00:00,  5.11s/it]\n",
      "[INFO 20240913-13-52-38 p1104 flush clog.py:115] \n",
      "[INFO 20240913-13-52-38 p1104 flush clog.py:115] 0%|          | 0/1 [00:00<?, ?it/s]\n",
      "[INFO 20240913-13-52-38 p1104 flush clog.py:115] \u001b[A\n"
     ]
    },
    {
     "name": "stderr",
     "output_type": "stream",
     "text": [
      "sam:  92%|█████████▏| 254/276 [21:21<01:50,  5.02s/it]"
     ]
    },
    {
     "name": "stdout",
     "output_type": "stream",
     "text": [
      "[INFO 20240913-13-52-43 p1104 flush clog.py:115] 100%|##########| 1/1 [00:05<00:00,  5.01s/it]\n",
      "[INFO 20240913-13-52-43 p1104 flush clog.py:115] \n",
      "[INFO 20240913-13-52-43 p1104 flush clog.py:115] 0%|          | 0/1 [00:00<?, ?it/s]\n",
      "[INFO 20240913-13-52-43 p1104 flush clog.py:115] \u001b[A\n"
     ]
    },
    {
     "name": "stderr",
     "output_type": "stream",
     "text": [
      "sam:  92%|█████████▏| 255/276 [21:26<01:45,  5.02s/it]"
     ]
    },
    {
     "name": "stdout",
     "output_type": "stream",
     "text": [
      "[INFO 20240913-13-52-48 p1104 flush clog.py:115] 100%|##########| 1/1 [00:04<00:00,  4.98s/it]\n",
      "[INFO 20240913-13-52-48 p1104 flush clog.py:115] \n",
      "[INFO 20240913-13-52-48 p1104 flush clog.py:115] 0%|          | 0/1 [00:00<?, ?it/s]\n",
      "[INFO 20240913-13-52-48 p1104 flush clog.py:115] \u001b[A\n"
     ]
    },
    {
     "name": "stderr",
     "output_type": "stream",
     "text": [
      "sam:  93%|█████████▎| 256/276 [21:31<01:40,  5.02s/it]"
     ]
    },
    {
     "name": "stdout",
     "output_type": "stream",
     "text": [
      "[INFO 20240913-13-52-53 p1104 flush clog.py:115] 100%|##########| 1/1 [00:05<00:00,  5.07s/it]\n",
      "[INFO 20240913-13-52-53 p1104 flush clog.py:115] \n",
      "[INFO 20240913-13-52-53 p1104 flush clog.py:115] 0%|          | 0/1 [00:00<?, ?it/s]\n",
      "[INFO 20240913-13-52-53 p1104 flush clog.py:115] \u001b[A\n"
     ]
    },
    {
     "name": "stderr",
     "output_type": "stream",
     "text": [
      "sam:  93%|█████████▎| 257/276 [21:36<01:35,  5.04s/it]"
     ]
    },
    {
     "name": "stdout",
     "output_type": "stream",
     "text": [
      "[INFO 20240913-13-52-58 p1104 flush clog.py:115] 100%|##########| 1/1 [00:04<00:00,  4.91s/it]\n",
      "[INFO 20240913-13-52-58 p1104 flush clog.py:115] \n",
      "[INFO 20240913-13-52-58 p1104 flush clog.py:115] 0%|          | 0/1 [00:00<?, ?it/s]\n",
      "[INFO 20240913-13-52-58 p1104 flush clog.py:115] \u001b[A\n"
     ]
    },
    {
     "name": "stderr",
     "output_type": "stream",
     "text": [
      "sam:  93%|█████████▎| 258/276 [21:41<01:30,  5.00s/it]"
     ]
    },
    {
     "name": "stdout",
     "output_type": "stream",
     "text": [
      "[INFO 20240913-13-53-03 p1104 flush clog.py:115] 100%|##########| 1/1 [00:04<00:00,  4.88s/it]\n",
      "[INFO 20240913-13-53-03 p1104 flush clog.py:115] \n",
      "[INFO 20240913-13-53-03 p1104 flush clog.py:115] 0%|          | 0/1 [00:00<?, ?it/s]\n",
      "[INFO 20240913-13-53-03 p1104 flush clog.py:115] \u001b[A\n"
     ]
    },
    {
     "name": "stderr",
     "output_type": "stream",
     "text": [
      "sam:  94%|█████████▍| 259/276 [21:46<01:24,  4.97s/it]"
     ]
    },
    {
     "name": "stdout",
     "output_type": "stream",
     "text": [
      "[INFO 20240913-13-53-08 p1104 flush clog.py:115] 100%|##########| 1/1 [00:04<00:00,  4.91s/it]\n",
      "[INFO 20240913-13-53-08 p1104 flush clog.py:115] \n",
      "[INFO 20240913-13-53-08 p1104 flush clog.py:115] 0%|          | 0/1 [00:00<?, ?it/s]\n",
      "[INFO 20240913-13-53-08 p1104 flush clog.py:115] \u001b[A\n"
     ]
    },
    {
     "name": "stderr",
     "output_type": "stream",
     "text": [
      "sam:  94%|█████████▍| 260/276 [21:51<01:19,  4.96s/it]"
     ]
    },
    {
     "name": "stdout",
     "output_type": "stream",
     "text": [
      "[INFO 20240913-13-53-13 p1104 flush clog.py:115] 100%|##########| 1/1 [00:04<00:00,  4.94s/it]\n",
      "[INFO 20240913-13-53-13 p1104 flush clog.py:115] \n",
      "[INFO 20240913-13-53-13 p1104 flush clog.py:115] 0%|          | 0/1 [00:00<?, ?it/s]\n",
      "[INFO 20240913-13-53-13 p1104 flush clog.py:115] \u001b[A\n"
     ]
    },
    {
     "name": "stderr",
     "output_type": "stream",
     "text": [
      "sam:  95%|█████████▍| 261/276 [21:55<01:14,  4.96s/it]"
     ]
    },
    {
     "name": "stdout",
     "output_type": "stream",
     "text": [
      "[INFO 20240913-13-53-18 p1104 flush clog.py:115] 100%|##########| 1/1 [00:05<00:00,  5.00s/it]\n",
      "[INFO 20240913-13-53-18 p1104 flush clog.py:115] \n",
      "[INFO 20240913-13-53-18 p1104 flush clog.py:115] 0%|          | 0/1 [00:00<?, ?it/s]\n",
      "[INFO 20240913-13-53-18 p1104 flush clog.py:115] \u001b[A\n"
     ]
    },
    {
     "name": "stderr",
     "output_type": "stream",
     "text": [
      "sam:  95%|█████████▍| 262/276 [22:01<01:09,  4.98s/it]"
     ]
    },
    {
     "name": "stdout",
     "output_type": "stream",
     "text": [
      "[INFO 20240913-13-53-23 p1104 flush clog.py:115] 100%|##########| 1/1 [00:04<00:00,  4.92s/it]\n",
      "[INFO 20240913-13-53-23 p1104 flush clog.py:115] \n",
      "[INFO 20240913-13-53-23 p1104 flush clog.py:115] 0%|          | 0/1 [00:00<?, ?it/s]\n",
      "[INFO 20240913-13-53-23 p1104 flush clog.py:115] \u001b[A\n"
     ]
    },
    {
     "name": "stderr",
     "output_type": "stream",
     "text": [
      "sam:  95%|█████████▌| 263/276 [22:05<01:04,  4.97s/it]"
     ]
    },
    {
     "name": "stdout",
     "output_type": "stream",
     "text": [
      "[INFO 20240913-13-53-28 p1104 flush clog.py:115] 100%|##########| 1/1 [00:05<00:00,  5.01s/it]\n",
      "[INFO 20240913-13-53-28 p1104 flush clog.py:115] \n",
      "[INFO 20240913-13-53-28 p1104 flush clog.py:115] 0%|          | 0/1 [00:00<?, ?it/s]\n",
      "[INFO 20240913-13-53-28 p1104 flush clog.py:115] \u001b[A\n"
     ]
    },
    {
     "name": "stderr",
     "output_type": "stream",
     "text": [
      "sam:  96%|█████████▌| 264/276 [22:10<00:59,  4.98s/it]"
     ]
    },
    {
     "name": "stdout",
     "output_type": "stream",
     "text": [
      "[INFO 20240913-13-53-32 p1104 flush clog.py:115] 100%|##########| 1/1 [00:04<00:00,  4.86s/it]\n",
      "[INFO 20240913-13-53-32 p1104 flush clog.py:115] \n",
      "[INFO 20240913-13-53-32 p1104 flush clog.py:115] 0%|          | 0/1 [00:00<?, ?it/s]\n",
      "[INFO 20240913-13-53-32 p1104 flush clog.py:115] \u001b[A\n"
     ]
    },
    {
     "name": "stderr",
     "output_type": "stream",
     "text": [
      "sam:  96%|█████████▌| 265/276 [22:15<00:54,  4.95s/it]"
     ]
    },
    {
     "name": "stdout",
     "output_type": "stream",
     "text": [
      "[INFO 20240913-13-53-37 p1104 flush clog.py:115] 100%|##########| 1/1 [00:04<00:00,  4.84s/it]\n",
      "[INFO 20240913-13-53-37 p1104 flush clog.py:115] \n",
      "[INFO 20240913-13-53-37 p1104 flush clog.py:115] 0%|          | 0/1 [00:00<?, ?it/s]\n",
      "[INFO 20240913-13-53-37 p1104 flush clog.py:115] \u001b[A\n"
     ]
    },
    {
     "name": "stderr",
     "output_type": "stream",
     "text": [
      "sam:  96%|█████████▋| 266/276 [22:20<00:49,  4.92s/it]"
     ]
    },
    {
     "name": "stdout",
     "output_type": "stream",
     "text": [
      "[INFO 20240913-13-53-42 p1104 flush clog.py:115] 100%|##########| 1/1 [00:04<00:00,  4.76s/it]\n",
      "[INFO 20240913-13-53-42 p1104 flush clog.py:115] \n",
      "[INFO 20240913-13-53-42 p1104 flush clog.py:115] 0%|          | 0/1 [00:00<?, ?it/s]\n",
      "[INFO 20240913-13-53-42 p1104 flush clog.py:115] \u001b[A\n"
     ]
    },
    {
     "name": "stderr",
     "output_type": "stream",
     "text": [
      "sam:  97%|█████████▋| 267/276 [22:25<00:43,  4.88s/it]"
     ]
    },
    {
     "name": "stdout",
     "output_type": "stream",
     "text": [
      "[INFO 20240913-13-53-47 p1104 flush clog.py:115] 100%|##########| 1/1 [00:05<00:00,  5.01s/it]\n",
      "[INFO 20240913-13-53-47 p1104 flush clog.py:115] \n",
      "[INFO 20240913-13-53-47 p1104 flush clog.py:115] 0%|          | 0/1 [00:00<?, ?it/s]\n",
      "[INFO 20240913-13-53-47 p1104 flush clog.py:115] \u001b[A\n"
     ]
    },
    {
     "name": "stderr",
     "output_type": "stream",
     "text": [
      "sam:  97%|█████████▋| 268/276 [22:30<00:39,  4.92s/it]"
     ]
    },
    {
     "name": "stdout",
     "output_type": "stream",
     "text": [
      "[INFO 20240913-13-53-52 p1104 flush clog.py:115] 100%|##########| 1/1 [00:04<00:00,  4.95s/it]\n",
      "[INFO 20240913-13-53-52 p1104 flush clog.py:115] \n",
      "[INFO 20240913-13-53-52 p1104 flush clog.py:115] 0%|          | 0/1 [00:00<?, ?it/s]\n",
      "[INFO 20240913-13-53-52 p1104 flush clog.py:115] \u001b[A\n"
     ]
    },
    {
     "name": "stderr",
     "output_type": "stream",
     "text": [
      "sam:  97%|█████████▋| 269/276 [22:35<00:34,  4.93s/it]"
     ]
    },
    {
     "name": "stdout",
     "output_type": "stream",
     "text": [
      "[INFO 20240913-13-53-57 p1104 flush clog.py:115] 100%|##########| 1/1 [00:04<00:00,  4.94s/it]\n",
      "[INFO 20240913-13-53-57 p1104 flush clog.py:115] \n",
      "[INFO 20240913-13-53-57 p1104 flush clog.py:115] 0%|          | 0/1 [00:00<?, ?it/s]\n",
      "[INFO 20240913-13-53-57 p1104 flush clog.py:115] \u001b[A\n"
     ]
    },
    {
     "name": "stderr",
     "output_type": "stream",
     "text": [
      "sam:  98%|█████████▊| 270/276 [22:40<00:29,  4.94s/it]"
     ]
    },
    {
     "name": "stdout",
     "output_type": "stream",
     "text": [
      "[INFO 20240913-13-54-02 p1104 flush clog.py:115] 100%|##########| 1/1 [00:04<00:00,  4.92s/it]\n",
      "[INFO 20240913-13-54-02 p1104 flush clog.py:115] \n",
      "[INFO 20240913-13-54-02 p1104 flush clog.py:115] 0%|          | 0/1 [00:00<?, ?it/s]\n",
      "[INFO 20240913-13-54-02 p1104 flush clog.py:115] \u001b[A\n"
     ]
    },
    {
     "name": "stderr",
     "output_type": "stream",
     "text": [
      "sam:  98%|█████████▊| 271/276 [22:45<00:24,  4.94s/it]"
     ]
    },
    {
     "name": "stdout",
     "output_type": "stream",
     "text": [
      "[INFO 20240913-13-54-07 p1104 flush clog.py:115] 100%|##########| 1/1 [00:04<00:00,  4.94s/it]\n",
      "[INFO 20240913-13-54-07 p1104 flush clog.py:115] \n",
      "[INFO 20240913-13-54-07 p1104 flush clog.py:115] 0%|          | 0/1 [00:00<?, ?it/s]\n",
      "[INFO 20240913-13-54-07 p1104 flush clog.py:115] \u001b[A\n"
     ]
    },
    {
     "name": "stderr",
     "output_type": "stream",
     "text": [
      "sam:  99%|█████████▊| 272/276 [22:50<00:19,  4.95s/it]"
     ]
    },
    {
     "name": "stdout",
     "output_type": "stream",
     "text": [
      "[INFO 20240913-13-54-12 p1104 flush clog.py:115] 100%|##########| 1/1 [00:05<00:00,  5.01s/it]\n",
      "[INFO 20240913-13-54-12 p1104 flush clog.py:115] \n",
      "[INFO 20240913-13-54-12 p1104 flush clog.py:115] 0%|          | 0/1 [00:00<?, ?it/s]\n",
      "[INFO 20240913-13-54-12 p1104 flush clog.py:115] \u001b[A\n"
     ]
    },
    {
     "name": "stderr",
     "output_type": "stream",
     "text": [
      "sam:  99%|█████████▉| 273/276 [22:55<00:14,  4.97s/it]"
     ]
    },
    {
     "name": "stdout",
     "output_type": "stream",
     "text": [
      "[INFO 20240913-13-54-17 p1104 flush clog.py:115] 100%|##########| 1/1 [00:04<00:00,  4.95s/it]\n",
      "[INFO 20240913-13-54-17 p1104 flush clog.py:115] \n",
      "[INFO 20240913-13-54-17 p1104 flush clog.py:115] 0%|          | 0/1 [00:00<?, ?it/s]\n",
      "[INFO 20240913-13-54-17 p1104 flush clog.py:115] \u001b[A\n"
     ]
    },
    {
     "name": "stderr",
     "output_type": "stream",
     "text": [
      "sam:  99%|█████████▉| 274/276 [23:00<00:09,  4.97s/it]"
     ]
    },
    {
     "name": "stdout",
     "output_type": "stream",
     "text": [
      "[INFO 20240913-13-54-22 p1104 flush clog.py:115] 100%|##########| 1/1 [00:04<00:00,  4.93s/it]\n",
      "[INFO 20240913-13-54-22 p1104 flush clog.py:115] \n",
      "[INFO 20240913-13-54-22 p1104 flush clog.py:115] 0%|          | 0/1 [00:00<?, ?it/s]\n",
      "[INFO 20240913-13-54-22 p1104 flush clog.py:115] \u001b[A\n"
     ]
    },
    {
     "name": "stderr",
     "output_type": "stream",
     "text": [
      "sam: 100%|█████████▉| 275/276 [23:05<00:04,  4.96s/it]"
     ]
    },
    {
     "name": "stdout",
     "output_type": "stream",
     "text": [
      "[INFO 20240913-13-54-27 p1104 flush clog.py:115] 100%|##########| 1/1 [00:04<00:00,  4.72s/it]\n"
     ]
    },
    {
     "name": "stderr",
     "output_type": "stream",
     "text": [
      "sam: 100%|██████████| 276/276 [23:10<00:00,  5.04s/it]\n"
     ]
    },
    {
     "name": "stdout",
     "output_type": "stream",
     "text": [
      "sam ran for a total of 1471.4161953926086 s\n",
      "sam result saved to /storeData/USER/data/01.CellBin/00.user/fanjinghong/code/benchmark2/input/ssDNA/gaussian_blur_output_3/sam\n",
      "/storeData/USER/data/01.CellBin/00.user/fanjinghong/home/anaconda3/envs/stardist/bin/python /storeData/USER/data/01.CellBin/00.user/fanjinghong/code/benchmark2/segment/stardist_main.py -i /storeData/USER/data/01.CellBin/00.user/fanjinghong/code/benchmark2/input/ssDNA/gaussian_blur_input_3 -o /storeData/USER/data/01.CellBin/00.user/fanjinghong/code/benchmark2/input/ssDNA/gaussian_blur_output_3/stardist -g True -t ss\n"
     ]
    },
    {
     "name": "stderr",
     "output_type": "stream",
     "text": [
      "2024-09-13 13:55:54.761308: I tensorflow/core/util/port.cc:110] oneDNN custom operations are on. You may see slightly different numerical results due to floating-point round-off errors from different computation orders. To turn them off, set the environment variable `TF_ENABLE_ONEDNN_OPTS=0`.\n",
      "2024-09-13 13:56:02.984623: I tensorflow/core/platform/cpu_feature_guard.cc:182] This TensorFlow binary is optimized to use available CPU instructions in performance-critical operations.\n",
      "To enable the following instructions: AVX2 AVX512F AVX512_VNNI FMA, in other operations, rebuild TensorFlow with the appropriate compiler flags.\n",
      "2024-09-13 13:56:38.192082: W tensorflow/compiler/tf2tensorrt/utils/py_utils.cc:38] TF-TRT Warning: Could not find TensorRT\n",
      "2024-09-13 13:57:18.713940: E tensorflow/compiler/xla/stream_executor/cuda/cuda_driver.cc:268] failed call to cuInit: CUDA_ERROR_NO_DEVICE: no CUDA-capable device is detected\n",
      "2024-09-13 13:57:18.713993: I tensorflow/compiler/xla/stream_executor/cuda/cuda_diagnostics.cc:168] retrieving CUDA diagnostic information for host: gpu01\n",
      "2024-09-13 13:57:18.714002: I tensorflow/compiler/xla/stream_executor/cuda/cuda_diagnostics.cc:175] hostname: gpu01\n",
      "2024-09-13 13:57:18.714125: I tensorflow/compiler/xla/stream_executor/cuda/cuda_diagnostics.cc:199] libcuda reported version is: 515.65.1\n",
      "2024-09-13 13:57:18.714163: I tensorflow/compiler/xla/stream_executor/cuda/cuda_diagnostics.cc:203] kernel reported version is: 515.65.1\n",
      "2024-09-13 13:57:18.714170: I tensorflow/compiler/xla/stream_executor/cuda/cuda_diagnostics.cc:309] kernel version seems to match DSO: 515.65.1\n"
     ]
    },
    {
     "name": "stdout",
     "output_type": "stream",
     "text": [
      "Found model '2D_demo' for 'StarDist2D'.\n",
      "Loading network weights from 'weights_best.h5'.\n",
      "Loading thresholds from 'thresholds.json'.\n",
      "Using default values: prob_thresh=0.486166, nms_thresh=0.5.\n",
      "[INFO 20240913-13-57-19 p14601 flush clog.py:115] \n",
      "[INFO 20240913-13-57-19 p14601 flush clog.py:115] 0%|          | 0/1 [00:00<?, ?it/s]\n",
      "[INFO 20240913-13-57-19 p14601 flush clog.py:115] \u001b[A\n"
     ]
    },
    {
     "name": "stderr",
     "output_type": "stream",
     "text": [
      "stardist:   0%|          | 0/276 [00:00<?, ?it/s]"
     ]
    },
    {
     "name": "stdout",
     "output_type": "stream",
     "text": [
      "[INFO 20240913-13-57-22 p14601 flush clog.py:115] 100%|##########| 1/1 [00:02<00:00,  2.62s/it]\n"
     ]
    },
    {
     "name": "stderr",
     "output_type": "stream",
     "text": [
      "stardist_main.py (179): Mean of empty slice\n",
      "stardist:   0%|          | 1/276 [00:03<14:37,  3.19s/it]"
     ]
    },
    {
     "name": "stdout",
     "output_type": "stream",
     "text": [
      "[INFO 20240913-13-57-22 p14601 flush clog.py:115] \n",
      "[INFO 20240913-13-57-22 p14601 flush clog.py:115] 0%|          | 0/1 [00:00<?, ?it/s]\n",
      "[INFO 20240913-13-57-22 p14601 flush clog.py:115] \u001b[A\n",
      "[INFO 20240913-13-57-23 p14601 flush clog.py:115] 100%|##########| 1/1 [00:00<00:00,  2.77it/s]\n",
      "[INFO 20240913-13-57-23 p14601 flush clog.py:115] \n",
      "[INFO 20240913-13-57-23 p14601 flush clog.py:115] 0%|          | 0/1 [00:00<?, ?it/s]\n",
      "[INFO 20240913-13-57-23 p14601 flush clog.py:115] \u001b[A\n"
     ]
    },
    {
     "name": "stderr",
     "output_type": "stream",
     "text": [
      "stardist:   1%|          | 2/276 [00:03<07:00,  1.54s/it]"
     ]
    },
    {
     "name": "stdout",
     "output_type": "stream",
     "text": [
      "[INFO 20240913-13-57-23 p14601 flush clog.py:115] 100%|##########| 1/1 [00:00<00:00,  2.78it/s]\n",
      "[INFO 20240913-13-57-23 p14601 flush clog.py:115] \n",
      "[INFO 20240913-13-57-23 p14601 flush clog.py:115] 0%|          | 0/1 [00:00<?, ?it/s]\n",
      "[INFO 20240913-13-57-23 p14601 flush clog.py:115] \u001b[A\n"
     ]
    },
    {
     "name": "stderr",
     "output_type": "stream",
     "text": [
      "stardist:   1%|          | 3/276 [00:03<04:34,  1.01s/it]"
     ]
    },
    {
     "name": "stdout",
     "output_type": "stream",
     "text": [
      "[INFO 20240913-13-57-23 p14601 flush clog.py:115] 100%|##########| 1/1 [00:00<00:00,  2.83it/s]\n",
      "[INFO 20240913-13-57-23 p14601 flush clog.py:115] \n",
      "[INFO 20240913-13-57-23 p14601 flush clog.py:115] 0%|          | 0/1 [00:00<?, ?it/s]\n",
      "[INFO 20240913-13-57-23 p14601 flush clog.py:115] \u001b[A\n"
     ]
    },
    {
     "name": "stderr",
     "output_type": "stream",
     "text": [
      "stardist:   1%|▏         | 4/276 [00:04<03:25,  1.33it/s]"
     ]
    },
    {
     "name": "stdout",
     "output_type": "stream",
     "text": [
      "[INFO 20240913-13-57-24 p14601 flush clog.py:115] 100%|##########| 1/1 [00:00<00:00,  2.82it/s]\n",
      "[INFO 20240913-13-57-24 p14601 flush clog.py:115] \n",
      "[INFO 20240913-13-57-24 p14601 flush clog.py:115] 0%|          | 0/1 [00:00<?, ?it/s]\n",
      "[INFO 20240913-13-57-24 p14601 flush clog.py:115] \u001b[A\n"
     ]
    },
    {
     "name": "stderr",
     "output_type": "stream",
     "text": [
      "stardist:   2%|▏         | 5/276 [00:04<02:47,  1.62it/s]"
     ]
    },
    {
     "name": "stdout",
     "output_type": "stream",
     "text": [
      "[INFO 20240913-13-57-24 p14601 flush clog.py:115] 100%|##########| 1/1 [00:00<00:00,  2.83it/s]\n",
      "[INFO 20240913-13-57-24 p14601 flush clog.py:115] \n",
      "[INFO 20240913-13-57-24 p14601 flush clog.py:115] 0%|          | 0/1 [00:00<?, ?it/s]\n",
      "[INFO 20240913-13-57-24 p14601 flush clog.py:115] \u001b[A\n"
     ]
    },
    {
     "name": "stderr",
     "output_type": "stream",
     "text": [
      "stardist:   2%|▏         | 6/276 [00:05<02:23,  1.88it/s]"
     ]
    },
    {
     "name": "stdout",
     "output_type": "stream",
     "text": [
      "[INFO 20240913-13-57-24 p14601 flush clog.py:115] 100%|##########| 1/1 [00:00<00:00,  2.82it/s]\n",
      "[INFO 20240913-13-57-24 p14601 flush clog.py:115] \n",
      "[INFO 20240913-13-57-24 p14601 flush clog.py:115] 0%|          | 0/1 [00:00<?, ?it/s]\n",
      "[INFO 20240913-13-57-24 p14601 flush clog.py:115] \u001b[A\n"
     ]
    },
    {
     "name": "stderr",
     "output_type": "stream",
     "text": [
      "stardist:   3%|▎         | 7/276 [00:05<02:09,  2.08it/s]"
     ]
    },
    {
     "name": "stdout",
     "output_type": "stream",
     "text": [
      "[INFO 20240913-13-57-25 p14601 flush clog.py:115] 100%|##########| 1/1 [00:00<00:00,  2.65it/s]\n",
      "[INFO 20240913-13-57-25 p14601 flush clog.py:115] \n",
      "[INFO 20240913-13-57-25 p14601 flush clog.py:115] 0%|          | 0/1 [00:00<?, ?it/s]\n",
      "[INFO 20240913-13-57-25 p14601 flush clog.py:115] \u001b[A\n"
     ]
    },
    {
     "name": "stderr",
     "output_type": "stream",
     "text": [
      "stardist:   3%|▎         | 8/276 [00:05<02:01,  2.21it/s]"
     ]
    },
    {
     "name": "stdout",
     "output_type": "stream",
     "text": [
      "[INFO 20240913-13-57-25 p14601 flush clog.py:115] 100%|##########| 1/1 [00:00<00:00,  2.44it/s]\n",
      "[INFO 20240913-13-57-25 p14601 flush clog.py:115] \n",
      "[INFO 20240913-13-57-25 p14601 flush clog.py:115] 0%|          | 0/1 [00:00<?, ?it/s]\n",
      "[INFO 20240913-13-57-25 p14601 flush clog.py:115] \u001b[A\n"
     ]
    },
    {
     "name": "stderr",
     "output_type": "stream",
     "text": [
      "stardist:   3%|▎         | 9/276 [00:06<01:58,  2.25it/s]"
     ]
    },
    {
     "name": "stdout",
     "output_type": "stream",
     "text": [
      "[INFO 20240913-13-57-26 p14601 flush clog.py:115] 100%|##########| 1/1 [00:00<00:00,  2.78it/s]\n",
      "[INFO 20240913-13-57-26 p14601 flush clog.py:115] \n",
      "[INFO 20240913-13-57-26 p14601 flush clog.py:115] 0%|          | 0/1 [00:00<?, ?it/s]\n",
      "[INFO 20240913-13-57-26 p14601 flush clog.py:115] \u001b[A\n"
     ]
    },
    {
     "name": "stderr",
     "output_type": "stream",
     "text": [
      "stardist:   4%|▎         | 10/276 [00:06<01:52,  2.36it/s]"
     ]
    },
    {
     "name": "stdout",
     "output_type": "stream",
     "text": [
      "[INFO 20240913-13-57-26 p14601 flush clog.py:115] 100%|##########| 1/1 [00:00<00:00,  2.75it/s]\n",
      "[INFO 20240913-13-57-26 p14601 flush clog.py:115] \n",
      "[INFO 20240913-13-57-26 p14601 flush clog.py:115] 0%|          | 0/1 [00:00<?, ?it/s]\n",
      "[INFO 20240913-13-57-26 p14601 flush clog.py:115] \u001b[A\n"
     ]
    },
    {
     "name": "stderr",
     "output_type": "stream",
     "text": [
      "stardist:   4%|▍         | 11/276 [00:07<01:48,  2.44it/s]"
     ]
    },
    {
     "name": "stdout",
     "output_type": "stream",
     "text": [
      "[INFO 20240913-13-57-26 p14601 flush clog.py:115] 100%|##########| 1/1 [00:00<00:00,  2.80it/s]\n",
      "[INFO 20240913-13-57-26 p14601 flush clog.py:115] \n",
      "[INFO 20240913-13-57-26 p14601 flush clog.py:115] 0%|          | 0/1 [00:00<?, ?it/s]\n",
      "[INFO 20240913-13-57-26 p14601 flush clog.py:115] \u001b[A\n"
     ]
    },
    {
     "name": "stderr",
     "output_type": "stream",
     "text": [
      "stardist:   4%|▍         | 12/276 [00:07<01:45,  2.51it/s]"
     ]
    },
    {
     "name": "stdout",
     "output_type": "stream",
     "text": [
      "[INFO 20240913-13-57-27 p14601 flush clog.py:115] 100%|##########| 1/1 [00:00<00:00,  2.84it/s]\n",
      "[INFO 20240913-13-57-27 p14601 flush clog.py:115] \n",
      "[INFO 20240913-13-57-27 p14601 flush clog.py:115] 0%|          | 0/1 [00:00<?, ?it/s]\n",
      "[INFO 20240913-13-57-27 p14601 flush clog.py:115] \u001b[A\n"
     ]
    },
    {
     "name": "stderr",
     "output_type": "stream",
     "text": [
      "stardist:   5%|▍         | 13/276 [00:07<01:42,  2.56it/s]"
     ]
    },
    {
     "name": "stdout",
     "output_type": "stream",
     "text": [
      "[INFO 20240913-13-57-27 p14601 flush clog.py:115] 100%|##########| 1/1 [00:00<00:00,  2.86it/s]\n",
      "[INFO 20240913-13-57-27 p14601 flush clog.py:115] \n",
      "[INFO 20240913-13-57-27 p14601 flush clog.py:115] 0%|          | 0/1 [00:00<?, ?it/s]\n",
      "[INFO 20240913-13-57-27 p14601 flush clog.py:115] \u001b[A\n"
     ]
    },
    {
     "name": "stderr",
     "output_type": "stream",
     "text": [
      "stardist:   5%|▌         | 14/276 [00:08<01:40,  2.61it/s]"
     ]
    },
    {
     "name": "stdout",
     "output_type": "stream",
     "text": [
      "[INFO 20240913-13-57-27 p14601 flush clog.py:115] 100%|##########| 1/1 [00:00<00:00,  2.81it/s]\n",
      "[INFO 20240913-13-57-27 p14601 flush clog.py:115] \n",
      "[INFO 20240913-13-57-27 p14601 flush clog.py:115] 0%|          | 0/1 [00:00<?, ?it/s]\n",
      "[INFO 20240913-13-57-27 p14601 flush clog.py:115] \u001b[A\n"
     ]
    },
    {
     "name": "stderr",
     "output_type": "stream",
     "text": [
      "stardist:   5%|▌         | 15/276 [00:08<01:39,  2.63it/s]"
     ]
    },
    {
     "name": "stdout",
     "output_type": "stream",
     "text": [
      "[INFO 20240913-13-57-28 p14601 flush clog.py:115] 100%|##########| 1/1 [00:00<00:00,  2.82it/s]\n",
      "[INFO 20240913-13-57-28 p14601 flush clog.py:115] \n",
      "[INFO 20240913-13-57-28 p14601 flush clog.py:115] 0%|          | 0/1 [00:00<?, ?it/s]\n",
      "[INFO 20240913-13-57-28 p14601 flush clog.py:115] \u001b[A\n"
     ]
    },
    {
     "name": "stderr",
     "output_type": "stream",
     "text": [
      "stardist:   6%|▌         | 16/276 [00:08<01:38,  2.65it/s]"
     ]
    },
    {
     "name": "stdout",
     "output_type": "stream",
     "text": [
      "[INFO 20240913-13-57-28 p14601 flush clog.py:115] 100%|##########| 1/1 [00:00<00:00,  2.77it/s]\n",
      "[INFO 20240913-13-57-28 p14601 flush clog.py:115] \n",
      "[INFO 20240913-13-57-28 p14601 flush clog.py:115] 0%|          | 0/1 [00:00<?, ?it/s]\n",
      "[INFO 20240913-13-57-28 p14601 flush clog.py:115] \u001b[A\n"
     ]
    },
    {
     "name": "stderr",
     "output_type": "stream",
     "text": [
      "stardist:   6%|▌         | 17/276 [00:09<01:37,  2.65it/s]"
     ]
    },
    {
     "name": "stdout",
     "output_type": "stream",
     "text": [
      "[INFO 20240913-13-57-29 p14601 flush clog.py:115] 100%|##########| 1/1 [00:00<00:00,  2.80it/s]\n",
      "[INFO 20240913-13-57-29 p14601 flush clog.py:115] \n",
      "[INFO 20240913-13-57-29 p14601 flush clog.py:115] 0%|          | 0/1 [00:00<?, ?it/s]\n",
      "[INFO 20240913-13-57-29 p14601 flush clog.py:115] \u001b[A\n"
     ]
    },
    {
     "name": "stderr",
     "output_type": "stream",
     "text": [
      "stardist:   7%|▋         | 18/276 [00:09<01:37,  2.66it/s]"
     ]
    },
    {
     "name": "stdout",
     "output_type": "stream",
     "text": [
      "[INFO 20240913-13-57-29 p14601 flush clog.py:115] 100%|##########| 1/1 [00:00<00:00,  2.84it/s]\n"
     ]
    },
    {
     "name": "stderr",
     "output_type": "stream",
     "text": [
      "stardist:   7%|▋         | 19/276 [00:10<02:23,  1.79it/s]"
     ]
    },
    {
     "name": "stdout",
     "output_type": "stream",
     "text": [
      "[INFO 20240913-13-57-30 p14601 flush clog.py:115] \n",
      "[INFO 20240913-13-57-30 p14601 flush clog.py:115] 0%|          | 0/1 [00:00<?, ?it/s]\n",
      "[INFO 20240913-13-57-30 p14601 flush clog.py:115] \u001b[A\n",
      "[INFO 20240913-13-57-30 p14601 flush clog.py:115] 100%|##########| 1/1 [00:00<00:00,  2.72it/s]\n",
      "[INFO 20240913-13-57-30 p14601 flush clog.py:115] \n",
      "[INFO 20240913-13-57-30 p14601 flush clog.py:115] 0%|          | 0/1 [00:00<?, ?it/s]\n",
      "[INFO 20240913-13-57-30 p14601 flush clog.py:115] \u001b[A\n"
     ]
    },
    {
     "name": "stderr",
     "output_type": "stream",
     "text": [
      "stardist:   7%|▋         | 20/276 [00:10<02:09,  1.98it/s]"
     ]
    },
    {
     "name": "stdout",
     "output_type": "stream",
     "text": [
      "[INFO 20240913-13-57-30 p14601 flush clog.py:115] 100%|##########| 1/1 [00:00<00:00,  2.78it/s]\n",
      "[INFO 20240913-13-57-30 p14601 flush clog.py:115] \n",
      "[INFO 20240913-13-57-30 p14601 flush clog.py:115] 0%|          | 0/1 [00:00<?, ?it/s]\n",
      "[INFO 20240913-13-57-30 p14601 flush clog.py:115] \u001b[A\n"
     ]
    },
    {
     "name": "stderr",
     "output_type": "stream",
     "text": [
      "stardist:   8%|▊         | 21/276 [00:11<01:59,  2.14it/s]"
     ]
    },
    {
     "name": "stdout",
     "output_type": "stream",
     "text": [
      "[INFO 20240913-13-57-31 p14601 flush clog.py:115] 100%|##########| 1/1 [00:00<00:00,  2.76it/s]\n",
      "[INFO 20240913-13-57-31 p14601 flush clog.py:115] \n",
      "[INFO 20240913-13-57-31 p14601 flush clog.py:115] 0%|          | 0/1 [00:00<?, ?it/s]\n",
      "[INFO 20240913-13-57-31 p14601 flush clog.py:115] \u001b[A\n"
     ]
    },
    {
     "name": "stderr",
     "output_type": "stream",
     "text": [
      "stardist:   8%|▊         | 22/276 [00:11<01:51,  2.27it/s]"
     ]
    },
    {
     "name": "stdout",
     "output_type": "stream",
     "text": [
      "[INFO 20240913-13-57-31 p14601 flush clog.py:115] 100%|##########| 1/1 [00:00<00:00,  2.80it/s]\n",
      "[INFO 20240913-13-57-31 p14601 flush clog.py:115] \n",
      "[INFO 20240913-13-57-31 p14601 flush clog.py:115] 0%|          | 0/1 [00:00<?, ?it/s]\n",
      "[INFO 20240913-13-57-31 p14601 flush clog.py:115] \u001b[A\n"
     ]
    },
    {
     "name": "stderr",
     "output_type": "stream",
     "text": [
      "stardist:   8%|▊         | 23/276 [00:12<01:47,  2.36it/s]"
     ]
    },
    {
     "name": "stdout",
     "output_type": "stream",
     "text": [
      "[INFO 20240913-13-57-31 p14601 flush clog.py:115] 100%|##########| 1/1 [00:00<00:00,  2.73it/s]\n",
      "[INFO 20240913-13-57-31 p14601 flush clog.py:115] \n",
      "[INFO 20240913-13-57-31 p14601 flush clog.py:115] 0%|          | 0/1 [00:00<?, ?it/s]\n",
      "[INFO 20240913-13-57-31 p14601 flush clog.py:115] \u001b[A\n"
     ]
    },
    {
     "name": "stderr",
     "output_type": "stream",
     "text": [
      "stardist:   9%|▊         | 24/276 [00:12<01:44,  2.42it/s]"
     ]
    },
    {
     "name": "stdout",
     "output_type": "stream",
     "text": [
      "[INFO 20240913-13-57-32 p14601 flush clog.py:115] 100%|##########| 1/1 [00:00<00:00,  2.79it/s]\n",
      "[INFO 20240913-13-57-32 p14601 flush clog.py:115] \n",
      "[INFO 20240913-13-57-32 p14601 flush clog.py:115] 0%|          | 0/1 [00:00<?, ?it/s]\n",
      "[INFO 20240913-13-57-32 p14601 flush clog.py:115] \u001b[A\n"
     ]
    },
    {
     "name": "stderr",
     "output_type": "stream",
     "text": [
      "stardist:   9%|▉         | 25/276 [00:12<01:40,  2.49it/s]"
     ]
    },
    {
     "name": "stdout",
     "output_type": "stream",
     "text": [
      "[INFO 20240913-13-57-32 p14601 flush clog.py:115] 100%|##########| 1/1 [00:00<00:00,  2.76it/s]\n",
      "[INFO 20240913-13-57-32 p14601 flush clog.py:115] \n",
      "[INFO 20240913-13-57-32 p14601 flush clog.py:115] 0%|          | 0/1 [00:00<?, ?it/s]\n",
      "[INFO 20240913-13-57-32 p14601 flush clog.py:115] \u001b[A\n"
     ]
    },
    {
     "name": "stderr",
     "output_type": "stream",
     "text": [
      "stardist:   9%|▉         | 26/276 [00:13<01:38,  2.53it/s]"
     ]
    },
    {
     "name": "stdout",
     "output_type": "stream",
     "text": [
      "[INFO 20240913-13-57-33 p14601 flush clog.py:115] 100%|##########| 1/1 [00:00<00:00,  2.22it/s]\n",
      "[INFO 20240913-13-57-33 p14601 flush clog.py:115] \n",
      "[INFO 20240913-13-57-33 p14601 flush clog.py:115] 0%|          | 0/1 [00:00<?, ?it/s]\n",
      "[INFO 20240913-13-57-33 p14601 flush clog.py:115] \u001b[A\n"
     ]
    },
    {
     "name": "stderr",
     "output_type": "stream",
     "text": [
      "stardist:  10%|▉         | 27/276 [00:13<01:43,  2.40it/s]"
     ]
    },
    {
     "name": "stdout",
     "output_type": "stream",
     "text": [
      "[INFO 20240913-13-57-33 p14601 flush clog.py:115] 100%|##########| 1/1 [00:00<00:00,  2.83it/s]\n",
      "[INFO 20240913-13-57-33 p14601 flush clog.py:115] \n",
      "[INFO 20240913-13-57-33 p14601 flush clog.py:115] 0%|          | 0/1 [00:00<?, ?it/s]\n",
      "[INFO 20240913-13-57-33 p14601 flush clog.py:115] \u001b[A\n"
     ]
    },
    {
     "name": "stderr",
     "output_type": "stream",
     "text": [
      "stardist:  10%|█         | 28/276 [00:14<01:39,  2.48it/s]"
     ]
    },
    {
     "name": "stdout",
     "output_type": "stream",
     "text": [
      "[INFO 20240913-13-57-33 p14601 flush clog.py:115] 100%|##########| 1/1 [00:00<00:00,  2.69it/s]\n",
      "[INFO 20240913-13-57-33 p14601 flush clog.py:115] \n",
      "[INFO 20240913-13-57-33 p14601 flush clog.py:115] 0%|          | 0/1 [00:00<?, ?it/s]\n",
      "[INFO 20240913-13-57-33 p14601 flush clog.py:115] \u001b[A\n"
     ]
    },
    {
     "name": "stderr",
     "output_type": "stream",
     "text": [
      "stardist:  11%|█         | 29/276 [00:14<01:38,  2.50it/s]"
     ]
    },
    {
     "name": "stdout",
     "output_type": "stream",
     "text": [
      "[INFO 20240913-13-57-34 p14601 flush clog.py:115] 100%|##########| 1/1 [00:00<00:00,  2.72it/s]\n",
      "[INFO 20240913-13-57-34 p14601 flush clog.py:115] \n",
      "[INFO 20240913-13-57-34 p14601 flush clog.py:115] 0%|          | 0/1 [00:00<?, ?it/s]\n",
      "[INFO 20240913-13-57-34 p14601 flush clog.py:115] \u001b[A\n"
     ]
    },
    {
     "name": "stderr",
     "output_type": "stream",
     "text": [
      "stardist:  11%|█         | 30/276 [00:14<01:37,  2.53it/s]"
     ]
    },
    {
     "name": "stdout",
     "output_type": "stream",
     "text": [
      "[INFO 20240913-13-57-34 p14601 flush clog.py:115] 100%|##########| 1/1 [00:00<00:00,  2.77it/s]\n",
      "[INFO 20240913-13-57-34 p14601 flush clog.py:115] \n",
      "[INFO 20240913-13-57-34 p14601 flush clog.py:115] 0%|          | 0/1 [00:00<?, ?it/s]\n",
      "[INFO 20240913-13-57-34 p14601 flush clog.py:115] \u001b[A\n"
     ]
    },
    {
     "name": "stderr",
     "output_type": "stream",
     "text": [
      "stardist:  11%|█         | 31/276 [00:15<01:35,  2.56it/s]"
     ]
    },
    {
     "name": "stdout",
     "output_type": "stream",
     "text": [
      "[INFO 20240913-13-57-35 p14601 flush clog.py:115] 100%|##########| 1/1 [00:00<00:00,  2.78it/s]\n",
      "[INFO 20240913-13-57-35 p14601 flush clog.py:115] \n",
      "[INFO 20240913-13-57-35 p14601 flush clog.py:115] 0%|          | 0/1 [00:00<?, ?it/s]\n",
      "[INFO 20240913-13-57-35 p14601 flush clog.py:115] \u001b[A\n"
     ]
    },
    {
     "name": "stderr",
     "output_type": "stream",
     "text": [
      "stardist:  12%|█▏        | 32/276 [00:15<01:34,  2.59it/s]"
     ]
    },
    {
     "name": "stdout",
     "output_type": "stream",
     "text": [
      "[INFO 20240913-13-57-35 p14601 flush clog.py:115] 100%|##########| 1/1 [00:00<00:00,  2.94it/s]\n",
      "[INFO 20240913-13-57-35 p14601 flush clog.py:115] \n",
      "[INFO 20240913-13-57-35 p14601 flush clog.py:115] 0%|          | 0/1 [00:00<?, ?it/s]\n",
      "[INFO 20240913-13-57-35 p14601 flush clog.py:115] \u001b[A\n"
     ]
    },
    {
     "name": "stderr",
     "output_type": "stream",
     "text": [
      "stardist:  12%|█▏        | 33/276 [00:15<01:31,  2.65it/s]"
     ]
    },
    {
     "name": "stdout",
     "output_type": "stream",
     "text": [
      "[INFO 20240913-13-57-35 p14601 flush clog.py:115] 100%|##########| 1/1 [00:00<00:00,  2.83it/s]\n"
     ]
    },
    {
     "name": "stderr",
     "output_type": "stream",
     "text": [
      "stardist:  12%|█▏        | 34/276 [00:16<01:30,  2.67it/s]"
     ]
    },
    {
     "name": "stdout",
     "output_type": "stream",
     "text": [
      "[INFO 20240913-13-57-37 p14601 flush clog.py:115] \n",
      "[INFO 20240913-13-57-37 p14601 flush clog.py:115] 0%|          | 0/1 [00:00<?, ?it/s]\n",
      "[INFO 20240913-13-57-37 p14601 flush clog.py:115] \u001b[A\n",
      "[INFO 20240913-13-57-37 p14601 flush clog.py:115] 100%|##########| 1/1 [00:00<00:00,  2.73it/s]\n",
      "[INFO 20240913-13-57-37 p14601 flush clog.py:115] \n",
      "[INFO 20240913-13-57-37 p14601 flush clog.py:115] 0%|          | 0/1 [00:00<?, ?it/s]\n",
      "[INFO 20240913-13-57-37 p14601 flush clog.py:115] \u001b[A\n"
     ]
    },
    {
     "name": "stderr",
     "output_type": "stream",
     "text": [
      "stardist:  13%|█▎        | 35/276 [00:18<03:07,  1.28it/s]"
     ]
    },
    {
     "name": "stdout",
     "output_type": "stream",
     "text": [
      "[INFO 20240913-13-57-37 p14601 flush clog.py:115] 100%|##########| 1/1 [00:00<00:00,  2.85it/s]\n",
      "[INFO 20240913-13-57-37 p14601 flush clog.py:115] \n",
      "[INFO 20240913-13-57-37 p14601 flush clog.py:115] 0%|          | 0/1 [00:00<?, ?it/s]\n",
      "[INFO 20240913-13-57-37 p14601 flush clog.py:115] \u001b[A\n"
     ]
    },
    {
     "name": "stderr",
     "output_type": "stream",
     "text": [
      "stardist:  13%|█▎        | 36/276 [00:18<02:37,  1.53it/s]"
     ]
    },
    {
     "name": "stdout",
     "output_type": "stream",
     "text": [
      "[INFO 20240913-13-57-38 p14601 flush clog.py:115] 100%|##########| 1/1 [00:00<00:00,  2.80it/s]\n",
      "[INFO 20240913-13-57-38 p14601 flush clog.py:115] \n",
      "[INFO 20240913-13-57-38 p14601 flush clog.py:115] 0%|          | 0/1 [00:00<?, ?it/s]\n",
      "[INFO 20240913-13-57-38 p14601 flush clog.py:115] \u001b[A\n"
     ]
    },
    {
     "name": "stderr",
     "output_type": "stream",
     "text": [
      "stardist:  13%|█▎        | 37/276 [00:18<02:16,  1.75it/s]"
     ]
    },
    {
     "name": "stdout",
     "output_type": "stream",
     "text": [
      "[INFO 20240913-13-57-38 p14601 flush clog.py:115] 100%|##########| 1/1 [00:00<00:00,  2.82it/s]\n",
      "[INFO 20240913-13-57-38 p14601 flush clog.py:115] \n",
      "[INFO 20240913-13-57-38 p14601 flush clog.py:115] 0%|          | 0/1 [00:00<?, ?it/s]\n",
      "[INFO 20240913-13-57-38 p14601 flush clog.py:115] \u001b[A\n"
     ]
    },
    {
     "name": "stderr",
     "output_type": "stream",
     "text": [
      "stardist:  14%|█▍        | 38/276 [00:19<02:01,  1.95it/s]"
     ]
    },
    {
     "name": "stdout",
     "output_type": "stream",
     "text": [
      "[INFO 20240913-13-57-39 p14601 flush clog.py:115] 100%|##########| 1/1 [00:00<00:00,  2.87it/s]\n",
      "[INFO 20240913-13-57-39 p14601 flush clog.py:115] \n",
      "[INFO 20240913-13-57-39 p14601 flush clog.py:115] 0%|          | 0/1 [00:00<?, ?it/s]\n",
      "[INFO 20240913-13-57-39 p14601 flush clog.py:115] \u001b[A\n"
     ]
    },
    {
     "name": "stderr",
     "output_type": "stream",
     "text": [
      "stardist:  14%|█▍        | 39/276 [00:19<01:50,  2.14it/s]"
     ]
    },
    {
     "name": "stdout",
     "output_type": "stream",
     "text": [
      "[INFO 20240913-13-57-39 p14601 flush clog.py:115] 100%|##########| 1/1 [00:00<00:00,  2.83it/s]\n",
      "[INFO 20240913-13-57-39 p14601 flush clog.py:115] \n",
      "[INFO 20240913-13-57-39 p14601 flush clog.py:115] 0%|          | 0/1 [00:00<?, ?it/s]\n",
      "[INFO 20240913-13-57-39 p14601 flush clog.py:115] \u001b[A\n"
     ]
    },
    {
     "name": "stderr",
     "output_type": "stream",
     "text": [
      "stardist:  14%|█▍        | 40/276 [00:19<01:43,  2.28it/s]"
     ]
    },
    {
     "name": "stdout",
     "output_type": "stream",
     "text": [
      "[INFO 20240913-13-57-39 p14601 flush clog.py:115] 100%|##########| 1/1 [00:00<00:00,  2.75it/s]\n"
     ]
    },
    {
     "name": "stderr",
     "output_type": "stream",
     "text": [
      "stardist:  15%|█▍        | 41/276 [00:20<02:24,  1.62it/s]"
     ]
    },
    {
     "name": "stdout",
     "output_type": "stream",
     "text": [
      "[INFO 20240913-13-57-40 p14601 flush clog.py:115] \n",
      "[INFO 20240913-13-57-40 p14601 flush clog.py:115] 0%|          | 0/1 [00:00<?, ?it/s]\n",
      "[INFO 20240913-13-57-40 p14601 flush clog.py:115] \u001b[A\n",
      "[INFO 20240913-13-57-40 p14601 flush clog.py:115] 100%|##########| 1/1 [00:00<00:00,  2.83it/s]\n",
      "[INFO 20240913-13-57-40 p14601 flush clog.py:115] \n",
      "[INFO 20240913-13-57-40 p14601 flush clog.py:115] 0%|          | 0/1 [00:00<?, ?it/s]\n",
      "[INFO 20240913-13-57-40 p14601 flush clog.py:115] \u001b[A\n"
     ]
    },
    {
     "name": "stderr",
     "output_type": "stream",
     "text": [
      "stardist:  15%|█▌        | 42/276 [00:21<02:06,  1.84it/s]"
     ]
    },
    {
     "name": "stdout",
     "output_type": "stream",
     "text": [
      "[INFO 20240913-13-57-41 p14601 flush clog.py:115] 100%|##########| 1/1 [00:00<00:00,  2.76it/s]\n",
      "[INFO 20240913-13-57-41 p14601 flush clog.py:115] \n",
      "[INFO 20240913-13-57-41 p14601 flush clog.py:115] 0%|          | 0/1 [00:00<?, ?it/s]\n",
      "[INFO 20240913-13-57-41 p14601 flush clog.py:115] \u001b[A\n"
     ]
    },
    {
     "name": "stderr",
     "output_type": "stream",
     "text": [
      "stardist:  16%|█▌        | 43/276 [00:21<01:54,  2.03it/s]"
     ]
    },
    {
     "name": "stdout",
     "output_type": "stream",
     "text": [
      "[INFO 20240913-13-57-41 p14601 flush clog.py:115] 100%|##########| 1/1 [00:00<00:00,  2.73it/s]\n",
      "[INFO 20240913-13-57-41 p14601 flush clog.py:115] \n",
      "[INFO 20240913-13-57-41 p14601 flush clog.py:115] 0%|          | 0/1 [00:00<?, ?it/s]\n",
      "[INFO 20240913-13-57-41 p14601 flush clog.py:115] \u001b[A\n"
     ]
    },
    {
     "name": "stderr",
     "output_type": "stream",
     "text": [
      "stardist:  16%|█▌        | 44/276 [00:22<01:46,  2.17it/s]"
     ]
    },
    {
     "name": "stdout",
     "output_type": "stream",
     "text": [
      "[INFO 20240913-13-57-41 p14601 flush clog.py:115] 100%|##########| 1/1 [00:00<00:00,  2.70it/s]\n",
      "[INFO 20240913-13-57-41 p14601 flush clog.py:115] \n",
      "[INFO 20240913-13-57-41 p14601 flush clog.py:115] 0%|          | 0/1 [00:00<?, ?it/s]\n",
      "[INFO 20240913-13-57-41 p14601 flush clog.py:115] \u001b[A\n"
     ]
    },
    {
     "name": "stderr",
     "output_type": "stream",
     "text": [
      "stardist:  16%|█▋        | 45/276 [00:22<01:41,  2.28it/s]"
     ]
    },
    {
     "name": "stdout",
     "output_type": "stream",
     "text": [
      "[INFO 20240913-13-57-42 p14601 flush clog.py:115] 100%|##########| 1/1 [00:00<00:00,  2.81it/s]\n",
      "[INFO 20240913-13-57-42 p14601 flush clog.py:115] \n",
      "[INFO 20240913-13-57-42 p14601 flush clog.py:115] 0%|          | 0/1 [00:00<?, ?it/s]\n",
      "[INFO 20240913-13-57-42 p14601 flush clog.py:115] \u001b[A\n"
     ]
    },
    {
     "name": "stderr",
     "output_type": "stream",
     "text": [
      "stardist:  17%|█▋        | 46/276 [00:22<01:36,  2.38it/s]"
     ]
    },
    {
     "name": "stdout",
     "output_type": "stream",
     "text": [
      "[INFO 20240913-13-57-42 p14601 flush clog.py:115] 100%|##########| 1/1 [00:00<00:00,  2.73it/s]\n",
      "[INFO 20240913-13-57-42 p14601 flush clog.py:115] \n",
      "[INFO 20240913-13-57-42 p14601 flush clog.py:115] 0%|          | 0/1 [00:00<?, ?it/s]\n",
      "[INFO 20240913-13-57-42 p14601 flush clog.py:115] \u001b[A\n"
     ]
    },
    {
     "name": "stderr",
     "output_type": "stream",
     "text": [
      "stardist:  17%|█▋        | 47/276 [00:23<01:33,  2.44it/s]"
     ]
    },
    {
     "name": "stdout",
     "output_type": "stream",
     "text": [
      "[INFO 20240913-13-57-43 p14601 flush clog.py:115] 100%|##########| 1/1 [00:00<00:00,  2.75it/s]\n",
      "[INFO 20240913-13-57-43 p14601 flush clog.py:115] \n",
      "[INFO 20240913-13-57-43 p14601 flush clog.py:115] 0%|          | 0/1 [00:00<?, ?it/s]\n",
      "[INFO 20240913-13-57-43 p14601 flush clog.py:115] \u001b[A\n"
     ]
    },
    {
     "name": "stderr",
     "output_type": "stream",
     "text": [
      "stardist:  17%|█▋        | 48/276 [00:23<01:31,  2.49it/s]"
     ]
    },
    {
     "name": "stdout",
     "output_type": "stream",
     "text": [
      "[INFO 20240913-13-57-43 p14601 flush clog.py:115] 100%|##########| 1/1 [00:00<00:00,  2.74it/s]\n",
      "[INFO 20240913-13-57-43 p14601 flush clog.py:115] \n",
      "[INFO 20240913-13-57-43 p14601 flush clog.py:115] 0%|          | 0/1 [00:00<?, ?it/s]\n",
      "[INFO 20240913-13-57-43 p14601 flush clog.py:115] \u001b[A\n"
     ]
    },
    {
     "name": "stderr",
     "output_type": "stream",
     "text": [
      "stardist:  18%|█▊        | 49/276 [00:24<01:29,  2.53it/s]"
     ]
    },
    {
     "name": "stdout",
     "output_type": "stream",
     "text": [
      "[INFO 20240913-13-57-43 p14601 flush clog.py:115] 100%|##########| 1/1 [00:00<00:00,  2.75it/s]\n",
      "[INFO 20240913-13-57-43 p14601 flush clog.py:115] \n",
      "[INFO 20240913-13-57-43 p14601 flush clog.py:115] 0%|          | 0/1 [00:00<?, ?it/s]\n",
      "[INFO 20240913-13-57-43 p14601 flush clog.py:115] \u001b[A\n"
     ]
    },
    {
     "name": "stderr",
     "output_type": "stream",
     "text": [
      "stardist:  18%|█▊        | 50/276 [00:24<01:28,  2.56it/s]"
     ]
    },
    {
     "name": "stdout",
     "output_type": "stream",
     "text": [
      "[INFO 20240913-13-57-44 p14601 flush clog.py:115] 100%|##########| 1/1 [00:00<00:00,  2.69it/s]\n",
      "[INFO 20240913-13-57-44 p14601 flush clog.py:115] \n",
      "[INFO 20240913-13-57-44 p14601 flush clog.py:115] 0%|          | 0/1 [00:00<?, ?it/s]\n",
      "[INFO 20240913-13-57-44 p14601 flush clog.py:115] \u001b[A\n"
     ]
    },
    {
     "name": "stderr",
     "output_type": "stream",
     "text": [
      "stardist:  18%|█▊        | 51/276 [00:24<01:27,  2.56it/s]"
     ]
    },
    {
     "name": "stdout",
     "output_type": "stream",
     "text": [
      "[INFO 20240913-13-57-44 p14601 flush clog.py:115] 100%|##########| 1/1 [00:00<00:00,  2.71it/s]\n",
      "[INFO 20240913-13-57-44 p14601 flush clog.py:115] \n",
      "[INFO 20240913-13-57-44 p14601 flush clog.py:115] 0%|          | 0/1 [00:00<?, ?it/s]\n",
      "[INFO 20240913-13-57-44 p14601 flush clog.py:115] \u001b[A\n"
     ]
    },
    {
     "name": "stderr",
     "output_type": "stream",
     "text": [
      "stardist:  19%|█▉        | 52/276 [00:25<01:27,  2.57it/s]"
     ]
    },
    {
     "name": "stdout",
     "output_type": "stream",
     "text": [
      "[INFO 20240913-13-57-45 p14601 flush clog.py:115] 100%|##########| 1/1 [00:00<00:00,  2.81it/s]\n",
      "[INFO 20240913-13-57-45 p14601 flush clog.py:115] \n",
      "[INFO 20240913-13-57-45 p14601 flush clog.py:115] 0%|          | 0/1 [00:00<?, ?it/s]\n",
      "[INFO 20240913-13-57-45 p14601 flush clog.py:115] \u001b[A\n"
     ]
    },
    {
     "name": "stderr",
     "output_type": "stream",
     "text": [
      "stardist:  19%|█▉        | 53/276 [00:25<01:28,  2.51it/s]"
     ]
    },
    {
     "name": "stdout",
     "output_type": "stream",
     "text": [
      "[INFO 20240913-13-57-45 p14601 flush clog.py:115] 100%|##########| 1/1 [00:00<00:00,  2.81it/s]\n",
      "[INFO 20240913-13-57-45 p14601 flush clog.py:115] \n",
      "[INFO 20240913-13-57-45 p14601 flush clog.py:115] 0%|          | 0/1 [00:00<?, ?it/s]\n",
      "[INFO 20240913-13-57-45 p14601 flush clog.py:115] \u001b[A\n"
     ]
    },
    {
     "name": "stderr",
     "output_type": "stream",
     "text": [
      "stardist:  20%|█▉        | 54/276 [00:25<01:26,  2.56it/s]"
     ]
    },
    {
     "name": "stdout",
     "output_type": "stream",
     "text": [
      "[INFO 20240913-13-57-45 p14601 flush clog.py:115] 100%|##########| 1/1 [00:00<00:00,  2.78it/s]\n",
      "[INFO 20240913-13-57-45 p14601 flush clog.py:115] \n",
      "[INFO 20240913-13-57-45 p14601 flush clog.py:115] 0%|          | 0/1 [00:00<?, ?it/s]\n",
      "[INFO 20240913-13-57-45 p14601 flush clog.py:115] \u001b[A\n"
     ]
    },
    {
     "name": "stderr",
     "output_type": "stream",
     "text": [
      "stardist:  20%|█▉        | 55/276 [00:26<01:25,  2.60it/s]"
     ]
    },
    {
     "name": "stdout",
     "output_type": "stream",
     "text": [
      "[INFO 20240913-13-57-46 p14601 flush clog.py:115] 100%|##########| 1/1 [00:00<00:00,  2.81it/s]\n",
      "[INFO 20240913-13-57-46 p14601 flush clog.py:115] \n",
      "[INFO 20240913-13-57-46 p14601 flush clog.py:115] 0%|          | 0/1 [00:00<?, ?it/s]\n",
      "[INFO 20240913-13-57-46 p14601 flush clog.py:115] \u001b[A\n"
     ]
    },
    {
     "name": "stderr",
     "output_type": "stream",
     "text": [
      "stardist:  20%|██        | 56/276 [00:26<01:23,  2.62it/s]"
     ]
    },
    {
     "name": "stdout",
     "output_type": "stream",
     "text": [
      "[INFO 20240913-13-57-46 p14601 flush clog.py:115] 100%|##########| 1/1 [00:00<00:00,  2.88it/s]\n",
      "[INFO 20240913-13-57-46 p14601 flush clog.py:115] \n",
      "[INFO 20240913-13-57-46 p14601 flush clog.py:115] 0%|          | 0/1 [00:00<?, ?it/s]\n",
      "[INFO 20240913-13-57-46 p14601 flush clog.py:115] \u001b[A\n"
     ]
    },
    {
     "name": "stderr",
     "output_type": "stream",
     "text": [
      "stardist:  21%|██        | 57/276 [00:27<01:22,  2.66it/s]"
     ]
    },
    {
     "name": "stdout",
     "output_type": "stream",
     "text": [
      "[INFO 20240913-13-57-46 p14601 flush clog.py:115] 100%|##########| 1/1 [00:00<00:00,  2.81it/s]\n",
      "[INFO 20240913-13-57-46 p14601 flush clog.py:115] \n",
      "[INFO 20240913-13-57-46 p14601 flush clog.py:115] 0%|          | 0/1 [00:00<?, ?it/s]\n",
      "[INFO 20240913-13-57-46 p14601 flush clog.py:115] \u001b[A\n"
     ]
    },
    {
     "name": "stderr",
     "output_type": "stream",
     "text": [
      "stardist:  21%|██        | 58/276 [00:27<01:21,  2.66it/s]"
     ]
    },
    {
     "name": "stdout",
     "output_type": "stream",
     "text": [
      "[INFO 20240913-13-57-47 p14601 flush clog.py:115] 100%|##########| 1/1 [00:00<00:00,  2.71it/s]\n",
      "[INFO 20240913-13-57-47 p14601 flush clog.py:115] \n",
      "[INFO 20240913-13-57-47 p14601 flush clog.py:115] 0%|          | 0/1 [00:00<?, ?it/s]\n",
      "[INFO 20240913-13-57-47 p14601 flush clog.py:115] \u001b[A\n"
     ]
    },
    {
     "name": "stderr",
     "output_type": "stream",
     "text": [
      "stardist:  21%|██▏       | 59/276 [00:27<01:22,  2.63it/s]"
     ]
    },
    {
     "name": "stdout",
     "output_type": "stream",
     "text": [
      "[INFO 20240913-13-57-47 p14601 flush clog.py:115] 100%|##########| 1/1 [00:00<00:00,  2.82it/s]\n",
      "[INFO 20240913-13-57-47 p14601 flush clog.py:115] \n",
      "[INFO 20240913-13-57-47 p14601 flush clog.py:115] 0%|          | 0/1 [00:00<?, ?it/s]\n",
      "[INFO 20240913-13-57-47 p14601 flush clog.py:115] \u001b[A\n"
     ]
    },
    {
     "name": "stderr",
     "output_type": "stream",
     "text": [
      "stardist:  22%|██▏       | 60/276 [00:28<01:21,  2.65it/s]"
     ]
    },
    {
     "name": "stdout",
     "output_type": "stream",
     "text": [
      "[INFO 20240913-13-57-48 p14601 flush clog.py:115] 100%|##########| 1/1 [00:00<00:00,  2.90it/s]\n",
      "[INFO 20240913-13-57-48 p14601 flush clog.py:115] \n",
      "[INFO 20240913-13-57-48 p14601 flush clog.py:115] 0%|          | 0/1 [00:00<?, ?it/s]\n",
      "[INFO 20240913-13-57-48 p14601 flush clog.py:115] \u001b[A\n"
     ]
    },
    {
     "name": "stderr",
     "output_type": "stream",
     "text": [
      "stardist:  22%|██▏       | 61/276 [00:28<01:20,  2.68it/s]"
     ]
    },
    {
     "name": "stdout",
     "output_type": "stream",
     "text": [
      "[INFO 20240913-13-57-48 p14601 flush clog.py:115] 100%|##########| 1/1 [00:00<00:00,  2.77it/s]\n",
      "[INFO 20240913-13-57-48 p14601 flush clog.py:115] \n",
      "[INFO 20240913-13-57-48 p14601 flush clog.py:115] 0%|          | 0/1 [00:00<?, ?it/s]\n",
      "[INFO 20240913-13-57-48 p14601 flush clog.py:115] \u001b[A\n"
     ]
    },
    {
     "name": "stderr",
     "output_type": "stream",
     "text": [
      "stardist:  22%|██▏       | 62/276 [00:28<01:20,  2.67it/s]"
     ]
    },
    {
     "name": "stdout",
     "output_type": "stream",
     "text": [
      "[INFO 20240913-13-57-48 p14601 flush clog.py:115] 100%|##########| 1/1 [00:00<00:00,  2.78it/s]\n",
      "[INFO 20240913-13-57-48 p14601 flush clog.py:115] \n",
      "[INFO 20240913-13-57-48 p14601 flush clog.py:115] 0%|          | 0/1 [00:00<?, ?it/s]\n",
      "[INFO 20240913-13-57-48 p14601 flush clog.py:115] \u001b[A\n"
     ]
    },
    {
     "name": "stderr",
     "output_type": "stream",
     "text": [
      "stardist:  23%|██▎       | 63/276 [00:29<01:20,  2.66it/s]"
     ]
    },
    {
     "name": "stdout",
     "output_type": "stream",
     "text": [
      "[INFO 20240913-13-57-49 p14601 flush clog.py:115] 100%|##########| 1/1 [00:00<00:00,  2.85it/s]\n",
      "[INFO 20240913-13-57-49 p14601 flush clog.py:115] \n",
      "[INFO 20240913-13-57-49 p14601 flush clog.py:115] 0%|          | 0/1 [00:00<?, ?it/s]\n",
      "[INFO 20240913-13-57-49 p14601 flush clog.py:115] \u001b[A\n"
     ]
    },
    {
     "name": "stderr",
     "output_type": "stream",
     "text": [
      "stardist:  23%|██▎       | 64/276 [00:29<01:19,  2.68it/s]"
     ]
    },
    {
     "name": "stdout",
     "output_type": "stream",
     "text": [
      "[INFO 20240913-13-57-49 p14601 flush clog.py:115] 100%|##########| 1/1 [00:00<00:00,  2.80it/s]\n",
      "[INFO 20240913-13-57-49 p14601 flush clog.py:115] \n",
      "[INFO 20240913-13-57-49 p14601 flush clog.py:115] 0%|          | 0/1 [00:00<?, ?it/s]\n",
      "[INFO 20240913-13-57-49 p14601 flush clog.py:115] \u001b[A\n"
     ]
    },
    {
     "name": "stderr",
     "output_type": "stream",
     "text": [
      "stardist:  24%|██▎       | 65/276 [00:30<01:19,  2.67it/s]"
     ]
    },
    {
     "name": "stdout",
     "output_type": "stream",
     "text": [
      "[INFO 20240913-13-57-49 p14601 flush clog.py:115] 100%|##########| 1/1 [00:00<00:00,  2.70it/s]\n",
      "[INFO 20240913-13-57-49 p14601 flush clog.py:115] \n",
      "[INFO 20240913-13-57-49 p14601 flush clog.py:115] 0%|          | 0/1 [00:00<?, ?it/s]\n",
      "[INFO 20240913-13-57-49 p14601 flush clog.py:115] \u001b[A\n"
     ]
    },
    {
     "name": "stderr",
     "output_type": "stream",
     "text": [
      "stardist:  24%|██▍       | 66/276 [00:30<01:19,  2.64it/s]"
     ]
    },
    {
     "name": "stdout",
     "output_type": "stream",
     "text": [
      "[INFO 20240913-13-57-50 p14601 flush clog.py:115] 100%|##########| 1/1 [00:00<00:00,  2.82it/s]\n",
      "[INFO 20240913-13-57-50 p14601 flush clog.py:115] \n",
      "[INFO 20240913-13-57-50 p14601 flush clog.py:115] 0%|          | 0/1 [00:00<?, ?it/s]\n",
      "[INFO 20240913-13-57-50 p14601 flush clog.py:115] \u001b[A\n"
     ]
    },
    {
     "name": "stderr",
     "output_type": "stream",
     "text": [
      "stardist:  24%|██▍       | 67/276 [00:30<01:18,  2.65it/s]"
     ]
    },
    {
     "name": "stdout",
     "output_type": "stream",
     "text": [
      "[INFO 20240913-13-57-50 p14601 flush clog.py:115] 100%|##########| 1/1 [00:00<00:00,  2.83it/s]\n",
      "[INFO 20240913-13-57-50 p14601 flush clog.py:115] \n",
      "[INFO 20240913-13-57-50 p14601 flush clog.py:115] 0%|          | 0/1 [00:00<?, ?it/s]\n",
      "[INFO 20240913-13-57-50 p14601 flush clog.py:115] \u001b[A\n"
     ]
    },
    {
     "name": "stderr",
     "output_type": "stream",
     "text": [
      "stardist:  25%|██▍       | 68/276 [00:31<01:18,  2.66it/s]"
     ]
    },
    {
     "name": "stdout",
     "output_type": "stream",
     "text": [
      "[INFO 20240913-13-57-51 p14601 flush clog.py:115] 100%|##########| 1/1 [00:00<00:00,  2.81it/s]\n",
      "[INFO 20240913-13-57-51 p14601 flush clog.py:115] \n",
      "[INFO 20240913-13-57-51 p14601 flush clog.py:115] 0%|          | 0/1 [00:00<?, ?it/s]\n",
      "[INFO 20240913-13-57-51 p14601 flush clog.py:115] \u001b[A\n"
     ]
    },
    {
     "name": "stderr",
     "output_type": "stream",
     "text": [
      "stardist:  25%|██▌       | 69/276 [00:31<01:17,  2.67it/s]"
     ]
    },
    {
     "name": "stdout",
     "output_type": "stream",
     "text": [
      "[INFO 20240913-13-57-51 p14601 flush clog.py:115] 100%|##########| 1/1 [00:00<00:00,  2.79it/s]\n",
      "[INFO 20240913-13-57-51 p14601 flush clog.py:115] \n",
      "[INFO 20240913-13-57-51 p14601 flush clog.py:115] 0%|          | 0/1 [00:00<?, ?it/s]\n",
      "[INFO 20240913-13-57-51 p14601 flush clog.py:115] \u001b[A\n"
     ]
    },
    {
     "name": "stderr",
     "output_type": "stream",
     "text": [
      "stardist:  25%|██▌       | 70/276 [00:31<01:17,  2.66it/s]"
     ]
    },
    {
     "name": "stdout",
     "output_type": "stream",
     "text": [
      "[INFO 20240913-13-57-51 p14601 flush clog.py:115] 100%|##########| 1/1 [00:00<00:00,  2.80it/s]\n",
      "[INFO 20240913-13-57-51 p14601 flush clog.py:115] \n",
      "[INFO 20240913-13-57-51 p14601 flush clog.py:115] 0%|          | 0/1 [00:00<?, ?it/s]\n",
      "[INFO 20240913-13-57-51 p14601 flush clog.py:115] \u001b[A\n"
     ]
    },
    {
     "name": "stderr",
     "output_type": "stream",
     "text": [
      "stardist:  26%|██▌       | 71/276 [00:32<01:16,  2.66it/s]"
     ]
    },
    {
     "name": "stdout",
     "output_type": "stream",
     "text": [
      "[INFO 20240913-13-57-52 p14601 flush clog.py:115] 100%|##########| 1/1 [00:00<00:00,  2.83it/s]\n",
      "[INFO 20240913-13-57-52 p14601 flush clog.py:115] \n",
      "[INFO 20240913-13-57-52 p14601 flush clog.py:115] 0%|          | 0/1 [00:00<?, ?it/s]\n",
      "[INFO 20240913-13-57-52 p14601 flush clog.py:115] \u001b[A\n"
     ]
    },
    {
     "name": "stderr",
     "output_type": "stream",
     "text": [
      "stardist:  26%|██▌       | 72/276 [00:32<01:16,  2.67it/s]"
     ]
    },
    {
     "name": "stdout",
     "output_type": "stream",
     "text": [
      "[INFO 20240913-13-57-52 p14601 flush clog.py:115] 100%|##########| 1/1 [00:00<00:00,  2.77it/s]\n",
      "[INFO 20240913-13-57-52 p14601 flush clog.py:115] \n",
      "[INFO 20240913-13-57-52 p14601 flush clog.py:115] 0%|          | 0/1 [00:00<?, ?it/s]\n",
      "[INFO 20240913-13-57-52 p14601 flush clog.py:115] \u001b[A\n"
     ]
    },
    {
     "name": "stderr",
     "output_type": "stream",
     "text": [
      "stardist:  26%|██▋       | 73/276 [00:33<01:16,  2.66it/s]"
     ]
    },
    {
     "name": "stdout",
     "output_type": "stream",
     "text": [
      "[INFO 20240913-13-57-52 p14601 flush clog.py:115] 100%|##########| 1/1 [00:00<00:00,  2.69it/s]\n",
      "[INFO 20240913-13-57-52 p14601 flush clog.py:115] \n",
      "[INFO 20240913-13-57-52 p14601 flush clog.py:115] 0%|          | 0/1 [00:00<?, ?it/s]\n",
      "[INFO 20240913-13-57-52 p14601 flush clog.py:115] \u001b[A\n"
     ]
    },
    {
     "name": "stderr",
     "output_type": "stream",
     "text": [
      "stardist:  27%|██▋       | 74/276 [00:33<01:16,  2.63it/s]"
     ]
    },
    {
     "name": "stdout",
     "output_type": "stream",
     "text": [
      "[INFO 20240913-13-57-53 p14601 flush clog.py:115] 100%|##########| 1/1 [00:00<00:00,  2.74it/s]\n",
      "[INFO 20240913-13-57-53 p14601 flush clog.py:115] \n",
      "[INFO 20240913-13-57-53 p14601 flush clog.py:115] 0%|          | 0/1 [00:00<?, ?it/s]\n",
      "[INFO 20240913-13-57-53 p14601 flush clog.py:115] \u001b[A\n"
     ]
    },
    {
     "name": "stderr",
     "output_type": "stream",
     "text": [
      "stardist:  27%|██▋       | 75/276 [00:33<01:16,  2.62it/s]"
     ]
    },
    {
     "name": "stdout",
     "output_type": "stream",
     "text": [
      "[INFO 20240913-13-57-53 p14601 flush clog.py:115] 100%|##########| 1/1 [00:00<00:00,  2.66it/s]\n",
      "[INFO 20240913-13-57-53 p14601 flush clog.py:115] \n",
      "[INFO 20240913-13-57-53 p14601 flush clog.py:115] 0%|          | 0/1 [00:00<?, ?it/s]\n",
      "[INFO 20240913-13-57-53 p14601 flush clog.py:115] \u001b[A\n"
     ]
    },
    {
     "name": "stderr",
     "output_type": "stream",
     "text": [
      "stardist:  28%|██▊       | 76/276 [00:34<01:17,  2.59it/s]"
     ]
    },
    {
     "name": "stdout",
     "output_type": "stream",
     "text": [
      "[INFO 20240913-13-57-54 p14601 flush clog.py:115] 100%|##########| 1/1 [00:00<00:00,  2.62it/s]\n",
      "[INFO 20240913-13-57-54 p14601 flush clog.py:115] \n",
      "[INFO 20240913-13-57-54 p14601 flush clog.py:115] 0%|          | 0/1 [00:00<?, ?it/s]\n",
      "[INFO 20240913-13-57-54 p14601 flush clog.py:115] \u001b[A\n"
     ]
    },
    {
     "name": "stderr",
     "output_type": "stream",
     "text": [
      "stardist:  28%|██▊       | 77/276 [00:34<01:17,  2.56it/s]"
     ]
    },
    {
     "name": "stdout",
     "output_type": "stream",
     "text": [
      "[INFO 20240913-13-57-54 p14601 flush clog.py:115] 100%|##########| 1/1 [00:00<00:00,  2.72it/s]\n"
     ]
    },
    {
     "name": "stderr",
     "output_type": "stream",
     "text": [
      "stardist:  28%|██▊       | 78/276 [00:38<04:31,  1.37s/it]"
     ]
    },
    {
     "name": "stdout",
     "output_type": "stream",
     "text": [
      "[INFO 20240913-13-57-57 p14601 flush clog.py:115] \n",
      "[INFO 20240913-13-57-57 p14601 flush clog.py:115] 0%|          | 0/1 [00:00<?, ?it/s]\n",
      "[INFO 20240913-13-57-57 p14601 flush clog.py:115] \u001b[A\n",
      "[INFO 20240913-13-57-58 p14601 flush clog.py:115] 100%|##########| 1/1 [00:00<00:00,  2.72it/s]\n",
      "[INFO 20240913-13-57-58 p14601 flush clog.py:115] \n",
      "[INFO 20240913-13-57-58 p14601 flush clog.py:115] 0%|          | 0/1 [00:00<?, ?it/s]\n",
      "[INFO 20240913-13-57-58 p14601 flush clog.py:115] \u001b[A\n"
     ]
    },
    {
     "name": "stderr",
     "output_type": "stream",
     "text": [
      "stardist:  29%|██▊       | 79/276 [00:38<03:31,  1.08s/it]"
     ]
    },
    {
     "name": "stdout",
     "output_type": "stream",
     "text": [
      "[INFO 20240913-13-57-58 p14601 flush clog.py:115] 100%|##########| 1/1 [00:00<00:00,  2.78it/s]\n",
      "[INFO 20240913-13-57-58 p14601 flush clog.py:115] \n",
      "[INFO 20240913-13-57-58 p14601 flush clog.py:115] 0%|          | 0/1 [00:00<?, ?it/s]\n",
      "[INFO 20240913-13-57-58 p14601 flush clog.py:115] \u001b[A\n"
     ]
    },
    {
     "name": "stderr",
     "output_type": "stream",
     "text": [
      "stardist:  29%|██▉       | 80/276 [00:39<02:49,  1.15it/s]"
     ]
    },
    {
     "name": "stdout",
     "output_type": "stream",
     "text": [
      "[INFO 20240913-13-57-58 p14601 flush clog.py:115] 100%|##########| 1/1 [00:00<00:00,  2.84it/s]\n",
      "[INFO 20240913-13-57-58 p14601 flush clog.py:115] \n",
      "[INFO 20240913-13-57-58 p14601 flush clog.py:115] 0%|          | 0/1 [00:00<?, ?it/s]\n",
      "[INFO 20240913-13-57-58 p14601 flush clog.py:115] \u001b[A\n"
     ]
    },
    {
     "name": "stderr",
     "output_type": "stream",
     "text": [
      "stardist:  29%|██▉       | 81/276 [00:39<02:19,  1.39it/s]"
     ]
    },
    {
     "name": "stdout",
     "output_type": "stream",
     "text": [
      "[INFO 20240913-13-57-59 p14601 flush clog.py:115] 100%|##########| 1/1 [00:00<00:00,  2.81it/s]\n",
      "[INFO 20240913-13-57-59 p14601 flush clog.py:115] \n",
      "[INFO 20240913-13-57-59 p14601 flush clog.py:115] 0%|          | 0/1 [00:00<?, ?it/s]\n",
      "[INFO 20240913-13-57-59 p14601 flush clog.py:115] \u001b[A\n"
     ]
    },
    {
     "name": "stderr",
     "output_type": "stream",
     "text": [
      "stardist:  30%|██▉       | 82/276 [00:39<01:59,  1.63it/s]"
     ]
    },
    {
     "name": "stdout",
     "output_type": "stream",
     "text": [
      "[INFO 20240913-13-57-59 p14601 flush clog.py:115] 100%|##########| 1/1 [00:00<00:00,  2.79it/s]\n"
     ]
    },
    {
     "name": "stderr",
     "output_type": "stream",
     "text": [
      "stardist:  30%|███       | 83/276 [00:41<02:37,  1.23it/s]"
     ]
    },
    {
     "name": "stdout",
     "output_type": "stream",
     "text": [
      "[INFO 20240913-13-58-00 p14601 flush clog.py:115] \n",
      "[INFO 20240913-13-58-00 p14601 flush clog.py:115] 0%|          | 0/1 [00:00<?, ?it/s]\n",
      "[INFO 20240913-13-58-00 p14601 flush clog.py:115] \u001b[A\n",
      "[INFO 20240913-13-58-00 p14601 flush clog.py:115] 100%|##########| 1/1 [00:00<00:00,  2.76it/s]\n"
     ]
    },
    {
     "name": "stderr",
     "output_type": "stream",
     "text": [
      "stardist:  30%|███       | 84/276 [00:46<06:33,  2.05s/it]"
     ]
    },
    {
     "name": "stdout",
     "output_type": "stream",
     "text": [
      "[INFO 20240913-13-58-05 p14601 flush clog.py:115] \n",
      "[INFO 20240913-13-58-05 p14601 flush clog.py:115] 0%|          | 0/1 [00:00<?, ?it/s]\n",
      "[INFO 20240913-13-58-05 p14601 flush clog.py:115] \u001b[A\n",
      "[INFO 20240913-13-58-05 p14601 flush clog.py:115] 100%|##########| 1/1 [00:00<00:00,  2.92it/s]\n",
      "[INFO 20240913-13-58-05 p14601 flush clog.py:115] \n",
      "[INFO 20240913-13-58-05 p14601 flush clog.py:115] 0%|          | 0/1 [00:00<?, ?it/s]\n",
      "[INFO 20240913-13-58-05 p14601 flush clog.py:115] \u001b[A\n"
     ]
    },
    {
     "name": "stderr",
     "output_type": "stream",
     "text": [
      "stardist:  31%|███       | 85/276 [00:46<04:54,  1.54s/it]"
     ]
    },
    {
     "name": "stdout",
     "output_type": "stream",
     "text": [
      "[INFO 20240913-13-58-06 p14601 flush clog.py:115] 100%|##########| 1/1 [00:00<00:00,  2.87it/s]\n",
      "[INFO 20240913-13-58-06 p14601 flush clog.py:115] \n",
      "[INFO 20240913-13-58-06 p14601 flush clog.py:115] 0%|          | 0/1 [00:00<?, ?it/s]\n",
      "[INFO 20240913-13-58-06 p14601 flush clog.py:115] \u001b[A\n"
     ]
    },
    {
     "name": "stderr",
     "output_type": "stream",
     "text": [
      "stardist:  31%|███       | 86/276 [00:46<03:45,  1.19s/it]"
     ]
    },
    {
     "name": "stdout",
     "output_type": "stream",
     "text": [
      "[INFO 20240913-13-58-06 p14601 flush clog.py:115] 100%|##########| 1/1 [00:00<00:00,  2.80it/s]\n",
      "[INFO 20240913-13-58-06 p14601 flush clog.py:115] \n",
      "[INFO 20240913-13-58-06 p14601 flush clog.py:115] 0%|          | 0/1 [00:00<?, ?it/s]\n",
      "[INFO 20240913-13-58-06 p14601 flush clog.py:115] \u001b[A\n"
     ]
    },
    {
     "name": "stderr",
     "output_type": "stream",
     "text": [
      "stardist:  32%|███▏      | 87/276 [00:47<02:58,  1.06it/s]"
     ]
    },
    {
     "name": "stdout",
     "output_type": "stream",
     "text": [
      "[INFO 20240913-13-58-06 p14601 flush clog.py:115] 100%|##########| 1/1 [00:00<00:00,  2.77it/s]\n",
      "[INFO 20240913-13-58-06 p14601 flush clog.py:115] \n",
      "[INFO 20240913-13-58-06 p14601 flush clog.py:115] 0%|          | 0/1 [00:00<?, ?it/s]\n",
      "[INFO 20240913-13-58-06 p14601 flush clog.py:115] \u001b[A\n"
     ]
    },
    {
     "name": "stderr",
     "output_type": "stream",
     "text": [
      "stardist:  32%|███▏      | 88/276 [00:47<02:25,  1.29it/s]"
     ]
    },
    {
     "name": "stdout",
     "output_type": "stream",
     "text": [
      "[INFO 20240913-13-58-07 p14601 flush clog.py:115] 100%|##########| 1/1 [00:00<00:00,  2.85it/s]\n",
      "[INFO 20240913-13-58-07 p14601 flush clog.py:115] \n",
      "[INFO 20240913-13-58-07 p14601 flush clog.py:115] 0%|          | 0/1 [00:00<?, ?it/s]\n",
      "[INFO 20240913-13-58-07 p14601 flush clog.py:115] \u001b[A\n"
     ]
    },
    {
     "name": "stderr",
     "output_type": "stream",
     "text": [
      "stardist:  32%|███▏      | 89/276 [00:47<02:02,  1.53it/s]"
     ]
    },
    {
     "name": "stdout",
     "output_type": "stream",
     "text": [
      "[INFO 20240913-13-58-07 p14601 flush clog.py:115] 100%|##########| 1/1 [00:00<00:00,  2.77it/s]\n",
      "[INFO 20240913-13-58-07 p14601 flush clog.py:115] \n",
      "[INFO 20240913-13-58-07 p14601 flush clog.py:115] 0%|          | 0/1 [00:00<?, ?it/s]\n",
      "[INFO 20240913-13-58-07 p14601 flush clog.py:115] \u001b[A\n"
     ]
    },
    {
     "name": "stderr",
     "output_type": "stream",
     "text": [
      "stardist:  33%|███▎      | 90/276 [00:48<01:46,  1.75it/s]"
     ]
    },
    {
     "name": "stdout",
     "output_type": "stream",
     "text": [
      "[INFO 20240913-13-58-08 p14601 flush clog.py:115] 100%|##########| 1/1 [00:00<00:00,  2.69it/s]\n",
      "[INFO 20240913-13-58-08 p14601 flush clog.py:115] \n",
      "[INFO 20240913-13-58-08 p14601 flush clog.py:115] 0%|          | 0/1 [00:00<?, ?it/s]\n",
      "[INFO 20240913-13-58-08 p14601 flush clog.py:115] \u001b[A\n"
     ]
    },
    {
     "name": "stderr",
     "output_type": "stream",
     "text": [
      "stardist:  33%|███▎      | 91/276 [00:48<01:35,  1.94it/s]"
     ]
    },
    {
     "name": "stdout",
     "output_type": "stream",
     "text": [
      "[INFO 20240913-13-58-08 p14601 flush clog.py:115] 100%|##########| 1/1 [00:00<00:00,  2.92it/s]\n"
     ]
    },
    {
     "name": "stderr",
     "output_type": "stream",
     "text": [
      "stardist:  33%|███▎      | 92/276 [00:49<01:45,  1.75it/s]"
     ]
    },
    {
     "name": "stdout",
     "output_type": "stream",
     "text": [
      "[INFO 20240913-13-58-08 p14601 flush clog.py:115] \n",
      "[INFO 20240913-13-58-08 p14601 flush clog.py:115] 0%|          | 0/1 [00:00<?, ?it/s]\n",
      "[INFO 20240913-13-58-08 p14601 flush clog.py:115] \u001b[A\n",
      "[INFO 20240913-13-58-09 p14601 flush clog.py:115] 100%|##########| 1/1 [00:00<00:00,  2.87it/s]\n",
      "[INFO 20240913-13-58-09 p14601 flush clog.py:115] \n",
      "[INFO 20240913-13-58-09 p14601 flush clog.py:115] 0%|          | 0/1 [00:00<?, ?it/s]\n",
      "[INFO 20240913-13-58-09 p14601 flush clog.py:115] \u001b[A\n"
     ]
    },
    {
     "name": "stderr",
     "output_type": "stream",
     "text": [
      "stardist:  34%|███▎      | 93/276 [00:49<01:33,  1.96it/s]"
     ]
    },
    {
     "name": "stdout",
     "output_type": "stream",
     "text": [
      "[INFO 20240913-13-58-09 p14601 flush clog.py:115] 100%|##########| 1/1 [00:00<00:00,  2.86it/s]\n",
      "[INFO 20240913-13-58-09 p14601 flush clog.py:115] \n",
      "[INFO 20240913-13-58-09 p14601 flush clog.py:115] 0%|          | 0/1 [00:00<?, ?it/s]\n",
      "[INFO 20240913-13-58-09 p14601 flush clog.py:115] \u001b[A\n"
     ]
    },
    {
     "name": "stderr",
     "output_type": "stream",
     "text": [
      "stardist:  34%|███▍      | 94/276 [00:50<01:24,  2.14it/s]"
     ]
    },
    {
     "name": "stdout",
     "output_type": "stream",
     "text": [
      "[INFO 20240913-13-58-09 p14601 flush clog.py:115] 100%|##########| 1/1 [00:00<00:00,  2.81it/s]\n",
      "[INFO 20240913-13-58-09 p14601 flush clog.py:115] \n",
      "[INFO 20240913-13-58-09 p14601 flush clog.py:115] 0%|          | 0/1 [00:00<?, ?it/s]\n",
      "[INFO 20240913-13-58-09 p14601 flush clog.py:115] \u001b[A\n"
     ]
    },
    {
     "name": "stderr",
     "output_type": "stream",
     "text": [
      "stardist:  34%|███▍      | 95/276 [00:50<01:19,  2.28it/s]"
     ]
    },
    {
     "name": "stdout",
     "output_type": "stream",
     "text": [
      "[INFO 20240913-13-58-10 p14601 flush clog.py:115] 100%|##########| 1/1 [00:00<00:00,  2.74it/s]\n",
      "[INFO 20240913-13-58-10 p14601 flush clog.py:115] \n",
      "[INFO 20240913-13-58-10 p14601 flush clog.py:115] 0%|          | 0/1 [00:00<?, ?it/s]\n",
      "[INFO 20240913-13-58-10 p14601 flush clog.py:115] \u001b[A\n"
     ]
    },
    {
     "name": "stderr",
     "output_type": "stream",
     "text": [
      "stardist:  35%|███▍      | 96/276 [00:50<01:15,  2.37it/s]"
     ]
    },
    {
     "name": "stdout",
     "output_type": "stream",
     "text": [
      "[INFO 20240913-13-58-10 p14601 flush clog.py:115] 100%|##########| 1/1 [00:00<00:00,  2.82it/s]\n",
      "[INFO 20240913-13-58-10 p14601 flush clog.py:115] \n",
      "[INFO 20240913-13-58-10 p14601 flush clog.py:115] 0%|          | 0/1 [00:00<?, ?it/s]\n",
      "[INFO 20240913-13-58-10 p14601 flush clog.py:115] \u001b[A\n"
     ]
    },
    {
     "name": "stderr",
     "output_type": "stream",
     "text": [
      "stardist:  35%|███▌      | 97/276 [00:51<01:12,  2.46it/s]"
     ]
    },
    {
     "name": "stdout",
     "output_type": "stream",
     "text": [
      "[INFO 20240913-13-58-11 p14601 flush clog.py:115] 100%|##########| 1/1 [00:00<00:00,  2.74it/s]\n",
      "[INFO 20240913-13-58-11 p14601 flush clog.py:115] \n",
      "[INFO 20240913-13-58-11 p14601 flush clog.py:115] 0%|          | 0/1 [00:00<?, ?it/s]\n",
      "[INFO 20240913-13-58-11 p14601 flush clog.py:115] \u001b[A\n"
     ]
    },
    {
     "name": "stderr",
     "output_type": "stream",
     "text": [
      "stardist:  36%|███▌      | 98/276 [00:51<01:11,  2.50it/s]"
     ]
    },
    {
     "name": "stdout",
     "output_type": "stream",
     "text": [
      "[INFO 20240913-13-58-11 p14601 flush clog.py:115] 100%|##########| 1/1 [00:00<00:00,  2.70it/s]\n",
      "[INFO 20240913-13-58-11 p14601 flush clog.py:115] \n",
      "[INFO 20240913-13-58-11 p14601 flush clog.py:115] 0%|          | 0/1 [00:00<?, ?it/s]\n",
      "[INFO 20240913-13-58-11 p14601 flush clog.py:115] \u001b[A\n"
     ]
    },
    {
     "name": "stderr",
     "output_type": "stream",
     "text": [
      "stardist:  36%|███▌      | 99/276 [00:51<01:10,  2.52it/s]"
     ]
    },
    {
     "name": "stdout",
     "output_type": "stream",
     "text": [
      "[INFO 20240913-13-58-11 p14601 flush clog.py:115] 100%|##########| 1/1 [00:00<00:00,  2.82it/s]\n",
      "[INFO 20240913-13-58-11 p14601 flush clog.py:115] \n",
      "[INFO 20240913-13-58-11 p14601 flush clog.py:115] 0%|          | 0/1 [00:00<?, ?it/s]\n",
      "[INFO 20240913-13-58-11 p14601 flush clog.py:115] \u001b[A\n"
     ]
    },
    {
     "name": "stderr",
     "output_type": "stream",
     "text": [
      "stardist:  36%|███▌      | 100/276 [00:52<01:08,  2.57it/s]"
     ]
    },
    {
     "name": "stdout",
     "output_type": "stream",
     "text": [
      "[INFO 20240913-13-58-12 p14601 flush clog.py:115] 100%|##########| 1/1 [00:00<00:00,  2.79it/s]\n",
      "[INFO 20240913-13-58-12 p14601 flush clog.py:115] \n",
      "[INFO 20240913-13-58-12 p14601 flush clog.py:115] 0%|          | 0/1 [00:00<?, ?it/s]\n",
      "[INFO 20240913-13-58-12 p14601 flush clog.py:115] \u001b[A\n"
     ]
    },
    {
     "name": "stderr",
     "output_type": "stream",
     "text": [
      "stardist:  37%|███▋      | 101/276 [00:52<01:07,  2.58it/s]"
     ]
    },
    {
     "name": "stdout",
     "output_type": "stream",
     "text": [
      "[INFO 20240913-13-58-12 p14601 flush clog.py:115] 100%|##########| 1/1 [00:00<00:00,  2.67it/s]\n",
      "[INFO 20240913-13-58-12 p14601 flush clog.py:115] \n",
      "[INFO 20240913-13-58-12 p14601 flush clog.py:115] 0%|          | 0/1 [00:00<?, ?it/s]\n",
      "[INFO 20240913-13-58-12 p14601 flush clog.py:115] \u001b[A\n"
     ]
    },
    {
     "name": "stderr",
     "output_type": "stream",
     "text": [
      "stardist:  37%|███▋      | 102/276 [00:53<01:07,  2.57it/s]"
     ]
    },
    {
     "name": "stdout",
     "output_type": "stream",
     "text": [
      "[INFO 20240913-13-58-12 p14601 flush clog.py:115] 100%|##########| 1/1 [00:00<00:00,  2.78it/s]\n",
      "[INFO 20240913-13-58-12 p14601 flush clog.py:115] \n",
      "[INFO 20240913-13-58-12 p14601 flush clog.py:115] 0%|          | 0/1 [00:00<?, ?it/s]\n",
      "[INFO 20240913-13-58-12 p14601 flush clog.py:115] \u001b[A\n"
     ]
    },
    {
     "name": "stderr",
     "output_type": "stream",
     "text": [
      "stardist:  37%|███▋      | 103/276 [00:53<01:06,  2.59it/s]"
     ]
    },
    {
     "name": "stdout",
     "output_type": "stream",
     "text": [
      "[INFO 20240913-13-58-13 p14601 flush clog.py:115] 100%|##########| 1/1 [00:00<00:00,  2.78it/s]\n",
      "[INFO 20240913-13-58-13 p14601 flush clog.py:115] \n",
      "[INFO 20240913-13-58-13 p14601 flush clog.py:115] 0%|          | 0/1 [00:00<?, ?it/s]\n",
      "[INFO 20240913-13-58-13 p14601 flush clog.py:115] \u001b[A\n"
     ]
    },
    {
     "name": "stderr",
     "output_type": "stream",
     "text": [
      "stardist:  38%|███▊      | 104/276 [00:53<01:05,  2.61it/s]"
     ]
    },
    {
     "name": "stdout",
     "output_type": "stream",
     "text": [
      "[INFO 20240913-13-58-13 p14601 flush clog.py:115] 100%|##########| 1/1 [00:00<00:00,  2.86it/s]\n"
     ]
    },
    {
     "name": "stderr",
     "output_type": "stream",
     "text": [
      "stardist:  38%|███▊      | 105/276 [00:54<01:16,  2.23it/s]"
     ]
    },
    {
     "name": "stdout",
     "output_type": "stream",
     "text": [
      "[INFO 20240913-13-58-13 p14601 flush clog.py:115] \n",
      "[INFO 20240913-13-58-13 p14601 flush clog.py:115] 0%|          | 0/1 [00:00<?, ?it/s]\n",
      "[INFO 20240913-13-58-13 p14601 flush clog.py:115] \u001b[A\n",
      "[INFO 20240913-13-58-14 p14601 flush clog.py:115] 100%|##########| 1/1 [00:00<00:00,  2.75it/s]\n",
      "[INFO 20240913-13-58-14 p14601 flush clog.py:115] \n",
      "[INFO 20240913-13-58-14 p14601 flush clog.py:115] 0%|          | 0/1 [00:00<?, ?it/s]\n",
      "[INFO 20240913-13-58-14 p14601 flush clog.py:115] \u001b[A\n"
     ]
    },
    {
     "name": "stderr",
     "output_type": "stream",
     "text": [
      "stardist:  38%|███▊      | 106/276 [00:54<01:12,  2.34it/s]"
     ]
    },
    {
     "name": "stdout",
     "output_type": "stream",
     "text": [
      "[INFO 20240913-13-58-14 p14601 flush clog.py:115] 100%|##########| 1/1 [00:00<00:00,  2.82it/s]\n",
      "[INFO 20240913-13-58-14 p14601 flush clog.py:115] \n",
      "[INFO 20240913-13-58-14 p14601 flush clog.py:115] 0%|          | 0/1 [00:00<?, ?it/s]\n",
      "[INFO 20240913-13-58-14 p14601 flush clog.py:115] \u001b[A\n"
     ]
    },
    {
     "name": "stderr",
     "output_type": "stream",
     "text": [
      "stardist:  39%|███▉      | 107/276 [00:55<01:09,  2.44it/s]"
     ]
    },
    {
     "name": "stdout",
     "output_type": "stream",
     "text": [
      "[INFO 20240913-13-58-15 p14601 flush clog.py:115] 100%|##########| 1/1 [00:00<00:00,  2.83it/s]\n",
      "[INFO 20240913-13-58-15 p14601 flush clog.py:115] \n",
      "[INFO 20240913-13-58-15 p14601 flush clog.py:115] 0%|          | 0/1 [00:00<?, ?it/s]\n",
      "[INFO 20240913-13-58-15 p14601 flush clog.py:115] \u001b[A\n"
     ]
    },
    {
     "name": "stderr",
     "output_type": "stream",
     "text": [
      "stardist:  39%|███▉      | 108/276 [00:55<01:06,  2.51it/s]"
     ]
    },
    {
     "name": "stdout",
     "output_type": "stream",
     "text": [
      "[INFO 20240913-13-58-15 p14601 flush clog.py:115] 100%|##########| 1/1 [00:00<00:00,  2.81it/s]\n",
      "[INFO 20240913-13-58-15 p14601 flush clog.py:115] \n",
      "[INFO 20240913-13-58-15 p14601 flush clog.py:115] 0%|          | 0/1 [00:00<?, ?it/s]\n",
      "[INFO 20240913-13-58-15 p14601 flush clog.py:115] \u001b[A\n"
     ]
    },
    {
     "name": "stderr",
     "output_type": "stream",
     "text": [
      "stardist:  39%|███▉      | 109/276 [00:55<01:05,  2.56it/s]"
     ]
    },
    {
     "name": "stdout",
     "output_type": "stream",
     "text": [
      "[INFO 20240913-13-58-15 p14601 flush clog.py:115] 100%|##########| 1/1 [00:00<00:00,  2.81it/s]\n",
      "[INFO 20240913-13-58-15 p14601 flush clog.py:115] \n",
      "[INFO 20240913-13-58-15 p14601 flush clog.py:115] 0%|          | 0/1 [00:00<?, ?it/s]\n",
      "[INFO 20240913-13-58-15 p14601 flush clog.py:115] \u001b[A\n"
     ]
    },
    {
     "name": "stderr",
     "output_type": "stream",
     "text": [
      "stardist:  40%|███▉      | 110/276 [00:56<01:03,  2.60it/s]"
     ]
    },
    {
     "name": "stdout",
     "output_type": "stream",
     "text": [
      "[INFO 20240913-13-58-16 p14601 flush clog.py:115] 100%|##########| 1/1 [00:00<00:00,  2.79it/s]\n",
      "[INFO 20240913-13-58-16 p14601 flush clog.py:115] \n",
      "[INFO 20240913-13-58-16 p14601 flush clog.py:115] 0%|          | 0/1 [00:00<?, ?it/s]\n",
      "[INFO 20240913-13-58-16 p14601 flush clog.py:115] \u001b[A\n"
     ]
    },
    {
     "name": "stderr",
     "output_type": "stream",
     "text": [
      "stardist:  40%|████      | 111/276 [00:56<01:03,  2.61it/s]"
     ]
    },
    {
     "name": "stdout",
     "output_type": "stream",
     "text": [
      "[INFO 20240913-13-58-16 p14601 flush clog.py:115] 100%|##########| 1/1 [00:00<00:00,  2.83it/s]\n",
      "[INFO 20240913-13-58-16 p14601 flush clog.py:115] \n",
      "[INFO 20240913-13-58-16 p14601 flush clog.py:115] 0%|          | 0/1 [00:00<?, ?it/s]\n",
      "[INFO 20240913-13-58-16 p14601 flush clog.py:115] \u001b[A\n"
     ]
    },
    {
     "name": "stderr",
     "output_type": "stream",
     "text": [
      "stardist:  41%|████      | 112/276 [00:57<01:02,  2.64it/s]"
     ]
    },
    {
     "name": "stdout",
     "output_type": "stream",
     "text": [
      "[INFO 20240913-13-58-16 p14601 flush clog.py:115] 100%|##########| 1/1 [00:00<00:00,  2.81it/s]\n",
      "[INFO 20240913-13-58-16 p14601 flush clog.py:115] \n",
      "[INFO 20240913-13-58-16 p14601 flush clog.py:115] 0%|          | 0/1 [00:00<?, ?it/s]\n",
      "[INFO 20240913-13-58-16 p14601 flush clog.py:115] \u001b[A\n"
     ]
    },
    {
     "name": "stderr",
     "output_type": "stream",
     "text": [
      "stardist:  41%|████      | 113/276 [00:57<01:01,  2.65it/s]"
     ]
    },
    {
     "name": "stdout",
     "output_type": "stream",
     "text": [
      "[INFO 20240913-13-58-17 p14601 flush clog.py:115] 100%|##########| 1/1 [00:00<00:00,  2.86it/s]\n",
      "[INFO 20240913-13-58-17 p14601 flush clog.py:115] \n",
      "[INFO 20240913-13-58-17 p14601 flush clog.py:115] 0%|          | 0/1 [00:00<?, ?it/s]\n",
      "[INFO 20240913-13-58-17 p14601 flush clog.py:115] \u001b[A\n"
     ]
    },
    {
     "name": "stderr",
     "output_type": "stream",
     "text": [
      "stardist:  41%|████▏     | 114/276 [00:57<01:00,  2.67it/s]"
     ]
    },
    {
     "name": "stdout",
     "output_type": "stream",
     "text": [
      "[INFO 20240913-13-58-17 p14601 flush clog.py:115] 100%|##########| 1/1 [00:00<00:00,  2.74it/s]\n",
      "[INFO 20240913-13-58-17 p14601 flush clog.py:115] \n",
      "[INFO 20240913-13-58-17 p14601 flush clog.py:115] 0%|          | 0/1 [00:00<?, ?it/s]\n",
      "[INFO 20240913-13-58-17 p14601 flush clog.py:115] \u001b[A\n"
     ]
    },
    {
     "name": "stderr",
     "output_type": "stream",
     "text": [
      "stardist:  42%|████▏     | 115/276 [00:58<01:00,  2.65it/s]"
     ]
    },
    {
     "name": "stdout",
     "output_type": "stream",
     "text": [
      "[INFO 20240913-13-58-18 p14601 flush clog.py:115] 100%|##########| 1/1 [00:00<00:00,  2.72it/s]\n",
      "[INFO 20240913-13-58-18 p14601 flush clog.py:115] \n",
      "[INFO 20240913-13-58-18 p14601 flush clog.py:115] 0%|          | 0/1 [00:00<?, ?it/s]\n",
      "[INFO 20240913-13-58-18 p14601 flush clog.py:115] \u001b[A\n"
     ]
    },
    {
     "name": "stderr",
     "output_type": "stream",
     "text": [
      "stardist:  42%|████▏     | 116/276 [00:58<01:00,  2.63it/s]"
     ]
    },
    {
     "name": "stdout",
     "output_type": "stream",
     "text": [
      "[INFO 20240913-13-58-18 p14601 flush clog.py:115] 100%|##########| 1/1 [00:00<00:00,  2.72it/s]\n",
      "[INFO 20240913-13-58-18 p14601 flush clog.py:115] \n",
      "[INFO 20240913-13-58-18 p14601 flush clog.py:115] 0%|          | 0/1 [00:00<?, ?it/s]\n",
      "[INFO 20240913-13-58-18 p14601 flush clog.py:115] \u001b[A\n"
     ]
    },
    {
     "name": "stderr",
     "output_type": "stream",
     "text": [
      "stardist:  42%|████▏     | 117/276 [00:58<01:00,  2.62it/s]"
     ]
    },
    {
     "name": "stdout",
     "output_type": "stream",
     "text": [
      "[INFO 20240913-13-58-18 p14601 flush clog.py:115] 100%|##########| 1/1 [00:00<00:00,  2.86it/s]\n"
     ]
    },
    {
     "name": "stderr",
     "output_type": "stream",
     "text": [
      "stardist:  43%|████▎     | 118/276 [01:00<01:58,  1.33it/s]"
     ]
    },
    {
     "name": "stdout",
     "output_type": "stream",
     "text": [
      "[INFO 20240913-13-58-20 p14601 flush clog.py:115] \n",
      "[INFO 20240913-13-58-20 p14601 flush clog.py:115] 0%|          | 0/1 [00:00<?, ?it/s]\n",
      "[INFO 20240913-13-58-20 p14601 flush clog.py:115] \u001b[A\n",
      "[INFO 20240913-13-58-20 p14601 flush clog.py:115] 100%|##########| 1/1 [00:00<00:00,  2.80it/s]\n"
     ]
    },
    {
     "name": "stderr",
     "output_type": "stream",
     "text": [
      "stardist:  43%|████▎     | 119/276 [01:01<01:51,  1.40it/s]"
     ]
    },
    {
     "name": "stdout",
     "output_type": "stream",
     "text": [
      "[INFO 20240913-13-58-20 p14601 flush clog.py:115] \n",
      "[INFO 20240913-13-58-20 p14601 flush clog.py:115] 0%|          | 0/1 [00:00<?, ?it/s]\n",
      "[INFO 20240913-13-58-20 p14601 flush clog.py:115] \u001b[A\n",
      "[INFO 20240913-13-58-21 p14601 flush clog.py:115] 100%|##########| 1/1 [00:00<00:00,  2.71it/s]\n",
      "[INFO 20240913-13-58-21 p14601 flush clog.py:115] \n",
      "[INFO 20240913-13-58-21 p14601 flush clog.py:115] 0%|          | 0/1 [00:00<?, ?it/s]\n",
      "[INFO 20240913-13-58-21 p14601 flush clog.py:115] \u001b[A\n"
     ]
    },
    {
     "name": "stderr",
     "output_type": "stream",
     "text": [
      "stardist:  43%|████▎     | 120/276 [01:01<01:36,  1.62it/s]"
     ]
    },
    {
     "name": "stdout",
     "output_type": "stream",
     "text": [
      "[INFO 20240913-13-58-21 p14601 flush clog.py:115] 100%|##########| 1/1 [00:00<00:00,  2.66it/s]\n",
      "[INFO 20240913-13-58-21 p14601 flush clog.py:115] \n",
      "[INFO 20240913-13-58-21 p14601 flush clog.py:115] 0%|          | 0/1 [00:00<?, ?it/s]\n",
      "[INFO 20240913-13-58-21 p14601 flush clog.py:115] \u001b[A\n"
     ]
    },
    {
     "name": "stderr",
     "output_type": "stream",
     "text": [
      "stardist:  44%|████▍     | 121/276 [01:02<01:25,  1.82it/s]"
     ]
    },
    {
     "name": "stdout",
     "output_type": "stream",
     "text": [
      "[INFO 20240913-13-58-21 p14601 flush clog.py:115] 100%|##########| 1/1 [00:00<00:00,  2.80it/s]\n",
      "[INFO 20240913-13-58-21 p14601 flush clog.py:115] \n",
      "[INFO 20240913-13-58-21 p14601 flush clog.py:115] 0%|          | 0/1 [00:00<?, ?it/s]\n",
      "[INFO 20240913-13-58-21 p14601 flush clog.py:115] \u001b[A\n"
     ]
    },
    {
     "name": "stderr",
     "output_type": "stream",
     "text": [
      "stardist:  44%|████▍     | 122/276 [01:02<01:16,  2.01it/s]"
     ]
    },
    {
     "name": "stdout",
     "output_type": "stream",
     "text": [
      "[INFO 20240913-13-58-22 p14601 flush clog.py:115] 100%|##########| 1/1 [00:00<00:00,  2.76it/s]\n",
      "[INFO 20240913-13-58-22 p14601 flush clog.py:115] \n",
      "[INFO 20240913-13-58-22 p14601 flush clog.py:115] 0%|          | 0/1 [00:00<?, ?it/s]\n",
      "[INFO 20240913-13-58-22 p14601 flush clog.py:115] \u001b[A\n"
     ]
    },
    {
     "name": "stderr",
     "output_type": "stream",
     "text": [
      "stardist:  45%|████▍     | 123/276 [01:02<01:10,  2.16it/s]"
     ]
    },
    {
     "name": "stdout",
     "output_type": "stream",
     "text": [
      "[INFO 20240913-13-58-22 p14601 flush clog.py:115] 100%|##########| 1/1 [00:00<00:00,  2.78it/s]\n",
      "[INFO 20240913-13-58-22 p14601 flush clog.py:115] \n",
      "[INFO 20240913-13-58-22 p14601 flush clog.py:115] 0%|          | 0/1 [00:00<?, ?it/s]\n",
      "[INFO 20240913-13-58-22 p14601 flush clog.py:115] \u001b[A\n"
     ]
    },
    {
     "name": "stderr",
     "output_type": "stream",
     "text": [
      "stardist:  45%|████▍     | 124/276 [01:03<01:06,  2.29it/s]"
     ]
    },
    {
     "name": "stdout",
     "output_type": "stream",
     "text": [
      "[INFO 20240913-13-58-22 p14601 flush clog.py:115] 100%|##########| 1/1 [00:00<00:00,  2.70it/s]\n",
      "[INFO 20240913-13-58-23 p14601 flush clog.py:115] \n",
      "[INFO 20240913-13-58-23 p14601 flush clog.py:115] 0%|          | 0/1 [00:00<?, ?it/s]\n",
      "[INFO 20240913-13-58-23 p14601 flush clog.py:115] \u001b[A\n"
     ]
    },
    {
     "name": "stderr",
     "output_type": "stream",
     "text": [
      "stardist:  45%|████▌     | 125/276 [01:03<01:03,  2.37it/s]"
     ]
    },
    {
     "name": "stdout",
     "output_type": "stream",
     "text": [
      "[INFO 20240913-13-58-23 p14601 flush clog.py:115] 100%|##########| 1/1 [00:00<00:00,  2.55it/s]\n",
      "[INFO 20240913-13-58-23 p14601 flush clog.py:115] \n",
      "[INFO 20240913-13-58-23 p14601 flush clog.py:115] 0%|          | 0/1 [00:00<?, ?it/s]\n",
      "[INFO 20240913-13-58-23 p14601 flush clog.py:115] \u001b[A\n"
     ]
    },
    {
     "name": "stderr",
     "output_type": "stream",
     "text": [
      "stardist:  46%|████▌     | 126/276 [01:03<01:02,  2.40it/s]"
     ]
    },
    {
     "name": "stdout",
     "output_type": "stream",
     "text": [
      "[INFO 20240913-13-58-23 p14601 flush clog.py:115] 100%|##########| 1/1 [00:00<00:00,  2.78it/s]\n",
      "[INFO 20240913-13-58-23 p14601 flush clog.py:115] \n",
      "[INFO 20240913-13-58-23 p14601 flush clog.py:115] 0%|          | 0/1 [00:00<?, ?it/s]\n",
      "[INFO 20240913-13-58-23 p14601 flush clog.py:115] \u001b[A\n"
     ]
    },
    {
     "name": "stderr",
     "output_type": "stream",
     "text": [
      "stardist:  46%|████▌     | 127/276 [01:04<01:00,  2.47it/s]"
     ]
    },
    {
     "name": "stdout",
     "output_type": "stream",
     "text": [
      "[INFO 20240913-13-58-24 p14601 flush clog.py:115] 100%|##########| 1/1 [00:00<00:00,  2.76it/s]\n",
      "[INFO 20240913-13-58-24 p14601 flush clog.py:115] \n",
      "[INFO 20240913-13-58-24 p14601 flush clog.py:115] 0%|          | 0/1 [00:00<?, ?it/s]\n",
      "[INFO 20240913-13-58-24 p14601 flush clog.py:115] \u001b[A\n"
     ]
    },
    {
     "name": "stderr",
     "output_type": "stream",
     "text": [
      "stardist:  46%|████▋     | 128/276 [01:04<00:58,  2.51it/s]"
     ]
    },
    {
     "name": "stdout",
     "output_type": "stream",
     "text": [
      "[INFO 20240913-13-58-24 p14601 flush clog.py:115] 100%|##########| 1/1 [00:00<00:00,  2.81it/s]\n",
      "[INFO 20240913-13-58-24 p14601 flush clog.py:115] \n",
      "[INFO 20240913-13-58-24 p14601 flush clog.py:115] 0%|          | 0/1 [00:00<?, ?it/s]\n",
      "[INFO 20240913-13-58-24 p14601 flush clog.py:115] \u001b[A\n"
     ]
    },
    {
     "name": "stderr",
     "output_type": "stream",
     "text": [
      "stardist:  47%|████▋     | 129/276 [01:05<00:57,  2.56it/s]"
     ]
    },
    {
     "name": "stdout",
     "output_type": "stream",
     "text": [
      "[INFO 20240913-13-58-24 p14601 flush clog.py:115] 100%|##########| 1/1 [00:00<00:00,  2.83it/s]\n",
      "[INFO 20240913-13-58-24 p14601 flush clog.py:115] \n",
      "[INFO 20240913-13-58-24 p14601 flush clog.py:115] 0%|          | 0/1 [00:00<?, ?it/s]\n",
      "[INFO 20240913-13-58-24 p14601 flush clog.py:115] \u001b[A\n"
     ]
    },
    {
     "name": "stderr",
     "output_type": "stream",
     "text": [
      "stardist:  47%|████▋     | 130/276 [01:05<00:56,  2.59it/s]"
     ]
    },
    {
     "name": "stdout",
     "output_type": "stream",
     "text": [
      "[INFO 20240913-13-58-25 p14601 flush clog.py:115] 100%|##########| 1/1 [00:00<00:00,  2.83it/s]\n",
      "[INFO 20240913-13-58-25 p14601 flush clog.py:115] \n",
      "[INFO 20240913-13-58-25 p14601 flush clog.py:115] 0%|          | 0/1 [00:00<?, ?it/s]\n",
      "[INFO 20240913-13-58-25 p14601 flush clog.py:115] \u001b[A\n"
     ]
    },
    {
     "name": "stderr",
     "output_type": "stream",
     "text": [
      "stardist:  47%|████▋     | 131/276 [01:05<00:55,  2.62it/s]"
     ]
    },
    {
     "name": "stdout",
     "output_type": "stream",
     "text": [
      "[INFO 20240913-13-58-25 p14601 flush clog.py:115] 100%|##########| 1/1 [00:00<00:00,  2.81it/s]\n",
      "[INFO 20240913-13-58-25 p14601 flush clog.py:115] \n",
      "[INFO 20240913-13-58-25 p14601 flush clog.py:115] 0%|          | 0/1 [00:00<?, ?it/s]\n",
      "[INFO 20240913-13-58-25 p14601 flush clog.py:115] \u001b[A\n"
     ]
    },
    {
     "name": "stderr",
     "output_type": "stream",
     "text": [
      "stardist:  48%|████▊     | 132/276 [01:06<00:57,  2.51it/s]"
     ]
    },
    {
     "name": "stdout",
     "output_type": "stream",
     "text": [
      "[INFO 20240913-13-58-26 p14601 flush clog.py:115] 100%|##########| 1/1 [00:00<00:00,  2.81it/s]\n",
      "[INFO 20240913-13-58-26 p14601 flush clog.py:115] \n",
      "[INFO 20240913-13-58-26 p14601 flush clog.py:115] 0%|          | 0/1 [00:00<?, ?it/s]\n",
      "[INFO 20240913-13-58-26 p14601 flush clog.py:115] \u001b[A\n"
     ]
    },
    {
     "name": "stderr",
     "output_type": "stream",
     "text": [
      "stardist:  48%|████▊     | 133/276 [01:06<00:56,  2.54it/s]"
     ]
    },
    {
     "name": "stdout",
     "output_type": "stream",
     "text": [
      "[INFO 20240913-13-58-26 p14601 flush clog.py:115] 100%|##########| 1/1 [00:00<00:00,  2.81it/s]\n",
      "[INFO 20240913-13-58-26 p14601 flush clog.py:115] \n",
      "[INFO 20240913-13-58-26 p14601 flush clog.py:115] 0%|          | 0/1 [00:00<?, ?it/s]\n",
      "[INFO 20240913-13-58-26 p14601 flush clog.py:115] \u001b[A\n"
     ]
    },
    {
     "name": "stderr",
     "output_type": "stream",
     "text": [
      "stardist:  49%|████▊     | 134/276 [01:07<00:55,  2.58it/s]"
     ]
    },
    {
     "name": "stdout",
     "output_type": "stream",
     "text": [
      "[INFO 20240913-13-58-26 p14601 flush clog.py:115] 100%|##########| 1/1 [00:00<00:00,  2.81it/s]\n",
      "[INFO 20240913-13-58-26 p14601 flush clog.py:115] \n",
      "[INFO 20240913-13-58-26 p14601 flush clog.py:115] 0%|          | 0/1 [00:00<?, ?it/s]\n",
      "[INFO 20240913-13-58-26 p14601 flush clog.py:115] \u001b[A\n"
     ]
    },
    {
     "name": "stderr",
     "output_type": "stream",
     "text": [
      "stardist:  49%|████▉     | 135/276 [01:07<00:54,  2.61it/s]"
     ]
    },
    {
     "name": "stdout",
     "output_type": "stream",
     "text": [
      "[INFO 20240913-13-58-27 p14601 flush clog.py:115] 100%|##########| 1/1 [00:00<00:00,  2.76it/s]\n",
      "[INFO 20240913-13-58-27 p14601 flush clog.py:115] \n",
      "[INFO 20240913-13-58-27 p14601 flush clog.py:115] 0%|          | 0/1 [00:00<?, ?it/s]\n",
      "[INFO 20240913-13-58-27 p14601 flush clog.py:115] \u001b[A\n"
     ]
    },
    {
     "name": "stderr",
     "output_type": "stream",
     "text": [
      "stardist:  49%|████▉     | 136/276 [01:07<00:53,  2.62it/s]"
     ]
    },
    {
     "name": "stdout",
     "output_type": "stream",
     "text": [
      "[INFO 20240913-13-58-27 p14601 flush clog.py:115] 100%|##########| 1/1 [00:00<00:00,  2.88it/s]\n",
      "[INFO 20240913-13-58-27 p14601 flush clog.py:115] \n",
      "[INFO 20240913-13-58-27 p14601 flush clog.py:115] 0%|          | 0/1 [00:00<?, ?it/s]\n",
      "[INFO 20240913-13-58-27 p14601 flush clog.py:115] \u001b[A\n"
     ]
    },
    {
     "name": "stderr",
     "output_type": "stream",
     "text": [
      "stardist:  50%|████▉     | 137/276 [01:08<00:52,  2.66it/s]"
     ]
    },
    {
     "name": "stdout",
     "output_type": "stream",
     "text": [
      "[INFO 20240913-13-58-27 p14601 flush clog.py:115] 100%|##########| 1/1 [00:00<00:00,  2.83it/s]\n",
      "[INFO 20240913-13-58-27 p14601 flush clog.py:115] \n",
      "[INFO 20240913-13-58-27 p14601 flush clog.py:115] 0%|          | 0/1 [00:00<?, ?it/s]\n",
      "[INFO 20240913-13-58-27 p14601 flush clog.py:115] \u001b[A\n"
     ]
    },
    {
     "name": "stderr",
     "output_type": "stream",
     "text": [
      "stardist:  50%|█████     | 138/276 [01:08<00:51,  2.67it/s]"
     ]
    },
    {
     "name": "stdout",
     "output_type": "stream",
     "text": [
      "[INFO 20240913-13-58-28 p14601 flush clog.py:115] 100%|##########| 1/1 [00:00<00:00,  2.80it/s]\n",
      "[INFO 20240913-13-58-28 p14601 flush clog.py:115] \n",
      "[INFO 20240913-13-58-28 p14601 flush clog.py:115] 0%|          | 0/1 [00:00<?, ?it/s]\n",
      "[INFO 20240913-13-58-28 p14601 flush clog.py:115] \u001b[A\n"
     ]
    },
    {
     "name": "stderr",
     "output_type": "stream",
     "text": [
      "stardist:  50%|█████     | 139/276 [01:08<00:51,  2.67it/s]"
     ]
    },
    {
     "name": "stdout",
     "output_type": "stream",
     "text": [
      "[INFO 20240913-13-58-28 p14601 flush clog.py:115] 100%|##########| 1/1 [00:00<00:00,  2.81it/s]\n",
      "[INFO 20240913-13-58-28 p14601 flush clog.py:115] \n",
      "[INFO 20240913-13-58-28 p14601 flush clog.py:115] 0%|          | 0/1 [00:00<?, ?it/s]\n",
      "[INFO 20240913-13-58-28 p14601 flush clog.py:115] \u001b[A\n"
     ]
    },
    {
     "name": "stderr",
     "output_type": "stream",
     "text": [
      "stardist:  51%|█████     | 140/276 [01:09<00:50,  2.68it/s]"
     ]
    },
    {
     "name": "stdout",
     "output_type": "stream",
     "text": [
      "[INFO 20240913-13-58-29 p14601 flush clog.py:115] 100%|##########| 1/1 [00:00<00:00,  2.71it/s]\n",
      "[INFO 20240913-13-58-29 p14601 flush clog.py:115] \n",
      "[INFO 20240913-13-58-29 p14601 flush clog.py:115] 0%|          | 0/1 [00:00<?, ?it/s]\n",
      "[INFO 20240913-13-58-29 p14601 flush clog.py:115] \u001b[A\n"
     ]
    },
    {
     "name": "stderr",
     "output_type": "stream",
     "text": [
      "stardist:  51%|█████     | 141/276 [01:09<00:50,  2.65it/s]"
     ]
    },
    {
     "name": "stdout",
     "output_type": "stream",
     "text": [
      "[INFO 20240913-13-58-29 p14601 flush clog.py:115] 100%|##########| 1/1 [00:00<00:00,  2.73it/s]\n",
      "[INFO 20240913-13-58-29 p14601 flush clog.py:115] \n",
      "[INFO 20240913-13-58-29 p14601 flush clog.py:115] 0%|          | 0/1 [00:00<?, ?it/s]\n",
      "[INFO 20240913-13-58-29 p14601 flush clog.py:115] \u001b[A\n"
     ]
    },
    {
     "name": "stderr",
     "output_type": "stream",
     "text": [
      "stardist:  51%|█████▏    | 142/276 [01:09<00:50,  2.64it/s]"
     ]
    },
    {
     "name": "stdout",
     "output_type": "stream",
     "text": [
      "[INFO 20240913-13-58-29 p14601 flush clog.py:115] 100%|##########| 1/1 [00:00<00:00,  2.87it/s]\n",
      "[INFO 20240913-13-58-29 p14601 flush clog.py:115] \n",
      "[INFO 20240913-13-58-29 p14601 flush clog.py:115] 0%|          | 0/1 [00:00<?, ?it/s]\n",
      "[INFO 20240913-13-58-29 p14601 flush clog.py:115] \u001b[A\n"
     ]
    },
    {
     "name": "stderr",
     "output_type": "stream",
     "text": [
      "stardist:  52%|█████▏    | 143/276 [01:10<00:49,  2.67it/s]"
     ]
    },
    {
     "name": "stdout",
     "output_type": "stream",
     "text": [
      "[INFO 20240913-13-58-30 p14601 flush clog.py:115] 100%|##########| 1/1 [00:00<00:00,  2.78it/s]\n",
      "[INFO 20240913-13-58-30 p14601 flush clog.py:115] \n",
      "[INFO 20240913-13-58-30 p14601 flush clog.py:115] 0%|          | 0/1 [00:00<?, ?it/s]\n",
      "[INFO 20240913-13-58-30 p14601 flush clog.py:115] \u001b[A\n"
     ]
    },
    {
     "name": "stderr",
     "output_type": "stream",
     "text": [
      "stardist:  52%|█████▏    | 144/276 [01:10<00:49,  2.66it/s]"
     ]
    },
    {
     "name": "stdout",
     "output_type": "stream",
     "text": [
      "[INFO 20240913-13-58-30 p14601 flush clog.py:115] 100%|##########| 1/1 [00:00<00:00,  2.78it/s]\n",
      "[INFO 20240913-13-58-30 p14601 flush clog.py:115] \n",
      "[INFO 20240913-13-58-30 p14601 flush clog.py:115] 0%|          | 0/1 [00:00<?, ?it/s]\n",
      "[INFO 20240913-13-58-30 p14601 flush clog.py:115] \u001b[A\n"
     ]
    },
    {
     "name": "stderr",
     "output_type": "stream",
     "text": [
      "stardist:  53%|█████▎    | 145/276 [01:11<00:54,  2.38it/s]"
     ]
    },
    {
     "name": "stdout",
     "output_type": "stream",
     "text": [
      "[INFO 20240913-13-58-31 p14601 flush clog.py:115] 100%|##########| 1/1 [00:00<00:00,  2.72it/s]\n",
      "[INFO 20240913-13-58-31 p14601 flush clog.py:115] \n",
      "[INFO 20240913-13-58-31 p14601 flush clog.py:115] 0%|          | 0/1 [00:00<?, ?it/s]\n",
      "[INFO 20240913-13-58-31 p14601 flush clog.py:115] \u001b[A\n"
     ]
    },
    {
     "name": "stderr",
     "output_type": "stream",
     "text": [
      "stardist:  53%|█████▎    | 146/276 [01:11<00:53,  2.44it/s]"
     ]
    },
    {
     "name": "stdout",
     "output_type": "stream",
     "text": [
      "[INFO 20240913-13-58-31 p14601 flush clog.py:115] 100%|##########| 1/1 [00:00<00:00,  2.79it/s]\n",
      "[INFO 20240913-13-58-31 p14601 flush clog.py:115] \n",
      "[INFO 20240913-13-58-31 p14601 flush clog.py:115] 0%|          | 0/1 [00:00<?, ?it/s]\n",
      "[INFO 20240913-13-58-31 p14601 flush clog.py:115] \u001b[A\n"
     ]
    },
    {
     "name": "stderr",
     "output_type": "stream",
     "text": [
      "stardist:  53%|█████▎    | 147/276 [01:12<00:51,  2.49it/s]"
     ]
    },
    {
     "name": "stdout",
     "output_type": "stream",
     "text": [
      "[INFO 20240913-13-58-31 p14601 flush clog.py:115] 100%|##########| 1/1 [00:00<00:00,  2.84it/s]\n",
      "[INFO 20240913-13-58-31 p14601 flush clog.py:115] \n",
      "[INFO 20240913-13-58-31 p14601 flush clog.py:115] 0%|          | 0/1 [00:00<?, ?it/s]\n",
      "[INFO 20240913-13-58-31 p14601 flush clog.py:115] \u001b[A\n"
     ]
    },
    {
     "name": "stderr",
     "output_type": "stream",
     "text": [
      "stardist:  54%|█████▎    | 148/276 [01:12<00:50,  2.55it/s]"
     ]
    },
    {
     "name": "stdout",
     "output_type": "stream",
     "text": [
      "[INFO 20240913-13-58-32 p14601 flush clog.py:115] 100%|##########| 1/1 [00:00<00:00,  2.73it/s]\n",
      "[INFO 20240913-13-58-32 p14601 flush clog.py:115] \n",
      "[INFO 20240913-13-58-32 p14601 flush clog.py:115] 0%|          | 0/1 [00:00<?, ?it/s]\n",
      "[INFO 20240913-13-58-32 p14601 flush clog.py:115] \u001b[A\n"
     ]
    },
    {
     "name": "stderr",
     "output_type": "stream",
     "text": [
      "stardist:  54%|█████▍    | 149/276 [01:12<00:49,  2.57it/s]"
     ]
    },
    {
     "name": "stdout",
     "output_type": "stream",
     "text": [
      "[INFO 20240913-13-58-32 p14601 flush clog.py:115] 100%|##########| 1/1 [00:00<00:00,  2.87it/s]\n",
      "[INFO 20240913-13-58-32 p14601 flush clog.py:115] \n",
      "[INFO 20240913-13-58-32 p14601 flush clog.py:115] 0%|          | 0/1 [00:00<?, ?it/s]\n",
      "[INFO 20240913-13-58-32 p14601 flush clog.py:115] \u001b[A\n"
     ]
    },
    {
     "name": "stderr",
     "output_type": "stream",
     "text": [
      "stardist:  54%|█████▍    | 150/276 [01:13<00:48,  2.62it/s]"
     ]
    },
    {
     "name": "stdout",
     "output_type": "stream",
     "text": [
      "[INFO 20240913-13-58-32 p14601 flush clog.py:115] 100%|##########| 1/1 [00:00<00:00,  2.84it/s]\n",
      "[INFO 20240913-13-58-33 p14601 flush clog.py:115] \n",
      "[INFO 20240913-13-58-33 p14601 flush clog.py:115] 0%|          | 0/1 [00:00<?, ?it/s]\n",
      "[INFO 20240913-13-58-33 p14601 flush clog.py:115] \u001b[A\n"
     ]
    },
    {
     "name": "stderr",
     "output_type": "stream",
     "text": [
      "stardist:  55%|█████▍    | 151/276 [01:13<00:47,  2.65it/s]"
     ]
    },
    {
     "name": "stdout",
     "output_type": "stream",
     "text": [
      "[INFO 20240913-13-58-33 p14601 flush clog.py:115] 100%|##########| 1/1 [00:00<00:00,  2.86it/s]\n",
      "[INFO 20240913-13-58-33 p14601 flush clog.py:115] \n",
      "[INFO 20240913-13-58-33 p14601 flush clog.py:115] 0%|          | 0/1 [00:00<?, ?it/s]\n",
      "[INFO 20240913-13-58-33 p14601 flush clog.py:115] \u001b[A\n"
     ]
    },
    {
     "name": "stderr",
     "output_type": "stream",
     "text": [
      "stardist:  55%|█████▌    | 152/276 [01:13<00:46,  2.68it/s]"
     ]
    },
    {
     "name": "stdout",
     "output_type": "stream",
     "text": [
      "[INFO 20240913-13-58-33 p14601 flush clog.py:115] 100%|##########| 1/1 [00:00<00:00,  2.86it/s]\n",
      "[INFO 20240913-13-58-33 p14601 flush clog.py:115] \n",
      "[INFO 20240913-13-58-33 p14601 flush clog.py:115] 0%|          | 0/1 [00:00<?, ?it/s]\n",
      "[INFO 20240913-13-58-33 p14601 flush clog.py:115] \u001b[A\n"
     ]
    },
    {
     "name": "stderr",
     "output_type": "stream",
     "text": [
      "stardist:  55%|█████▌    | 153/276 [01:14<00:45,  2.70it/s]"
     ]
    },
    {
     "name": "stdout",
     "output_type": "stream",
     "text": [
      "[INFO 20240913-13-58-34 p14601 flush clog.py:115] 100%|##########| 1/1 [00:00<00:00,  2.78it/s]\n",
      "[INFO 20240913-13-58-34 p14601 flush clog.py:115] \n",
      "[INFO 20240913-13-58-34 p14601 flush clog.py:115] 0%|          | 0/1 [00:00<?, ?it/s]\n",
      "[INFO 20240913-13-58-34 p14601 flush clog.py:115] \u001b[A\n"
     ]
    },
    {
     "name": "stderr",
     "output_type": "stream",
     "text": [
      "stardist:  56%|█████▌    | 154/276 [01:14<00:45,  2.68it/s]"
     ]
    },
    {
     "name": "stdout",
     "output_type": "stream",
     "text": [
      "[INFO 20240913-13-58-34 p14601 flush clog.py:115] 100%|##########| 1/1 [00:00<00:00,  2.76it/s]\n",
      "[INFO 20240913-13-58-34 p14601 flush clog.py:115] \n",
      "[INFO 20240913-13-58-34 p14601 flush clog.py:115] 0%|          | 0/1 [00:00<?, ?it/s]\n",
      "[INFO 20240913-13-58-34 p14601 flush clog.py:115] \u001b[A\n"
     ]
    },
    {
     "name": "stderr",
     "output_type": "stream",
     "text": [
      "stardist:  56%|█████▌    | 155/276 [01:15<00:45,  2.67it/s]"
     ]
    },
    {
     "name": "stdout",
     "output_type": "stream",
     "text": [
      "[INFO 20240913-13-58-34 p14601 flush clog.py:115] 100%|##########| 1/1 [00:00<00:00,  2.80it/s]\n",
      "[INFO 20240913-13-58-34 p14601 flush clog.py:115] \n",
      "[INFO 20240913-13-58-34 p14601 flush clog.py:115] 0%|          | 0/1 [00:00<?, ?it/s]\n",
      "[INFO 20240913-13-58-34 p14601 flush clog.py:115] \u001b[A\n"
     ]
    },
    {
     "name": "stderr",
     "output_type": "stream",
     "text": [
      "stardist:  57%|█████▋    | 156/276 [01:15<00:44,  2.67it/s]"
     ]
    },
    {
     "name": "stdout",
     "output_type": "stream",
     "text": [
      "[INFO 20240913-13-58-35 p14601 flush clog.py:115] 100%|##########| 1/1 [00:00<00:00,  2.80it/s]\n",
      "[INFO 20240913-13-58-35 p14601 flush clog.py:115] \n",
      "[INFO 20240913-13-58-35 p14601 flush clog.py:115] 0%|          | 0/1 [00:00<?, ?it/s]\n",
      "[INFO 20240913-13-58-35 p14601 flush clog.py:115] \u001b[A\n"
     ]
    },
    {
     "name": "stderr",
     "output_type": "stream",
     "text": [
      "stardist:  57%|█████▋    | 157/276 [01:15<00:44,  2.67it/s]"
     ]
    },
    {
     "name": "stdout",
     "output_type": "stream",
     "text": [
      "[INFO 20240913-13-58-35 p14601 flush clog.py:115] 100%|##########| 1/1 [00:00<00:00,  2.79it/s]\n",
      "[INFO 20240913-13-58-35 p14601 flush clog.py:115] \n",
      "[INFO 20240913-13-58-35 p14601 flush clog.py:115] 0%|          | 0/1 [00:00<?, ?it/s]\n",
      "[INFO 20240913-13-58-35 p14601 flush clog.py:115] \u001b[A\n"
     ]
    },
    {
     "name": "stderr",
     "output_type": "stream",
     "text": [
      "stardist:  57%|█████▋    | 158/276 [01:16<00:44,  2.66it/s]"
     ]
    },
    {
     "name": "stdout",
     "output_type": "stream",
     "text": [
      "[INFO 20240913-13-58-35 p14601 flush clog.py:115] 100%|##########| 1/1 [00:00<00:00,  2.81it/s]\n",
      "[INFO 20240913-13-58-35 p14601 flush clog.py:115] \n",
      "[INFO 20240913-13-58-35 p14601 flush clog.py:115] 0%|          | 0/1 [00:00<?, ?it/s]\n",
      "[INFO 20240913-13-58-35 p14601 flush clog.py:115] \u001b[A\n"
     ]
    },
    {
     "name": "stderr",
     "output_type": "stream",
     "text": [
      "stardist:  58%|█████▊    | 159/276 [01:16<00:43,  2.67it/s]"
     ]
    },
    {
     "name": "stdout",
     "output_type": "stream",
     "text": [
      "[INFO 20240913-13-58-36 p14601 flush clog.py:115] 100%|##########| 1/1 [00:00<00:00,  2.74it/s]\n",
      "[INFO 20240913-13-58-36 p14601 flush clog.py:115] \n",
      "[INFO 20240913-13-58-36 p14601 flush clog.py:115] 0%|          | 0/1 [00:00<?, ?it/s]\n",
      "[INFO 20240913-13-58-36 p14601 flush clog.py:115] \u001b[A\n"
     ]
    },
    {
     "name": "stderr",
     "output_type": "stream",
     "text": [
      "stardist:  58%|█████▊    | 160/276 [01:16<00:43,  2.65it/s]"
     ]
    },
    {
     "name": "stdout",
     "output_type": "stream",
     "text": [
      "[INFO 20240913-13-58-36 p14601 flush clog.py:115] 100%|##########| 1/1 [00:00<00:00,  2.79it/s]\n",
      "[INFO 20240913-13-58-36 p14601 flush clog.py:115] \n",
      "[INFO 20240913-13-58-36 p14601 flush clog.py:115] 0%|          | 0/1 [00:00<?, ?it/s]\n",
      "[INFO 20240913-13-58-36 p14601 flush clog.py:115] \u001b[A\n"
     ]
    },
    {
     "name": "stderr",
     "output_type": "stream",
     "text": [
      "stardist:  58%|█████▊    | 161/276 [01:17<00:43,  2.65it/s]"
     ]
    },
    {
     "name": "stdout",
     "output_type": "stream",
     "text": [
      "[INFO 20240913-13-58-37 p14601 flush clog.py:115] 100%|##########| 1/1 [00:00<00:00,  2.71it/s]\n",
      "[INFO 20240913-13-58-37 p14601 flush clog.py:115] \n",
      "[INFO 20240913-13-58-37 p14601 flush clog.py:115] 0%|          | 0/1 [00:00<?, ?it/s]\n",
      "[INFO 20240913-13-58-37 p14601 flush clog.py:115] \u001b[A\n"
     ]
    },
    {
     "name": "stderr",
     "output_type": "stream",
     "text": [
      "stardist:  59%|█████▊    | 162/276 [01:17<00:43,  2.63it/s]"
     ]
    },
    {
     "name": "stdout",
     "output_type": "stream",
     "text": [
      "[INFO 20240913-13-58-37 p14601 flush clog.py:115] 100%|##########| 1/1 [00:00<00:00,  2.78it/s]\n",
      "[INFO 20240913-13-58-37 p14601 flush clog.py:115] \n",
      "[INFO 20240913-13-58-37 p14601 flush clog.py:115] 0%|          | 0/1 [00:00<?, ?it/s]\n",
      "[INFO 20240913-13-58-37 p14601 flush clog.py:115] \u001b[A\n"
     ]
    },
    {
     "name": "stderr",
     "output_type": "stream",
     "text": [
      "stardist:  59%|█████▉    | 163/276 [01:18<00:43,  2.62it/s]"
     ]
    },
    {
     "name": "stdout",
     "output_type": "stream",
     "text": [
      "[INFO 20240913-13-58-37 p14601 flush clog.py:115] 100%|##########| 1/1 [00:00<00:00,  2.80it/s]\n",
      "[INFO 20240913-13-58-37 p14601 flush clog.py:115] \n",
      "[INFO 20240913-13-58-37 p14601 flush clog.py:115] 0%|          | 0/1 [00:00<?, ?it/s]\n",
      "[INFO 20240913-13-58-37 p14601 flush clog.py:115] \u001b[A\n"
     ]
    },
    {
     "name": "stderr",
     "output_type": "stream",
     "text": [
      "stardist:  59%|█████▉    | 164/276 [01:18<00:42,  2.64it/s]"
     ]
    },
    {
     "name": "stdout",
     "output_type": "stream",
     "text": [
      "[INFO 20240913-13-58-38 p14601 flush clog.py:115] 100%|##########| 1/1 [00:00<00:00,  2.92it/s]\n",
      "[INFO 20240913-13-58-38 p14601 flush clog.py:115] \n",
      "[INFO 20240913-13-58-38 p14601 flush clog.py:115] 0%|          | 0/1 [00:00<?, ?it/s]\n",
      "[INFO 20240913-13-58-38 p14601 flush clog.py:115] \u001b[A\n"
     ]
    },
    {
     "name": "stderr",
     "output_type": "stream",
     "text": [
      "stardist:  60%|█████▉    | 165/276 [01:18<00:41,  2.68it/s]"
     ]
    },
    {
     "name": "stdout",
     "output_type": "stream",
     "text": [
      "[INFO 20240913-13-58-38 p14601 flush clog.py:115] 100%|##########| 1/1 [00:00<00:00,  2.88it/s]\n",
      "[INFO 20240913-13-58-38 p14601 flush clog.py:115] \n",
      "[INFO 20240913-13-58-38 p14601 flush clog.py:115] 0%|          | 0/1 [00:00<?, ?it/s]\n",
      "[INFO 20240913-13-58-38 p14601 flush clog.py:115] \u001b[A\n"
     ]
    },
    {
     "name": "stderr",
     "output_type": "stream",
     "text": [
      "stardist:  60%|██████    | 166/276 [01:19<00:40,  2.70it/s]"
     ]
    },
    {
     "name": "stdout",
     "output_type": "stream",
     "text": [
      "[INFO 20240913-13-58-39 p14601 flush clog.py:115] 100%|##########| 1/1 [00:00<00:00,  2.67it/s]\n",
      "[INFO 20240913-13-58-39 p14601 flush clog.py:115] \n",
      "[INFO 20240913-13-58-39 p14601 flush clog.py:115] 0%|          | 0/1 [00:00<?, ?it/s]\n",
      "[INFO 20240913-13-58-39 p14601 flush clog.py:115] \u001b[A\n"
     ]
    },
    {
     "name": "stderr",
     "output_type": "stream",
     "text": [
      "stardist:  61%|██████    | 167/276 [01:19<00:41,  2.65it/s]"
     ]
    },
    {
     "name": "stdout",
     "output_type": "stream",
     "text": [
      "[INFO 20240913-13-58-39 p14601 flush clog.py:115] 100%|##########| 1/1 [00:00<00:00,  2.78it/s]\n",
      "[INFO 20240913-13-58-39 p14601 flush clog.py:115] \n",
      "[INFO 20240913-13-58-39 p14601 flush clog.py:115] 0%|          | 0/1 [00:00<?, ?it/s]\n",
      "[INFO 20240913-13-58-39 p14601 flush clog.py:115] \u001b[A\n"
     ]
    },
    {
     "name": "stderr",
     "output_type": "stream",
     "text": [
      "stardist:  61%|██████    | 168/276 [01:19<00:40,  2.65it/s]"
     ]
    },
    {
     "name": "stdout",
     "output_type": "stream",
     "text": [
      "[INFO 20240913-13-58-39 p14601 flush clog.py:115] 100%|##########| 1/1 [00:00<00:00,  2.78it/s]\n",
      "[INFO 20240913-13-58-39 p14601 flush clog.py:115] \n",
      "[INFO 20240913-13-58-39 p14601 flush clog.py:115] 0%|          | 0/1 [00:00<?, ?it/s]\n",
      "[INFO 20240913-13-58-39 p14601 flush clog.py:115] \u001b[A\n"
     ]
    },
    {
     "name": "stderr",
     "output_type": "stream",
     "text": [
      "stardist:  61%|██████    | 169/276 [01:20<00:40,  2.65it/s]"
     ]
    },
    {
     "name": "stdout",
     "output_type": "stream",
     "text": [
      "[INFO 20240913-13-58-40 p14601 flush clog.py:115] 100%|##########| 1/1 [00:00<00:00,  2.86it/s]\n",
      "[INFO 20240913-13-58-40 p14601 flush clog.py:115] \n",
      "[INFO 20240913-13-58-40 p14601 flush clog.py:115] 0%|          | 0/1 [00:00<?, ?it/s]\n",
      "[INFO 20240913-13-58-40 p14601 flush clog.py:115] \u001b[A\n"
     ]
    },
    {
     "name": "stderr",
     "output_type": "stream",
     "text": [
      "stardist:  62%|██████▏   | 170/276 [01:20<00:39,  2.67it/s]"
     ]
    },
    {
     "name": "stdout",
     "output_type": "stream",
     "text": [
      "[INFO 20240913-13-58-40 p14601 flush clog.py:115] 100%|##########| 1/1 [00:00<00:00,  2.81it/s]\n"
     ]
    },
    {
     "name": "stderr",
     "output_type": "stream",
     "text": [
      "stardist:  62%|██████▏   | 171/276 [01:22<01:35,  1.10it/s]"
     ]
    },
    {
     "name": "stdout",
     "output_type": "stream",
     "text": [
      "[INFO 20240913-13-58-42 p14601 flush clog.py:115] \n",
      "[INFO 20240913-13-58-42 p14601 flush clog.py:115] 0%|          | 0/1 [00:00<?, ?it/s]\n",
      "[INFO 20240913-13-58-42 p14601 flush clog.py:115] \u001b[A\n",
      "[INFO 20240913-13-58-42 p14601 flush clog.py:115] 100%|##########| 1/1 [00:00<00:00,  2.82it/s]\n",
      "[INFO 20240913-13-58-42 p14601 flush clog.py:115] \n",
      "[INFO 20240913-13-58-42 p14601 flush clog.py:115] 0%|          | 0/1 [00:00<?, ?it/s]\n",
      "[INFO 20240913-13-58-42 p14601 flush clog.py:115] \u001b[A\n"
     ]
    },
    {
     "name": "stderr",
     "output_type": "stream",
     "text": [
      "stardist:  62%|██████▏   | 172/276 [01:23<01:17,  1.34it/s]"
     ]
    },
    {
     "name": "stdout",
     "output_type": "stream",
     "text": [
      "[INFO 20240913-13-58-43 p14601 flush clog.py:115] 100%|##########| 1/1 [00:00<00:00,  2.83it/s]\n",
      "[INFO 20240913-13-58-43 p14601 flush clog.py:115] \n",
      "[INFO 20240913-13-58-43 p14601 flush clog.py:115] 0%|          | 0/1 [00:00<?, ?it/s]\n",
      "[INFO 20240913-13-58-43 p14601 flush clog.py:115] \u001b[A\n"
     ]
    },
    {
     "name": "stderr",
     "output_type": "stream",
     "text": [
      "stardist:  63%|██████▎   | 173/276 [01:23<01:05,  1.58it/s]"
     ]
    },
    {
     "name": "stdout",
     "output_type": "stream",
     "text": [
      "[INFO 20240913-13-58-43 p14601 flush clog.py:115] 100%|##########| 1/1 [00:00<00:00,  2.83it/s]\n",
      "[INFO 20240913-13-58-43 p14601 flush clog.py:115] \n",
      "[INFO 20240913-13-58-43 p14601 flush clog.py:115] 0%|          | 0/1 [00:00<?, ?it/s]\n",
      "[INFO 20240913-13-58-43 p14601 flush clog.py:115] \u001b[A\n"
     ]
    },
    {
     "name": "stderr",
     "output_type": "stream",
     "text": [
      "stardist:  63%|██████▎   | 174/276 [01:23<00:56,  1.80it/s]"
     ]
    },
    {
     "name": "stdout",
     "output_type": "stream",
     "text": [
      "[INFO 20240913-13-58-43 p14601 flush clog.py:115] 100%|##########| 1/1 [00:00<00:00,  2.81it/s]\n",
      "[INFO 20240913-13-58-43 p14601 flush clog.py:115] \n",
      "[INFO 20240913-13-58-43 p14601 flush clog.py:115] 0%|          | 0/1 [00:00<?, ?it/s]\n",
      "[INFO 20240913-13-58-43 p14601 flush clog.py:115] \u001b[A\n"
     ]
    },
    {
     "name": "stderr",
     "output_type": "stream",
     "text": [
      "stardist:  63%|██████▎   | 175/276 [01:24<00:50,  2.00it/s]"
     ]
    },
    {
     "name": "stdout",
     "output_type": "stream",
     "text": [
      "[INFO 20240913-13-58-44 p14601 flush clog.py:115] 100%|##########| 1/1 [00:00<00:00,  2.87it/s]\n",
      "[INFO 20240913-13-58-44 p14601 flush clog.py:115] \n",
      "[INFO 20240913-13-58-44 p14601 flush clog.py:115] 0%|          | 0/1 [00:00<?, ?it/s]\n",
      "[INFO 20240913-13-58-44 p14601 flush clog.py:115] \u001b[A\n"
     ]
    },
    {
     "name": "stderr",
     "output_type": "stream",
     "text": [
      "stardist:  64%|██████▍   | 176/276 [01:24<00:45,  2.17it/s]"
     ]
    },
    {
     "name": "stdout",
     "output_type": "stream",
     "text": [
      "[INFO 20240913-13-58-44 p14601 flush clog.py:115] 100%|##########| 1/1 [00:00<00:00,  2.83it/s]\n",
      "[INFO 20240913-13-58-44 p14601 flush clog.py:115] \n",
      "[INFO 20240913-13-58-44 p14601 flush clog.py:115] 0%|          | 0/1 [00:00<?, ?it/s]\n",
      "[INFO 20240913-13-58-44 p14601 flush clog.py:115] \u001b[A\n"
     ]
    },
    {
     "name": "stderr",
     "output_type": "stream",
     "text": [
      "stardist:  64%|██████▍   | 177/276 [01:25<00:42,  2.31it/s]"
     ]
    },
    {
     "name": "stdout",
     "output_type": "stream",
     "text": [
      "[INFO 20240913-13-58-44 p14601 flush clog.py:115] 100%|##########| 1/1 [00:00<00:00,  2.74it/s]\n",
      "[INFO 20240913-13-58-44 p14601 flush clog.py:115] \n",
      "[INFO 20240913-13-58-44 p14601 flush clog.py:115] 0%|          | 0/1 [00:00<?, ?it/s]\n",
      "[INFO 20240913-13-58-44 p14601 flush clog.py:115] \u001b[A\n"
     ]
    },
    {
     "name": "stderr",
     "output_type": "stream",
     "text": [
      "stardist:  64%|██████▍   | 178/276 [01:25<00:40,  2.39it/s]"
     ]
    },
    {
     "name": "stdout",
     "output_type": "stream",
     "text": [
      "[INFO 20240913-13-58-45 p14601 flush clog.py:115] 100%|##########| 1/1 [00:00<00:00,  2.75it/s]\n",
      "[INFO 20240913-13-58-45 p14601 flush clog.py:115] \n",
      "[INFO 20240913-13-58-45 p14601 flush clog.py:115] 0%|          | 0/1 [00:00<?, ?it/s]\n",
      "[INFO 20240913-13-58-45 p14601 flush clog.py:115] \u001b[A\n"
     ]
    },
    {
     "name": "stderr",
     "output_type": "stream",
     "text": [
      "stardist:  65%|██████▍   | 179/276 [01:25<00:39,  2.46it/s]"
     ]
    },
    {
     "name": "stdout",
     "output_type": "stream",
     "text": [
      "[INFO 20240913-13-58-45 p14601 flush clog.py:115] 100%|##########| 1/1 [00:00<00:00,  2.81it/s]\n"
     ]
    },
    {
     "name": "stderr",
     "output_type": "stream",
     "text": [
      "stardist:  65%|██████▌   | 180/276 [01:28<01:33,  1.02it/s]"
     ]
    },
    {
     "name": "stdout",
     "output_type": "stream",
     "text": [
      "[INFO 20240913-13-58-47 p14601 flush clog.py:115] \n",
      "[INFO 20240913-13-58-47 p14601 flush clog.py:115] 0%|          | 0/1 [00:00<?, ?it/s]\n",
      "[INFO 20240913-13-58-47 p14601 flush clog.py:115] \u001b[A\n",
      "[INFO 20240913-13-58-47 p14601 flush clog.py:115] 100%|##########| 1/1 [00:00<00:00,  2.76it/s]\n",
      "[INFO 20240913-13-58-47 p14601 flush clog.py:115] \n",
      "[INFO 20240913-13-58-47 p14601 flush clog.py:115] 0%|          | 0/1 [00:00<?, ?it/s]\n",
      "[INFO 20240913-13-58-47 p14601 flush clog.py:115] \u001b[A\n"
     ]
    },
    {
     "name": "stderr",
     "output_type": "stream",
     "text": [
      "stardist:  66%|██████▌   | 181/276 [01:28<01:15,  1.26it/s]"
     ]
    },
    {
     "name": "stdout",
     "output_type": "stream",
     "text": [
      "[INFO 20240913-13-58-48 p14601 flush clog.py:115] 100%|##########| 1/1 [00:00<00:00,  2.80it/s]\n",
      "[INFO 20240913-13-58-48 p14601 flush clog.py:115] \n",
      "[INFO 20240913-13-58-48 p14601 flush clog.py:115] 0%|          | 0/1 [00:00<?, ?it/s]\n",
      "[INFO 20240913-13-58-48 p14601 flush clog.py:115] \u001b[A\n"
     ]
    },
    {
     "name": "stderr",
     "output_type": "stream",
     "text": [
      "stardist:  66%|██████▌   | 182/276 [01:28<01:02,  1.49it/s]"
     ]
    },
    {
     "name": "stdout",
     "output_type": "stream",
     "text": [
      "[INFO 20240913-13-58-48 p14601 flush clog.py:115] 100%|##########| 1/1 [00:00<00:00,  2.86it/s]\n",
      "[INFO 20240913-13-58-48 p14601 flush clog.py:115] \n",
      "[INFO 20240913-13-58-48 p14601 flush clog.py:115] 0%|          | 0/1 [00:00<?, ?it/s]\n",
      "[INFO 20240913-13-58-48 p14601 flush clog.py:115] \u001b[A\n"
     ]
    },
    {
     "name": "stderr",
     "output_type": "stream",
     "text": [
      "stardist:  66%|██████▋   | 183/276 [01:29<00:58,  1.59it/s]"
     ]
    },
    {
     "name": "stdout",
     "output_type": "stream",
     "text": [
      "[INFO 20240913-13-58-49 p14601 flush clog.py:115] 100%|##########| 1/1 [00:00<00:00,  2.86it/s]\n",
      "[INFO 20240913-13-58-49 p14601 flush clog.py:115] \n",
      "[INFO 20240913-13-58-49 p14601 flush clog.py:115] 0%|          | 0/1 [00:00<?, ?it/s]\n",
      "[INFO 20240913-13-58-49 p14601 flush clog.py:115] \u001b[A\n"
     ]
    },
    {
     "name": "stderr",
     "output_type": "stream",
     "text": [
      "stardist:  67%|██████▋   | 184/276 [01:29<00:50,  1.82it/s]"
     ]
    },
    {
     "name": "stdout",
     "output_type": "stream",
     "text": [
      "[INFO 20240913-13-58-49 p14601 flush clog.py:115] 100%|##########| 1/1 [00:00<00:00,  2.80it/s]\n",
      "[INFO 20240913-13-58-49 p14601 flush clog.py:115] \n",
      "[INFO 20240913-13-58-49 p14601 flush clog.py:115] 0%|          | 0/1 [00:00<?, ?it/s]\n",
      "[INFO 20240913-13-58-49 p14601 flush clog.py:115] \u001b[A\n"
     ]
    },
    {
     "name": "stderr",
     "output_type": "stream",
     "text": [
      "stardist:  67%|██████▋   | 185/276 [01:30<00:45,  2.01it/s]"
     ]
    },
    {
     "name": "stdout",
     "output_type": "stream",
     "text": [
      "[INFO 20240913-13-58-49 p14601 flush clog.py:115] 100%|##########| 1/1 [00:00<00:00,  2.82it/s]\n",
      "[INFO 20240913-13-58-49 p14601 flush clog.py:115] \n",
      "[INFO 20240913-13-58-49 p14601 flush clog.py:115] 0%|          | 0/1 [00:00<?, ?it/s]\n",
      "[INFO 20240913-13-58-49 p14601 flush clog.py:115] \u001b[A\n"
     ]
    },
    {
     "name": "stderr",
     "output_type": "stream",
     "text": [
      "stardist:  67%|██████▋   | 186/276 [01:30<00:41,  2.18it/s]"
     ]
    },
    {
     "name": "stdout",
     "output_type": "stream",
     "text": [
      "[INFO 20240913-13-58-50 p14601 flush clog.py:115] 100%|##########| 1/1 [00:00<00:00,  2.78it/s]\n",
      "[INFO 20240913-13-58-50 p14601 flush clog.py:115] \n",
      "[INFO 20240913-13-58-50 p14601 flush clog.py:115] 0%|          | 0/1 [00:00<?, ?it/s]\n",
      "[INFO 20240913-13-58-50 p14601 flush clog.py:115] \u001b[A\n"
     ]
    },
    {
     "name": "stderr",
     "output_type": "stream",
     "text": [
      "stardist:  68%|██████▊   | 187/276 [01:30<00:38,  2.30it/s]"
     ]
    },
    {
     "name": "stdout",
     "output_type": "stream",
     "text": [
      "[INFO 20240913-13-58-50 p14601 flush clog.py:115] 100%|##########| 1/1 [00:00<00:00,  2.82it/s]\n"
     ]
    },
    {
     "name": "stderr",
     "output_type": "stream",
     "text": [
      "stardist:  68%|██████▊   | 188/276 [01:32<01:13,  1.20it/s]"
     ]
    },
    {
     "name": "stdout",
     "output_type": "stream",
     "text": [
      "[INFO 20240913-13-58-52 p14601 flush clog.py:115] \n",
      "[INFO 20240913-13-58-52 p14601 flush clog.py:115] 0%|          | 0/1 [00:00<?, ?it/s]\n",
      "[INFO 20240913-13-58-52 p14601 flush clog.py:115] \u001b[A\n",
      "[INFO 20240913-13-58-52 p14601 flush clog.py:115] 100%|##########| 1/1 [00:00<00:00,  2.83it/s]\n",
      "[INFO 20240913-13-58-52 p14601 flush clog.py:115] \n",
      "[INFO 20240913-13-58-52 p14601 flush clog.py:115] 0%|          | 0/1 [00:00<?, ?it/s]\n",
      "[INFO 20240913-13-58-52 p14601 flush clog.py:115] \u001b[A\n"
     ]
    },
    {
     "name": "stderr",
     "output_type": "stream",
     "text": [
      "stardist:  68%|██████▊   | 189/276 [01:33<01:00,  1.43it/s]"
     ]
    },
    {
     "name": "stdout",
     "output_type": "stream",
     "text": [
      "[INFO 20240913-13-58-52 p14601 flush clog.py:115] 100%|##########| 1/1 [00:00<00:00,  2.81it/s]\n",
      "[INFO 20240913-13-58-52 p14601 flush clog.py:115] \n",
      "[INFO 20240913-13-58-52 p14601 flush clog.py:115] 0%|          | 0/1 [00:00<?, ?it/s]\n",
      "[INFO 20240913-13-58-52 p14601 flush clog.py:115] \u001b[A\n"
     ]
    },
    {
     "name": "stderr",
     "output_type": "stream",
     "text": [
      "stardist:  69%|██████▉   | 190/276 [01:33<00:51,  1.66it/s]"
     ]
    },
    {
     "name": "stdout",
     "output_type": "stream",
     "text": [
      "[INFO 20240913-13-58-53 p14601 flush clog.py:115] 100%|##########| 1/1 [00:00<00:00,  2.81it/s]\n",
      "[INFO 20240913-13-58-53 p14601 flush clog.py:115] \n",
      "[INFO 20240913-13-58-53 p14601 flush clog.py:115] 0%|          | 0/1 [00:00<?, ?it/s]\n",
      "[INFO 20240913-13-58-53 p14601 flush clog.py:115] \u001b[A\n"
     ]
    },
    {
     "name": "stderr",
     "output_type": "stream",
     "text": [
      "stardist:  69%|██████▉   | 191/276 [01:33<00:45,  1.88it/s]"
     ]
    },
    {
     "name": "stdout",
     "output_type": "stream",
     "text": [
      "[INFO 20240913-13-58-53 p14601 flush clog.py:115] 100%|##########| 1/1 [00:00<00:00,  2.83it/s]\n",
      "[INFO 20240913-13-58-53 p14601 flush clog.py:115] \n",
      "[INFO 20240913-13-58-53 p14601 flush clog.py:115] 0%|          | 0/1 [00:00<?, ?it/s]\n",
      "[INFO 20240913-13-58-53 p14601 flush clog.py:115] \u001b[A\n"
     ]
    },
    {
     "name": "stderr",
     "output_type": "stream",
     "text": [
      "stardist:  70%|██████▉   | 192/276 [01:34<00:40,  2.06it/s]"
     ]
    },
    {
     "name": "stdout",
     "output_type": "stream",
     "text": [
      "[INFO 20240913-13-58-53 p14601 flush clog.py:115] 100%|##########| 1/1 [00:00<00:00,  2.79it/s]\n",
      "[INFO 20240913-13-58-54 p14601 flush clog.py:115] \n",
      "[INFO 20240913-13-58-54 p14601 flush clog.py:115] 0%|          | 0/1 [00:00<?, ?it/s]\n",
      "[INFO 20240913-13-58-54 p14601 flush clog.py:115] \u001b[A\n"
     ]
    },
    {
     "name": "stderr",
     "output_type": "stream",
     "text": [
      "stardist:  70%|██████▉   | 193/276 [01:34<00:37,  2.21it/s]"
     ]
    },
    {
     "name": "stdout",
     "output_type": "stream",
     "text": [
      "[INFO 20240913-13-58-54 p14601 flush clog.py:115] 100%|##########| 1/1 [00:00<00:00,  2.81it/s]\n",
      "[INFO 20240913-13-58-54 p14601 flush clog.py:115] \n",
      "[INFO 20240913-13-58-54 p14601 flush clog.py:115] 0%|          | 0/1 [00:00<?, ?it/s]\n",
      "[INFO 20240913-13-58-54 p14601 flush clog.py:115] \u001b[A\n"
     ]
    },
    {
     "name": "stderr",
     "output_type": "stream",
     "text": [
      "stardist:  70%|███████   | 194/276 [01:35<00:39,  2.07it/s]"
     ]
    },
    {
     "name": "stdout",
     "output_type": "stream",
     "text": [
      "[INFO 20240913-13-58-54 p14601 flush clog.py:115] 100%|##########| 1/1 [00:00<00:00,  2.81it/s]\n",
      "[INFO 20240913-13-58-54 p14601 flush clog.py:115] \n",
      "[INFO 20240913-13-58-54 p14601 flush clog.py:115] 0%|          | 0/1 [00:00<?, ?it/s]\n",
      "[INFO 20240913-13-58-54 p14601 flush clog.py:115] \u001b[A\n"
     ]
    },
    {
     "name": "stderr",
     "output_type": "stream",
     "text": [
      "stardist:  71%|███████   | 195/276 [01:35<00:36,  2.22it/s]"
     ]
    },
    {
     "name": "stdout",
     "output_type": "stream",
     "text": [
      "[INFO 20240913-13-58-55 p14601 flush clog.py:115] 100%|##########| 1/1 [00:00<00:00,  2.82it/s]\n",
      "[INFO 20240913-13-58-55 p14601 flush clog.py:115] \n",
      "[INFO 20240913-13-58-55 p14601 flush clog.py:115] 0%|          | 0/1 [00:00<?, ?it/s]\n",
      "[INFO 20240913-13-58-55 p14601 flush clog.py:115] \u001b[A\n"
     ]
    },
    {
     "name": "stderr",
     "output_type": "stream",
     "text": [
      "stardist:  71%|███████   | 196/276 [01:35<00:34,  2.35it/s]"
     ]
    },
    {
     "name": "stdout",
     "output_type": "stream",
     "text": [
      "[INFO 20240913-13-58-55 p14601 flush clog.py:115] 100%|##########| 1/1 [00:00<00:00,  2.71it/s]\n",
      "[INFO 20240913-13-58-55 p14601 flush clog.py:115] \n",
      "[INFO 20240913-13-58-55 p14601 flush clog.py:115] 0%|          | 0/1 [00:00<?, ?it/s]\n",
      "[INFO 20240913-13-58-55 p14601 flush clog.py:115] \u001b[A\n"
     ]
    },
    {
     "name": "stderr",
     "output_type": "stream",
     "text": [
      "stardist:  71%|███████▏  | 197/276 [01:36<00:32,  2.42it/s]"
     ]
    },
    {
     "name": "stdout",
     "output_type": "stream",
     "text": [
      "[INFO 20240913-13-58-56 p14601 flush clog.py:115] 100%|##########| 1/1 [00:00<00:00,  2.90it/s]\n"
     ]
    },
    {
     "name": "stderr",
     "output_type": "stream",
     "text": [
      "stardist:  72%|███████▏  | 198/276 [01:37<01:00,  1.28it/s]"
     ]
    },
    {
     "name": "stdout",
     "output_type": "stream",
     "text": [
      "[INFO 20240913-13-58-57 p14601 flush clog.py:115] \n",
      "[INFO 20240913-13-58-57 p14601 flush clog.py:115] 0%|          | 0/1 [00:00<?, ?it/s]\n",
      "[INFO 20240913-13-58-57 p14601 flush clog.py:115] \u001b[A\n",
      "[INFO 20240913-13-58-57 p14601 flush clog.py:115] 100%|##########| 1/1 [00:00<00:00,  2.81it/s]\n",
      "[INFO 20240913-13-58-57 p14601 flush clog.py:115] \n",
      "[INFO 20240913-13-58-57 p14601 flush clog.py:115] 0%|          | 0/1 [00:00<?, ?it/s]\n",
      "[INFO 20240913-13-58-57 p14601 flush clog.py:115] \u001b[A\n"
     ]
    },
    {
     "name": "stderr",
     "output_type": "stream",
     "text": [
      "stardist:  72%|███████▏  | 199/276 [01:38<00:50,  1.52it/s]"
     ]
    },
    {
     "name": "stdout",
     "output_type": "stream",
     "text": [
      "[INFO 20240913-13-58-58 p14601 flush clog.py:115] 100%|##########| 1/1 [00:00<00:00,  2.85it/s]\n",
      "[INFO 20240913-13-58-58 p14601 flush clog.py:115] \n",
      "[INFO 20240913-13-58-58 p14601 flush clog.py:115] 0%|          | 0/1 [00:00<?, ?it/s]\n",
      "[INFO 20240913-13-58-58 p14601 flush clog.py:115] \u001b[A\n"
     ]
    },
    {
     "name": "stderr",
     "output_type": "stream",
     "text": [
      "stardist:  72%|███████▏  | 200/276 [01:38<00:43,  1.75it/s]"
     ]
    },
    {
     "name": "stdout",
     "output_type": "stream",
     "text": [
      "[INFO 20240913-13-58-58 p14601 flush clog.py:115] 100%|##########| 1/1 [00:00<00:00,  2.65it/s]\n",
      "[INFO 20240913-13-58-58 p14601 flush clog.py:115] \n",
      "[INFO 20240913-13-58-58 p14601 flush clog.py:115] 0%|          | 0/1 [00:00<?, ?it/s]\n",
      "[INFO 20240913-13-58-58 p14601 flush clog.py:115] \u001b[A\n"
     ]
    },
    {
     "name": "stderr",
     "output_type": "stream",
     "text": [
      "stardist:  73%|███████▎  | 201/276 [01:38<00:38,  1.93it/s]"
     ]
    },
    {
     "name": "stdout",
     "output_type": "stream",
     "text": [
      "[INFO 20240913-13-58-58 p14601 flush clog.py:115] 100%|##########| 1/1 [00:00<00:00,  2.90it/s]\n",
      "[INFO 20240913-13-58-58 p14601 flush clog.py:115] \n",
      "[INFO 20240913-13-58-58 p14601 flush clog.py:115] 0%|          | 0/1 [00:00<?, ?it/s]\n",
      "[INFO 20240913-13-58-58 p14601 flush clog.py:115] \u001b[A\n"
     ]
    },
    {
     "name": "stderr",
     "output_type": "stream",
     "text": [
      "stardist:  73%|███████▎  | 202/276 [01:39<00:34,  2.13it/s]"
     ]
    },
    {
     "name": "stdout",
     "output_type": "stream",
     "text": [
      "[INFO 20240913-13-58-59 p14601 flush clog.py:115] 100%|##########| 1/1 [00:00<00:00,  2.79it/s]\n",
      "[INFO 20240913-13-58-59 p14601 flush clog.py:115] \n",
      "[INFO 20240913-13-58-59 p14601 flush clog.py:115] 0%|          | 0/1 [00:00<?, ?it/s]\n",
      "[INFO 20240913-13-58-59 p14601 flush clog.py:115] \u001b[A\n"
     ]
    },
    {
     "name": "stderr",
     "output_type": "stream",
     "text": [
      "stardist:  74%|███████▎  | 203/276 [01:39<00:32,  2.27it/s]"
     ]
    },
    {
     "name": "stdout",
     "output_type": "stream",
     "text": [
      "[INFO 20240913-13-58-59 p14601 flush clog.py:115] 100%|##########| 1/1 [00:00<00:00,  2.81it/s]\n",
      "[INFO 20240913-13-58-59 p14601 flush clog.py:115] \n",
      "[INFO 20240913-13-58-59 p14601 flush clog.py:115] 0%|          | 0/1 [00:00<?, ?it/s]\n",
      "[INFO 20240913-13-58-59 p14601 flush clog.py:115] \u001b[A\n"
     ]
    },
    {
     "name": "stderr",
     "output_type": "stream",
     "text": [
      "stardist:  74%|███████▍  | 204/276 [01:40<00:30,  2.38it/s]"
     ]
    },
    {
     "name": "stdout",
     "output_type": "stream",
     "text": [
      "[INFO 20240913-13-58-59 p14601 flush clog.py:115] 100%|##########| 1/1 [00:00<00:00,  2.78it/s]\n",
      "[INFO 20240913-13-58-59 p14601 flush clog.py:115] \n",
      "[INFO 20240913-13-58-59 p14601 flush clog.py:115] 0%|          | 0/1 [00:00<?, ?it/s]\n",
      "[INFO 20240913-13-58-59 p14601 flush clog.py:115] \u001b[A\n"
     ]
    },
    {
     "name": "stderr",
     "output_type": "stream",
     "text": [
      "stardist:  74%|███████▍  | 205/276 [01:40<00:29,  2.43it/s]"
     ]
    },
    {
     "name": "stdout",
     "output_type": "stream",
     "text": [
      "[INFO 20240913-13-59-00 p14601 flush clog.py:115] 100%|##########| 1/1 [00:00<00:00,  2.78it/s]\n",
      "[INFO 20240913-13-59-00 p14601 flush clog.py:115] \n",
      "[INFO 20240913-13-59-00 p14601 flush clog.py:115] 0%|          | 0/1 [00:00<?, ?it/s]\n",
      "[INFO 20240913-13-59-00 p14601 flush clog.py:115] \u001b[A\n"
     ]
    },
    {
     "name": "stderr",
     "output_type": "stream",
     "text": [
      "stardist:  75%|███████▍  | 206/276 [01:40<00:28,  2.50it/s]"
     ]
    },
    {
     "name": "stdout",
     "output_type": "stream",
     "text": [
      "[INFO 20240913-13-59-00 p14601 flush clog.py:115] 100%|##########| 1/1 [00:00<00:00,  2.80it/s]\n",
      "[INFO 20240913-13-59-00 p14601 flush clog.py:115] \n",
      "[INFO 20240913-13-59-00 p14601 flush clog.py:115] 0%|          | 0/1 [00:00<?, ?it/s]\n",
      "[INFO 20240913-13-59-00 p14601 flush clog.py:115] \u001b[A\n"
     ]
    },
    {
     "name": "stderr",
     "output_type": "stream",
     "text": [
      "stardist:  75%|███████▌  | 207/276 [01:41<00:27,  2.55it/s]"
     ]
    },
    {
     "name": "stdout",
     "output_type": "stream",
     "text": [
      "[INFO 20240913-13-59-01 p14601 flush clog.py:115] 100%|##########| 1/1 [00:00<00:00,  2.84it/s]\n",
      "[INFO 20240913-13-59-01 p14601 flush clog.py:115] \n",
      "[INFO 20240913-13-59-01 p14601 flush clog.py:115] 0%|          | 0/1 [00:00<?, ?it/s]\n",
      "[INFO 20240913-13-59-01 p14601 flush clog.py:115] \u001b[A\n"
     ]
    },
    {
     "name": "stderr",
     "output_type": "stream",
     "text": [
      "stardist:  75%|███████▌  | 208/276 [01:41<00:26,  2.60it/s]"
     ]
    },
    {
     "name": "stdout",
     "output_type": "stream",
     "text": [
      "[INFO 20240913-13-59-01 p14601 flush clog.py:115] 100%|##########| 1/1 [00:00<00:00,  2.78it/s]\n",
      "[INFO 20240913-13-59-01 p14601 flush clog.py:115] \n",
      "[INFO 20240913-13-59-01 p14601 flush clog.py:115] 0%|          | 0/1 [00:00<?, ?it/s]\n",
      "[INFO 20240913-13-59-01 p14601 flush clog.py:115] \u001b[A\n"
     ]
    },
    {
     "name": "stderr",
     "output_type": "stream",
     "text": [
      "stardist:  76%|███████▌  | 209/276 [01:41<00:25,  2.61it/s]"
     ]
    },
    {
     "name": "stdout",
     "output_type": "stream",
     "text": [
      "[INFO 20240913-13-59-01 p14601 flush clog.py:115] 100%|##########| 1/1 [00:00<00:00,  2.88it/s]\n",
      "[INFO 20240913-13-59-01 p14601 flush clog.py:115] \n",
      "[INFO 20240913-13-59-01 p14601 flush clog.py:115] 0%|          | 0/1 [00:00<?, ?it/s]\n",
      "[INFO 20240913-13-59-01 p14601 flush clog.py:115] \u001b[A\n"
     ]
    },
    {
     "name": "stderr",
     "output_type": "stream",
     "text": [
      "stardist:  76%|███████▌  | 210/276 [01:42<00:24,  2.65it/s]"
     ]
    },
    {
     "name": "stdout",
     "output_type": "stream",
     "text": [
      "[INFO 20240913-13-59-02 p14601 flush clog.py:115] 100%|##########| 1/1 [00:00<00:00,  2.81it/s]\n",
      "[INFO 20240913-13-59-02 p14601 flush clog.py:115] \n",
      "[INFO 20240913-13-59-02 p14601 flush clog.py:115] 0%|          | 0/1 [00:00<?, ?it/s]\n",
      "[INFO 20240913-13-59-02 p14601 flush clog.py:115] \u001b[A\n"
     ]
    },
    {
     "name": "stderr",
     "output_type": "stream",
     "text": [
      "stardist:  76%|███████▋  | 211/276 [01:42<00:24,  2.66it/s]"
     ]
    },
    {
     "name": "stdout",
     "output_type": "stream",
     "text": [
      "[INFO 20240913-13-59-02 p14601 flush clog.py:115] 100%|##########| 1/1 [00:00<00:00,  2.77it/s]\n",
      "[INFO 20240913-13-59-02 p14601 flush clog.py:115] \n",
      "[INFO 20240913-13-59-02 p14601 flush clog.py:115] 0%|          | 0/1 [00:00<?, ?it/s]\n",
      "[INFO 20240913-13-59-02 p14601 flush clog.py:115] \u001b[A\n"
     ]
    },
    {
     "name": "stderr",
     "output_type": "stream",
     "text": [
      "stardist:  77%|███████▋  | 212/276 [01:43<00:24,  2.65it/s]"
     ]
    },
    {
     "name": "stdout",
     "output_type": "stream",
     "text": [
      "[INFO 20240913-13-59-02 p14601 flush clog.py:115] 100%|##########| 1/1 [00:00<00:00,  2.83it/s]\n"
     ]
    },
    {
     "name": "stderr",
     "output_type": "stream",
     "text": [
      "stardist:  77%|███████▋  | 213/276 [01:43<00:23,  2.66it/s]"
     ]
    },
    {
     "name": "stdout",
     "output_type": "stream",
     "text": [
      "[INFO 20240913-13-59-03 p14601 flush clog.py:115] \n",
      "[INFO 20240913-13-59-03 p14601 flush clog.py:115] 0%|          | 0/1 [00:00<?, ?it/s]\n",
      "[INFO 20240913-13-59-03 p14601 flush clog.py:115] \u001b[A\n",
      "[INFO 20240913-13-59-04 p14601 flush clog.py:115] 100%|##########| 1/1 [00:00<00:00,  2.82it/s]\n",
      "[INFO 20240913-13-59-04 p14601 flush clog.py:115] \n",
      "[INFO 20240913-13-59-04 p14601 flush clog.py:115] 0%|          | 0/1 [00:00<?, ?it/s]\n",
      "[INFO 20240913-13-59-04 p14601 flush clog.py:115] \u001b[A\n"
     ]
    },
    {
     "name": "stderr",
     "output_type": "stream",
     "text": [
      "stardist:  78%|███████▊  | 214/276 [01:44<00:36,  1.69it/s]"
     ]
    },
    {
     "name": "stdout",
     "output_type": "stream",
     "text": [
      "[INFO 20240913-13-59-04 p14601 flush clog.py:115] 100%|##########| 1/1 [00:00<00:00,  2.82it/s]\n",
      "[INFO 20240913-13-59-04 p14601 flush clog.py:115] \n",
      "[INFO 20240913-13-59-04 p14601 flush clog.py:115] 0%|          | 0/1 [00:00<?, ?it/s]\n",
      "[INFO 20240913-13-59-04 p14601 flush clog.py:115] \u001b[A\n"
     ]
    },
    {
     "name": "stderr",
     "output_type": "stream",
     "text": [
      "stardist:  78%|███████▊  | 215/276 [01:44<00:32,  1.90it/s]"
     ]
    },
    {
     "name": "stdout",
     "output_type": "stream",
     "text": [
      "[INFO 20240913-13-59-04 p14601 flush clog.py:115] 100%|##########| 1/1 [00:00<00:00,  2.75it/s]\n",
      "[INFO 20240913-13-59-04 p14601 flush clog.py:115] \n",
      "[INFO 20240913-13-59-04 p14601 flush clog.py:115] 0%|          | 0/1 [00:00<?, ?it/s]\n",
      "[INFO 20240913-13-59-04 p14601 flush clog.py:115] \u001b[A\n"
     ]
    },
    {
     "name": "stderr",
     "output_type": "stream",
     "text": [
      "stardist:  78%|███████▊  | 216/276 [01:45<00:28,  2.08it/s]"
     ]
    },
    {
     "name": "stdout",
     "output_type": "stream",
     "text": [
      "[INFO 20240913-13-59-05 p14601 flush clog.py:115] 100%|##########| 1/1 [00:00<00:00,  2.81it/s]\n",
      "[INFO 20240913-13-59-05 p14601 flush clog.py:115] \n",
      "[INFO 20240913-13-59-05 p14601 flush clog.py:115] 0%|          | 0/1 [00:00<?, ?it/s]\n",
      "[INFO 20240913-13-59-05 p14601 flush clog.py:115] \u001b[A\n"
     ]
    },
    {
     "name": "stderr",
     "output_type": "stream",
     "text": [
      "stardist:  79%|███████▊  | 217/276 [01:45<00:26,  2.23it/s]"
     ]
    },
    {
     "name": "stdout",
     "output_type": "stream",
     "text": [
      "[INFO 20240913-13-59-05 p14601 flush clog.py:115] 100%|##########| 1/1 [00:00<00:00,  2.81it/s]\n",
      "[INFO 20240913-13-59-05 p14601 flush clog.py:115] \n",
      "[INFO 20240913-13-59-05 p14601 flush clog.py:115] 0%|          | 0/1 [00:00<?, ?it/s]\n",
      "[INFO 20240913-13-59-05 p14601 flush clog.py:115] \u001b[A\n"
     ]
    },
    {
     "name": "stderr",
     "output_type": "stream",
     "text": [
      "stardist:  79%|███████▉  | 218/276 [01:46<00:24,  2.35it/s]"
     ]
    },
    {
     "name": "stdout",
     "output_type": "stream",
     "text": [
      "[INFO 20240913-13-59-05 p14601 flush clog.py:115] 100%|##########| 1/1 [00:00<00:00,  2.80it/s]\n",
      "[INFO 20240913-13-59-06 p14601 flush clog.py:115] \n",
      "[INFO 20240913-13-59-06 p14601 flush clog.py:115] 0%|          | 0/1 [00:00<?, ?it/s]\n",
      "[INFO 20240913-13-59-06 p14601 flush clog.py:115] \u001b[A\n"
     ]
    },
    {
     "name": "stderr",
     "output_type": "stream",
     "text": [
      "stardist:  79%|███████▉  | 219/276 [01:46<00:23,  2.44it/s]"
     ]
    },
    {
     "name": "stdout",
     "output_type": "stream",
     "text": [
      "[INFO 20240913-13-59-06 p14601 flush clog.py:115] 100%|##########| 1/1 [00:00<00:00,  2.77it/s]\n",
      "[INFO 20240913-13-59-06 p14601 flush clog.py:115] \n",
      "[INFO 20240913-13-59-06 p14601 flush clog.py:115] 0%|          | 0/1 [00:00<?, ?it/s]\n",
      "[INFO 20240913-13-59-06 p14601 flush clog.py:115] \u001b[A\n"
     ]
    },
    {
     "name": "stderr",
     "output_type": "stream",
     "text": [
      "stardist:  80%|███████▉  | 220/276 [01:46<00:24,  2.30it/s]"
     ]
    },
    {
     "name": "stdout",
     "output_type": "stream",
     "text": [
      "[INFO 20240913-13-59-06 p14601 flush clog.py:115] 100%|##########| 1/1 [00:00<00:00,  2.83it/s]\n",
      "[INFO 20240913-13-59-06 p14601 flush clog.py:115] \n",
      "[INFO 20240913-13-59-06 p14601 flush clog.py:115] 0%|          | 0/1 [00:00<?, ?it/s]\n",
      "[INFO 20240913-13-59-06 p14601 flush clog.py:115] \u001b[A\n"
     ]
    },
    {
     "name": "stderr",
     "output_type": "stream",
     "text": [
      "stardist:  80%|████████  | 221/276 [01:47<00:22,  2.41it/s]"
     ]
    },
    {
     "name": "stdout",
     "output_type": "stream",
     "text": [
      "[INFO 20240913-13-59-07 p14601 flush clog.py:115] 100%|##########| 1/1 [00:00<00:00,  2.74it/s]\n",
      "[INFO 20240913-13-59-07 p14601 flush clog.py:115] \n",
      "[INFO 20240913-13-59-07 p14601 flush clog.py:115] 0%|          | 0/1 [00:00<?, ?it/s]\n",
      "[INFO 20240913-13-59-07 p14601 flush clog.py:115] \u001b[A\n"
     ]
    },
    {
     "name": "stderr",
     "output_type": "stream",
     "text": [
      "stardist:  80%|████████  | 222/276 [01:47<00:21,  2.47it/s]"
     ]
    },
    {
     "name": "stdout",
     "output_type": "stream",
     "text": [
      "[INFO 20240913-13-59-07 p14601 flush clog.py:115] 100%|##########| 1/1 [00:00<00:00,  2.78it/s]\n",
      "[INFO 20240913-13-59-07 p14601 flush clog.py:115] \n",
      "[INFO 20240913-13-59-07 p14601 flush clog.py:115] 0%|          | 0/1 [00:00<?, ?it/s]\n",
      "[INFO 20240913-13-59-07 p14601 flush clog.py:115] \u001b[A\n"
     ]
    },
    {
     "name": "stderr",
     "output_type": "stream",
     "text": [
      "stardist:  81%|████████  | 223/276 [01:48<00:21,  2.52it/s]"
     ]
    },
    {
     "name": "stdout",
     "output_type": "stream",
     "text": [
      "[INFO 20240913-13-59-07 p14601 flush clog.py:115] 100%|##########| 1/1 [00:00<00:00,  2.79it/s]\n",
      "[INFO 20240913-13-59-07 p14601 flush clog.py:115] \n",
      "[INFO 20240913-13-59-07 p14601 flush clog.py:115] 0%|          | 0/1 [00:00<?, ?it/s]\n",
      "[INFO 20240913-13-59-07 p14601 flush clog.py:115] \u001b[A\n"
     ]
    },
    {
     "name": "stderr",
     "output_type": "stream",
     "text": [
      "stardist:  81%|████████  | 224/276 [01:48<00:20,  2.56it/s]"
     ]
    },
    {
     "name": "stdout",
     "output_type": "stream",
     "text": [
      "[INFO 20240913-13-59-08 p14601 flush clog.py:115] 100%|##########| 1/1 [00:00<00:00,  2.76it/s]\n",
      "[INFO 20240913-13-59-08 p14601 flush clog.py:115] \n",
      "[INFO 20240913-13-59-08 p14601 flush clog.py:115] 0%|          | 0/1 [00:00<?, ?it/s]\n",
      "[INFO 20240913-13-59-08 p14601 flush clog.py:115] \u001b[A\n"
     ]
    },
    {
     "name": "stderr",
     "output_type": "stream",
     "text": [
      "stardist:  82%|████████▏ | 225/276 [01:48<00:19,  2.59it/s]"
     ]
    },
    {
     "name": "stdout",
     "output_type": "stream",
     "text": [
      "[INFO 20240913-13-59-08 p14601 flush clog.py:115] 100%|##########| 1/1 [00:00<00:00,  2.90it/s]\n",
      "[INFO 20240913-13-59-08 p14601 flush clog.py:115] \n",
      "[INFO 20240913-13-59-08 p14601 flush clog.py:115] 0%|          | 0/1 [00:00<?, ?it/s]\n",
      "[INFO 20240913-13-59-08 p14601 flush clog.py:115] \u001b[A\n"
     ]
    },
    {
     "name": "stderr",
     "output_type": "stream",
     "text": [
      "stardist:  82%|████████▏ | 226/276 [01:49<00:18,  2.64it/s]"
     ]
    },
    {
     "name": "stdout",
     "output_type": "stream",
     "text": [
      "[INFO 20240913-13-59-08 p14601 flush clog.py:115] 100%|##########| 1/1 [00:00<00:00,  2.82it/s]\n",
      "[INFO 20240913-13-59-08 p14601 flush clog.py:115] \n",
      "[INFO 20240913-13-59-08 p14601 flush clog.py:115] 0%|          | 0/1 [00:00<?, ?it/s]\n",
      "[INFO 20240913-13-59-08 p14601 flush clog.py:115] \u001b[A\n"
     ]
    },
    {
     "name": "stderr",
     "output_type": "stream",
     "text": [
      "stardist:  82%|████████▏ | 227/276 [01:49<00:18,  2.66it/s]"
     ]
    },
    {
     "name": "stdout",
     "output_type": "stream",
     "text": [
      "[INFO 20240913-13-59-09 p14601 flush clog.py:115] 100%|##########| 1/1 [00:00<00:00,  2.79it/s]\n",
      "[INFO 20240913-13-59-09 p14601 flush clog.py:115] \n",
      "[INFO 20240913-13-59-09 p14601 flush clog.py:115] 0%|          | 0/1 [00:00<?, ?it/s]\n",
      "[INFO 20240913-13-59-09 p14601 flush clog.py:115] \u001b[A\n"
     ]
    },
    {
     "name": "stderr",
     "output_type": "stream",
     "text": [
      "stardist:  83%|████████▎ | 228/276 [01:49<00:18,  2.66it/s]"
     ]
    },
    {
     "name": "stdout",
     "output_type": "stream",
     "text": [
      "[INFO 20240913-13-59-09 p14601 flush clog.py:115] 100%|##########| 1/1 [00:00<00:00,  2.86it/s]\n",
      "[INFO 20240913-13-59-09 p14601 flush clog.py:115] \n",
      "[INFO 20240913-13-59-09 p14601 flush clog.py:115] 0%|          | 0/1 [00:00<?, ?it/s]\n",
      "[INFO 20240913-13-59-09 p14601 flush clog.py:115] \u001b[A\n"
     ]
    },
    {
     "name": "stderr",
     "output_type": "stream",
     "text": [
      "stardist:  83%|████████▎ | 229/276 [01:50<00:17,  2.68it/s]"
     ]
    },
    {
     "name": "stdout",
     "output_type": "stream",
     "text": [
      "[INFO 20240913-13-59-10 p14601 flush clog.py:115] 100%|##########| 1/1 [00:00<00:00,  2.85it/s]\n",
      "[INFO 20240913-13-59-10 p14601 flush clog.py:115] \n",
      "[INFO 20240913-13-59-10 p14601 flush clog.py:115] 0%|          | 0/1 [00:00<?, ?it/s]\n",
      "[INFO 20240913-13-59-10 p14601 flush clog.py:115] \u001b[A\n"
     ]
    },
    {
     "name": "stderr",
     "output_type": "stream",
     "text": [
      "stardist:  83%|████████▎ | 230/276 [01:50<00:17,  2.69it/s]"
     ]
    },
    {
     "name": "stdout",
     "output_type": "stream",
     "text": [
      "[INFO 20240913-13-59-10 p14601 flush clog.py:115] 100%|##########| 1/1 [00:00<00:00,  2.86it/s]\n",
      "[INFO 20240913-13-59-10 p14601 flush clog.py:115] \n",
      "[INFO 20240913-13-59-10 p14601 flush clog.py:115] 0%|          | 0/1 [00:00<?, ?it/s]\n",
      "[INFO 20240913-13-59-10 p14601 flush clog.py:115] \u001b[A\n"
     ]
    },
    {
     "name": "stderr",
     "output_type": "stream",
     "text": [
      "stardist:  84%|████████▎ | 231/276 [01:50<00:16,  2.71it/s]"
     ]
    },
    {
     "name": "stdout",
     "output_type": "stream",
     "text": [
      "[INFO 20240913-13-59-10 p14601 flush clog.py:115] 100%|##########| 1/1 [00:00<00:00,  2.88it/s]\n",
      "[INFO 20240913-13-59-10 p14601 flush clog.py:115] \n",
      "[INFO 20240913-13-59-10 p14601 flush clog.py:115] 0%|          | 0/1 [00:00<?, ?it/s]\n",
      "[INFO 20240913-13-59-10 p14601 flush clog.py:115] \u001b[A\n"
     ]
    },
    {
     "name": "stderr",
     "output_type": "stream",
     "text": [
      "stardist:  84%|████████▍ | 232/276 [01:51<00:16,  2.72it/s]"
     ]
    },
    {
     "name": "stdout",
     "output_type": "stream",
     "text": [
      "[INFO 20240913-13-59-11 p14601 flush clog.py:115] 100%|##########| 1/1 [00:00<00:00,  2.81it/s]\n",
      "[INFO 20240913-13-59-11 p14601 flush clog.py:115] \n",
      "[INFO 20240913-13-59-11 p14601 flush clog.py:115] 0%|          | 0/1 [00:00<?, ?it/s]\n",
      "[INFO 20240913-13-59-11 p14601 flush clog.py:115] \u001b[A\n"
     ]
    },
    {
     "name": "stderr",
     "output_type": "stream",
     "text": [
      "stardist:  84%|████████▍ | 233/276 [01:51<00:16,  2.58it/s]"
     ]
    },
    {
     "name": "stdout",
     "output_type": "stream",
     "text": [
      "[INFO 20240913-13-59-11 p14601 flush clog.py:115] 100%|##########| 1/1 [00:00<00:00,  2.82it/s]\n",
      "[INFO 20240913-13-59-11 p14601 flush clog.py:115] \n",
      "[INFO 20240913-13-59-11 p14601 flush clog.py:115] 0%|          | 0/1 [00:00<?, ?it/s]\n",
      "[INFO 20240913-13-59-11 p14601 flush clog.py:115] \u001b[A\n"
     ]
    },
    {
     "name": "stderr",
     "output_type": "stream",
     "text": [
      "stardist:  85%|████████▍ | 234/276 [01:52<00:16,  2.60it/s]"
     ]
    },
    {
     "name": "stdout",
     "output_type": "stream",
     "text": [
      "[INFO 20240913-13-59-12 p14601 flush clog.py:115] 100%|##########| 1/1 [00:00<00:00,  2.77it/s]\n",
      "[INFO 20240913-13-59-12 p14601 flush clog.py:115] \n",
      "[INFO 20240913-13-59-12 p14601 flush clog.py:115] 0%|          | 0/1 [00:00<?, ?it/s]\n",
      "[INFO 20240913-13-59-12 p14601 flush clog.py:115] \u001b[A\n"
     ]
    },
    {
     "name": "stderr",
     "output_type": "stream",
     "text": [
      "stardist:  85%|████████▌ | 235/276 [01:52<00:15,  2.62it/s]"
     ]
    },
    {
     "name": "stdout",
     "output_type": "stream",
     "text": [
      "[INFO 20240913-13-59-12 p14601 flush clog.py:115] 100%|##########| 1/1 [00:00<00:00,  2.82it/s]\n",
      "[INFO 20240913-13-59-12 p14601 flush clog.py:115] \n",
      "[INFO 20240913-13-59-12 p14601 flush clog.py:115] 0%|          | 0/1 [00:00<?, ?it/s]\n",
      "[INFO 20240913-13-59-12 p14601 flush clog.py:115] \u001b[A\n"
     ]
    },
    {
     "name": "stderr",
     "output_type": "stream",
     "text": [
      "stardist:  86%|████████▌ | 236/276 [01:52<00:15,  2.63it/s]"
     ]
    },
    {
     "name": "stdout",
     "output_type": "stream",
     "text": [
      "[INFO 20240913-13-59-12 p14601 flush clog.py:115] 100%|##########| 1/1 [00:00<00:00,  2.79it/s]\n",
      "[INFO 20240913-13-59-12 p14601 flush clog.py:115] \n",
      "[INFO 20240913-13-59-12 p14601 flush clog.py:115] 0%|          | 0/1 [00:00<?, ?it/s]\n",
      "[INFO 20240913-13-59-12 p14601 flush clog.py:115] \u001b[A\n"
     ]
    },
    {
     "name": "stderr",
     "output_type": "stream",
     "text": [
      "stardist:  86%|████████▌ | 237/276 [01:53<00:14,  2.64it/s]"
     ]
    },
    {
     "name": "stdout",
     "output_type": "stream",
     "text": [
      "[INFO 20240913-13-59-13 p14601 flush clog.py:115] 100%|##########| 1/1 [00:00<00:00,  2.86it/s]\n",
      "[INFO 20240913-13-59-13 p14601 flush clog.py:115] \n",
      "[INFO 20240913-13-59-13 p14601 flush clog.py:115] 0%|          | 0/1 [00:00<?, ?it/s]\n",
      "[INFO 20240913-13-59-13 p14601 flush clog.py:115] \u001b[A\n"
     ]
    },
    {
     "name": "stderr",
     "output_type": "stream",
     "text": [
      "stardist:  86%|████████▌ | 238/276 [01:53<00:14,  2.67it/s]"
     ]
    },
    {
     "name": "stdout",
     "output_type": "stream",
     "text": [
      "[INFO 20240913-13-59-13 p14601 flush clog.py:115] 100%|##########| 1/1 [00:00<00:00,  2.70it/s]\n",
      "[INFO 20240913-13-59-13 p14601 flush clog.py:115] \n",
      "[INFO 20240913-13-59-13 p14601 flush clog.py:115] 0%|          | 0/1 [00:00<?, ?it/s]\n",
      "[INFO 20240913-13-59-13 p14601 flush clog.py:115] \u001b[A\n"
     ]
    },
    {
     "name": "stderr",
     "output_type": "stream",
     "text": [
      "stardist:  87%|████████▋ | 239/276 [01:54<00:14,  2.64it/s]"
     ]
    },
    {
     "name": "stdout",
     "output_type": "stream",
     "text": [
      "[INFO 20240913-13-59-13 p14601 flush clog.py:115] 100%|##########| 1/1 [00:00<00:00,  2.84it/s]\n",
      "[INFO 20240913-13-59-13 p14601 flush clog.py:115] \n",
      "[INFO 20240913-13-59-13 p14601 flush clog.py:115] 0%|          | 0/1 [00:00<?, ?it/s]\n",
      "[INFO 20240913-13-59-13 p14601 flush clog.py:115] \u001b[A\n"
     ]
    },
    {
     "name": "stderr",
     "output_type": "stream",
     "text": [
      "stardist:  87%|████████▋ | 240/276 [01:54<00:13,  2.66it/s]"
     ]
    },
    {
     "name": "stdout",
     "output_type": "stream",
     "text": [
      "[INFO 20240913-13-59-14 p14601 flush clog.py:115] 100%|##########| 1/1 [00:00<00:00,  2.82it/s]\n",
      "[INFO 20240913-13-59-14 p14601 flush clog.py:115] \n",
      "[INFO 20240913-13-59-14 p14601 flush clog.py:115] 0%|          | 0/1 [00:00<?, ?it/s]\n",
      "[INFO 20240913-13-59-14 p14601 flush clog.py:115] \u001b[A\n"
     ]
    },
    {
     "name": "stderr",
     "output_type": "stream",
     "text": [
      "stardist:  87%|████████▋ | 241/276 [01:54<00:13,  2.67it/s]"
     ]
    },
    {
     "name": "stdout",
     "output_type": "stream",
     "text": [
      "[INFO 20240913-13-59-14 p14601 flush clog.py:115] 100%|##########| 1/1 [00:00<00:00,  2.78it/s]\n",
      "[INFO 20240913-13-59-14 p14601 flush clog.py:115] \n",
      "[INFO 20240913-13-59-14 p14601 flush clog.py:115] 0%|          | 0/1 [00:00<?, ?it/s]\n",
      "[INFO 20240913-13-59-14 p14601 flush clog.py:115] \u001b[A\n"
     ]
    },
    {
     "name": "stderr",
     "output_type": "stream",
     "text": [
      "stardist:  88%|████████▊ | 242/276 [01:55<00:12,  2.66it/s]"
     ]
    },
    {
     "name": "stdout",
     "output_type": "stream",
     "text": [
      "[INFO 20240913-13-59-15 p14601 flush clog.py:115] 100%|##########| 1/1 [00:00<00:00,  2.81it/s]\n",
      "[INFO 20240913-13-59-15 p14601 flush clog.py:115] \n",
      "[INFO 20240913-13-59-15 p14601 flush clog.py:115] 0%|          | 0/1 [00:00<?, ?it/s]\n",
      "[INFO 20240913-13-59-15 p14601 flush clog.py:115] \u001b[A\n"
     ]
    },
    {
     "name": "stderr",
     "output_type": "stream",
     "text": [
      "stardist:  88%|████████▊ | 243/276 [01:55<00:12,  2.67it/s]"
     ]
    },
    {
     "name": "stdout",
     "output_type": "stream",
     "text": [
      "[INFO 20240913-13-59-15 p14601 flush clog.py:115] 100%|##########| 1/1 [00:00<00:00,  2.79it/s]\n",
      "[INFO 20240913-13-59-15 p14601 flush clog.py:115] \n",
      "[INFO 20240913-13-59-15 p14601 flush clog.py:115] 0%|          | 0/1 [00:00<?, ?it/s]\n",
      "[INFO 20240913-13-59-15 p14601 flush clog.py:115] \u001b[A\n"
     ]
    },
    {
     "name": "stderr",
     "output_type": "stream",
     "text": [
      "stardist:  88%|████████▊ | 244/276 [01:55<00:12,  2.66it/s]"
     ]
    },
    {
     "name": "stdout",
     "output_type": "stream",
     "text": [
      "[INFO 20240913-13-59-15 p14601 flush clog.py:115] 100%|##########| 1/1 [00:00<00:00,  2.87it/s]\n",
      "[INFO 20240913-13-59-15 p14601 flush clog.py:115] \n",
      "[INFO 20240913-13-59-15 p14601 flush clog.py:115] 0%|          | 0/1 [00:00<?, ?it/s]\n",
      "[INFO 20240913-13-59-15 p14601 flush clog.py:115] \u001b[A\n"
     ]
    },
    {
     "name": "stderr",
     "output_type": "stream",
     "text": [
      "stardist:  89%|████████▉ | 245/276 [01:56<00:11,  2.68it/s]"
     ]
    },
    {
     "name": "stdout",
     "output_type": "stream",
     "text": [
      "[INFO 20240913-13-59-16 p14601 flush clog.py:115] 100%|##########| 1/1 [00:00<00:00,  2.82it/s]\n"
     ]
    },
    {
     "name": "stderr",
     "output_type": "stream",
     "text": [
      "stardist:  89%|████████▉ | 246/276 [01:57<00:16,  1.78it/s]"
     ]
    },
    {
     "name": "stdout",
     "output_type": "stream",
     "text": [
      "[INFO 20240913-13-59-16 p14601 flush clog.py:115] \n",
      "[INFO 20240913-13-59-16 p14601 flush clog.py:115] 0%|          | 0/1 [00:00<?, ?it/s]\n",
      "[INFO 20240913-13-59-16 p14601 flush clog.py:115] \u001b[A\n",
      "[INFO 20240913-13-59-17 p14601 flush clog.py:115] 100%|##########| 1/1 [00:00<00:00,  2.71it/s]\n",
      "[INFO 20240913-13-59-17 p14601 flush clog.py:115] \n",
      "[INFO 20240913-13-59-17 p14601 flush clog.py:115] 0%|          | 0/1 [00:00<?, ?it/s]\n",
      "[INFO 20240913-13-59-17 p14601 flush clog.py:115] \u001b[A\n"
     ]
    },
    {
     "name": "stderr",
     "output_type": "stream",
     "text": [
      "stardist:  89%|████████▉ | 247/276 [01:57<00:14,  1.96it/s]"
     ]
    },
    {
     "name": "stdout",
     "output_type": "stream",
     "text": [
      "[INFO 20240913-13-59-17 p14601 flush clog.py:115] 100%|##########| 1/1 [00:00<00:00,  2.83it/s]\n",
      "[INFO 20240913-13-59-17 p14601 flush clog.py:115] \n",
      "[INFO 20240913-13-59-17 p14601 flush clog.py:115] 0%|          | 0/1 [00:00<?, ?it/s]\n",
      "[INFO 20240913-13-59-17 p14601 flush clog.py:115] \u001b[A\n"
     ]
    },
    {
     "name": "stderr",
     "output_type": "stream",
     "text": [
      "stardist:  90%|████████▉ | 248/276 [01:58<00:13,  2.14it/s]"
     ]
    },
    {
     "name": "stdout",
     "output_type": "stream",
     "text": [
      "[INFO 20240913-13-59-17 p14601 flush clog.py:115] 100%|##########| 1/1 [00:00<00:00,  2.77it/s]\n",
      "[INFO 20240913-13-59-17 p14601 flush clog.py:115] \n",
      "[INFO 20240913-13-59-17 p14601 flush clog.py:115] 0%|          | 0/1 [00:00<?, ?it/s]\n",
      "[INFO 20240913-13-59-17 p14601 flush clog.py:115] \u001b[A\n"
     ]
    },
    {
     "name": "stderr",
     "output_type": "stream",
     "text": [
      "stardist:  90%|█████████ | 249/276 [01:58<00:11,  2.27it/s]"
     ]
    },
    {
     "name": "stdout",
     "output_type": "stream",
     "text": [
      "[INFO 20240913-13-59-18 p14601 flush clog.py:115] 100%|##########| 1/1 [00:00<00:00,  2.89it/s]\n",
      "[INFO 20240913-13-59-18 p14601 flush clog.py:115] \n",
      "[INFO 20240913-13-59-18 p14601 flush clog.py:115] 0%|          | 0/1 [00:00<?, ?it/s]\n",
      "[INFO 20240913-13-59-18 p14601 flush clog.py:115] \u001b[A\n"
     ]
    },
    {
     "name": "stderr",
     "output_type": "stream",
     "text": [
      "stardist:  91%|█████████ | 250/276 [01:58<00:10,  2.39it/s]"
     ]
    },
    {
     "name": "stdout",
     "output_type": "stream",
     "text": [
      "[INFO 20240913-13-59-18 p14601 flush clog.py:115] 100%|##########| 1/1 [00:00<00:00,  2.78it/s]\n",
      "[INFO 20240913-13-59-18 p14601 flush clog.py:115] \n",
      "[INFO 20240913-13-59-18 p14601 flush clog.py:115] 0%|          | 0/1 [00:00<?, ?it/s]\n",
      "[INFO 20240913-13-59-18 p14601 flush clog.py:115] \u001b[A\n"
     ]
    },
    {
     "name": "stderr",
     "output_type": "stream",
     "text": [
      "stardist:  91%|█████████ | 251/276 [01:59<00:10,  2.46it/s]"
     ]
    },
    {
     "name": "stdout",
     "output_type": "stream",
     "text": [
      "[INFO 20240913-13-59-18 p14601 flush clog.py:115] 100%|##########| 1/1 [00:00<00:00,  2.89it/s]\n",
      "[INFO 20240913-13-59-19 p14601 flush clog.py:115] \n",
      "[INFO 20240913-13-59-19 p14601 flush clog.py:115] 0%|          | 0/1 [00:00<?, ?it/s]\n",
      "[INFO 20240913-13-59-19 p14601 flush clog.py:115] \u001b[A\n"
     ]
    },
    {
     "name": "stderr",
     "output_type": "stream",
     "text": [
      "stardist:  91%|█████████▏| 252/276 [01:59<00:09,  2.54it/s]"
     ]
    },
    {
     "name": "stdout",
     "output_type": "stream",
     "text": [
      "[INFO 20240913-13-59-19 p14601 flush clog.py:115] 100%|##########| 1/1 [00:00<00:00,  2.81it/s]\n",
      "[INFO 20240913-13-59-19 p14601 flush clog.py:115] \n",
      "[INFO 20240913-13-59-19 p14601 flush clog.py:115] 0%|          | 0/1 [00:00<?, ?it/s]\n",
      "[INFO 20240913-13-59-19 p14601 flush clog.py:115] \u001b[A\n"
     ]
    },
    {
     "name": "stderr",
     "output_type": "stream",
     "text": [
      "stardist:  92%|█████████▏| 253/276 [01:59<00:08,  2.58it/s]"
     ]
    },
    {
     "name": "stdout",
     "output_type": "stream",
     "text": [
      "[INFO 20240913-13-59-19 p14601 flush clog.py:115] 100%|##########| 1/1 [00:00<00:00,  2.79it/s]\n",
      "[INFO 20240913-13-59-19 p14601 flush clog.py:115] \n",
      "[INFO 20240913-13-59-19 p14601 flush clog.py:115] 0%|          | 0/1 [00:00<?, ?it/s]\n",
      "[INFO 20240913-13-59-19 p14601 flush clog.py:115] \u001b[A\n"
     ]
    },
    {
     "name": "stderr",
     "output_type": "stream",
     "text": [
      "stardist:  92%|█████████▏| 254/276 [02:00<00:08,  2.60it/s]"
     ]
    },
    {
     "name": "stdout",
     "output_type": "stream",
     "text": [
      "[INFO 20240913-13-59-20 p14601 flush clog.py:115] 100%|##########| 1/1 [00:00<00:00,  2.83it/s]\n",
      "[INFO 20240913-13-59-20 p14601 flush clog.py:115] \n",
      "[INFO 20240913-13-59-20 p14601 flush clog.py:115] 0%|          | 0/1 [00:00<?, ?it/s]\n",
      "[INFO 20240913-13-59-20 p14601 flush clog.py:115] \u001b[A\n"
     ]
    },
    {
     "name": "stderr",
     "output_type": "stream",
     "text": [
      "stardist:  92%|█████████▏| 255/276 [02:00<00:07,  2.63it/s]"
     ]
    },
    {
     "name": "stdout",
     "output_type": "stream",
     "text": [
      "[INFO 20240913-13-59-20 p14601 flush clog.py:115] 100%|##########| 1/1 [00:00<00:00,  2.83it/s]\n",
      "[INFO 20240913-13-59-20 p14601 flush clog.py:115] \n",
      "[INFO 20240913-13-59-20 p14601 flush clog.py:115] 0%|          | 0/1 [00:00<?, ?it/s]\n",
      "[INFO 20240913-13-59-20 p14601 flush clog.py:115] \u001b[A\n"
     ]
    },
    {
     "name": "stderr",
     "output_type": "stream",
     "text": [
      "stardist:  93%|█████████▎| 256/276 [02:01<00:07,  2.65it/s]"
     ]
    },
    {
     "name": "stdout",
     "output_type": "stream",
     "text": [
      "[INFO 20240913-13-59-20 p14601 flush clog.py:115] 100%|##########| 1/1 [00:00<00:00,  2.79it/s]\n",
      "[INFO 20240913-13-59-20 p14601 flush clog.py:115] \n",
      "[INFO 20240913-13-59-20 p14601 flush clog.py:115] 0%|          | 0/1 [00:00<?, ?it/s]\n",
      "[INFO 20240913-13-59-20 p14601 flush clog.py:115] \u001b[A\n"
     ]
    },
    {
     "name": "stderr",
     "output_type": "stream",
     "text": [
      "stardist:  93%|█████████▎| 257/276 [02:01<00:07,  2.66it/s]"
     ]
    },
    {
     "name": "stdout",
     "output_type": "stream",
     "text": [
      "[INFO 20240913-13-59-21 p14601 flush clog.py:115] 100%|##########| 1/1 [00:00<00:00,  2.70it/s]\n"
     ]
    },
    {
     "name": "stderr",
     "output_type": "stream",
     "text": [
      "stardist:  93%|█████████▎| 258/276 [02:02<00:09,  1.91it/s]"
     ]
    },
    {
     "name": "stdout",
     "output_type": "stream",
     "text": [
      "[INFO 20240913-13-59-21 p14601 flush clog.py:115] \n",
      "[INFO 20240913-13-59-21 p14601 flush clog.py:115] 0%|          | 0/1 [00:00<?, ?it/s]\n",
      "[INFO 20240913-13-59-21 p14601 flush clog.py:115] \u001b[A\n",
      "[INFO 20240913-13-59-22 p14601 flush clog.py:115] 100%|##########| 1/1 [00:00<00:00,  2.67it/s]\n",
      "[INFO 20240913-13-59-22 p14601 flush clog.py:115] \n",
      "[INFO 20240913-13-59-22 p14601 flush clog.py:115] 0%|          | 0/1 [00:00<?, ?it/s]\n",
      "[INFO 20240913-13-59-22 p14601 flush clog.py:115] \u001b[A\n"
     ]
    },
    {
     "name": "stderr",
     "output_type": "stream",
     "text": [
      "stardist:  94%|█████████▍| 259/276 [02:02<00:08,  2.06it/s]"
     ]
    },
    {
     "name": "stdout",
     "output_type": "stream",
     "text": [
      "[INFO 20240913-13-59-22 p14601 flush clog.py:115] 100%|##########| 1/1 [00:00<00:00,  2.84it/s]\n",
      "[INFO 20240913-13-59-22 p14601 flush clog.py:115] \n",
      "[INFO 20240913-13-59-22 p14601 flush clog.py:115] 0%|          | 0/1 [00:00<?, ?it/s]\n",
      "[INFO 20240913-13-59-22 p14601 flush clog.py:115] \u001b[A\n"
     ]
    },
    {
     "name": "stderr",
     "output_type": "stream",
     "text": [
      "stardist:  94%|█████████▍| 260/276 [02:03<00:07,  2.22it/s]"
     ]
    },
    {
     "name": "stdout",
     "output_type": "stream",
     "text": [
      "[INFO 20240913-13-59-22 p14601 flush clog.py:115] 100%|##########| 1/1 [00:00<00:00,  2.72it/s]\n",
      "[INFO 20240913-13-59-22 p14601 flush clog.py:115] \n",
      "[INFO 20240913-13-59-22 p14601 flush clog.py:115] 0%|          | 0/1 [00:00<?, ?it/s]\n",
      "[INFO 20240913-13-59-22 p14601 flush clog.py:115] \u001b[A\n"
     ]
    },
    {
     "name": "stderr",
     "output_type": "stream",
     "text": [
      "stardist:  95%|█████████▍| 261/276 [02:03<00:06,  2.33it/s]"
     ]
    },
    {
     "name": "stdout",
     "output_type": "stream",
     "text": [
      "[INFO 20240913-13-59-23 p14601 flush clog.py:115] 100%|##########| 1/1 [00:00<00:00,  2.81it/s]\n",
      "[INFO 20240913-13-59-23 p14601 flush clog.py:115] \n",
      "[INFO 20240913-13-59-23 p14601 flush clog.py:115] 0%|          | 0/1 [00:00<?, ?it/s]\n",
      "[INFO 20240913-13-59-23 p14601 flush clog.py:115] \u001b[A\n"
     ]
    },
    {
     "name": "stderr",
     "output_type": "stream",
     "text": [
      "stardist:  95%|█████████▍| 262/276 [02:03<00:05,  2.43it/s]"
     ]
    },
    {
     "name": "stdout",
     "output_type": "stream",
     "text": [
      "[INFO 20240913-13-59-23 p14601 flush clog.py:115] 100%|##########| 1/1 [00:00<00:00,  2.86it/s]\n",
      "[INFO 20240913-13-59-23 p14601 flush clog.py:115] \n",
      "[INFO 20240913-13-59-23 p14601 flush clog.py:115] 0%|          | 0/1 [00:00<?, ?it/s]\n",
      "[INFO 20240913-13-59-23 p14601 flush clog.py:115] \u001b[A\n"
     ]
    },
    {
     "name": "stderr",
     "output_type": "stream",
     "text": [
      "stardist:  95%|█████████▌| 263/276 [02:04<00:05,  2.51it/s]"
     ]
    },
    {
     "name": "stdout",
     "output_type": "stream",
     "text": [
      "[INFO 20240913-13-59-23 p14601 flush clog.py:115] 100%|##########| 1/1 [00:00<00:00,  2.86it/s]\n",
      "[INFO 20240913-13-59-23 p14601 flush clog.py:115] \n",
      "[INFO 20240913-13-59-23 p14601 flush clog.py:115] 0%|          | 0/1 [00:00<?, ?it/s]\n",
      "[INFO 20240913-13-59-23 p14601 flush clog.py:115] \u001b[A\n"
     ]
    },
    {
     "name": "stderr",
     "output_type": "stream",
     "text": [
      "stardist:  96%|█████████▌| 264/276 [02:04<00:04,  2.57it/s]"
     ]
    },
    {
     "name": "stdout",
     "output_type": "stream",
     "text": [
      "[INFO 20240913-13-59-24 p14601 flush clog.py:115] 100%|##########| 1/1 [00:00<00:00,  2.86it/s]\n",
      "[INFO 20240913-13-59-24 p14601 flush clog.py:115] \n",
      "[INFO 20240913-13-59-24 p14601 flush clog.py:115] 0%|          | 0/1 [00:00<?, ?it/s]\n",
      "[INFO 20240913-13-59-24 p14601 flush clog.py:115] \u001b[A\n"
     ]
    },
    {
     "name": "stderr",
     "output_type": "stream",
     "text": [
      "stardist:  96%|█████████▌| 265/276 [02:04<00:04,  2.61it/s]"
     ]
    },
    {
     "name": "stdout",
     "output_type": "stream",
     "text": [
      "[INFO 20240913-13-59-24 p14601 flush clog.py:115] 100%|##########| 1/1 [00:00<00:00,  2.88it/s]\n"
     ]
    },
    {
     "name": "stderr",
     "output_type": "stream",
     "text": [
      "stardist:  96%|█████████▋| 266/276 [02:06<00:08,  1.22it/s]"
     ]
    },
    {
     "name": "stdout",
     "output_type": "stream",
     "text": [
      "[INFO 20240913-13-59-26 p14601 flush clog.py:115] \n",
      "[INFO 20240913-13-59-26 p14601 flush clog.py:115] 0%|          | 0/1 [00:00<?, ?it/s]\n",
      "[INFO 20240913-13-59-26 p14601 flush clog.py:115] \u001b[A\n",
      "[INFO 20240913-13-59-26 p14601 flush clog.py:115] 100%|##########| 1/1 [00:00<00:00,  2.79it/s]\n",
      "[INFO 20240913-13-59-26 p14601 flush clog.py:115] \n",
      "[INFO 20240913-13-59-26 p14601 flush clog.py:115] 0%|          | 0/1 [00:00<?, ?it/s]\n",
      "[INFO 20240913-13-59-26 p14601 flush clog.py:115] \u001b[A\n"
     ]
    },
    {
     "name": "stderr",
     "output_type": "stream",
     "text": [
      "stardist:  97%|█████████▋| 267/276 [02:07<00:07,  1.27it/s]"
     ]
    },
    {
     "name": "stdout",
     "output_type": "stream",
     "text": [
      "[INFO 20240913-13-59-27 p14601 flush clog.py:115] 100%|##########| 1/1 [00:00<00:00,  2.78it/s]\n",
      "[INFO 20240913-13-59-27 p14601 flush clog.py:115] \n",
      "[INFO 20240913-13-59-27 p14601 flush clog.py:115] 0%|          | 0/1 [00:00<?, ?it/s]\n",
      "[INFO 20240913-13-59-27 p14601 flush clog.py:115] \u001b[A\n"
     ]
    },
    {
     "name": "stderr",
     "output_type": "stream",
     "text": [
      "stardist:  97%|█████████▋| 268/276 [02:07<00:05,  1.51it/s]"
     ]
    },
    {
     "name": "stdout",
     "output_type": "stream",
     "text": [
      "[INFO 20240913-13-59-27 p14601 flush clog.py:115] 100%|##########| 1/1 [00:00<00:00,  2.84it/s]\n",
      "[INFO 20240913-13-59-27 p14601 flush clog.py:115] \n",
      "[INFO 20240913-13-59-27 p14601 flush clog.py:115] 0%|          | 0/1 [00:00<?, ?it/s]\n",
      "[INFO 20240913-13-59-27 p14601 flush clog.py:115] \u001b[A\n"
     ]
    },
    {
     "name": "stderr",
     "output_type": "stream",
     "text": [
      "stardist:  97%|█████████▋| 269/276 [02:08<00:04,  1.74it/s]"
     ]
    },
    {
     "name": "stdout",
     "output_type": "stream",
     "text": [
      "[INFO 20240913-13-59-28 p14601 flush clog.py:115] 100%|##########| 1/1 [00:00<00:00,  2.83it/s]\n",
      "[INFO 20240913-13-59-28 p14601 flush clog.py:115] \n",
      "[INFO 20240913-13-59-28 p14601 flush clog.py:115] 0%|          | 0/1 [00:00<?, ?it/s]\n",
      "[INFO 20240913-13-59-28 p14601 flush clog.py:115] \u001b[A\n"
     ]
    },
    {
     "name": "stderr",
     "output_type": "stream",
     "text": [
      "stardist:  98%|█████████▊| 270/276 [02:08<00:03,  1.95it/s]"
     ]
    },
    {
     "name": "stdout",
     "output_type": "stream",
     "text": [
      "[INFO 20240913-13-59-28 p14601 flush clog.py:115] 100%|##########| 1/1 [00:00<00:00,  2.76it/s]\n",
      "[INFO 20240913-13-59-28 p14601 flush clog.py:115] \n",
      "[INFO 20240913-13-59-28 p14601 flush clog.py:115] 0%|          | 0/1 [00:00<?, ?it/s]\n",
      "[INFO 20240913-13-59-28 p14601 flush clog.py:115] \u001b[A\n"
     ]
    },
    {
     "name": "stderr",
     "output_type": "stream",
     "text": [
      "stardist:  98%|█████████▊| 271/276 [02:08<00:02,  2.11it/s]"
     ]
    },
    {
     "name": "stdout",
     "output_type": "stream",
     "text": [
      "[INFO 20240913-13-59-28 p14601 flush clog.py:115] 100%|##########| 1/1 [00:00<00:00,  2.80it/s]\n",
      "[INFO 20240913-13-59-28 p14601 flush clog.py:115] \n",
      "[INFO 20240913-13-59-28 p14601 flush clog.py:115] 0%|          | 0/1 [00:00<?, ?it/s]\n",
      "[INFO 20240913-13-59-28 p14601 flush clog.py:115] \u001b[A\n"
     ]
    },
    {
     "name": "stderr",
     "output_type": "stream",
     "text": [
      "stardist:  99%|█████████▊| 272/276 [02:09<00:01,  2.25it/s]"
     ]
    },
    {
     "name": "stdout",
     "output_type": "stream",
     "text": [
      "[INFO 20240913-13-59-29 p14601 flush clog.py:115] 100%|##########| 1/1 [00:00<00:00,  2.83it/s]\n",
      "[INFO 20240913-13-59-29 p14601 flush clog.py:115] \n",
      "[INFO 20240913-13-59-29 p14601 flush clog.py:115] 0%|          | 0/1 [00:00<?, ?it/s]\n",
      "[INFO 20240913-13-59-29 p14601 flush clog.py:115] \u001b[A\n"
     ]
    },
    {
     "name": "stderr",
     "output_type": "stream",
     "text": [
      "stardist:  99%|█████████▉| 273/276 [02:09<00:01,  2.37it/s]"
     ]
    },
    {
     "name": "stdout",
     "output_type": "stream",
     "text": [
      "[INFO 20240913-13-59-29 p14601 flush clog.py:115] 100%|##########| 1/1 [00:00<00:00,  2.84it/s]\n",
      "[INFO 20240913-13-59-29 p14601 flush clog.py:115] \n",
      "[INFO 20240913-13-59-29 p14601 flush clog.py:115] 0%|          | 0/1 [00:00<?, ?it/s]\n",
      "[INFO 20240913-13-59-29 p14601 flush clog.py:115] \u001b[A\n"
     ]
    },
    {
     "name": "stderr",
     "output_type": "stream",
     "text": [
      "stardist:  99%|█████████▉| 274/276 [02:10<00:00,  2.46it/s]"
     ]
    },
    {
     "name": "stdout",
     "output_type": "stream",
     "text": [
      "[INFO 20240913-13-59-29 p14601 flush clog.py:115] 100%|##########| 1/1 [00:00<00:00,  2.76it/s]\n",
      "[INFO 20240913-13-59-29 p14601 flush clog.py:115] \n",
      "[INFO 20240913-13-59-29 p14601 flush clog.py:115] 0%|          | 0/1 [00:00<?, ?it/s]\n",
      "[INFO 20240913-13-59-29 p14601 flush clog.py:115] \u001b[A\n"
     ]
    },
    {
     "name": "stderr",
     "output_type": "stream",
     "text": [
      "stardist: 100%|█████████▉| 275/276 [02:10<00:00,  2.51it/s]"
     ]
    },
    {
     "name": "stdout",
     "output_type": "stream",
     "text": [
      "[INFO 20240913-13-59-30 p14601 flush clog.py:115] 100%|##########| 1/1 [00:00<00:00,  2.80it/s]\n"
     ]
    },
    {
     "name": "stderr",
     "output_type": "stream",
     "text": [
      "stardist: 100%|██████████| 276/276 [02:10<00:00,  2.11it/s]\n"
     ]
    },
    {
     "name": "stdout",
     "output_type": "stream",
     "text": [
      "stardist ran for a total of 302.59493494033813 s\n",
      "stardist result saved to /storeData/USER/data/01.CellBin/00.user/fanjinghong/code/benchmark2/input/ssDNA/gaussian_blur_output_3/stardist\n"
     ]
    }
   ],
   "source": [
    "import os\n",
    "import time\n",
    "import subprocess\n",
    "os.environ['CUDA_VISIBLE_DEVICES'] = '2'\n",
    "\n",
    "work_path = os.path.abspath('.')\n",
    "# work_path = '/data/work/benchmark/benchmark'\n",
    "__py__ = {\n",
    "    'MEDIAR':'/storeData/USER/data/01.CellBin/00.user/fanjinghong/home/anaconda3/envs/MEDIAR/bin/python',\n",
    "    'cellpose': '/storeData/USER/data/01.CellBin/00.user/fanjinghong/home/anaconda3/envs/cellpose/bin/python',\n",
    "    'cellpose3':'/storeData/USER/data/01.CellBin/00.user/fanjinghong/home/anaconda3/envs/cellpose3/bin/python',\n",
    "    'deepcell': '/storeData/USER/data/01.CellBin/00.user/fanjinghong/home/anaconda3/envs/deepcell/bin/python',\n",
    "    'sam': '/storeData/USER/data/01.CellBin/00.user/fanjinghong/home/anaconda3/envs/sam/bin/python',\n",
    "    'lt': '/storeData/USER/data/01.CellBin/00.user/fanjinghong/home/anaconda3/envs/benchmark/bin/python',\n",
    "    'v3': '/storeData/USER/data/01.CellBin/00.user/lizepeng/02.software/anaconda/envs/cellbin2/bin/python',\n",
    "    'stardist':'/storeData/USER/data/01.CellBin/00.user/fanjinghong/home/anaconda3/envs/stardist/bin/python',\n",
    "}\n",
    "__methods__ = ['MEDIAR','cellpose','cellpose3', 'sam','stardist']\n",
    "\n",
    "\n",
    "__script__ = {\n",
    "    'MEDIAR':os.path.join(work_path,'/storeData/USER/data/01.CellBin/00.user/fanjinghong/code/benchmark2/src/methods/MEDIAR/MEDIAR/iMEDIAR.py'),\n",
    "    'cellpose': os.path.join(work_path, '/storeData/USER/data/01.CellBin/00.user/fanjinghong/code/benchmark2/src/methods/cellpose/icellpose.py'),\n",
    "    'cellpose3':os.path.join(work_path,'/storeData/USER/data/01.CellBin/00.user/fanjinghong/code/benchmark2/src/methods/cellpose3/icellpose3.py'),\n",
    "    'deepcell': os.path.join(work_path, '/storeData/USER/data/01.CellBin/00.user/fanjinghong/code/benchmark2/src/methods/deepcell/ideepcell2.py'),\n",
    "    'sam': os.path.join(work_path, '/storeData/USER/data/01.CellBin/00.user/fanjinghong/code/benchmark2/segment/sam_main.py'),\n",
    "    'lt': os.path.join(work_path, '/storeData/USER/data/01.CellBin/00.user/fanjinghong/code/benchmark2/src/methods/lt.py'),\n",
    "    'v3': os.path.join(work_path, '/storeData/USER/data/01.CellBin/00.user/fanjinghong/code/benchmark2/segment/segv3_main.py'),\n",
    "    'stardist':os.path.join(work_path,'/storeData/USER/data/01.CellBin/00.user/fanjinghong/code/benchmark2/segment/stardist_main.py')\n",
    "}\n",
    "v3_model_ss = \"/storeData/USER/data/01.CellBin/00.user/fanjinghong/code/benchmark2/segment/models/cellseg_bcdu_SHDI_221008_tf.onnx\"\n",
    "v3_model_he = \"/storeData/USER/data/01.CellBin/00.user/fanjinghong/code/benchmark2/segment/models/cellseg_bcdu_H_231221_tf.onnx\"\n",
    "# ############################### 图片名字要求带-img，mask图片要求名字-mask\n",
    "\n",
    "#method = ['sam','cellpose3','cellpose','MEDIAR']\n",
    "#method= ['MEDIAR','cellpose','sam','cellpose3','v3']\n",
    "\n",
    "#######你需要修改的部分#####\n",
    "is_gpu = True\n",
    "method = ['cellpose','cellpose3','MEDIAR','sam','stardist',]\n",
    "image_path = '/storeData/USER/data/01.CellBin/00.user/fanjinghong/code/benchmark2/input/ssDNA/gaussian_blur_input_3'\n",
    "output_path = '/storeData/USER/data/01.CellBin/00.user/fanjinghong/code/benchmark2/input/ssDNA/gaussian_blur_output_3'\n",
    "img_type = 'ss' # he or ss\n",
    "###########################\n",
    "print(os.listdir(image_path))\n",
    "print(work_path)\n",
    "\n",
    "for m in method: assert m in __methods__\n",
    "for m in method:\n",
    "    start = time.time()\n",
    "    if m == 'v3':\n",
    "        if is_gpu == True:\n",
    "            gpu = '0'\n",
    "        if str.lower(img_type) == \"he\":\n",
    "            cmd = f\"{__py__[m]} {__script__[m]} -i {image_path} -o {os.path.join(output_path, m)} -g {gpu} -p {v3_model_he}\"\n",
    "        else:\n",
    "            cmd = f\"{__py__[m]} {__script__[m]} -i {image_path} -o {os.path.join(output_path, m)} -g {gpu} -p {v3_model_ss}\"    \n",
    "    else:\n",
    "        cmd = '{} {} -i {} -o {} -g {} -t {}'.format(__py__[m], __script__[m], \n",
    "                                        image_path, os.path.join(output_path, m), is_gpu, img_type)\n",
    "    print(cmd)\n",
    "    os.system(cmd)\n",
    "    t = time.time() - start\n",
    "    print('{} ran for a total of {} s'.format(m, t))\n",
    "    print('{} result saved to {}'.format(m, os.path.join(output_path, m)))\n",
    "    "
   ]
  },
  {
   "cell_type": "markdown",
   "id": "47ccaeb1-01b1-4cce-8fe7-d4ffd54f9f0e",
   "metadata": {},
   "source": [
    "## 评估"
   ]
  },
  {
   "cell_type": "code",
   "execution_count": 6,
   "id": "89daaee6-048a-460f-91cf-ef4789f6cac3",
   "metadata": {
    "scrolled": true,
    "tags": []
   },
   "outputs": [
    {
     "name": "stdout",
     "output_type": "stream",
     "text": [
      "/storeData/USER/data/01.CellBin/00.user/fanjinghong/home/anaconda3/envs/benchmark/bin/python /storeData/USER/data/01.CellBin/00.user/fanjinghong/code/benchmark2/src/eval/cell_eval_multi.py -g /storeData/USER/data/01.CellBin/00.user/shican/benchmark_new/dataset/ssDNA/gt -d /storeData/USER/data/01.CellBin/00.user/fanjinghong/code/benchmark2/input/ssDNA/gaussian_blur_output_3 -o /storeData/USER/data/01.CellBin/00.user/fanjinghong/code/benchmark2/input/ssDNA/gaussian_blur_eval_3\n",
      "Namespace(dt_path='/storeData/USER/data/01.CellBin/00.user/fanjinghong/code/benchmark2/input/ssDNA/gaussian_blur_output_3', func=<function main at 0x7f06d97dde50>, gt_path='/storeData/USER/data/01.CellBin/00.user/shican/benchmark_new/dataset/ssDNA/gt', output_path='/storeData/USER/data/01.CellBin/00.user/fanjinghong/code/benchmark2/input/ssDNA/gaussian_blur_eval_3') []\n",
      "dataset_name:ssDNA\n",
      "methods:['sam', 'cellprofiler', 'deepcell', 'stardist', 'cellpose3', 'MEDIAR', 'cellpose']\n",
      "gt:/storeData/USER/data/01.CellBin/00.user/shican/benchmark_new/dataset/ssDNA/gt\n",
      "dt:/storeData/USER/data/01.CellBin/00.user/fanjinghong/code/benchmark2/input/ssDNA/gaussian_blur_output_3/sam\n"
     ]
    },
    {
     "name": "stderr",
     "output_type": "stream",
     "text": [
      "Load data sam: 100%|██████████| 276/276 [00:12<00:00, 22.86it/s]\n",
      "100%|██████████| 276/276 [00:05<00:00, 46.03it/s]\n",
      "Load data cellprofiler:   7%|▋         | 20/276 [00:00<00:01, 198.81it/s]"
     ]
    },
    {
     "name": "stdout",
     "output_type": "stream",
     "text": [
      "gt:/storeData/USER/data/01.CellBin/00.user/shican/benchmark_new/dataset/ssDNA/gt\n",
      "dt:/storeData/USER/data/01.CellBin/00.user/fanjinghong/code/benchmark2/input/ssDNA/gaussian_blur_output_3/cellprofiler\n"
     ]
    },
    {
     "name": "stderr",
     "output_type": "stream",
     "text": [
      "Load data cellprofiler: 100%|██████████| 276/276 [00:01<00:00, 198.73it/s]\n",
      "100%|██████████| 276/276 [00:09<00:00, 29.52it/s]\n",
      "Load data deepcell:   7%|▋         | 19/276 [00:00<00:01, 189.27it/s]"
     ]
    },
    {
     "name": "stdout",
     "output_type": "stream",
     "text": [
      "gt:/storeData/USER/data/01.CellBin/00.user/shican/benchmark_new/dataset/ssDNA/gt\n",
      "dt:/storeData/USER/data/01.CellBin/00.user/fanjinghong/code/benchmark2/input/ssDNA/gaussian_blur_output_3/deepcell\n"
     ]
    },
    {
     "name": "stderr",
     "output_type": "stream",
     "text": [
      "Load data deepcell: 100%|██████████| 276/276 [00:01<00:00, 187.86it/s]\n",
      "100%|██████████| 276/276 [00:09<00:00, 30.28it/s]\n",
      "Load data stardist:   7%|▋         | 20/276 [00:00<00:01, 198.43it/s]"
     ]
    },
    {
     "name": "stdout",
     "output_type": "stream",
     "text": [
      "gt:/storeData/USER/data/01.CellBin/00.user/shican/benchmark_new/dataset/ssDNA/gt\n",
      "dt:/storeData/USER/data/01.CellBin/00.user/fanjinghong/code/benchmark2/input/ssDNA/gaussian_blur_output_3/stardist\n"
     ]
    },
    {
     "name": "stderr",
     "output_type": "stream",
     "text": [
      "Load data stardist: 100%|██████████| 276/276 [00:01<00:00, 193.83it/s]\n",
      "100%|██████████| 276/276 [00:09<00:00, 29.27it/s]\n",
      "Load data cellpose3:   7%|▋         | 19/276 [00:00<00:01, 182.56it/s]"
     ]
    },
    {
     "name": "stdout",
     "output_type": "stream",
     "text": [
      "gt:/storeData/USER/data/01.CellBin/00.user/shican/benchmark_new/dataset/ssDNA/gt\n",
      "dt:/storeData/USER/data/01.CellBin/00.user/fanjinghong/code/benchmark2/input/ssDNA/gaussian_blur_output_3/cellpose3\n"
     ]
    },
    {
     "name": "stderr",
     "output_type": "stream",
     "text": [
      "Load data cellpose3: 100%|██████████| 276/276 [00:01<00:00, 192.41it/s]\n",
      "100%|██████████| 276/276 [00:08<00:00, 32.30it/s]\n",
      "Load data MEDIAR:   8%|▊         | 21/276 [00:00<00:01, 204.52it/s]"
     ]
    },
    {
     "name": "stdout",
     "output_type": "stream",
     "text": [
      "gt:/storeData/USER/data/01.CellBin/00.user/shican/benchmark_new/dataset/ssDNA/gt\n",
      "dt:/storeData/USER/data/01.CellBin/00.user/fanjinghong/code/benchmark2/input/ssDNA/gaussian_blur_output_3/MEDIAR\n"
     ]
    },
    {
     "name": "stderr",
     "output_type": "stream",
     "text": [
      "Load data MEDIAR: 100%|██████████| 276/276 [00:01<00:00, 203.23it/s]\n",
      "100%|██████████| 276/276 [00:07<00:00, 38.37it/s]\n",
      "Load data cellpose:   8%|▊         | 21/276 [00:00<00:01, 201.49it/s]"
     ]
    },
    {
     "name": "stdout",
     "output_type": "stream",
     "text": [
      "gt:/storeData/USER/data/01.CellBin/00.user/shican/benchmark_new/dataset/ssDNA/gt\n",
      "dt:/storeData/USER/data/01.CellBin/00.user/fanjinghong/code/benchmark2/input/ssDNA/gaussian_blur_output_3/cellpose\n"
     ]
    },
    {
     "name": "stderr",
     "output_type": "stream",
     "text": [
      "Load data cellpose: 100%|██████████| 276/276 [00:01<00:00, 204.13it/s]\n",
      "100%|██████████| 276/276 [00:08<00:00, 33.30it/s]"
     ]
    },
    {
     "name": "stdout",
     "output_type": "stream",
     "text": [
      "{'sam': {'precision': 0.778478876199123, 'recall': 0.368900986044065, 'f1': 0.48159658120324417, 'jaccard': 0.5089312494153577, 'dice': 0.6591916999108269}, 'cellprofiler': {'precision': 0.680680809938619, 'recall': 0.4533095808066416, 'f1': 0.5389988223115624, 'jaccard': 0.6323767583114183, 'dice': 0.7711180214625434}, 'deepcell': {'precision': 0.7386935402697544, 'recall': 0.5448195410461817, 'f1': 0.6223474530727705, 'jaccard': 0.641744197474809, 'dice': 0.778187176834277}, 'stardist': {'precision': 0.7306404363891992, 'recall': 0.5632670562480946, 'f1': 0.6307673153455483, 'jaccard': 0.6423302464922144, 'dice': 0.7793048330837842}, 'cellpose3': {'precision': 0.1817140649753437, 'recall': 0.05651284683578628, 'f1': 0.08358328650330459, 'jaccard': 0.3085993724056301, 'dice': 0.46604058571572016}, 'MEDIAR': {'precision': 0.8490452212271264, 'recall': 0.532627204664107, 'f1': 0.6444323523882055, 'jaccard': 0.5843602359574142, 'dice': 0.7276731588766067}, 'cellpose': {'precision': 0.833770639572863, 'recall': 0.6038156615839926, 'f1': 0.69511945164536, 'jaccard': 0.7076861736233729, 'dice': 0.8266210535154851}}\n",
      "cellprofiler {'precision': 0.680680809938619, 'recall': 0.4533095808066416, 'f1': 0.5389988223115624, 'jaccard': 0.6323767583114183, 'dice': 0.7711180214625434}\n",
      "MEDIAR {'precision': 0.8490452212271264, 'recall': 0.532627204664107, 'f1': 0.6444323523882055, 'jaccard': 0.5843602359574142, 'dice': 0.7276731588766067}\n",
      "cellpose {'precision': 0.833770639572863, 'recall': 0.6038156615839926, 'f1': 0.69511945164536, 'jaccard': 0.7076861736233729, 'dice': 0.8266210535154851}\n",
      "cellpose3 {'precision': 0.1817140649753437, 'recall': 0.05651284683578628, 'f1': 0.08358328650330459, 'jaccard': 0.3085993724056301, 'dice': 0.46604058571572016}\n",
      "sam {'precision': 0.778478876199123, 'recall': 0.368900986044065, 'f1': 0.48159658120324417, 'jaccard': 0.5089312494153577, 'dice': 0.6591916999108269}\n",
      "stardist {'precision': 0.7306404363891992, 'recall': 0.5632670562480946, 'f1': 0.6307673153455483, 'jaccard': 0.6423302464922144, 'dice': 0.7793048330837842}\n",
      "deepcell {'precision': 0.7386935402697544, 'recall': 0.5448195410461817, 'f1': 0.6223474530727705, 'jaccard': 0.641744197474809, 'dice': 0.778187176834277}\n",
      "mask analysis: 100%|██████████| 276/276 [00:30<00:00,  8.95it/s]]], ?it/s]"
     ]
    },
    {
     "name": "stderr",
     "output_type": "stream",
     "text": [
      "\n"
     ]
    },
    {
     "name": "stdout",
     "output_type": "stream",
     "text": [
      "\n",
      "Subprogram success\n"
     ]
    },
    {
     "data": {
      "text/plain": [
       "0"
      ]
     },
     "execution_count": 6,
     "metadata": {},
     "output_type": "execute_result"
    }
   ],
   "source": [
    "# evaluation\n",
    "import os\n",
    "\n",
    "py = '/storeData/USER/data/01.CellBin/00.user/fanjinghong/home/anaconda3/envs/benchmark/bin/python'\n",
    "script = '/storeData/USER/data/01.CellBin/00.user/fanjinghong/code/benchmark2/src/eval/cell_eval_multi.py'\n",
    "\n",
    "gt_path = '/storeData/USER/data/01.CellBin/00.user/shican/benchmark_new/dataset/ssDNA/gt'\n",
    "dt_path = '/storeData/USER/data/01.CellBin/00.user/fanjinghong/code/benchmark2/input/ssDNA/gaussian_blur_output_3'\n",
    "eval_path = '/storeData/USER/data/01.CellBin/00.user/fanjinghong/code/benchmark2/input/ssDNA/gaussian_blur_eval_3'\n",
    "if not os.path.exists(eval_path): os.makedirs(eval_path)\n",
    "\n",
    "cmd = '{} {} -g {} -d {} -o {}'.format(py, script, gt_path, dt_path, eval_path)\n",
    "print(cmd)\n",
    "os.system(cmd)\n",
    "\n"
   ]
  },
  {
   "cell_type": "markdown",
   "id": "93bb528a-2028-4faa-a457-0a3ae37a0665",
   "metadata": {},
   "source": [
    "# **Contact Information**\n",
    "For questions about this notebook, please contact: _cloud@stomics.tech_.\n",
    "\n",
    "# **Cite**\n",
    "If you use STOmics/Stereo-seq data in your research, please considering referring us in your article:\n",
    "> **Code available** The source code of this algorithm is available at Github (https://github.com/BGI-DEV-REG/ARTISTA). The visual and convenient execution of this algorithm can be found from STOmics Cloud Platform (https://cloud.stomics.tech/).\n",
    "\n",
    "> **Acknowledgement** We express our gratitude to the computing platform STOmics Cloud (https://cloud.stomics.tech/) for enabling workflow automation and accelerating Stereo-seq data analysis. If you use STOmics/Stereo-seq data in your research, please considering referring us in your article."
   ]
  },
  {
   "cell_type": "code",
   "execution_count": 3,
   "id": "4c4fd987-afce-40d4-bbb8-2eb984f2f951",
   "metadata": {},
   "outputs": [
    {
     "name": "stdout",
     "output_type": "stream",
     "text": [
      "\u001b[31mERROR: Could not find a version that satisfies the requirement compute_overlap (from versions: none)\u001b[0m\u001b[31m\n",
      "\u001b[0m\u001b[31mERROR: No matching distribution found for compute_overlap\u001b[0m\u001b[31m\n",
      "\u001b[0mNote: you may need to restart the kernel to use updated packages.\n"
     ]
    }
   ],
   "source": [
    "pip install compute_overlap"
   ]
  },
  {
   "cell_type": "code",
   "execution_count": 23,
   "id": "e85cbe87-2fa0-463f-92a6-3685d46ea69a",
   "metadata": {},
   "outputs": [
    {
     "name": "stdout",
     "output_type": "stream",
     "text": [
      "/storeData/USER/data/01.CellBin/00.user/fanjinghong/code/benchmark/src/eval\n"
     ]
    }
   ],
   "source": [
    "cd src/eval\n"
   ]
  },
  {
   "cell_type": "code",
   "execution_count": 25,
   "id": "15c89990-1416-4b2a-b6f6-5814cc607d08",
   "metadata": {},
   "outputs": [
    {
     "ename": "SyntaxError",
     "evalue": "invalid syntax (3827516196.py, line 1)",
     "output_type": "error",
     "traceback": [
      "\u001b[0;36m  Cell \u001b[0;32mIn[25], line 1\u001b[0;36m\u001b[0m\n\u001b[0;31m    python setup.py install --user\u001b[0m\n\u001b[0m           ^\u001b[0m\n\u001b[0;31mSyntaxError\u001b[0m\u001b[0;31m:\u001b[0m invalid syntax\n"
     ]
    }
   ],
   "source": [
    "python setup.py install --user"
   ]
  },
  {
   "cell_type": "code",
   "execution_count": null,
   "id": "c4ad1739-5b04-499b-aad1-d101da992a5c",
   "metadata": {},
   "outputs": [],
   "source": []
  }
 ],
 "metadata": {
  "kernelspec": {
   "display_name": "benchmark",
   "language": "python",
   "name": "benchmark"
  },
  "language_info": {
   "codemirror_mode": {
    "name": "ipython",
    "version": 3
   },
   "file_extension": ".py",
   "mimetype": "text/x-python",
   "name": "python",
   "nbconvert_exporter": "python",
   "pygments_lexer": "ipython3",
   "version": "3.8.19"
  }
 },
 "nbformat": 4,
 "nbformat_minor": 5
}
